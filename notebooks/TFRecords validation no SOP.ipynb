{
 "cells": [
  {
   "cell_type": "code",
   "execution_count": 1,
   "metadata": {},
   "outputs": [],
   "source": [
    "import tensorflow as tf"
   ]
  },
  {
   "cell_type": "code",
   "execution_count": 2,
   "metadata": {},
   "outputs": [],
   "source": [
    "# input_file = \"c:/workspace/tibert/tibert/albert_pretrain/test-data/test_favor_short.tf_record\"\n",
    "# input_file = \"c:/workspace/tibert/tibert/albert_pretrain/test-data/test_favor_long.tf_record\"\n",
    "# input_file = \"c:/workspace/tibert/tibert/albert_pretrain/test-data/test_favor_long_20_prob.tf_record\"\n",
    "# input_file = \"c:/workspace/tibert/tibert/albert_pretrain/test-data/test_favor_4gram.tf_record\"\n",
    "# input_file = \"c:/workspace/tibert/tibert/albert_pretrain/test-data/test_favor_long_no_stoch.tf_record\"\n",
    "\n",
    "input_file = \"c:/workspace/tibert_data/test-data/sample-harder-datasets/test_favor_long_no_stoch.tf_record\"\n",
    "\n",
    "# input_file = \"c:/workspace/tibert_data/test-data/original-run/*.tf_record\"\n",
    "# input_file = \"c:/workspace/tibert_data/test-data/endogenous-docs/*.tf_record\""
   ]
  },
  {
   "cell_type": "code",
   "execution_count": 3,
   "metadata": {},
   "outputs": [
    {
     "data": {
      "text/plain": [
       "['c:\\\\workspace\\\\tibert_data\\\\test-data\\\\sample-harder-datasets\\\\test_favor_long_no_stoch.tf_record']"
      ]
     },
     "execution_count": 3,
     "metadata": {},
     "output_type": "execute_result"
    }
   ],
   "source": [
    "input_files = []\n",
    "for input_pattern in input_file.split(\",\"):\n",
    "    input_files.extend(tf.gfile.Glob(input_pattern))\n",
    "input_files"
   ]
  },
  {
   "cell_type": "code",
   "execution_count": 4,
   "metadata": {},
   "outputs": [],
   "source": [
    "d = tf.data.TFRecordDataset(input_files)"
   ]
  },
  {
   "cell_type": "code",
   "execution_count": 5,
   "metadata": {},
   "outputs": [],
   "source": [
    "max_seq_length, max_predictions_per_seq, batch_size = 128, 20, 16"
   ]
  },
  {
   "cell_type": "code",
   "execution_count": 6,
   "metadata": {},
   "outputs": [],
   "source": [
    "name_to_features = {\n",
    "    \"input_ids\": tf.FixedLenFeature([max_seq_length], tf.int64),\n",
    "    \"input_mask\": tf.FixedLenFeature([max_seq_length], tf.int64),\n",
    "}\n",
    "\n",
    "# if FLAGS.masked_lm_budget:\n",
    "#   name_to_features.update({\n",
    "#       \"token_boundary\":\n",
    "#           tf.FixedLenFeature([max_seq_length], tf.int64)})\n",
    "# else:\n",
    "name_to_features.update({\n",
    "  \"masked_lm_positions\":\n",
    "      tf.FixedLenFeature([max_predictions_per_seq], tf.int64),\n",
    "  \"masked_lm_ids\":\n",
    "      tf.FixedLenFeature([max_predictions_per_seq], tf.int64),\n",
    "  \"masked_lm_weights\":\n",
    "      tf.FixedLenFeature([max_predictions_per_seq], tf.float32)})"
   ]
  },
  {
   "cell_type": "code",
   "execution_count": 7,
   "metadata": {},
   "outputs": [],
   "source": [
    "def _decode_record(record, name_to_features):\n",
    "  \"\"\"Decodes a record to a TensorFlow example.\"\"\"\n",
    "  example = tf.parse_single_example(record, name_to_features)\n",
    "\n",
    "  # tf.Example only supports tf.int64, but the TPU only supports tf.int32.\n",
    "  # So cast all int64 to int32.\n",
    "  for name in list(example.keys()):\n",
    "    t = example[name]\n",
    "    if t.dtype == tf.int64:\n",
    "      t = tf.to_int32(t)\n",
    "    example[name] = t\n",
    "\n",
    "  return example"
   ]
  },
  {
   "cell_type": "code",
   "execution_count": 8,
   "metadata": {},
   "outputs": [
    {
     "name": "stdout",
     "output_type": "stream",
     "text": [
      "WARNING:tensorflow:From <ipython-input-8-60ed3c9a73a7>:6: map_and_batch_with_legacy_function (from tensorflow.python.data.experimental.ops.batching) is deprecated and will be removed in a future version.\n",
      "Instructions for updating:\n",
      "Use `tf.data.experimental.map_and_batch()\n",
      "WARNING:tensorflow:From C:\\tools\\miniconda3\\envs\\tibert\\lib\\site-packages\\tensorflow_core\\python\\autograph\\converters\\directives.py:119: The name tf.parse_single_example is deprecated. Please use tf.io.parse_single_example instead.\n",
      "\n",
      "WARNING:tensorflow:From <ipython-input-7-bd26ba7e8350>:10: to_int32 (from tensorflow.python.ops.math_ops) is deprecated and will be removed in a future version.\n",
      "Instructions for updating:\n",
      "Use `tf.cast` instead.\n"
     ]
    }
   ],
   "source": [
    "d = d.apply(\n",
    "    tf.data.experimental.map_and_batch_with_legacy_function(\n",
    "        lambda record: _decode_record(record, name_to_features),\n",
    "        batch_size=batch_size,\n",
    "        num_parallel_batches=4,\n",
    "        drop_remainder=True))"
   ]
  },
  {
   "cell_type": "code",
   "execution_count": 9,
   "metadata": {},
   "outputs": [
    {
     "name": "stdout",
     "output_type": "stream",
     "text": [
      "WARNING:tensorflow:From <ipython-input-9-0571c036a2cf>:1: DatasetV1.make_one_shot_iterator (from tensorflow.python.data.ops.dataset_ops) is deprecated and will be removed in a future version.\n",
      "Instructions for updating:\n",
      "Use `for ... in dataset:` to iterate over a dataset. If using `tf.estimator`, return the `Dataset` object directly from your input function. As a last resort, you can use `tf.compat.v1.data.make_one_shot_iterator(dataset)`.\n"
     ]
    }
   ],
   "source": [
    "next_item_iter = d.make_one_shot_iterator().get_next()"
   ]
  },
  {
   "cell_type": "code",
   "execution_count": 10,
   "metadata": {},
   "outputs": [],
   "source": [
    "with tf.Session() as sess:\n",
    "    sess.run(tf.global_variables_initializer())\n",
    "    next_item = sess.run(next_item_iter)"
   ]
  },
  {
   "cell_type": "code",
   "execution_count": 11,
   "metadata": {},
   "outputs": [
    {
     "data": {
      "text/plain": [
       "{'input_ids': array([[   2, 9874, 9955, ...,    4, 1105,    3],\n",
       "        [   2, 1383,   19, ..., 9955, 4491,    3],\n",
       "        [   2, 2749,  153, ...,  105, 2178,    3],\n",
       "        ...,\n",
       "        [   2,  912,  634, ...,   89, 1488,    3],\n",
       "        [   2, 2406,  278, ...,  338, 2406,    3],\n",
       "        [   2, 7662, 9890, ...,    0,    0,    0]]),\n",
       " 'input_mask': array([[1, 1, 1, ..., 1, 1, 1],\n",
       "        [1, 1, 1, ..., 1, 1, 1],\n",
       "        [1, 1, 1, ..., 1, 1, 1],\n",
       "        ...,\n",
       "        [1, 1, 1, ..., 1, 1, 1],\n",
       "        [1, 1, 1, ..., 1, 1, 1],\n",
       "        [1, 1, 1, ..., 0, 0, 0]]),\n",
       " 'masked_lm_ids': array([[ 198, 1019, 9890,  198,  499, 9890, 9874, 9955,  312,  231,  117,\n",
       "          463, 2109,  251, 9955,  247, 2842,  109, 1105,    0],\n",
       "        [ 631,  171, 1704,  626,  161, 9874, 9955, 4481,  952, 1019,   88,\n",
       "         4308,  319, 9955, 1298,  109, 1927,   19, 7009,    0],\n",
       "        [  10,  794, 2648,  251, 9955, 2864, 6478,  497,  215,  226,  560,\n",
       "          586,  386, 9907, 9885, 9955,  509,  251,  899,    0],\n",
       "        [  49,  951,  191,    0,    0,    0,    0,    0,    0,    0,    0,\n",
       "            0,    0,    0,    0,    0,    0,    0,    0,    0],\n",
       "        [ 312, 2109,  278,  729, 9885,  847,  212, 9875, 9955,  634,  795,\n",
       "          278,   17, 3484,  538,  951,  795,  954,  343,    0],\n",
       "        [9955, 9874, 9955, 2131, 1297, 1162, 5280, 2220, 9874, 9955, 9923,\n",
       "         9908, 9955, 2493,   14, 9955, 3222,  375, 6725,    0],\n",
       "        [1597,  251, 9955, 2608, 9955, 5005,   52, 9875, 9955, 2282,  198,\n",
       "          410, 9890,   17,  252, 6054, 5005,   52,   88,    0],\n",
       "        [ 990, 9875, 9877, 1917,   19,  417,  150, 9876, 9874, 3935, 1866,\n",
       "           79,  677, 2660, 3304,  474,  251, 1162, 9955,    0],\n",
       "        [  88, 9955,  597,  656, 1273,  251,  271, 1010,  278, 9955,  621,\n",
       "          677, 9955, 9874, 9955,   99,  951,  571, 2301,    0],\n",
       "        [ 447, 5039,   87,  548,   87, 9885,    0,    0,    0,    0,    0,\n",
       "            0,    0,    0,    0,    0,    0,    0,    0,    0],\n",
       "        [4098, 1405,  912, 8475, 2756,  670,   57,  237, 1861, 2880, 1971,\n",
       "         4128,   87, 9885,  466, 9450,   31, 9955, 9874,    0],\n",
       "        [1248, 1300,  979, 9955, 9012, 2220,   89, 3925,  251, 1176,   89,\n",
       "         9877, 9955, 9874, 1248, 1733, 9875, 9877, 9955,    0],\n",
       "        [6054, 2178, 9955, 9874,  410, 9890,   73,  203, 1783, 8897, 1597,\n",
       "          251,  795,  252,  198, 8897,  410,   87, 9885,    0],\n",
       "        [3422, 9885, 9955, 8097, 9955, 3953,  410, 7235,  115,  795,  573,\n",
       "          191, 4543, 4308, 4682, 1898, 5393,  651, 2100,    0],\n",
       "        [8897,  410, 9890, 2406,  251, 1597,  251,  252, 8897,  410, 9890,\n",
       "         9890, 9955, 2604, 8897, 1597,   87, 4481,  278,    0],\n",
       "        [9955, 4064,    0,    0,    0,    0,    0,    0,    0,    0,    0,\n",
       "            0,    0,    0,    0,    0,    0,    0,    0,    0]]),\n",
       " 'masked_lm_positions': array([[ 12,  13,  14,  27,  28,  29,  33,  34,  35,  52,  89, 105, 106,\n",
       "         112, 113, 114, 124, 125, 126,   0],\n",
       "        [  7,   9,  31,  32,  33,  51,  69,  70,  71,  76,  77,  78,  82,\n",
       "          83,  84, 100, 101, 102, 108,   0],\n",
       "        [  4,   5,   6,  28,  29,  30,  43,  44,  45,  71, 106, 107, 111,\n",
       "         112, 113, 114, 118, 119, 120,   0],\n",
       "        [  8,   9,  10,   0,   0,   0,   0,   0,   0,   0,   0,   0,   0,\n",
       "           0,   0,   0,   0,   0,   0,   0],\n",
       "        [  7,   8,   9,  15,  33,  51,  52,  57,  58,  62,  63,  74,  75,\n",
       "          76,  83,  84,  85,  95,  96,   0],\n",
       "        [ 18,  19,  20,  50,  51,  52,  57,  58,  66,  67,  68,  89,  94,\n",
       "          95,  96, 101, 102, 103, 110,   0],\n",
       "        [ 15,  16,  17,  18,  40,  41,  42,  47,  48,  49,  63,  64,  65,\n",
       "          93,  94, 100, 108, 109, 117,   0],\n",
       "        [ 27,  28,  29,  49,  50,  51,  52,  53,  54,  60,  61,  62,  69,\n",
       "          70,  71,  87,  88,  89, 126,   0],\n",
       "        [  1,   9,  10,  13,  14,  15,  29,  30,  31,  37,  38,  39,  54,\n",
       "          55,  56,  67,  68,  92,  93,   0],\n",
       "        [ 17,  18,  19,  28,  29,  30,   0,   0,   0,   0,   0,   0,   0,\n",
       "           0,   0,   0,   0,   0,   0,   0],\n",
       "        [ 20,  21,  22,  47,  60,  63,  64,  65,  69,  70,  71,  72,  73,\n",
       "          74, 101, 102, 112, 113, 114,   0],\n",
       "        [  1,   6,   7,  19,  20,  26,  39,  40,  41,  43,  44,  51,  52,\n",
       "          53,  56,  57,  70,  71,  72,   0],\n",
       "        [ 15,  16,  20,  21,  42,  43,  61,  62,  63,  69,  70,  71,  83,\n",
       "          84,  85, 102, 103, 124, 125,   0],\n",
       "        [  3,  24,  25,  26,  43,  44,  45,  77,  78,  79, 101, 102, 103,\n",
       "         107, 118, 119, 120, 122, 123,   0],\n",
       "        [  3,   4,   5,  29,  33,  36,  37,  47,  70,  71,  72,  77,  79,\n",
       "          80,  84,  85,  86,  89,  93,   0],\n",
       "        [  6,   7,   0,   0,   0,   0,   0,   0,   0,   0,   0,   0,   0,\n",
       "           0,   0,   0,   0,   0,   0,   0]]),\n",
       " 'masked_lm_weights': array([[1., 1., 1., 1., 1., 1., 1., 1., 1., 1., 1., 1., 1., 1., 1., 1.,\n",
       "         1., 1., 1., 0.],\n",
       "        [1., 1., 1., 1., 1., 1., 1., 1., 1., 1., 1., 1., 1., 1., 1., 1.,\n",
       "         1., 1., 1., 0.],\n",
       "        [1., 1., 1., 1., 1., 1., 1., 1., 1., 1., 1., 1., 1., 1., 1., 1.,\n",
       "         1., 1., 1., 0.],\n",
       "        [1., 1., 1., 0., 0., 0., 0., 0., 0., 0., 0., 0., 0., 0., 0., 0.,\n",
       "         0., 0., 0., 0.],\n",
       "        [1., 1., 1., 1., 1., 1., 1., 1., 1., 1., 1., 1., 1., 1., 1., 1.,\n",
       "         1., 1., 1., 0.],\n",
       "        [1., 1., 1., 1., 1., 1., 1., 1., 1., 1., 1., 1., 1., 1., 1., 1.,\n",
       "         1., 1., 1., 0.],\n",
       "        [1., 1., 1., 1., 1., 1., 1., 1., 1., 1., 1., 1., 1., 1., 1., 1.,\n",
       "         1., 1., 1., 0.],\n",
       "        [1., 1., 1., 1., 1., 1., 1., 1., 1., 1., 1., 1., 1., 1., 1., 1.,\n",
       "         1., 1., 1., 0.],\n",
       "        [1., 1., 1., 1., 1., 1., 1., 1., 1., 1., 1., 1., 1., 1., 1., 1.,\n",
       "         1., 1., 1., 0.],\n",
       "        [1., 1., 1., 1., 1., 1., 0., 0., 0., 0., 0., 0., 0., 0., 0., 0.,\n",
       "         0., 0., 0., 0.],\n",
       "        [1., 1., 1., 1., 1., 1., 1., 1., 1., 1., 1., 1., 1., 1., 1., 1.,\n",
       "         1., 1., 1., 0.],\n",
       "        [1., 1., 1., 1., 1., 1., 1., 1., 1., 1., 1., 1., 1., 1., 1., 1.,\n",
       "         1., 1., 1., 0.],\n",
       "        [1., 1., 1., 1., 1., 1., 1., 1., 1., 1., 1., 1., 1., 1., 1., 1.,\n",
       "         1., 1., 1., 0.],\n",
       "        [1., 1., 1., 1., 1., 1., 1., 1., 1., 1., 1., 1., 1., 1., 1., 1.,\n",
       "         1., 1., 1., 0.],\n",
       "        [1., 1., 1., 1., 1., 1., 1., 1., 1., 1., 1., 1., 1., 1., 1., 1.,\n",
       "         1., 1., 1., 0.],\n",
       "        [1., 1., 0., 0., 0., 0., 0., 0., 0., 0., 0., 0., 0., 0., 0., 0.,\n",
       "         0., 0., 0., 0.]], dtype=float32)}"
      ]
     },
     "execution_count": 11,
     "metadata": {},
     "output_type": "execute_result"
    }
   ],
   "source": [
    "next_item"
   ]
  },
  {
   "cell_type": "code",
   "execution_count": 12,
   "metadata": {},
   "outputs": [
    {
     "data": {
      "text/plain": [
       "(16, 128)"
      ]
     },
     "execution_count": 12,
     "metadata": {},
     "output_type": "execute_result"
    }
   ],
   "source": [
    "next_item['input_ids'].shape"
   ]
  },
  {
   "cell_type": "code",
   "execution_count": 13,
   "metadata": {},
   "outputs": [],
   "source": [
    "import tibert.models.training as training"
   ]
  },
  {
   "cell_type": "code",
   "execution_count": 14,
   "metadata": {},
   "outputs": [],
   "source": [
    "tibert_tkn = training.make_tokenizer(tokenizer_name=\"tibert-bpe-large\")\n",
    "tibert_tkn.stochastic_tokenization = False"
   ]
  },
  {
   "cell_type": "code",
   "execution_count": 15,
   "metadata": {},
   "outputs": [],
   "source": [
    "i = 0"
   ]
  },
  {
   "cell_type": "code",
   "execution_count": 16,
   "metadata": {},
   "outputs": [
    {
     "name": "stdout",
     "output_type": "stream",
     "text": [
      "[CLS] །སྙན་པར་སྨྲ་བ་ནི་བྱང་ཆུབ་ཀྱི་མྱུ་གུ་དང་འདབ་མ་ཡོངས་[MASK][MASK] འབད་པ་འོ། །དོན་སྤྱོད་པ་ནི་བྱང་ཆུབ་ཀྱི་མེ་ཏོག་ཡོངས་ིལ་བ་[MASK][MASK]འོ།[MASK][MASK]དོན་འཐུན་པ་ནི་བྱང་ཆུབ་ཀྱི་འབྲས་བུ་མངོན་པར་འགྲུབ་པ་སྟེ། བཙུན་པ་ཤ་ར་ད[MASK]ཏིའི་བུ། འདི་དག་ནི་བྱང་ཆུབ་སེམས་དཔའ་རྣམས་ཀྱི་བསྡུ་བའི་དངོས་པོ་བཞི་མི་ཟད་པའོ། །བཙུན་པ་ཤ་ར་དྭ་ཏིའི་བུ། གཞན་ཡང་བྱང་ཆུབ་སེམས་དཔའ་རྣམས་[MASK]སོ་སོ་ཡང་དག་པར་རིག་པ་བཞི་མི་ཟད་པ་སྟེ། བཞི་གང་ཞེ་ན། གང་[MASK]དོན་སོ་སོ་ཡང་དག་པར་རིག་པ་[MASK][MASK] བརྙན་སོ་སོ་ཡང་དག་པར་རིག་པ་དང་། ངེས་པའི་ཚིག་སོ་སོ་[MASK][MASK]རིག་པ་[SEP]\n"
     ]
    }
   ],
   "source": [
    "encoded = next_item['input_ids'][i]\n",
    "print(tibert_tkn.decode(encoded))\n",
    "i += 1"
   ]
  },
  {
   "cell_type": "markdown",
   "metadata": {},
   "source": [
    "# MLM loss of a trained model"
   ]
  },
  {
   "cell_type": "code",
   "execution_count": 17,
   "metadata": {},
   "outputs": [],
   "source": [
    "import torch\n",
    "import numpy as np\n",
    "import pandas as pd\n",
    "\n",
    "from tqdm.notebook import tqdm"
   ]
  },
  {
   "cell_type": "code",
   "execution_count": 18,
   "metadata": {},
   "outputs": [],
   "source": [
    "import tibert.models.training as training"
   ]
  },
  {
   "cell_type": "code",
   "execution_count": 19,
   "metadata": {},
   "outputs": [],
   "source": [
    "from transformers import AutoConfig, AlbertForMaskedLM"
   ]
  },
  {
   "cell_type": "code",
   "execution_count": 20,
   "metadata": {},
   "outputs": [
    {
     "name": "stderr",
     "output_type": "stream",
     "text": [
      "WARNING:transformers.modeling_utils:Some weights of the model checkpoint at c:/workspace/tibert_data/training/models/tibert-training-test/682000.bin were not used when initializing AlbertForMaskedLM: ['sop_classifier.classifier.weight', 'sop_classifier.classifier.bias']\n",
      "- This IS expected if you are initializing AlbertForMaskedLM from the checkpoint of a model trained on another task or with another architecture (e.g. initializing a BertForSequenceClassification model from a BertForPretraining model).\n",
      "- This IS NOT expected if you are initializing AlbertForMaskedLM from the checkpoint of a model that you expect to be exactly identical (initializing a BertForSequenceClassification model from a BertForSequenceClassification model).\n"
     ]
    },
    {
     "data": {
      "text/plain": [
       "Embedding(10000, 128)"
      ]
     },
     "execution_count": 20,
     "metadata": {},
     "output_type": "execute_result"
    }
   ],
   "source": [
    "tibert_mdl = AlbertForMaskedLM.from_pretrained(\n",
    "    'c:/workspace/tibert_data/training/models/tibert-training-test/682000.bin',\n",
    "    config=AutoConfig.from_pretrained(\"albert-base-v2\"))\n",
    "# tibert_mdl = AlbertForMaskedLM.from_pretrained(\n",
    "#     'c:/workspace/tibert_data/training/models/tibert-champion/676000.bin',\n",
    "#     config=AutoConfig.from_pretrained(\"albert-base-v2\"))\n",
    "tibert_mdl.resize_token_embeddings(len(tibert_tkn))"
   ]
  },
  {
   "cell_type": "code",
   "execution_count": 21,
   "metadata": {},
   "outputs": [],
   "source": [
    "tibert_mdl = tibert_mdl.cuda().eval()"
   ]
  },
  {
   "cell_type": "code",
   "execution_count": 22,
   "metadata": {},
   "outputs": [],
   "source": [
    "def prep_batch(next_item):\n",
    "    input_ids, labels = next_item['input_ids'], np.array([-100 for _ in range(next_item['input_ids'].size)]).reshape(next_item['input_ids'].shape)\n",
    "    for idx, row in enumerate(input_ids):\n",
    "        masked_lm_pos = next_item['masked_lm_positions'][idx][:-1]\n",
    "        labels[idx][masked_lm_pos] = next_item['masked_lm_ids'][idx][:-1]\n",
    "    return input_ids, labels"
   ]
  },
  {
   "cell_type": "code",
   "execution_count": 23,
   "metadata": {},
   "outputs": [],
   "source": [
    "def get_ce(input_ids, labels):\n",
    "    batch = {\n",
    "        'input_ids': torch.LongTensor(input_ids).to(\"cuda\"),\n",
    "        'labels': torch.LongTensor(labels).to(\"cuda\")}\n",
    "    ce, _ = tibert_mdl(**batch)\n",
    "    return float(ce)"
   ]
  },
  {
   "cell_type": "code",
   "execution_count": 24,
   "metadata": {},
   "outputs": [],
   "source": [
    "ces = []"
   ]
  },
  {
   "cell_type": "code",
   "execution_count": 25,
   "metadata": {},
   "outputs": [],
   "source": [
    "config = tf.ConfigProto()\n",
    "config.gpu_options.allow_growth=True\n",
    "sess = tf.Session()\n",
    "sess.run(tf.global_variables_initializer())"
   ]
  },
  {
   "cell_type": "code",
   "execution_count": 26,
   "metadata": {},
   "outputs": [
    {
     "data": {
      "application/vnd.jupyter.widget-view+json": {
       "model_id": "597fb517818a47a295bdc3bdf360f0e3",
       "version_major": 2,
       "version_minor": 0
      },
      "text/plain": [
       "HBox(children=(FloatProgress(value=0.0, max=1000.0), HTML(value='')))"
      ]
     },
     "metadata": {},
     "output_type": "display_data"
    },
    {
     "name": "stdout",
     "output_type": "stream",
     "text": [
      "\n"
     ]
    },
    {
     "data": {
      "text/plain": [
       "count    1000.000000\n",
       "mean        1.649080\n",
       "std         0.403755\n",
       "min         0.664452\n",
       "25%         1.352930\n",
       "50%         1.611231\n",
       "75%         1.904243\n",
       "max         3.164315\n",
       "dtype: float64"
      ]
     },
     "execution_count": 26,
     "metadata": {},
     "output_type": "execute_result"
    }
   ],
   "source": [
    "for _ in tqdm(range(1000)):\n",
    "    next_item = sess.run(next_item_iter)\n",
    "    input_ids, labels = prep_batch(next_item)\n",
    "    ces.append(get_ce(input_ids, labels))\n",
    "pd.Series(ces).describe()"
   ]
  },
  {
   "cell_type": "code",
   "execution_count": 27,
   "metadata": {},
   "outputs": [
    {
     "data": {
      "text/plain": [
       "<matplotlib.axes._subplots.AxesSubplot at 0x29dd65b2448>"
      ]
     },
     "execution_count": 27,
     "metadata": {},
     "output_type": "execute_result"
    },
    {
     "data": {
      "image/png": "[encoded data removed]",
      "text/plain": [
       "<Figure size 432x288 with 1 Axes>"
      ]
     },
     "metadata": {
      "needs_background": "light"
     },
     "output_type": "display_data"
    }
   ],
   "source": [
    "pd.Series(ces).plot()"
   ]
  },
  {
   "cell_type": "code",
   "execution_count": 28,
   "metadata": {},
   "outputs": [],
   "source": [
    "sess.close()"
   ]
  },
  {
   "cell_type": "code",
   "execution_count": null,
   "metadata": {},
   "outputs": [],
   "source": []
  },
  {
   "cell_type": "code",
   "execution_count": 32,
   "metadata": {},
   "outputs": [
    {
     "data": {
      "application/vnd.jupyter.widget-view+json": {
       "model_id": "03c5f7012ef8428999d4d3244ed41815",
       "version_major": 2,
       "version_minor": 0
      },
      "text/plain": [
       "HBox(children=(FloatProgress(value=0.0, max=1000.0), HTML(value='')))"
      ]
     },
     "metadata": {},
     "output_type": "display_data"
    },
    {
     "name": "stdout",
     "output_type": "stream",
     "text": [
      "\n"
     ]
    },
    {
     "data": {
      "text/plain": [
       "count    1000.000000\n",
       "mean        1.774265\n",
       "std         0.461564\n",
       "min         0.659495\n",
       "25%         1.431561\n",
       "50%         1.739854\n",
       "75%         2.069431\n",
       "max         3.517152\n",
       "dtype: float64"
      ]
     },
     "execution_count": 32,
     "metadata": {},
     "output_type": "execute_result"
    }
   ],
   "source": [
    "for _ in tqdm(range(1000)):\n",
    "    next_item = sess.run(next_item_iter)\n",
    "    input_ids, labels = prep_batch(next_item)\n",
    "    ces.append(get_ce(input_ids, labels))\n",
    "pd.Series(ces).describe()"
   ]
  },
  {
   "cell_type": "code",
   "execution_count": 33,
   "metadata": {},
   "outputs": [
    {
     "data": {
      "text/plain": [
       "<matplotlib.axes._subplots.AxesSubplot at 0x1af39f99988>"
      ]
     },
     "execution_count": 33,
     "metadata": {},
     "output_type": "execute_result"
    },
    {
     "data": {
      "image/png": "[encoded data removed]",
      "text/plain": [
       "<Figure size 432x288 with 1 Axes>"
      ]
     },
     "metadata": {
      "needs_background": "light"
     },
     "output_type": "display_data"
    }
   ],
   "source": [
    "pd.Series(ces).plot()"
   ]
  },
  {
   "cell_type": "code",
   "execution_count": 34,
   "metadata": {},
   "outputs": [
    {
     "data": {
      "application/vnd.jupyter.widget-view+json": {
       "model_id": "f2e0ea611d0647948d869744d73eda32",
       "version_major": 2,
       "version_minor": 0
      },
      "text/plain": [
       "HBox(children=(FloatProgress(value=0.0, max=1000.0), HTML(value='')))"
      ]
     },
     "metadata": {},
     "output_type": "display_data"
    },
    {
     "name": "stdout",
     "output_type": "stream",
     "text": [
      "\n"
     ]
    },
    {
     "data": {
      "text/plain": [
       "count    1100.000000\n",
       "mean        1.632116\n",
       "std         0.415557\n",
       "min         0.555048\n",
       "25%         1.340283\n",
       "50%         1.586769\n",
       "75%         1.893252\n",
       "max         3.414083\n",
       "dtype: float64"
      ]
     },
     "execution_count": 34,
     "metadata": {},
     "output_type": "execute_result"
    }
   ],
   "source": [
    "for _ in tqdm(range(1000)):\n",
    "    next_item = sess.run(next_item_iter)\n",
    "    input_ids, labels = prep_batch(next_item)\n",
    "    ces.append(get_ce(input_ids, labels))\n",
    "pd.Series(ces).describe()"
   ]
  },
  {
   "cell_type": "code",
   "execution_count": 35,
   "metadata": {},
   "outputs": [
    {
     "data": {
      "text/plain": [
       "<matplotlib.axes._subplots.AxesSubplot at 0x2962dec1208>"
      ]
     },
     "execution_count": 35,
     "metadata": {},
     "output_type": "execute_result"
    },
    {
     "data": {
      "image/png": "[encoded data removed]",
      "text/plain": [
       "<Figure size 432x288 with 1 Axes>"
      ]
     },
     "metadata": {
      "needs_background": "light"
     },
     "output_type": "display_data"
    }
   ],
   "source": [
    "pd.Series(ces).plot()"
   ]
  },
  {
   "cell_type": "code",
   "execution_count": 28,
   "metadata": {},
   "outputs": [
    {
     "data": {
      "application/vnd.jupyter.widget-view+json": {
       "model_id": "b49e5cff2ef24eb8a2a8c659761a6108",
       "version_major": 2,
       "version_minor": 0
      },
      "text/plain": [
       "HBox(children=(FloatProgress(value=0.0, max=1000.0), HTML(value='')))"
      ]
     },
     "metadata": {},
     "output_type": "display_data"
    },
    {
     "name": "stdout",
     "output_type": "stream",
     "text": [
      "\n"
     ]
    },
    {
     "data": {
      "text/plain": [
       "count    1000.000000\n",
       "mean        1.360500\n",
       "std         0.377693\n",
       "min         0.368257\n",
       "25%         1.092720\n",
       "50%         1.316934\n",
       "75%         1.593485\n",
       "max         2.798126\n",
       "dtype: float64"
      ]
     },
     "execution_count": 28,
     "metadata": {},
     "output_type": "execute_result"
    }
   ],
   "source": [
    "for _ in tqdm(range(1000)):\n",
    "    next_item = sess.run(next_item_iter)\n",
    "    input_ids, labels = prep_batch(next_item)\n",
    "    ces.append(get_ce(input_ids, labels))\n",
    "pd.Series(ces).describe()"
   ]
  },
  {
   "cell_type": "code",
   "execution_count": 29,
   "metadata": {},
   "outputs": [
    {
     "data": {
      "text/plain": [
       "<matplotlib.axes._subplots.AxesSubplot at 0x22c77318a88>"
      ]
     },
     "execution_count": 29,
     "metadata": {},
     "output_type": "execute_result"
    },
    {
     "data": {
      "image/png": "[encoded data removed]",
      "text/plain": [
       "<Figure size 432x288 with 1 Axes>"
      ]
     },
     "metadata": {
      "needs_background": "light"
     },
     "output_type": "display_data"
    }
   ],
   "source": [
    "pd.Series(ces).plot()"
   ]
  },
  {
   "cell_type": "markdown",
   "metadata": {},
   "source": [
    "# Pretraining loss of a trained model"
   ]
  },
  {
   "cell_type": "code",
   "execution_count": 34,
   "metadata": {},
   "outputs": [],
   "source": [
    "import torch\n",
    "import numpy as np\n",
    "import pandas as pd\n",
    "\n",
    "from tqdm.notebook import tqdm"
   ]
  },
  {
   "cell_type": "code",
   "execution_count": 35,
   "metadata": {},
   "outputs": [],
   "source": [
    "import tibert.models.training as training"
   ]
  },
  {
   "cell_type": "code",
   "execution_count": 36,
   "metadata": {},
   "outputs": [],
   "source": [
    "from transformers import AutoConfig, AlbertForPreTraining"
   ]
  },
  {
   "cell_type": "code",
   "execution_count": 37,
   "metadata": {},
   "outputs": [
    {
     "data": {
      "text/plain": [
       "Embedding(10000, 128)"
      ]
     },
     "execution_count": 37,
     "metadata": {},
     "output_type": "execute_result"
    }
   ],
   "source": [
    "tibert_mdl = AlbertForPreTraining.from_pretrained(\n",
    "    'c:/workspace/tibert_data/training/models/tibert-training-test/679000.bin',\n",
    "    config=AutoConfig.from_pretrained(\"albert-base-v2\"))\n",
    "\n",
    "# tibert_mdl = AlbertForPreTraining.from_pretrained(\n",
    "#     'c:/workspace/tibert_data/training/models/tibert-champion/676000.bin',\n",
    "#     config=AutoConfig.from_pretrained(\"albert-base-v2\"))\n",
    "tibert_mdl.resize_token_embeddings(len(tibert_tkn))"
   ]
  },
  {
   "cell_type": "code",
   "execution_count": 38,
   "metadata": {},
   "outputs": [],
   "source": [
    "tibert_mdl = tibert_mdl.cuda().eval()"
   ]
  },
  {
   "cell_type": "code",
   "execution_count": 39,
   "metadata": {},
   "outputs": [],
   "source": [
    "def prep_batch(next_item):\n",
    "    input_ids, labels = next_item['input_ids'], np.array([-100 for _ in range(next_item['input_ids'].size)]).reshape(next_item['input_ids'].shape)\n",
    "    for idx, row in enumerate(input_ids):\n",
    "        masked_lm_pos = next_item['masked_lm_positions'][idx][:-1]\n",
    "        labels[idx][masked_lm_pos] = next_item['masked_lm_ids'][idx][:-1]\n",
    "    return input_ids, labels"
   ]
  },
  {
   "cell_type": "code",
   "execution_count": 40,
   "metadata": {},
   "outputs": [],
   "source": [
    "from torch.nn import CrossEntropyLoss\n",
    "\n",
    "def get_ce(input_ids, labels):\n",
    "    batch = {\n",
    "        'input_ids': torch.LongTensor(input_ids).to(\"cuda\"),\n",
    "        'labels': torch.LongTensor(labels).to(\"cuda\"),\n",
    "        'sentence_order_label': torch.LongTensor(next_item['next_sentence_labels'].squeeze()).to(\"cuda\"),\n",
    "        'attention_mask': torch.LongTensor(next_item['input_mask']).to(\"cuda\"),\n",
    "        'token_type_ids': torch.LongTensor(next_item['segment_ids']).to(\"cuda\")}\n",
    "    ce, _, sop_logits = tibert_mdl(**batch)\n",
    "    sentence_order_loss = float(CrossEntropyLoss()(sop_logits.view(-1, 2), batch['sentence_order_label'].view(-1)))\n",
    "    return float(ce) - sentence_order_loss, sentence_order_loss"
   ]
  },
  {
   "cell_type": "code",
   "execution_count": 41,
   "metadata": {},
   "outputs": [],
   "source": [
    "mlm_ces, sop_ces = [], []"
   ]
  },
  {
   "cell_type": "code",
   "execution_count": 42,
   "metadata": {},
   "outputs": [],
   "source": [
    "config = tf.ConfigProto()\n",
    "config.gpu_options.allow_growth=True\n",
    "sess = tf.Session()\n",
    "sess.run(tf.global_variables_initializer())"
   ]
  },
  {
   "cell_type": "code",
   "execution_count": 43,
   "metadata": {},
   "outputs": [
    {
     "data": {
      "application/vnd.jupyter.widget-view+json": {
       "model_id": "c72f5c2255624a1a9d4cc5b14420f592",
       "version_major": 2,
       "version_minor": 0
      },
      "text/plain": [
       "HBox(children=(FloatProgress(value=0.0), HTML(value='')))"
      ]
     },
     "metadata": {},
     "output_type": "display_data"
    },
    {
     "name": "stdout",
     "output_type": "stream",
     "text": [
      "\n"
     ]
    },
    {
     "ename": "KeyError",
     "evalue": "'next_sentence_labels'",
     "output_type": "error",
     "traceback": [
      "\u001b[1;31m---------------------------------------------------------------------------\u001b[0m",
      "\u001b[1;31mKeyError\u001b[0m                                  Traceback (most recent call last)",
      "\u001b[1;32m<ipython-input-43-41049ced8b62>\u001b[0m in \u001b[0;36m<module>\u001b[1;34m\u001b[0m\n\u001b[0;32m      2\u001b[0m     \u001b[0mnext_item\u001b[0m \u001b[1;33m=\u001b[0m \u001b[0msess\u001b[0m\u001b[1;33m.\u001b[0m\u001b[0mrun\u001b[0m\u001b[1;33m(\u001b[0m\u001b[0mnext_item_iter\u001b[0m\u001b[1;33m)\u001b[0m\u001b[1;33m\u001b[0m\u001b[1;33m\u001b[0m\u001b[0m\n\u001b[0;32m      3\u001b[0m     \u001b[0minput_ids\u001b[0m\u001b[1;33m,\u001b[0m \u001b[0mlabels\u001b[0m \u001b[1;33m=\u001b[0m \u001b[0mprep_batch\u001b[0m\u001b[1;33m(\u001b[0m\u001b[0mnext_item\u001b[0m\u001b[1;33m)\u001b[0m\u001b[1;33m\u001b[0m\u001b[1;33m\u001b[0m\u001b[0m\n\u001b[1;32m----> 4\u001b[1;33m     \u001b[0mmlm_ce\u001b[0m\u001b[1;33m,\u001b[0m \u001b[0msop_ce\u001b[0m \u001b[1;33m=\u001b[0m \u001b[0mget_ce\u001b[0m\u001b[1;33m(\u001b[0m\u001b[0minput_ids\u001b[0m\u001b[1;33m,\u001b[0m \u001b[0mlabels\u001b[0m\u001b[1;33m)\u001b[0m\u001b[1;33m\u001b[0m\u001b[1;33m\u001b[0m\u001b[0m\n\u001b[0m\u001b[0;32m      5\u001b[0m     \u001b[0mmlm_ces\u001b[0m\u001b[1;33m.\u001b[0m\u001b[0mappend\u001b[0m\u001b[1;33m(\u001b[0m\u001b[0mmlm_ce\u001b[0m\u001b[1;33m)\u001b[0m\u001b[1;33m\u001b[0m\u001b[1;33m\u001b[0m\u001b[0m\n\u001b[0;32m      6\u001b[0m     \u001b[0msop_ces\u001b[0m\u001b[1;33m.\u001b[0m\u001b[0mappend\u001b[0m\u001b[1;33m(\u001b[0m\u001b[0msop_ce\u001b[0m\u001b[1;33m)\u001b[0m\u001b[1;33m\u001b[0m\u001b[1;33m\u001b[0m\u001b[0m\n",
      "\u001b[1;32m<ipython-input-40-a05d473eb79c>\u001b[0m in \u001b[0;36mget_ce\u001b[1;34m(input_ids, labels)\u001b[0m\n\u001b[0;32m      5\u001b[0m         \u001b[1;34m'input_ids'\u001b[0m\u001b[1;33m:\u001b[0m \u001b[0mtorch\u001b[0m\u001b[1;33m.\u001b[0m\u001b[0mLongTensor\u001b[0m\u001b[1;33m(\u001b[0m\u001b[0minput_ids\u001b[0m\u001b[1;33m)\u001b[0m\u001b[1;33m.\u001b[0m\u001b[0mto\u001b[0m\u001b[1;33m(\u001b[0m\u001b[1;34m\"cuda\"\u001b[0m\u001b[1;33m)\u001b[0m\u001b[1;33m,\u001b[0m\u001b[1;33m\u001b[0m\u001b[1;33m\u001b[0m\u001b[0m\n\u001b[0;32m      6\u001b[0m         \u001b[1;34m'labels'\u001b[0m\u001b[1;33m:\u001b[0m \u001b[0mtorch\u001b[0m\u001b[1;33m.\u001b[0m\u001b[0mLongTensor\u001b[0m\u001b[1;33m(\u001b[0m\u001b[0mlabels\u001b[0m\u001b[1;33m)\u001b[0m\u001b[1;33m.\u001b[0m\u001b[0mto\u001b[0m\u001b[1;33m(\u001b[0m\u001b[1;34m\"cuda\"\u001b[0m\u001b[1;33m)\u001b[0m\u001b[1;33m,\u001b[0m\u001b[1;33m\u001b[0m\u001b[1;33m\u001b[0m\u001b[0m\n\u001b[1;32m----> 7\u001b[1;33m         \u001b[1;34m'sentence_order_label'\u001b[0m\u001b[1;33m:\u001b[0m \u001b[0mtorch\u001b[0m\u001b[1;33m.\u001b[0m\u001b[0mLongTensor\u001b[0m\u001b[1;33m(\u001b[0m\u001b[0mnext_item\u001b[0m\u001b[1;33m[\u001b[0m\u001b[1;34m'next_sentence_labels'\u001b[0m\u001b[1;33m]\u001b[0m\u001b[1;33m.\u001b[0m\u001b[0msqueeze\u001b[0m\u001b[1;33m(\u001b[0m\u001b[1;33m)\u001b[0m\u001b[1;33m)\u001b[0m\u001b[1;33m.\u001b[0m\u001b[0mto\u001b[0m\u001b[1;33m(\u001b[0m\u001b[1;34m\"cuda\"\u001b[0m\u001b[1;33m)\u001b[0m\u001b[1;33m,\u001b[0m\u001b[1;33m\u001b[0m\u001b[1;33m\u001b[0m\u001b[0m\n\u001b[0m\u001b[0;32m      8\u001b[0m         \u001b[1;34m'attention_mask'\u001b[0m\u001b[1;33m:\u001b[0m \u001b[0mtorch\u001b[0m\u001b[1;33m.\u001b[0m\u001b[0mLongTensor\u001b[0m\u001b[1;33m(\u001b[0m\u001b[0mnext_item\u001b[0m\u001b[1;33m[\u001b[0m\u001b[1;34m'input_mask'\u001b[0m\u001b[1;33m]\u001b[0m\u001b[1;33m)\u001b[0m\u001b[1;33m.\u001b[0m\u001b[0mto\u001b[0m\u001b[1;33m(\u001b[0m\u001b[1;34m\"cuda\"\u001b[0m\u001b[1;33m)\u001b[0m\u001b[1;33m,\u001b[0m\u001b[1;33m\u001b[0m\u001b[1;33m\u001b[0m\u001b[0m\n\u001b[0;32m      9\u001b[0m         'token_type_ids': torch.LongTensor(next_item['segment_ids']).to(\"cuda\")}\n",
      "\u001b[1;31mKeyError\u001b[0m: 'next_sentence_labels'"
     ]
    }
   ],
   "source": [
    "for _ in tqdm(range(100)):\n",
    "    next_item = sess.run(next_item_iter)\n",
    "    input_ids, labels = prep_batch(next_item)\n",
    "    mlm_ce, sop_ce = get_ce(input_ids, labels)\n",
    "    mlm_ces.append(mlm_ce)\n",
    "    sop_ces.append(sop_ce)\n",
    "res_df = pd.DataFrame({\"mlm\": mlm_ces, \"sop\": sop_ces})\n",
    "res_df.describe()"
   ]
  },
  {
   "cell_type": "code",
   "execution_count": 27,
   "metadata": {},
   "outputs": [
    {
     "data": {
      "text/plain": [
       "<matplotlib.axes._subplots.AxesSubplot at 0x1d8b95d2348>"
      ]
     },
     "execution_count": 27,
     "metadata": {},
     "output_type": "execute_result"
    },
    {
     "data": {
      "image/png": "[encoded data removed]",
      "text/plain": [
       "<Figure size 432x288 with 1 Axes>"
      ]
     },
     "metadata": {
      "needs_background": "light"
     },
     "output_type": "display_data"
    }
   ],
   "source": [
    "res_df.plot()"
   ]
  },
  {
   "cell_type": "code",
   "execution_count": 28,
   "metadata": {},
   "outputs": [],
   "source": [
    "sess.close()"
   ]
  },
  {
   "cell_type": "markdown",
   "metadata": {},
   "source": [
    "# Blank token"
   ]
  },
  {
   "cell_type": "code",
   "execution_count": 19,
   "metadata": {},
   "outputs": [
    {
     "data": {
      "text/plain": [
       "''"
      ]
     },
     "execution_count": 19,
     "metadata": {},
     "output_type": "execute_result"
    }
   ],
   "source": [
    "tibert_tkn.decode([9874])"
   ]
  },
  {
   "cell_type": "code",
   "execution_count": 31,
   "metadata": {},
   "outputs": [
    {
     "data": {
      "text/plain": [
       "'[CLS] །[MASK][MASK]་པོས་སྤྲོ་ཞིང་བརྟེན་པ་ཡིས།[SEP]དྨའི་གདན། །ཇི་ལ'"
      ]
     },
     "execution_count": 31,
     "metadata": {},
     "output_type": "execute_result"
    }
   ],
   "source": [
    "tibert_tkn.decode([2, 9874, 9955, 4, 4, 9873, 9890, 9877, 9875, 9873, 92, 9891, 15, 626\n",
    ", 5063, 9902, 9882, 9875, 9955, 3, 9879, 9919, 9887, 9882, 9873, 264, 9886, 9955\n",
    ", 9874, 9955, 2025, 9888])"
   ]
  },
  {
   "cell_type": "code",
   "execution_count": 40,
   "metadata": {},
   "outputs": [
    {
     "data": {
      "text/plain": [
       "'། །'"
      ]
     },
     "execution_count": 40,
     "metadata": {},
     "output_type": "execute_result"
    }
   ],
   "source": [
    "tibert_tkn.decode([9955, 9874, 9955])"
   ]
  },
  {
   "cell_type": "code",
   "execution_count": 39,
   "metadata": {},
   "outputs": [
    {
     "data": {
      "text/plain": [
       "[2, 257, 9877, 9955, 9874, 9955, 9875, 3]"
      ]
     },
     "execution_count": 39,
     "metadata": {},
     "output_type": "execute_result"
    }
   ],
   "source": [
    "tibert_tkn.encode('པོ། །ས')"
   ]
  },
  {
   "cell_type": "code",
   "execution_count": 41,
   "metadata": {},
   "outputs": [
    {
     "name": "stdout",
     "output_type": "stream",
     "text": [
      "[   2 9874 9955    4    4 9873 9890 9877 9875 9873   92 9891   15  626\n",
      " 5063 9902 9882 9875 9955    3 9879 9919 9887 9882 9873  264 9886 9955\n",
      " 9874 9955 2025 9888    4   13 9875 9908   26  872  149   16 9902 9882\n",
      " 9955 9874 9955  417  458   76 9881   19 9890 9873  133 9881    9  533\n",
      " 9888 9955 9874 9955 9876 9906 3160 1291 9879   31  279  251 9955    4\n",
      " 2274  252 9881  851    4  798 9886 9882 9873  785 9882    4    4 8799\n",
      "  484  340  488  181    8 1036   75 9882 9955    4 9955 9895   59   89\n",
      " 5640 9900 9882    9  991 9879   21 1947 9955 9874    4    4    4 9883\n",
      " 9875 9873 1316 7828  533 9886 9875 9955 9874 9955    4    4    4  951\n",
      " 2414    3]\n"
     ]
    }
   ],
   "source": [
    "for batch in next_item['input_ids']:\n",
    "    if 9874 in batch:\n",
    "        print(batch)\n",
    "        break"
   ]
  }
 ],
 "metadata": {
  "kernelspec": {
   "display_name": "Python 3",
   "language": "python",
   "name": "python3"
  },
  "language_info": {
   "codemirror_mode": {
    "name": "ipython",
    "version": 3
   },
   "file_extension": ".py",
   "mimetype": "text/x-python",
   "name": "python",
   "nbconvert_exporter": "python",
   "pygments_lexer": "ipython3",
   "version": "3.7.6"
  }
 },
 "nbformat": 4,
 "nbformat_minor": 4
}
