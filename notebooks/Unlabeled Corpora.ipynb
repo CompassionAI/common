{
 "cells": [
  {
   "cell_type": "code",
   "execution_count": 1,
   "metadata": {},
   "outputs": [],
   "source": [
    "import pandas as pd"
   ]
  },
  {
   "cell_type": "code",
   "execution_count": 2,
   "metadata": {},
   "outputs": [],
   "source": [
    "%matplotlib inline\n",
    "import matplotlib.pyplot as plt\n",
    "plt.style.use(\"dark_background\")"
   ]
  },
  {
   "cell_type": "code",
   "execution_count": 3,
   "metadata": {},
   "outputs": [],
   "source": [
    "from dask.distributed import Client, LocalCluster\n",
    "import dask.bag as db"
   ]
  },
  {
   "cell_type": "code",
   "execution_count": 4,
   "metadata": {},
   "outputs": [
    {
     "name": "stderr",
     "output_type": "stream",
     "text": [
      "C:\\tools\\miniconda3\\envs\\tibert\\lib\\site-packages\\distributed\\node.py:155: UserWarning: Port 8787 is already in use.\n",
      "Perhaps you already have a cluster running?\n",
      "Hosting the HTTP server on port 55062 instead\n",
      "  http_address[\"port\"], self.http_server.port\n"
     ]
    }
   ],
   "source": [
    "dask_cluster = LocalCluster(n_workers=10, threads_per_worker=1)\n",
    "dask_client = Client(dask_cluster)"
   ]
  },
  {
   "cell_type": "code",
   "execution_count": 5,
   "metadata": {},
   "outputs": [
    {
     "data": {
      "text/html": [
       "<table style=\"border: 2px solid white;\">\n",
       "<tr>\n",
       "<td style=\"vertical-align: top; border: 0px solid white\">\n",
       "<h3 style=\"text-align: left;\">Client</h3>\n",
       "<ul style=\"text-align: left; list-style: none; margin: 0; padding: 0;\">\n",
       "  <li><b>Scheduler: </b>tcp://127.0.0.1:55065</li>\n",
       "  <li><b>Dashboard: </b><a href='http://127.0.0.1:55062/status' target='_blank'>http://127.0.0.1:55062/status</a></li>\n",
       "</ul>\n",
       "</td>\n",
       "<td style=\"vertical-align: top; border: 0px solid white\">\n",
       "<h3 style=\"text-align: left;\">Cluster</h3>\n",
       "<ul style=\"text-align: left; list-style:none; margin: 0; padding: 0;\">\n",
       "  <li><b>Workers: </b>10</li>\n",
       "  <li><b>Cores: </b>10</li>\n",
       "  <li><b>Memory: </b>17.10 GB</li>\n",
       "</ul>\n",
       "</td>\n",
       "</tr>\n",
       "</table>"
      ],
      "text/plain": [
       "<Client: 'tcp://127.0.0.1:55065' processes=10 threads=10, memory=17.10 GB>"
      ]
     },
     "execution_count": 5,
     "metadata": {},
     "output_type": "execute_result"
    }
   ],
   "source": [
    "dask_client"
   ]
  },
  {
   "cell_type": "markdown",
   "metadata": {},
   "source": [
    "# Test the loaders"
   ]
  },
  {
   "cell_type": "code",
   "execution_count": 6,
   "metadata": {},
   "outputs": [],
   "source": [
    "from tibert.data import CorpusSplitType, KangyurLoader, TengyurLoader"
   ]
  },
  {
   "cell_type": "markdown",
   "metadata": {},
   "source": [
    "## Split by folio - Kangyur"
   ]
  },
  {
   "cell_type": "code",
   "execution_count": 7,
   "metadata": {},
   "outputs": [],
   "source": [
    "kangyur_bag = KangyurLoader(\"../../tibert_data/\").to_bag(split_type=CorpusSplitType.BY_FOLIO)"
   ]
  },
  {
   "cell_type": "code",
   "execution_count": 8,
   "metadata": {},
   "outputs": [
    {
     "data": {
      "text/plain": [
       "65619"
      ]
     },
     "execution_count": 8,
     "metadata": {},
     "output_type": "execute_result"
    }
   ],
   "source": [
    "kangyur_bag.count().compute()"
   ]
  },
  {
   "cell_type": "code",
   "execution_count": 9,
   "metadata": {},
   "outputs": [
    {
     "data": {
      "text/plain": [
       "('༄༅༅། །རྒྱ་གར་སྐད་དུ། བི་ན་ཡ་བསྟུ། བོད་སྐད་དུ། འདུལ་བ་གཞི། བམ་པོ་དང་པོ། དཀོན་མཆོག་གསུམ་ལ་ཕྱག་འཚལ་ལོ། །གང་གིས་འཆིང་ རྣམས་ཡང་དག་རབ་བཅད་ཅིང་། །མུ་སྟེགས་ཚོགས་རྣམས་ཐམས་ཅད་རབ་བཅོམ་སྟེ། །སྡེ་དང་བཅས་པའི་བདུད་རྣམས་ངེས་བཅོམ་ནས། །བྱང་ཆུབ་འདི་བརྙེས་དེ་ལ་ ཕྱག་འཚལ་ལོ། །ཁྱིམ་དོན་ཆེ་ཆུང་སྤངས་ཏེ་དང་པོར་རབ་འབྱུང་དཀའ། །རབ་བྱུང་ཐོབ་ནས་ཡུལ་སྤྱད་དག་གིས་དགའ་ཐོབ་དཀའ། །མངོན་དགའ་ཇི་བཞིན་དོན་བསྐྱེད་ཡང་ དག་བྱེད་པ་དཀའ། །ངུར་སྨྲིག་གོས་འཆང་མཁས་པ་ཚུལ་ལས་ཉམས་པ་དཀའ། །གཞི་རྣམས་ཀྱི་སྤྱི་སྡོམ་ལ། རབ་འབྱུང་གསོ་སྦྱོང་གཞི་དང་ནི། །དགག་དབྱེ་དབྱར་དང་ཀོ་ ལྤགས་གཞི། །སྨན་དང་གོས་དང་སྲ་བརྐྱང་དང་། །ཀཽ་ཤཱམ་བཱི་དང་ལས་ཀྱི་གཞི། །དམར་སེར་ཅན་དང་གང་ཟག་དང་། །སྤོ་དང་གསོ་སྦྱོང་བཞག་པ་དང་། །གནས་མལ་དང་ནི་',\n",
       " 'རྩོད་པ་དང་། །དགེ་འདུན་དབྱེན་རྣམས་བསྡུས་པ་ཡིན། །རབ་ཏུ་འབྱུང་བའི་གཞིའི་སྤྱི་སྡོམ་ལ། ཤཱ་རིའི་བུ་དང་མུ་སྟེགས་ཅན། །དགེ་ཚུལ་གཉིས་དང་བྱ་རོག་སྐྲོད། །དགྲ་བཅོམ་བསད་དང་ལག་རྡུམ་གྱི། །སྡེ་ཚན་ ཡང་དག་བསྡུས་པ་ཡིན། །སྡོམ་ལ། ཤཱ་རིའི་བུ་དང་རབ་འབྱུང་དང་། །བསྙེན་པར་རྫོགས་པར་གནང་བ་དང་། །ཉེ་སྡེས་ཚོགས་ནི་བསྡུས་པ་དང་། །ལྔ་པའི་སྡེ་ཚན་བསྡུས་པ་ཡིན། །བྱང་ཆུབ་སེམས་དཔའ་དགའ་ལྡན་གྱི་གནས་ན་བཞུགས་པ་ན། ཡུལ་ཨང་ག་དག་ན་ཨང་གའི་རྒྱལ་པོ་ཞེས་བྱ་བས་རྒྱལ་སྲིད་འབྱོར་པ། རྒྱས་པ་བདེ་བ་ལོ་ལེགས་པ་སྐྱེ་བོ་དང་མི་མང་པོས་གང་བ་བྱེད་དུ་བཅུག་གོ། །ཡུལ་མ་ག་དྷཱ་དག་ན་ཡང་རྒྱལ་པོ་པད་མ་ཆེན་པོ་ཞེས་བྱ་བས། རྒྱལ་སྲིད་འབྱོར་པ་རྒྱས་པ་བདེ་བ་ལོ་ ལེགས་པ་སྐྱེ་བོ་དང་མི་མང་པོས་གང་བ་བྱེད་དུ་བཅུག་གོ། །རེས་འགའ་ནི་ཨང་གའི་རྒྱལ་པོ་དཔུང་དང་མཐུ་ཆེ་བ་ཡིན་ལ། རེས་འགའ་ནི་རྒྱལ་པོ་པད་མ་ཆེན་པོ་དཔུང་དང་མཐུ་ཆེ་བ་ཡིན་ནོ། །གང་གི་ཚེ་ཨང་གའི་རྒྱལ་པོ་དཔུང་དང་མཐུ་ཆེ་བ་དེའི་ཚེ་ ན། དེས་དཔུང་གི་ཚོགས་ཡན་ལག་བཞི་པ། གླང་པོ་ཆེ་པའི་ཚོགས་དང་། རྟ་པའི་ཚོགས་དང་། ཤིང་རྟ་པའི་ཚོགས་དང་། དཔུང་བུ་ཆུང་གི་ཚོགས་གོ་བསྐོན་ཏེ། ཡུལ་མ་ག་དྷཱ་རྒྱལ་པོའི་ཁབ་མ་གཏོགས་པ་བཅོམ་ནས་ཕྱིར་ལྡོག་པར་ བྱེད་དོ། །གང་གི་ཚེ་རྒྱལ་པོ་པད་མ་ཆེན་པོ་དཔུང་དང་མཐུ་ཆེ་བ་དེའི་ཚེ་ན། དེས་ཀྱང་དཔུང་གི་ཚོགས་ཡན་ལག་བཞི་པ། གླང་པོ་ཆེ་པའི་ཚོགས་དང་། རྟ་པའི་ཚོགས་དང་། ཤིང་རྟ་པའི་ཚོགས་དང་། དཔུང་བུ་ཆུང་གི་ཚོགས་གོ་བསྐོན་ཏེ།',\n",
       " 'ཡུལ་ཨང་ག་ཙམ་པ་མ་གཏོགས་པ་བཅོམ་ནས་ཕྱིར་ལྡོག་པར་བྱེད་དོ། །དེ་ནས་དུས་གཞན་ཞིག་ན་ཨང་གའི་རྒྱལ་པོ་དཔུང་དང་མཐུ་ཆེ་བར་གྱུར་ནས། དེས་དཔུང་གི་ཚོགས་ཡན་ལག་བཞི་བ་གླང་པོ་ཆེ་པའི་ཚོགས་དང་། རྟ་པའི་ཚོགས་དང་། ཤིང་རྟ་པའི་ཚོགས་དང་། དཔུང་ བུ་ཆུང་གི་ཚོགས་གོ་བསྐོན་ཏེ། ཡུལ་མ་ག་དྷཱ་གཞོམ་པར་བརྩམས་པ་དང་། མ་ག་དྷཱ་ན་གནས་པའི་སྐྱེ་བོའི་ཚོགས་ཀྱིས་རྒྱལ་པོ་པད་མ་ཆེན་པོ་ལ་ལྷ་ཨང་གའི་རྒྱལ་པོས་དཔུང་གི་ཚོགས་ཡན་ལག་བཞི་པ་གླང་པོ་ཆེ་པའི་ཚོགས་དང་། རྟ་པའི་ཚོགས་དང་། ཤིང་རྟ་པའི་ ཚོགས་དང་། དཔུང་བུ་ཆུང་གི་ཚོགས་གོ་བསྐོན་ཏེ། ཡུལ་མ་ག་དྷཱ་འཇོམས་པར་བགྱིད་དོ་ཞེས་སྦྲོན་པ་དག་བཏང་ངོ་། །རྒྱལ་པོ་པད་མ་ཆེན་པོས་ཀྱང་ཐོས་ནས་དཔུང་གི་ཚོགས་ཡན་ལག་བཞི་པ་གླང་པོ་ཆེ་པའི་ཚོགས་དང་། རྟ་པའི་ཚོགས་དང་། ཤིང་རྟ་པའི་ཚོགས་དང་། དཔུང་བུ་ཆུང་གི་ཚོགས་གོ་བསྐོན་ཏེ། ཨང་གའི་རྒྱལ་པོ་དང་གཡུལ་སྤྲད་པའི་ཕྱིར་འཕགས་སོ། །དེ་ནས་ཨང་གའི་རྒྱལ་པོས་རྒྱལ་པོ་པད་མ་ཆེན་པོའི་གླང་པོ་ཆེ་པའི་ཚོགས་ཐམས་ཅད་ཕྲོགས་ཤིང་། རྟ་པའི་ཚོགས་དང་། ཤིང་རྟ་པའི་ཚོགས་དང་། དཔུང་བུ་ཆུང་གི་ ཚོགས་ཐམས་ཅད་ཀྱང་ཕྲོགས་སོ། །རྒྱལ་པོ་པད་མ་ཆེན་པོ་ཡང་ཕམ་པ་དང་། སྐྲག་པ་དང་། བཅོམ་པ་དང་། གཞན་རྒྱལ་བ་དང་། རྒྱབ་ཀྱིས་ཕྱོགས་པར་བྱས་ཏེ། རྒྱལ་པོའི་ཁབ་ཏུ་ཞུགས་ནས་སྒོ་བཅད་དེ། ར་བ་དག་གི་ཁར་སྦྲེངས་ནས་འདུག་གོ། །ཨང་གའི་རྒྱལ་ པོས་རྒྱལ་པོ་པད་མ་ཆེན་པོ་ལ་ཕོ་ཉ་བཏང་སྟེ། གལ་ཏེ་ཕྱིར་འབྱུང་ན་དེ་ལྟ་ན་ལེགས། གལ་ཏེ་ཕྱིར་མི་འབྱུང་ན་ཇི་སྟེ་སྟེང་གི་ནམ་མཁའ་ལ་འགྲོ་ན་ནི་མདའ་བརྒྱུད་པས་ཁྱོད་ལྟུང་བར་བྱའོ། །ཇི་སྟེ་སའི་འོག་ཏུ་འགྲོ་ན་ནི་མཆིལ་པ་དང་དྲང་བའི་ཚུལ་གྱིས་དྲང་བར་བྱའོ། །ཇི་སྟེ་རིའི་ རྩེ་མོར་འཛེག་ན་ནི་དེར་ཡང་ཁྱོད་ཐར་པ་མེད་དོ་ཞེས་སྤྲིང་ངོ་། །རྒྱལ་པོ་པད་མ་ཆེན་པོས་ཕྲིན་ཡིག་བཀླགས་ནས་དེ་མི་བདེ་བར་གྱུར་ཏེ། ལག་པ་ལ་འགྲམ་པ་གཏད་ནས་སེམས་ཁོང་དུ་ཆུད་ཅིང་འདུག་འདུག་ནས། དེས་བློན་པོ་རྣམས་ལ་སྨྲས་པ། ཤེས་ལྡན་དག་ཨང་གའི་རྒྱལ་',\n",
       " 'པོ་འདི་ནི་གདུག་པ། ཕ་རོལ་གནོན་པ། དཔུང་དང་མཐུ་ཆེ་བར་གྱུར་ལ། དེས་ཡུ་བུ་ཅག་ལ་འདི་དང་འདི་སྐད་ཅེས་སྤྲིང་ན། དེ་ལ་ཡུ་བུ་ཅག་གིས་ཇི་ལྟར་བསྒྲུབ་པར་བྱ། དེ་དག་གིས་ཚིགས་སུ་བཅད་པ་སྨྲས་པ། ཡུལ་དང་སྲོག་ལ་གནོད་གྱུར་ན། ། སྐྱེས་བུས་ཀུན་དུ་སྲོག་བསྲུང་བྱ། །བློ་ཡིས་གཉིས་ཀ་དཔྱད་བྱས་ན། །ཡུལ་ནི་ཡང་རྙེད་སྲོག་རྣམས་མིན། །ལྷ་རྣམ་པ་ཐམས་ཅད་དུ་སླར་འབྱུང་བར་བགྱིའོ། །དེ་རལ་གྲི་མགུལ་དུ་ཐོགས་ཏེ་ཕྱིར་བྱུང་བ་དང་། ཨང་གའི་རྒྱལ་པོས་དེ་ལ་ལོ་ཐང་དང་དཔྱ་ཕབ་སྟེ་དེ་ཉིད་དུ་ བཞག་གོ། །གང་གི་ཚེ་བཅོམ་ལྡན་འདས་བྱང་ཆུབ་སེམས་དཔའ་དགའ་ལྡན་གྱི་གནས་ན་བཞུགས་པས་གཟིགས་པ་ལྔ་པོ་དག་ལ་གཟིགས་ནས་འདོད་པ་ན་སྤྱོད་པའི་ལྷ་དྲུག་པོ་དག་ལ་ལན་གསུམ་བསྒོ་བ་མཛད་དེ། གླང་པོ་ཆེ་ལྟར་སྣང་བར་བསྒྱུར་ཏེ། ཡུམ་གྱི་ལྷུམས་སུ་ ཞུགས་པ་དེའི་ཚེ་ན་ས་ཆེན་པོ་ཤིན་ཏུ་གཡོས་པར་གྱུར་ཅིང་འཇིག་རྟེན་འདི་ཐམས་ཅད་ཀྱང་སུམ་བཅུ་རྩ་གསུམ་པའི་ལྷ་རྣམས་ཀྱི་ཁ་དོག་གི་མཐུ་བས་ལྷག་པའི་སྣང་བ་རྒྱ་ཆེན་པོས་ཁྱབ་པར་གྱུར་ཅིང་། འཇིག་རྟེན་གྱི་འཇིག་རྟེན་གྱི་བར་གང་ན་ཉི་མ་དང་ཟླ་བ་འདི་ལྟར་རྫུ་འཕྲུལ་ཆེ་བ། འདི་ལྟར་མཐུ་ཆེ་བ་འདི་གཉིས་ཀྱི་འོད་དག་ཉམས་སུ་མི་མྱོང་བའི་མུན་པ་མུན་གནག་མུན་པར་བྱེད་པས། གནག་པར་གྱུར་པ་གང་དག་ཡིན་པ་དེ་དག་ཀྱང་དེའི་ཚེ་ན་སྣང་བ་རྒྱ་ཆེན་པོས་ཁྱབ་པར་གྱུར་ནས། སེམས་ཅན་གང་དག་དེར་སྐྱེས་པ་དག་གིས་རང་གི་ལག་པ་བརྐྱང་བ་ཡང་མི་ མཐོང་བ་དེ་དག་གིས་ཀྱང་འོད་དེས་སེམས་ཅན་གཅིག་གིས་གཅིག་མཐོང་ནས་ཤེས་ལྡན་དག་སེམས་ཅན་གཞན་ཡང་འདིར་སྐྱེས་སོ། །ཤེས་ལྡན་དག་སེམས་ཅན་གཞན་ཡང་འདིར་སྐྱེས་སོ་ཞེས་ཤེས་པར་གྱུར་ཏོ། །གང་གི་ཚེ་བཅོམ་ལྡན་འདས་བྱང་ཆུབ་སེམས་དཔའ་ བལྟམ་པ་དེའི་ཚེ་ན་གྲོང་ཁྱེར་ཆེན་པོ་བཞི་པོ་དག་ཏུ་རྒྱལ་པོ་ཆེན་པོ་བཞི་དག་གི་བུ་ཡང་བཙས་པར་གྱུར་ཏེ། རྒྱལ་པོའི་ཁབ་ཏུ་རྒྱལ་པོ་པད་མ་ཆེན་པོའི་བུ་བཙས་སོ། །མཉན་ཡོད་དུ་ནི་རྒྱལ་པོ་རྩིབས་ཀྱིས་འཕུར་ཚངས་བྱིན་གྱི་བུ་བཙས་སོ། །འཕགས་རྒྱལ་དུ་ནི་རྒྱལ་པོ་མུ་',\n",
       " 'ཁྱུད་མཐའ་ཡས་ཀྱི་བུ་བཙས་སོ། །ཀཽ་ཤཱམ་བཱིར་ནི་རྒྱལ་པོ་དམག་བརྒྱ་པའི་བུ་བཙས་སོ། །བཅོམ་ལྡན་འདས་བྱང་ཆུབ་སེམས་དཔའ་བལྟམ་པ་ན་འཇིག་རྟེན་ཐམས་ཅད་སུམ་བཅུ་རྩ་གསུམ་པའི་ལྷ་རྣམས་ཀྱི་ཁ་དོག་གི་མཐུ་བས་ལྷག་པའི་སྣང་བ་རྒྱ་ཆེན་པོས་ཁྱབ་པར་གྱུར་ ཅིང་འཇིག་རྟེན་གྱི་འཇིག་རྟེན་གྱི་བར་གང་ན་ཉི་མ་དང་ཟླ་བ་འདི་ལྟར་རྫུ་འཕྲུལ་ཆེ་བ། འདི་ལྟར་མཐུ་ཆེ་བ་འདི་གཉིས་ཀྱི་འོད་དག་ཉམས་སུ་མི་མྱོང་བའི་མུན་པ་མུན་གནག་མུན་པར་བྱེད་པས་གནག་པར་གྱུར་པ་གང་དག་ཡིན་པ་དེ་དག་ཀྱང་དེའི་ཚེ་ན་སྣང་བ་རྒྱ་ཆེན་པོས་ཁྱབ་པར་གྱུར་ ནས། སེམས་ཅན་གང་དག་དེར་སྐྱེས་པ་དག་གིས་རང་གི་ལག་པ་བརྐྱང་བ་ཡང་མི་མཐོང་བ་དེ་དག་གིས་ཀྱང་འོད་དེས་སེམས་ཅན་གཅིག་གིས་གཅིག་མཐོང་ནས་ཤེས་ལྡན་དག་སེམས་ཅན་གཞན་ཡང་འདིར་སྐྱེས་སོ། །ཤེས་ལྡན་དག་སེམས་ཅན་གཞན་ཡང་འདིར་སྐྱེས་སོ་ ཞེས་ཤེས་པར་གྱུར་ཏོ། །རྒྱལ་པོ་པད་མ་ཆེན་པོས་བསམས་པ། བདག་གི་བུ་བཙས་པ་ན་འཇིག་རྟེན་ཉི་མའི་གཟུགས་ཤར་བ་ལྟར་སྣང་ཞིང་འདི་བཙུན་མོ་གཟུགས་ཅན་གྱི་བུ་ཡིན་པས་གཞོན་ནུ་འདིའི་མིང་གཟུགས་ཅན་སྙིང་པོར་གདགས་སོ་སྙམ་ནས་བུ་དེའི་མིང་གཟུགས་ ཅན་སྙིང་པོ་ཞེས་བྱ་བར་བཏགས་སོ། །རྒྱལ་པོ་རྩིབས་ཀྱིས་འཕུར་ཚངས་བྱིན་གྱིས་བསམས་པ། བདག་གི་བུ་བཙས་པ་ན་འཇིག་རྟེན་གསལ་བ་གསལ་བ་ལྟར་སྣང་བས་གཞོན་ནུ་འདིའི་མིང་གསལ་རྒྱལ་དུ་གདགས་སོ་སྙམ་ནས་བུ་དེའི་མིང་གསལ་རྒྱལ་ཞེས་བྱ་བར་ བཏགས་སོ། །རྒྱལ་པོ་དམག་བརྒྱ་པས་བསམས་པ། བདག་གི་བུ་བཙས་པ་ན་འཇིག་རྟེན་ཉི་མ་ཤར་བ་ལྟར་སྣང་བར་གྱུར་པས་གཞོན་ནུ་འདིའི་མིང་ཤར་བར་གདགས་སོ་སྙམ་ནས་བུ་དེའི་མིང་ཤར་བ་ཞེས་བྱ་བར་བཏགས་སོ། །རྒྱལ་པོ་མུ་ཁྱུད་མཐའ་ཡས་ཀྱིས་ བསམས་པ། བདག་གི་བུ་བཙས་པ་ན་འཇིག་རྟེན་རབ་ཏུ་སྣང་བས་སྣང་བར་གྱུར་པས་གཞོན་ནུ་འདིའི་མིང་རབ་སྣང་ཞེས་བྱ་བར་གདགས་སོ་སྙམ་ནས་བུ་དེའི་མིང་རབ་སྣང་ཞེས་བྱ་བར་བཏགས་སོ། །རྒྱལ་པོ་རེ་རེས་བསམས་པ་ཡང་བདག་གི་བུ་འདིའི་མཐུ་ཡིན་ནོ། །བདག་',\n",
       " 'གི་བུ་འདིའི་མཐུ་ཡིན་ནོ་སྙམ་མོད་ཀྱི། དེ་ནི་དེ་ལྟ་མ་ཡིན་ཏེ། འདི་ལྟར་དེ་དག་ཐམས་ཅད་ནི་བྱང་ཆུབ་སེམས་དཔའི་མཐུ་ཡིན་པའི་ཕྱིར་རོ། །གང་གི་ཉིན་མོ་གཞོན་ནུ་གཟུགས་ཅན་སྙིང་པོ་བཙས་པ་དེ་ཉིད་ཀྱི་ཉིན་མོ་བློན་པོ་ལྔ་བརྒྱ་དག་གི་བུ་ལྔ་བརྒྱ་ཡང་ བཙས་ཏེ། དེ་དག་ཀྱང་རིགས་དང་མཐུན་པར་མིང་བཏགས་སོ། །གཞོན་ནུ་གཟུགས་ཅན་སྙིང་པོ་མ་མ་བརྒྱད་པོ་པང་ན་འཚོ་བའི་མ་མ་གཉིས་དང་། ནུ་མ་སྣུན་པའི་མ་མ་གཉིས་དང་། དྲི་མ་འཕྱི་བའི་མ་མ་གཉིས་དང་། རྩེན་གྲོགས་ཀྱི་མ་མ་གཉིས་ལ་རྗེས་སུ་གཏད་དོ། ། དེ་མ་མ་བརྒྱད་པོ་དག་གིས་འོ་མ་དང་། ཞོ་དང་། མར་དང་། ཞུན་མར་དང་། མར་གྱི་སྙིང་ཁུ་དང་། གཞན་ཡང་ཡོ་བྱད་ཀྱི་བྱེ་བྲག་གཙོ་བོ་གཙོ་བོ་དག་གིས་སྲིང་བར་བྱེད། སྐྱེད་པར་བྱེད་ཅིང་རྫིང་ན་གནས་པའི་པད་མ་བཞིན་མྱུར་དུ་སྐྱེད་པར་བྱེད་དོ། །དེ་གང་གི་ཚེ་ཆེན་ པོར་གྱུར་པ་དེའི་ཚེ་ཡི་གེ་དང་། གྲངས་དང་། རྩིས་དང་། ལག་རྩིས་དང་། དབྱུང་བ་དང་། གཞུག་པ་དང་། གཞག་པ་ལ་ཉེ་བར་ཞུགས་ནས། དེ་ཡི་གེའི་མཐར་ཕྱིན་ཅིང་འབྱེད་པ་དང་། ཀློག་པ་དང་། མཁས་པ་དང་། སྐྱོད་པ་གསལ་བ་དང་། བརྟག་པ་བརྒྱད་ པོ་འདི་ལྟ་སྟེ། རིན་པོ་ཆེ་བརྟག་པ་དང་། གཞི་བརྟག་པ་དང་། གོས་བརྟག་པ་དང་། ཤིང་བརྟག་པ་དང་། གླང་པོ་ཆེ་བརྟག་པ་དང་། རྟ་བརྟག་པ་དང་། བུད་མེད་བརྟག་པ་དང་། སྐྱེས་པ་བརྟག་པ་ལ་མཁས་པར་གྱུར་ཏོ། །རྒྱལ་པོ་རྒྱལ་རིགས་སྤྱི་བོར་དབང་ བསྐུར་བ་ལྗོངས་ཀྱི་དབང་ཕྱུག་མཐུ་དང་བརྩོན་འགྲུས་ཐོབ་པ། ས་ཆེན་པོའི་དཀྱིལ་འཁོར་མངོན་པར་རྒྱལ་བར་བྱས་ཏེ་གནས་པ་རྣམས་ཀྱི་བཟོའི་གནས་དང་། ལས་ཀྱི་གནས་ཐ་དད་པར་གྱུར་པ་གང་དག་ཡིན་པ་འདི་ལྟ་སྟེ། གླང་པོ་ཆེའི་གཉར་བཞོན་པ་དང་། རྟ་བཞོན་ པ་དང་། ཤིང་རྟའི་ཐབས་དང་། རལ་གྲིའི་ཐབས་དང་། འཕོང་དང་། ཕྱིར་བསྣུར་བ་དང་། མདུན་དུ་བསྣུར་བ་དང་། ལྕགས་ཀྱི་བསྒྱུར་ཐབས་དང་། ཞགས་པ་གདབ་པ་དང་། མདའ་བོ་ཆེ་འཕེན་ཐབས་དང་། འཛིན་སྟངས་དང་། གོམ་སྟངས་དང་། ཐོར་ཚུགས་',\n",
       " 'དང་། གཅད་པ་དང་། དྲལ་བ་དང་། དབུག་པ་དང་། གནས་ལྔ་པོ་འདི་ལྟ་སྟེ། རྒྱང་ནས་འཕོག་པ་དང་། སྒྲ་གྲགས་པར་འཕོག་པ་དང་། གནད་དུ་འཕོག་པ་དང་། མི་འཆོར་བར་འཕོག་པ་དང་། ཚབས་ཆེ་བ་དེ་དག་ལ་ཡང་ཞུགས་ཤིང་བྱང་བར་གྱུར་ཏོ། །བློན་ པོའི་བུ་ལྔ་བརྒྱ་པོ་དེ་དག་ཀྱང་བཟོའི་གནས་དང་། ལས་ཀྱི་གནས་དག་ལ་བྱང་བར་གྱུར་ཏོ། །དེ་ཕས་བཟོ་སྦྱང་བ་བརྒྱད་པོ་དག་ལ་བཅུག་ནས་དེའི་མིང་བཟོ་སྦྱངས་གཟུགས་ཅན་སྙིང་པོ། །བཟོ་སྦྱངས་གཟུགས་ཅན་སྙིང་པོ་ཞེས་བྱ་བར་གྱུར་ཏོ། །དེ་ནས་དུས་གཞན་ ཞིག་ན་གཞོན་ནུ་གཟུགས་ཅན་སྙིང་པོ་གླང་པོ་ཆེ་ལ་ཞོན་ཏེ་ལྗོངས་སུ་བྱུང་བ་དང་། དེས་ཨང་གའི་རྒྱལ་པོའི་ཞོ་ཤས་འཚོ་བ་དག་ལོ་ཐང་དང་དཔྱ་སྡུད་པ་མཐོང་ནས། དེས་སྨྲས་པ། ཤེས་ལྡན་དག་ལོ་ཐང་དང་དཔྱ་སྡུད་པ་འདི་དག་སུའི་ཡིན། དེ་དག་གིས་སྨྲས་པ། ལྷ་ ཨང་གའི་རྒྱལ་པོའི་ལགས་སོ། །དེས་སྨྲས་པ། ཅི་ཡུ་བུ་ཅག་དེ་ལ་ལོ་ཐང་འབུལ་བ་ཡིན་ནམ། དེ་དག་གིས་སྨྲས་པ། ལྷ་ལོ་ཐང་འབུལ་བ་ལགས་སོ། །དེས་སྨྲས་པ། ཤེས་ལྡན་དག་ཞོ་ཤས་འཚོ་བ་དེ་དག་བོས་ཤིག །དེ་དག་གིས་བོས་པ་དང་། དེས་སྨྲས་ པ། ཤེས་ལྡན་དག་དེ་ཡང་རྒྱལ་པོ་རྒྱལ་རིགས་སྤྱི་བོར་དབང་བསྐུར་བ་ཡིན་ལ། ངེད་ཀྱང་རྒྱལ་པོ་རྒྱལ་རིགས་སྤྱི་བོར་དབང་བསྐུར་བ་ཡིན་ན། ཅིའི་ཕྱིར་ཁྱེད་ཅག་ལོ་ཐང་དང་དཔྱ་སྡུད་པར་བྱེད། དེང་ལ་ཕྱིན་ཆད་ལོ་ཐང་དང་དཔྱ་མ་སྡུད་ཅིག །དེ་དག་གིས་བསམས་ པ། གཞོན་ནུ་འདི་ནི་རྒྱུས་མི་ཤེས་པ་ཡིན་པས་བདག་ཅག་རྒྱལ་པོ་པད་མ་ཆེན་པོའི་གན་དུ་འདོང་ཞིང་སོང་ནས་བསྙད་པར་བྱའོ་སྙམ་ནས། དེ་དག་རྒྱལ་པོ་པད་མ་ཆེན་པོའི་གན་དུ་སོང་སྟེ་ཕྱིན་ནས་སྨྲས་པ། ལྷ་བདག་ཅག་ཨང་གའི་རྒྱལ་པོའི་ཞོ་ཤས་འཚོ་བ་ལོ་ཐང་དང་དཔྱ་ སྡུད་པ་ན་གཞོན་ནུ་གཟུགས་ཅན་སྙིང་པོས་བཀག་ན། ཅི་བསྡུ་བར་འཚལ་ལམ། འོན་ཏེ་སླར་མཆི་བར་འཚལ། དེས་སྨྲས་པ། ཤེས་ལྡན་དག་གཞོན་ནུ་དེ་ནི་རྒྱུས་མི་ཤེས་པ་ཡིན་པས་ཁྱེད་ཅག་སྔོན་ཇི་ལྟར་ལོ་ཐང་དང་དཔྱ་སྡུད་པ་དེ་བཞིན་དུ་སྡུས་ཤིག །དེ་དག་གིས་',\n",
       " 'ཡང་བསྡུ་བར་བརྩམས་ཏེ། དེ་དག་འོངས་ནས་ཕྱིར་ལྡོག་པ་གཞོན་ནུ་གཟུགས་ཅན་སྙིང་པོས་མཐོང་ནས་སྨྲས་པ། ཤེས་ལྡན་དག་ངས་ཁྱེད་ལ་ཕྱིན་ཆད་ལོ་ཐང་དང་དཔྱ་མ་སྡུད་ཅིག་ཅེས་མ་བཟློག་གམ། ཅིའི་ཕྱིར་ཡང་ཁྱེད་ལོ་ཐང་དང་དཔྱ་སྡུད། གལ་ ཏེ་རེ་ཞིག་འཁོད་ན་དེ་ལྟ་ན་ལེགས། གལ་ཏེ་མི་འཁོད་ན་མཚམས་ཆེན་པོ་གཅད་པར་བྱའོ། །དེ་དག་སྐྲག་ནས་བསམས་པ། གཞོན་ནུ་འདི་ནི་གདུག་པ་ཕ་རོལ་གནོན་པ་ཡིན་པས་བདག་ཅག་ལ་གནོད་པ་བྱེད་པར་འགྱུར་བ་གང་ཡིན་པ་དེ་ལྟ་བུའི་གནས་ཡོད་པར་འགྱུར་གྱིས། བདག་ཅག་ཨང་གའི་རྒྱལ་པོའི་གན་དུ་དོང་སྟེ་སྦྲན་པར་བྱའོ་སྙམ་ནས་དེ་དག་ཨང་གའི་རྒྱལ་པོའི་གན་དུ་དོང་སྟེ་ཕྱིན་ནས་སྨྲས་པ། ལྷ་བདག་ཅག་ལྷའི་ཞོ་ཤས་འཚོ་བ་ལགས་ཏེ། བདག་ཅག་ལྷའི་ལོ་ཐང་དང་དཔྱ་སྡུད་པ་ན་རྒྱལ་པོ་པད་མ་ཆེན་པོའི་བུ་གཞོན་ནུ་གཟུགས་ཅན་སྙིང་ པོ་དེས་བཟློག་ལགས་ན། ད་གལ་ཏེ་ལྷས་བཏང་སྙོམས་མཛད་ན་སླད་ཀྱིས་གནོད་པ་ཆེན་པོ་བགྱིད་པར་འགྱུར་བ་གང་ལགས་པ་དེ་ལྟ་བུའི་གནས་མཆིས་པར་འགྱུར་རོ། །ཚིགས་སུ་བཅད་པ་ཡང་སྨྲས་པ། ཇི་སྲིད་ཤིང་ནི་གཞོན་པའི་ཚེ། །སེན་མོ་དག་གིས་གཅད་ནུས་པ། ། དེ་ཉིད་ཆེན་པོར་སྐྱེས་པ་ན། །སྟ་རེ་བརྒྱས་ཀྱང་གཅད་པར་དཀའ། །ཨང་གའི་རྒྱལ་པོས་རྒྱལ་པོ་པད་མ་ཆེན་པོ་ལ་གཞོན་ནུ་གཟུགས་ཅན་སྙིང་པོ་མགུལ་པ་ནས་ཐོགས་ལ་ཚུར་བཀྲི་བའམ། ཡང་ན་རྩྭ་དང་ཆས་སྟ་གོན་གྱིས་ཤིག་དང་། ང་ཉིད་འོ་ནིར་འོང་ངོ་ཞེས་ཕྲིན་ཡིག་ སྤྲིང་ངོ་། །རྒྱལ་པོ་པད་མ་ཆེན་པོས་ཕྲིན་ཡིག་བཀླགས་ནས་དེ་མི་བདེ་བར་གྱུར་ཏེ་ལག་པ་འགྲམ་པ་ལ་གཏད་ནས། སེམས་ཁོང་དུ་ཆུད་ཅིང་འདུག་འདུག་ནས། དེས་གཞོན་ནུ་གཟུགས་ཅན་སྙིང་པོ་བོས་ནས་སྨྲས་པ། ཅིའི་ཕྱིར་ཁྱོད་ཀྱིས་ཨང་གའི་རྒྱལ་པོའི་ཞོ་ཤས་འཚོ་བ་དག་ ལོ་ཐང་དང་དཔྱ་སྡུད་པ་ཟློག། དེས་ཁྲོས་ཏེ་ང་ལ་འདི་དང་འདི་སྐད་ཅེས་སྤྲིང་ངོ་། །དེས་སྨྲས་པ། ལྷ་ཅི་སྐོལ་དེ་ལ་ལོ་ཐང་འབུལ་བ་ལགས་སམ། བུ་ལོ་ཐང་འབུལ་བ་ཡིན་ནོ། །དེས་སྨྲས་པ། ལྷ་དེ་ཡང་རྒྱལ་པོ་རྒྱལ་རིགས་སྤྱི་བོར་དབང་བསྐུར་བ་ལགས་ལ། སྐོལ་ཀྱང་',\n",
       " 'རྒྱལ་པོ་རྒྱལ་རིགས་སྤྱི་བོར་དབང་བསྐུར་བ་ལགས་ན། ཅིའི་སླད་དུ་སྐོལ་དེ་ལ་ལོ་ཐང་དང་དཔྱ་འབུལ། ལྷས་བདག་ལ་དཔུང་གི་ཚོགས་ཡན་ལག་བཞི་པ་སྩལ་བ་འབའ་ཞིག་མཛོད་ཅིག་དང་། བདག་གིས་ཨང་གའི་རྒྱལ་པོ་དང་ལྷན་ཅིག་གཡུལ་ངོར་གཡུལ་སྤྲད་པར་ བགྱིའོ། །དེ་ནས་རྒྱལ་པོ་པད་མ་ཆེན་པོས་ཨང་གའི་རྒྱལ་པོ་ལ་ཁྱོད་ཀྱི་མཐུ་དང་། དཔུང་དང་། བརྩོན་འགྲུས་དང་། ཕ་རོལ་གནོན་པ་གང་དག་ཡིན་པ་དེ་དག་ཐམས་ཅད་མ་ཉམས་པར་གྱིས་ཤིག་ཅེས་ཕྲིན་ཡིག་སྤྲིང་ངོ་། །ཨང་གའི་རྒྱལ་པོས་ཐོས་ནས་མི་བཟོད་ པ་སྐྱེས་ཏེ་བློན་པོ་རྣམས་ལ་སྨྲས་པ། ཤེས་ལྡན་དག་དེའི་ཡུལ་འཁོར་གཞོམ་པར་བྱས། དཔུང་གི་ཚོགས་ཡན་ལག་བཞི་པ་གོ་སྐོན་ཅིག །དེས་དཔུང་གི་ཚོགས་ཡན་ལག་བཞི་པ་གླང་པོ་ཆེ་པའི་ཚོགས་དང་། རྟ་པའི་ཚོགས་དང་། ཤིང་རྟ་པའི་ཚོགས་དང་། དཔུང་བུ་ཆུང་གི་ ཚོགས་གོ་བསྐོན་ཏེ་ཡུལ་མ་ག་དྷཱ་གཞོམ་པར་བརྩམས་པ་དང་། མ་ག་དྷཱ་ན་གནས་པའི་སྐྱེ་བོའི་ཚོགས་ཀྱིས་རྒྱལ་པོ་པད་མ་ཆེན་པོ་ལ་ལྷ་ཨང་གའི་རྒྱལ་པོ་འདི་དཔུང་གི་ཚོགས་ཡན་ལག་བཞི་པ་གླང་པོ་ཆེ་པའི་ཚོགས་དང་། རྟ་པའི་ཚོགས་དང་། ཤིང་རྟ་པའི་ཚོགས་དང་། དཔུང་བུ་ཆུང་གི་ཚོགས་གོ་བསྐོན་ཏེ་ཡུལ་མ་ག་དྷཱ་འཇོམས་པར་བགྱིད་དོ་ཞེས་སྦྲོན་པ་དག་བཏང་ངོ་། །རྒྱལ་པོ་པད་མ་ཆེན་པོས་ཐོས་ནས་དེ་མི་བདེ་བར་གྱུར་ཏེ་ལག་པ་འགྲམ་པ་ལ་གཏད་ནས། སེམས་ཁོང་དུ་ཆུད་ཅིང་འདུག་འདུག་ནས། དེས་གཞོན་ནུ་གཟུགས་ཅན་སྙིང་པོ་བོས་ ཏེ། དེ་ལ་དཔུང་གི་ཚོགས་ཡན་ལག་བཞི་པ་བྱིན་ནོ། །གཞོན་ནུ་གཟུགས་ཅན་སྙིང་པོས་བློན་པོའི་བུ་ལྔ་བརྒྱ་བསྡུས་ཏེ་སྨྲས་པ། ཤེས་ལྡན་དག་ང་ནི་ཨང་གའི་རྒྱལ་པོ་དང་ལྷན་ཅིག་གཡུལ་ངོར་གཡུལ་སྤྲོད་པར་བྱེད་ན་ཤེས་ལྡན་དག་ཅི་བྱེད། དེ་དག་གིས་སྨྲས་པ། གཞོན་ནུ་ཁྱོད་ཀྱི་གནས་སྐབས་གང་ལགས་པ་དེ་བདག་ཅག་གི་ཡང་ལགས་སོ། །དེས་ཚིགས་སུ་བཅད་པ་སྨྲས་པ། མི་གང་ལ་ནི་ཁྱིམ་དཔལ་གནས། །དེ་ནི་ཀུན་གྱིས་ཡོངས་བསྲུང་བྱ། །དེ་ཉམས་ན་ནི་ཀུན་ཉམས་ཏེ། །ལྟེ་བ་ཆག་པས་རྩིབས་རྣམས་བཞིན། །ད་ཁྱེད་',\n",
       " 'ཀྱིས་ཀུན་ནས་ཡོངས་སུ་བསྲུང་བར་བྱའོ། །དེ་དག་གིས་སྨྲས་པ། ལྷའི་གནས་སྐབས་གང་ལགས་པ་དེ་བདག་ཅག་གི་ཡང་ལགས་ལ། ལྷའི་ཞབས་གང་ན་བ་དེ་ན་བདག་ཅག་གི་མགོ་མཆིས་སོ། །དེ་ནས་དེས་དཔུང་གི་ཚོགས་ཡན་ལག་བཞི་པ་ གོ་བསྐོན་ཏེ། རྒྱལ་པོའི་ཁབ་ནས་བྱུང་ངོ་། །རྒྱལ་པོ་པད་མ་ཆེན་པོ་སྟེང་གི་ཁང་གཞིར་གཏོགས་པ་ན་བློན་པོའི་ཚོགས་ཀྱིས་བསྐོར་ཅིང་འདུག་པ་དེས་དེ་བྱུང་བ་མཐོང་ནས་དེས་བློན་པོ་རྣམས་ལ་སྨྲས་པ། ཤེས་ལྡན་དག་དམག་འདི་སུའི་ཡིན། དེ་དག་གིས་སྨྲས་པ། ལྷ་གཞོན་ནུ་གཟུགས་ཅན་སྙིང་པོའི་ལགས་སོ། །དེས་སྨྲས་པ། ཤེས་ལྡན་དག་ཨེ་མ་འདི་དམག་མང་པོ་དང་ལྡན་ནོ་ཞེས་སྨྲས་པས། དེའི་མིང་དམག་ལྡན་གཟུགས་ཅན་སྙིང་པོ། དམག་ལྡན་གཟུགས་ཅན་སྙིང་པོ་ཞེས་བྱ་བར་གྱུར་ཏོ། །དེ་ན་ཁ་ཅིག་གིས་ནི་བཟོ་ སྦྱངས་གཟུགས་ཅན་སྙིང་པོ་ཞེས་བྱ་བར་ཤེས་སོ། །ཁ་ཅིག་གིས་ནི་དམག་ལྡན་གཟུགས་ཅན་སྙིང་པོ་ཞེས་བྱ་བར་ཤེས་སོ། །གཞོན་ནུ་གཟུགས་ཅན་སྙིང་པོས་བློན་པོའི་བུ་ལྔ་བརྒྱ་པོ་དག་ལ་སྨྲས་པ། ཤེས་ལྡན་དག་ཨང་གའི་རྒྱལ་པོ་འདི་ནི་གདུག་པ་ཕ་རོལ་གནོན་ པ་དཔུང་དང་མཐུ་ཆེ་བར་གྱུར་པ་ཡིན་པས་ཡུ་བུ་ཅག་གིས་འདི་དང་ལྷན་ཅིག་གཡུལ་སྤྲད་པར་ནི་མི་ནུས་ཀྱིས། འདི་ལྟར་དེ་བག་ཡངས་སུ་གོ་ཕུད་པའི་ཕྲུ་མ་བརྫི་ཞིང་བཞབས་ཏེ་གསད་པར་བྱའོ། །དེ་དག་གིས་དེ་བག་ཡངས་སུ་གོ་ཕུད་པའི་ཕྲུ་མ་བརྫིས་ནས་དེ་དག་གིས་ཨང་ གའི་རྒྱལ་པོ་བཞབས་ཏེ་བསད་དོ། །ཨང་གའི་རྒྱལ་པོའི་དཔུང་གི་ཚོགས་ཡན་ལག་བཞི་པ་ཕྱོགས་བཞིར་བྱེར་བ་དང་། གཞོན་ནུ་གཟུགས་ཅན་སྙིང་པོས་ཕྱོགས་བཞིར་ཕོ་ཉ་རྟ་པ་དག་བཀྱེ་སྟེ། ཤེས་ལྡན་དག་དེ་ཡང་རྒྱལ་པོ་རྒྱལ་རིགས་སྤྱི་བོར་དབང་བསྐུར་ བ་ཡིན་ལ། ངེད་ཀྱང་རྒྱལ་པོ་རྒྱལ་རིགས་སྤྱི་བོར་དབང་བསྐུར་བ་ཡིན་གྱིས་ཕྱིར་ལོག་ཤིག་དང་། ཤེས་ལྡན་དག་ངས་ཤེས་ལྡན་དག་ལ་འཚོ་བའི་རྒྱུ་སྦྱིན་པར་བྱའོ་ཞེས་སྤྲིང་བ་དང་དེ་དག་ཕྱིར་ལོག་གོ། །དེ་ནས་ཨང་གའི་རྒྱལ་པོས་གྲོང་ཁྱེར་ཙམ་པ་བསྲུང་བ་བཞག་པ་དེས་')"
      ]
     },
     "execution_count": 9,
     "metadata": {},
     "output_type": "execute_result"
    }
   ],
   "source": [
    "kangyur_bag.take(10)"
   ]
  },
  {
   "cell_type": "code",
   "execution_count": 10,
   "metadata": {},
   "outputs": [],
   "source": [
    "kangyur_df = dask_client.persist(KangyurLoader(\"../../tibert_data/\").dataframe)"
   ]
  },
  {
   "cell_type": "code",
   "execution_count": 11,
   "metadata": {},
   "outputs": [
    {
     "data": {
      "text/html": [
       "<div><strong>Dask DataFrame Structure:</strong></div>\n",
       "<div>\n",
       "<style scoped>\n",
       "    .dataframe tbody tr th:only-of-type {\n",
       "        vertical-align: middle;\n",
       "    }\n",
       "\n",
       "    .dataframe tbody tr th {\n",
       "        vertical-align: top;\n",
       "    }\n",
       "\n",
       "    .dataframe thead th {\n",
       "        text-align: right;\n",
       "    }\n",
       "</style>\n",
       "<table border=\"1\" class=\"dataframe\">\n",
       "  <thead>\n",
       "    <tr style=\"text-align: right;\">\n",
       "      <th></th>\n",
       "      <th>filename</th>\n",
       "      <th>volume_number</th>\n",
       "      <th>location</th>\n",
       "      <th>text</th>\n",
       "    </tr>\n",
       "    <tr>\n",
       "      <th>npartitions=103</th>\n",
       "      <th></th>\n",
       "      <th></th>\n",
       "      <th></th>\n",
       "      <th></th>\n",
       "    </tr>\n",
       "  </thead>\n",
       "  <tbody>\n",
       "    <tr>\n",
       "      <th></th>\n",
       "      <td>object</td>\n",
       "      <td>int64</td>\n",
       "      <td>object</td>\n",
       "      <td>object</td>\n",
       "    </tr>\n",
       "    <tr>\n",
       "      <th></th>\n",
       "      <td>...</td>\n",
       "      <td>...</td>\n",
       "      <td>...</td>\n",
       "      <td>...</td>\n",
       "    </tr>\n",
       "    <tr>\n",
       "      <th>...</th>\n",
       "      <td>...</td>\n",
       "      <td>...</td>\n",
       "      <td>...</td>\n",
       "      <td>...</td>\n",
       "    </tr>\n",
       "    <tr>\n",
       "      <th></th>\n",
       "      <td>...</td>\n",
       "      <td>...</td>\n",
       "      <td>...</td>\n",
       "      <td>...</td>\n",
       "    </tr>\n",
       "    <tr>\n",
       "      <th></th>\n",
       "      <td>...</td>\n",
       "      <td>...</td>\n",
       "      <td>...</td>\n",
       "      <td>...</td>\n",
       "    </tr>\n",
       "  </tbody>\n",
       "</table>\n",
       "</div>\n",
       "<div>Dask Name: to_dataframe, 103 tasks</div>"
      ],
      "text/plain": [
       "Dask DataFrame Structure:\n",
       "                filename volume_number location    text\n",
       "npartitions=103                                        \n",
       "                  object         int64   object  object\n",
       "                     ...           ...      ...     ...\n",
       "...                  ...           ...      ...     ...\n",
       "                     ...           ...      ...     ...\n",
       "                     ...           ...      ...     ...\n",
       "Dask Name: to_dataframe, 103 tasks"
      ]
     },
     "execution_count": 11,
     "metadata": {},
     "output_type": "execute_result"
    }
   ],
   "source": [
    "kangyur_df"
   ]
  },
  {
   "cell_type": "code",
   "execution_count": 12,
   "metadata": {},
   "outputs": [
    {
     "data": {
      "text/html": [
       "<div>\n",
       "<style scoped>\n",
       "    .dataframe tbody tr th:only-of-type {\n",
       "        vertical-align: middle;\n",
       "    }\n",
       "\n",
       "    .dataframe tbody tr th {\n",
       "        vertical-align: top;\n",
       "    }\n",
       "\n",
       "    .dataframe thead th {\n",
       "        text-align: right;\n",
       "    }\n",
       "</style>\n",
       "<table border=\"1\" class=\"dataframe\">\n",
       "  <thead>\n",
       "    <tr style=\"text-align: right;\">\n",
       "      <th></th>\n",
       "      <th>filename</th>\n",
       "      <th>volume_number</th>\n",
       "      <th>location</th>\n",
       "      <th>text</th>\n",
       "    </tr>\n",
       "  </thead>\n",
       "  <tbody>\n",
       "    <tr>\n",
       "      <th>0</th>\n",
       "      <td>001_འདུལ་བ།_ཀ.txt</td>\n",
       "      <td>1</td>\n",
       "      <td>F.1.a</td>\n",
       "      <td></td>\n",
       "    </tr>\n",
       "    <tr>\n",
       "      <th>1</th>\n",
       "      <td>001_འདུལ་བ།_ཀ.txt</td>\n",
       "      <td>1</td>\n",
       "      <td>F.1.b</td>\n",
       "      <td>༄༅༅། །རྒྱ་གར་སྐད་དུ། བི་ན་ཡ་བསྟུ། བོད་སྐད་དུ། ...</td>\n",
       "    </tr>\n",
       "    <tr>\n",
       "      <th>2</th>\n",
       "      <td>001_འདུལ་བ།_ཀ.txt</td>\n",
       "      <td>1</td>\n",
       "      <td>F.2.a</td>\n",
       "      <td>རྩོད་པ་དང་། །དགེ་འདུན་དབྱེན་རྣམས་བསྡུས་པ་ཡིན། ...</td>\n",
       "    </tr>\n",
       "    <tr>\n",
       "      <th>3</th>\n",
       "      <td>001_འདུལ་བ།_ཀ.txt</td>\n",
       "      <td>1</td>\n",
       "      <td>F.2.b</td>\n",
       "      <td>ཡུལ་ཨང་ག་ཙམ་པ་མ་གཏོགས་པ་བཅོམ་ནས་ཕྱིར་ལྡོག་པར་བ...</td>\n",
       "    </tr>\n",
       "    <tr>\n",
       "      <th>4</th>\n",
       "      <td>001_འདུལ་བ།_ཀ.txt</td>\n",
       "      <td>1</td>\n",
       "      <td>F.3.a</td>\n",
       "      <td>པོ་འདི་ནི་གདུག་པ། ཕ་རོལ་གནོན་པ། དཔུང་དང་མཐུ་ཆེ...</td>\n",
       "    </tr>\n",
       "    <tr>\n",
       "      <th>5</th>\n",
       "      <td>001_འདུལ་བ།_ཀ.txt</td>\n",
       "      <td>1</td>\n",
       "      <td>F.3.b</td>\n",
       "      <td>ཁྱུད་མཐའ་ཡས་ཀྱི་བུ་བཙས་སོ། །ཀཽ་ཤཱམ་བཱིར་ནི་རྒྱ...</td>\n",
       "    </tr>\n",
       "    <tr>\n",
       "      <th>6</th>\n",
       "      <td>001_འདུལ་བ།_ཀ.txt</td>\n",
       "      <td>1</td>\n",
       "      <td>F.4.a</td>\n",
       "      <td>གི་བུ་འདིའི་མཐུ་ཡིན་ནོ་སྙམ་མོད་ཀྱི། དེ་ནི་དེ་ལ...</td>\n",
       "    </tr>\n",
       "    <tr>\n",
       "      <th>7</th>\n",
       "      <td>001_འདུལ་བ།_ཀ.txt</td>\n",
       "      <td>1</td>\n",
       "      <td>F.4.b</td>\n",
       "      <td>དང་། གཅད་པ་དང་། དྲལ་བ་དང་། དབུག་པ་དང་། གནས་ལྔ་...</td>\n",
       "    </tr>\n",
       "    <tr>\n",
       "      <th>8</th>\n",
       "      <td>001_འདུལ་བ།_ཀ.txt</td>\n",
       "      <td>1</td>\n",
       "      <td>F.5.a</td>\n",
       "      <td>ཡང་བསྡུ་བར་བརྩམས་ཏེ། དེ་དག་འོངས་ནས་ཕྱིར་ལྡོག་པ...</td>\n",
       "    </tr>\n",
       "    <tr>\n",
       "      <th>9</th>\n",
       "      <td>001_འདུལ་བ།_ཀ.txt</td>\n",
       "      <td>1</td>\n",
       "      <td>F.5.b</td>\n",
       "      <td>རྒྱལ་པོ་རྒྱལ་རིགས་སྤྱི་བོར་དབང་བསྐུར་བ་ལགས་ན། ...</td>\n",
       "    </tr>\n",
       "    <tr>\n",
       "      <th>10</th>\n",
       "      <td>001_འདུལ་བ།_ཀ.txt</td>\n",
       "      <td>1</td>\n",
       "      <td>F.6.a</td>\n",
       "      <td>ཀྱིས་ཀུན་ནས་ཡོངས་སུ་བསྲུང་བར་བྱའོ། །དེ་དག་གིས་...</td>\n",
       "    </tr>\n",
       "    <tr>\n",
       "      <th>11</th>\n",
       "      <td>001_འདུལ་བ།_ཀ.txt</td>\n",
       "      <td>1</td>\n",
       "      <td>F.6.b</td>\n",
       "      <td>ཨང་གའི་རྒྱལ་པོ་ཇི་ལྟར་བསད་པ་ཐོས་ནས་དེས་སྒོ་བཅད...</td>\n",
       "    </tr>\n",
       "    <tr>\n",
       "      <th>12</th>\n",
       "      <td>001_འདུལ་བ།_ཀ.txt</td>\n",
       "      <td>1</td>\n",
       "      <td>F.7.a</td>\n",
       "      <td>བ་དང་། ཕྱི་དགྲ་དང་། ནང་འཁྲུག་རབ་ཏུ་ཞི་བ། ཆོམ་ར...</td>\n",
       "    </tr>\n",
       "    <tr>\n",
       "      <th>13</th>\n",
       "      <td>001_འདུལ་བ།_ཀ.txt</td>\n",
       "      <td>1</td>\n",
       "      <td>F.7.b</td>\n",
       "      <td>བོ་ནི་ལྷོ་ཕྱོགས་ནས་སོ། །ཡང་གཞན་ཞིག་གིས་སྨྲས་པ།...</td>\n",
       "    </tr>\n",
       "    <tr>\n",
       "      <th>14</th>\n",
       "      <td>001_འདུལ་བ།_ཀ.txt</td>\n",
       "      <td>1</td>\n",
       "      <td>F.8.a</td>\n",
       "      <td>བསྔགས་པ་བརྗོད་པ་དང་། འདི་ལྟར་དེ་དག་ཐམས་ཅད་ཡུལ་...</td>\n",
       "    </tr>\n",
       "    <tr>\n",
       "      <th>15</th>\n",
       "      <td>001_འདུལ་བ།_ཀ.txt</td>\n",
       "      <td>1</td>\n",
       "      <td>F.8.b</td>\n",
       "      <td>འཕགས་པ་དང་། དེས་རྒོལ་བ་ཁ་ཅིག་ནི་ཚར་བཅད་དེ་རྒོལ...</td>\n",
       "    </tr>\n",
       "    <tr>\n",
       "      <th>16</th>\n",
       "      <td>001_འདུལ་བ།_ཀ.txt</td>\n",
       "      <td>1</td>\n",
       "      <td>F.9.a</td>\n",
       "      <td>ཚེ་སྤེལ་བ་བྱས་ཏེ་ཕྱོགས་གཅིག་ཏུ་འདུག་པ་དང་། བློ...</td>\n",
       "    </tr>\n",
       "    <tr>\n",
       "      <th>17</th>\n",
       "      <td>001_འདུལ་བ།_ཀ.txt</td>\n",
       "      <td>1</td>\n",
       "      <td>F.9.b</td>\n",
       "      <td>འདོད་ཅིང་རྒུད་པ་ལ་མ་དད་པ་ཡིན་པས་དེ་ལ་བྲམ་ཟེ་དུ...</td>\n",
       "    </tr>\n",
       "    <tr>\n",
       "      <th>18</th>\n",
       "      <td>001_འདུལ་བ།_ཀ.txt</td>\n",
       "      <td>1</td>\n",
       "      <td>F.10.a</td>\n",
       "      <td>བྱེད་པ། གཞན་གྱི་སྨྲ་བ་ཚར་གཅོད་པར་བྱེད་ནུས་པར་ག...</td>\n",
       "    </tr>\n",
       "    <tr>\n",
       "      <th>19</th>\n",
       "      <td>001_འདུལ་བ།_ཀ.txt</td>\n",
       "      <td>1</td>\n",
       "      <td>F.10.b</td>\n",
       "      <td>བྲམ་ཟེའི་ཁྱེའུ་རྣམས་ཀྱི་ཀུན་དུ་སྤྱོད་པ་ནི་འདི་...</td>\n",
       "    </tr>\n",
       "  </tbody>\n",
       "</table>\n",
       "</div>"
      ],
      "text/plain": [
       "             filename  volume_number location  \\\n",
       "0   001_འདུལ་བ།_ཀ.txt              1    F.1.a   \n",
       "1   001_འདུལ་བ།_ཀ.txt              1    F.1.b   \n",
       "2   001_འདུལ་བ།_ཀ.txt              1    F.2.a   \n",
       "3   001_འདུལ་བ།_ཀ.txt              1    F.2.b   \n",
       "4   001_འདུལ་བ།_ཀ.txt              1    F.3.a   \n",
       "5   001_འདུལ་བ།_ཀ.txt              1    F.3.b   \n",
       "6   001_འདུལ་བ།_ཀ.txt              1    F.4.a   \n",
       "7   001_འདུལ་བ།_ཀ.txt              1    F.4.b   \n",
       "8   001_འདུལ་བ།_ཀ.txt              1    F.5.a   \n",
       "9   001_འདུལ་བ།_ཀ.txt              1    F.5.b   \n",
       "10  001_འདུལ་བ།_ཀ.txt              1    F.6.a   \n",
       "11  001_འདུལ་བ།_ཀ.txt              1    F.6.b   \n",
       "12  001_འདུལ་བ།_ཀ.txt              1    F.7.a   \n",
       "13  001_འདུལ་བ།_ཀ.txt              1    F.7.b   \n",
       "14  001_འདུལ་བ།_ཀ.txt              1    F.8.a   \n",
       "15  001_འདུལ་བ།_ཀ.txt              1    F.8.b   \n",
       "16  001_འདུལ་བ།_ཀ.txt              1    F.9.a   \n",
       "17  001_འདུལ་བ།_ཀ.txt              1    F.9.b   \n",
       "18  001_འདུལ་བ།_ཀ.txt              1   F.10.a   \n",
       "19  001_འདུལ་བ།_ཀ.txt              1   F.10.b   \n",
       "\n",
       "                                                 text  \n",
       "0                                                      \n",
       "1   ༄༅༅། །རྒྱ་གར་སྐད་དུ། བི་ན་ཡ་བསྟུ། བོད་སྐད་དུ། ...  \n",
       "2   རྩོད་པ་དང་། །དགེ་འདུན་དབྱེན་རྣམས་བསྡུས་པ་ཡིན། ...  \n",
       "3   ཡུལ་ཨང་ག་ཙམ་པ་མ་གཏོགས་པ་བཅོམ་ནས་ཕྱིར་ལྡོག་པར་བ...  \n",
       "4   པོ་འདི་ནི་གདུག་པ། ཕ་རོལ་གནོན་པ། དཔུང་དང་མཐུ་ཆེ...  \n",
       "5   ཁྱུད་མཐའ་ཡས་ཀྱི་བུ་བཙས་སོ། །ཀཽ་ཤཱམ་བཱིར་ནི་རྒྱ...  \n",
       "6   གི་བུ་འདིའི་མཐུ་ཡིན་ནོ་སྙམ་མོད་ཀྱི། དེ་ནི་དེ་ལ...  \n",
       "7   དང་། གཅད་པ་དང་། དྲལ་བ་དང་། དབུག་པ་དང་། གནས་ལྔ་...  \n",
       "8   ཡང་བསྡུ་བར་བརྩམས་ཏེ། དེ་དག་འོངས་ནས་ཕྱིར་ལྡོག་པ...  \n",
       "9   རྒྱལ་པོ་རྒྱལ་རིགས་སྤྱི་བོར་དབང་བསྐུར་བ་ལགས་ན། ...  \n",
       "10  ཀྱིས་ཀུན་ནས་ཡོངས་སུ་བསྲུང་བར་བྱའོ། །དེ་དག་གིས་...  \n",
       "11  ཨང་གའི་རྒྱལ་པོ་ཇི་ལྟར་བསད་པ་ཐོས་ནས་དེས་སྒོ་བཅད...  \n",
       "12  བ་དང་། ཕྱི་དགྲ་དང་། ནང་འཁྲུག་རབ་ཏུ་ཞི་བ། ཆོམ་ར...  \n",
       "13  བོ་ནི་ལྷོ་ཕྱོགས་ནས་སོ། །ཡང་གཞན་ཞིག་གིས་སྨྲས་པ།...  \n",
       "14  བསྔགས་པ་བརྗོད་པ་དང་། འདི་ལྟར་དེ་དག་ཐམས་ཅད་ཡུལ་...  \n",
       "15  འཕགས་པ་དང་། དེས་རྒོལ་བ་ཁ་ཅིག་ནི་ཚར་བཅད་དེ་རྒོལ...  \n",
       "16  ཚེ་སྤེལ་བ་བྱས་ཏེ་ཕྱོགས་གཅིག་ཏུ་འདུག་པ་དང་། བློ...  \n",
       "17  འདོད་ཅིང་རྒུད་པ་ལ་མ་དད་པ་ཡིན་པས་དེ་ལ་བྲམ་ཟེ་དུ...  \n",
       "18  བྱེད་པ། གཞན་གྱི་སྨྲ་བ་ཚར་གཅོད་པར་བྱེད་ནུས་པར་ག...  \n",
       "19  བྲམ་ཟེའི་ཁྱེའུ་རྣམས་ཀྱི་ཀུན་དུ་སྤྱོད་པ་ནི་འདི་...  "
      ]
     },
     "execution_count": 12,
     "metadata": {},
     "output_type": "execute_result"
    }
   ],
   "source": [
    "kangyur_df.head(20)"
   ]
  },
  {
   "cell_type": "code",
   "execution_count": 13,
   "metadata": {},
   "outputs": [
    {
     "data": {
      "text/plain": [
       "481163"
      ]
     },
     "execution_count": 13,
     "metadata": {},
     "output_type": "execute_result"
    }
   ],
   "source": [
    "kangyur_df.text.map(len).max().compute()"
   ]
  },
  {
   "cell_type": "code",
   "execution_count": 14,
   "metadata": {},
   "outputs": [
    {
     "data": {
      "text/html": [
       "<div>\n",
       "<style scoped>\n",
       "    .dataframe tbody tr th:only-of-type {\n",
       "        vertical-align: middle;\n",
       "    }\n",
       "\n",
       "    .dataframe tbody tr th {\n",
       "        vertical-align: top;\n",
       "    }\n",
       "\n",
       "    .dataframe thead th {\n",
       "        text-align: right;\n",
       "    }\n",
       "</style>\n",
       "<table border=\"1\" class=\"dataframe\">\n",
       "  <thead>\n",
       "    <tr style=\"text-align: right;\">\n",
       "      <th></th>\n",
       "      <th>filename</th>\n",
       "      <th>volume_number</th>\n",
       "      <th>location</th>\n",
       "      <th>text</th>\n",
       "    </tr>\n",
       "  </thead>\n",
       "  <tbody>\n",
       "    <tr>\n",
       "      <th>0</th>\n",
       "      <td>103_དཀར་ཆག.txt</td>\n",
       "      <td>103</td>\n",
       "      <td>F.1.a</td>\n",
       "      <td>༄༅། །དཀར་ཆག་བཞུགས་སོ།། ༄༅། །བཔཱུརཱུཔཾམདྷྱེདྭིག...</td>\n",
       "    </tr>\n",
       "  </tbody>\n",
       "</table>\n",
       "</div>"
      ],
      "text/plain": [
       "         filename  volume_number location  \\\n",
       "0  103_དཀར་ཆག.txt            103    F.1.a   \n",
       "\n",
       "                                                text  \n",
       "0  ༄༅། །དཀར་ཆག་བཞུགས་སོ།། ༄༅། །བཔཱུརཱུཔཾམདྷྱེདྭིག...  "
      ]
     },
     "execution_count": 14,
     "metadata": {},
     "output_type": "execute_result"
    }
   ],
   "source": [
    "kangyur_df[kangyur_df.text.map(len) == 481163].compute()"
   ]
  },
  {
   "cell_type": "code",
   "execution_count": 15,
   "metadata": {},
   "outputs": [
    {
     "data": {
      "text/plain": [
       "<matplotlib.axes._subplots.AxesSubplot at 0x131cead1c08>"
      ]
     },
     "execution_count": 15,
     "metadata": {},
     "output_type": "execute_result"
    },
    {
     "data": {
      "image/png": "[encoded data removed]",
      "text/plain": [
       "<Figure size 432x288 with 1 Axes>"
      ]
     },
     "metadata": {},
     "output_type": "display_data"
    }
   ],
   "source": [
    "kangyur_df[kangyur_df.text.map(len) < 481163].text.map(len).compute().hist(bins=50)"
   ]
  },
  {
   "cell_type": "code",
   "execution_count": 16,
   "metadata": {},
   "outputs": [
    {
     "data": {
      "text/plain": [
       "set()"
      ]
     },
     "execution_count": 16,
     "metadata": {},
     "output_type": "execute_result"
    }
   ],
   "source": [
    "set(kangyur_df.volume_number.unique().compute().to_list()).symmetric_difference(set(range(1, 104)))"
   ]
  },
  {
   "cell_type": "markdown",
   "metadata": {},
   "source": [
    "## Split by folio - Tengyur"
   ]
  },
  {
   "cell_type": "code",
   "execution_count": 17,
   "metadata": {},
   "outputs": [],
   "source": [
    "tengyur_bag = TengyurLoader(\"../../tibert_data/\").to_bag(split_type=CorpusSplitType.BY_FOLIO)"
   ]
  },
  {
   "cell_type": "code",
   "execution_count": 18,
   "metadata": {},
   "outputs": [
    {
     "data": {
      "text/plain": [
       "128398"
      ]
     },
     "execution_count": 18,
     "metadata": {},
     "output_type": "execute_result"
    }
   ],
   "source": [
    "tengyur_bag.count().compute()"
   ]
  },
  {
   "cell_type": "code",
   "execution_count": 19,
   "metadata": {},
   "outputs": [
    {
     "data": {
      "text/plain": [
       "('༄༅༅། །རྒྱ་གར་སྐད་དུ། བི་ཤིཥྚ་སྟ་བཿ། བོད་སྐད་དུ། ཁྱད་པར་དུ་འཕགས་པའི་བསྟོད་པ། དེ་བཞིན་གཤེགས་པ་ཐམས་ཅད་ལ་ཕྱག་འཚལ་ལོ། །བདག་ནི་སྟོན་པ་གཞན་ སྤངས་ནས། །བཅོམ་ལྡན་ཁྱོད་ལ་སྐྱབས་མཆིས་པ། །དེ་ཅིའི་སླད་དུ་ཞེ་ན་ཁྱོད། །སྐྱོན་མི་མངའ་ལ་ཡོན་ཏན་ལྡན། །གང་ཕྱིར་འཇིག་རྟེན་སྐྱོན་ལ་དགའ། །ཡོན་ཏན་འཛིན་པར་ཞེན་པས་ན། །སྐྱོན་ ཡང་ཡོན་ཏན་ལྟར་མཐོང་ནས། །གཞན་ལ་སྐྱབས་སུ་མཆིས་པར་གྱུར། །ཁྱབ་འཇུག་དབང་ཕྱུག་ལ་སོགས་པ། །དེ་ལ་སྐྱེ་བོ་དགའ་དད་པས། །དེ་ཡི་ཡོན་ཏན་གང་བསྒྲགས་པ། །ཁྱོད་ཀྱི་བསྟན་ལ་དེ་ དག་སྐྱོན། །ལྷ་ཆེན་ཁྲོས་པའི་མདའ་གཅིག་གིས། །གྲོང་ཁྱེར་སུམ་བརྩེགས་བསྲེགས་ཞེས་གདའ། །ཁྱོད་ཀྱི་ཡེ་ཤེས་མདའ་ཆེན་གྱིས། །ཁྲོ་བའི་སེམས་ཉིད་ངེས་པར་བསྲེགས། །ལྷ་ཆེན་གྱིས་ནི་ འདོད་པ་དག །བསྲེགས་ཉེས་པས་ན་ཕྱིར་ཡང་དྲངས། །ཁྱོད་ཀྱི་ཡེ་ཤེས་ཞུགས་ཀྱིས་ནི། །འདོད་པ་རྩད་བཅད་བསྲེགས་ནས་བཏོན། །ལྷ་ཆེན་ཐིག་ལེའི་མཆོག་མ་ལ། །ཆགས་པ་སྐྱེས་པས་གདོང་',\n",
       " 'བཞི་བྱུང་། །བདུད་ཀྱི་བུ་མོ་སྒེག་མོ་ཡིས། །ཁྱོད་ཀྱི་བ་སྤུའི་རྩེ་མ་གཡོས། །ལྷ་ཆེན་ཕྱེད་ནི་ཆུང་མ་བས། །ངུར་པ་ཡིས་ཀྱང་ཐུབ་མ་ལགས། །ཁྱོད་ནི་བདེ་བར་བགྱིད་པ་ཡི། །འདོད་པ་ཉིད་ཀྱིས་རྨོངས་མ་ གྱུར། །འཁོར་ལོ་མདུང་ཐུང་ཅན་དག་གིས། །བདུད་སྟོབས་དེ་ལས་རྒྱལ་མི་ནུས། །ཁྱོད་ནི་འཁོར་ལོ་མདུང་མེད་པར། །བྱམས་པའི་མཚོན་གང་ལགས་པས་རྒྱལ། །རྒན་པོས་ཁྱབ་འཇུག་མདའ་ཡིས་བསྣུན། །ལྷ་ཆེན་ མགྲིན་པ་སྔོ་གྱུར་པས། །ལྷ་འདི་གཉིས་ལ་གནོད་བགྱིད་མཆིས། །མགོན་ཁྱོད་གནོད་བགྱིད་བྲལ་བ་ལགས། །ཁྱབ་འཇུག་མི་ཐུང་གཟུགས་བསྒྱུར་ནས། །གཡོ་ཐབས་ཀྱིས་ནི་སྟོབས་ལྡན་བསླུས། །ཁྱོད་ནི་གཡོ་ཡང་མཁྱེན་གྱུར་ ལ། །གཞན་དག་ལ་ཡང་སླུ་མི་མཛད། །མགོན་ཁྱོད་རྫུ་འཕྲུལ་ཙམ་བླང་གི། །རྨད་བྱུང་གང་གིས་མཐོང་བ་དེས། །ཁྱབ་འཇུག་འཇིག་རྟེན་གསུམ་བརྒལ་བ། །འཕྱེ་བོ་མཆི་བ་བཞིན་དུ་མཐོང་། །གཞོན་ནུ་ཚངས་པར་སྤྱོད་པ་ན། ། དྲུག་ལྡན་མ་དང་ལྷན་ཅིག་སྤྱོད། །ཁྱོད་ཀྱིས་འཁྲིག་པའི་སྦྱོར་བ་བདུན། །ཐལ་བ་བཞིན་དུ་བགྱིས་པར་གྱུར། །ཚངས་སོགས་འཇིག་རྟེན་འབྱིན་པ་པོ། །བདག་གཅིག་ཡིན་པར་སྨྲ་ཞེས་གྲག །དེ་ཉིད་གཟིགས་ཁྱོད་འཇིག་རྟེན་དང་། །',\n",
       " 'དེ་ཡང་ལས་ལས་སྐྱེས་ཞེས་བསྟན། །བརྒྱ་བྱིན་གྱིས་ནི་བཤོལ་མེད་མ། །མཐོང་ནས་འདོད་པས་རྨོངས་ཞེས་གྲག །དཔའ་ཁྱོད་འདོད་པ་ཉིད་ཀྱིས་ནི། །མ་རྨོངས་སླད་དུ་བཙུན་མོ་བཏང་། །སྒྲ་གཅན་ལག་པས་ཟླ་བ་ཡང་། །དབང་མེད་པར་ནི་མིད་པ་ལགས། །མངའ་བརྙེས་ཁྱོད་ལ་སེམས་ཅན་ གང་། །དབང་མེད་བགྱིད་པ་དེ་མ་མཆིས། །མི་དབང་དགའ་བྱེད་གོས་སྲེད་སོགས། །ནགས་ཚལ་ནས་ནི་ཕྱིར་ཡང་མཆིས། །བདེ་བར་གཤེགས་ཁྱོད་དབེན་པ་ཡི། །བདུད་རྩིས་ངོམས་ལས་ཕྱིར་མི་བྱོན། །མཆོད་སྦྱིན་ལ་ནི་ཕྱུགས་འགུམས་པར། །དྲང་སྲོང་རྣམས་ནི་སྨྲ་ཞེས་གྲག །སྡིག་མེད་ ཁྱོད་ཀྱིས་གྲོག་མ་ལའང་། །གནོད་པ་བགྱིད་པར་རྗེས་མ་གནང་། །གཞན་དག་རང་དོན་མཆོད་སྦྱིན་ལ། །གཞན་གྱི་སྲོག་གི་སྦྱིན་སྲེག་བྱེད། །གཞན་གྱི་དོན་དུ་ཁྱོད་གཅིག་པུ། །རང་གི་སྲོག་གིས་སྦྱིན་སྲེག་མཛད། །དྲང་སྲོང་དམོད་མེ་མི་བཟད་པས། །སྐྱེ་བོ་མང་པོ་བསྲེགས་པར་འགྱུར། ། ཁྱོད་ཀྱིས་ཡེ་ཤེས་མེ་ཡིས་ནི། །སྐྱེ་བོ་རྣམས་ཀྱི་སྐྱེ་རྒྱུ་བསྲེགས། །རྒྱས་པ་དྲན་པའི་མཐུ་ཆུང་བས། །མང་པོ་བགྱིས་པའི་ཚིག་དག་ནི། །ལྟག་འོག་འགལ་བར་གྱུར་ཅེས་ཐོས། །ཐུབ་པ་ཁྱོད་ཀྱི་ཀུན་ཀྱང་མིན། །དྲང་སྲོང་དམོད་པ་གྲུབ་པ་ལས། །དཀའ་ཐུབ་གྲུབ་པར་རྗེས་སུ་དཔག ། མགོན་ཁྱོད་ཐུགས་རྗེ་གྲུབ་པ་ལས། །དཀའ་ཐུབ་གྲུབ་པར་རྗེས་སུ་དཔག །ལྷ་ཆེན་འདོད་པ་ཅན་གྱི་མཚན། །དྲང་སྲོང་རྣམས་ཀྱི་དམོད་པས་ལྷུང་། །ཁྱོད་ཀྱིས་ཕུང་ཁྲོལ་མཐའ་དག་གི། །རྩ་བ་འདོད་པ་ཉིད་ལྷུང་བགྱིས། །གླིང་ལས་སྐྱེས་སོགས་ཕལ་ཆེར་ནི། །གཞན་གྱིས་གང་སྨྲས་སྨྲ་བར་བགྱིད། ། ཁྱོད་ཀྱིས་ཐུན་མོང་མ་ཡིན་ཆོས། །རང་གིས་ཐུགས་སུ་ཆུད་ནས་བསྟན། །མུ་སྟེགས་ཅན་གྱི་རིག་བྱེད་ཚིག །དབེན་པ་ཁོ་ནར་སྨྲ་བར་བགྱིད། །ཁྱོད་ཀྱིས་བསྒྲགས་ནས་སེང་གེ་ཡི། །སྒྲ་ཡིས་ཆོས་དག་སྟོན་པར་མཛད། །གྲངས་ཅན་བྷ་ར་དྭ་ཛ་ནི། །དེ་ཉིད་མཐོང་ཡང་དཔྱིད་ལྡན་ལ། །ཡོངས་སུ་ ཆགས་ཀྱི་གཙོ་ཁྱོད་ཀྱི། །སློབ་མའང་བུད་མེད་ཉིད་མ་ཆགས། །འུག་པ་པས་ནི་དམན་པ་ལས། །ཁྱད་པར་ཅན་ལ་སྦྱིན་ཞེས་བསྟན། །མགོན་པོ་ཁྱོད་ནི་ཐུགས་རྗེ་ཡིས། །ཁྱི་ལའང་སྦྱིན་པར་བྱ་ཞེས་གསུངས། །ལུས་ཀྱི་དཀའ་ཐུབ་བགྱིས་པ་ཡིས། །མདུད་པ་འཇིག་པར་གཅེར་བུས་འཚལ། །',\n",
       " 'ཁྱོད་ནི་ཐུགས་ཀྱི་དཀའ་ཐུབ་ཀྱིས། །མདུད་པ་འཇིག་པར་བཞེད་པ་ལགས། །རྟོག་གེ་པ་དག་དངོས་པོ་རྣམས། །ལྟོས་པ་མེད་པར་གྲུབ་པར་འཚལ། །ཚིག་དབང་ཁྱོད་ཀྱིས་ཅུང་ཟད་ཀྱང་། །མི་ལྟོས་མེད་ཅེས་ལེགས་པར་གསུངས། །ནེ་ཙོས་ཉི་མ་བརྟོལ་ནས་ནི། །ཐར་པ་ མཆིས་པར་བཤད་ཅེས་གྲག །ཁྱོད་ནི་མྱ་ངན་འདས་བརྙེས་ལ། །གང་དུ་ཡང་ནི་གཤེགས་མ་མཆིས། །ཐར་པ་རྒྱུད་གཞན་སྐྱེད་པ་དང་། །ནེ་ཙོས་ལམ་གཞན་སོང་བར་གྱུར། །ཁྱོད་ཉིད་ལམ་གང་ནས་གཤེགས་པ། །དེ་ཉིད་ནས་ནི་སློབ་མའང་མཆི། །ཁྱབ་འཇུག་དག་གིས་བུད་མེད་ནི། ། སྟོང་ཕྲག་དྲུག་ཅུ་ཡོངས་བཟུང་གྱུར། །སྟོན་པ་འཇིག་རྟེན་འདས་ཁྱོད་ལ། །བདག་གི་མེད་ཅིང་ཡོངས་འཛིན་མེད། །ཀ་ཤི་མཛེས་དགའ་མོ་ལ་ནི། །རྒྱས་པ་ཡོངས་ཆགས་རྣམ་པར་འགྱུར། །ཁྱོད་ཁབ་བཞུགས་ནའང་ཕུང་ཁྲོལ་བའི། །གདོན་གྱིས་དབང་པོ་རྨོངས་མ་གྱུར། །རྒྱས་པ་འདོད་གདུངས་ གཡེན་སྤྱོ་བས། །བུད་མེད་ཀྱི་ནི་རྡོག་པས་བསྣུན། །ཁྱོད་ནི་ཁྱིམ་པར་བཞུགས་ན་ཡང་། །ཕྱིར་ཞིང་འཁྲུག་པར་འགྱུར་བ་མེད། །དགའ་བྱེད་ཆུང་མའི་དོན་གྱི་ཕྱིར། །རྒྱ་མཚོའི་ཕ་རོལ་སོན་ཅེས་གྲག །ཁྱོད་ཀྱིས་བུད་མེད་སྟོང་ཕྲག་ནི། །བརྒྱད་ཅུ་སྤངས་ནས་ནགས་སུ་གཤེགས། །རྣ་ཅན་ འཐབ་དཀའ་ལ་སོགས་ལ། །ཁྱབ་འཇུག་གིས་ནི་གནོད་པ་བརྩམས། །སེམས་ཅན་རྣམས་ལ་ཕན་བཞེད་པ། །ཁྱོད་ཀྱིས་སྲོག་ཀྱང་བཏང་བ་མཛད། །ཁྱབ་འཇུག་གིས་ནི་སྒྱུ་བྱས་ནས། །གོམ་གསུམ་གྱིས་ཕྲོགས་གང་ཡིན་པའི། །ས་དེ་ངེས་པར་ཐར་བཞེད་པ། །ཁྱོད་ཀྱིས་རྩ་བཞིན་ བཏང་བར་གྱུར། །དགའ་བྱེད་སྲོག་གཅོད་བྱེད་པའི་མདས། །འཇིག་རྟེན་རྒྱལ་རིགས་མེད་བྱས་ནས། །གྲགས་པ་ཐོབ་པ་གང་ཡིན་དེ། །ཁྱོད་ཀྱི་བསྟན་ལ་གྲགས་པ་མིན། །སྒྲ་ངན་དང་ནི་སྐྱ་བསེང་དག །གང་གི་ཕྱིར་ནི་གཡུལ་བཀྱེ་བའི། །དཔལ་དེ་ཁྱོད་ཀྱིས་འཁྲི་ཤིང་ནི། །གདུག་པ་ བཞིན་དུ་སྤངས་ནས་གཤེགས། །ཁྱོད་ཀྱི་བསྟན་པ་རྙེད་པ་ན། །ཐང་ཤིང་ནགས་ན་ལྷ་ཆེན་པོ། །རྣལ་འབྱོར་དབང་ཕྱུག་སྤྱོད་པ་པོ། །དེ་ནི་མི་ཤེས་སྤྱོད་པར་བས། །དབང་པོ་གཤོལ་མེད་བྱི་བོ་ཞེས། །བྲམ་ཟེ་ད་དུང་བར་དུ་སྒྲོགས། །ཁྱོད་ཀྱིས་འབྲས་བུ་མཆོག་བརྙེས་པའི། །གྲགས་',\n",
       " 'པ་བརྒྱ་བྱིན་སྒྲོགས་པར་གྱུར། །ཁྱབ་འཇུག་དག་ནི་ནག་བཀྲ་བོས། །བྲེད་འཐོམས་གྱུར་ནས་ཀུན་གཏོང་གི། །ཁྲི་ཡི་འོག་ཏུ་ཞུགས་པར་གྱུར། །གཙོ་ཁྱོད་ཀུན་དུ་བསྙེངས་མི་མངའ། །སྐྱེ་དགུའི་བདག་པོ་རང་ཉིད་ཀྱི། །བུ་མོ་དང་ནི་འཁྲིག་ཅེས་ཐོས། །ཐུབ་པ་ཁྱོད་ཀྱི་སློབ་མ་ཡང་། ། ཚངས་པར་སྤྱོད་པ་སྐྱོན་མ་མཆིས། །བྲམ་ཟེ་རྣམས་ནི་དགེ་སྡིག་དག །སྦྱིན་པ་ལེན་ཅིང་འཕོ་བར་སྨྲ། །ཁྱོད་ཀྱིས་བྱས་པ་ཆུད་མི་ཟ། །མ་བྱས་པ་དང་ཕྲད་མེད་གསུངས། །སེར་སྐྱས་བདག་གི་མཚན་ཉིད་ནི། །ཤེས་དང་ལྡན་པ་རབ་ཏུ་བརྟགས། །ཁྱོད་ཀྱིས་དེ་ལྟར་ཡིན་ན་བདག །མི་རྟག་ ཉིད་དང་ལྡན་ཞེས་བསྟན། །གཟེགས་ཟན་གྱིས་ནི་ཤེས་ལས་བདག །གཞན་དང་ཁྱད་པར་ཡོངས་སུ་བརྗོད། །ཁྱོད་ཀྱིས་དེ་ནི་ཤེས་མེད་ན། །ཤིང་དང་འདྲ་བར་ཐལ་འགྱུར་གསུངས། །གཅེར་བུས་ལུས་ཀྱི་ཚད་བཞིན་དུ། །སྲོག་ནི་ཞུམ་དང་རྒྱས་པར་སྨྲ། །ཁྱོད་ཀྱིས་དེ་ནི་ཕྱོགས་ གཅིག་ན། །རྣམ་པར་འཇིག་པར་འགྱུར་ཞེས་གསུངས། །བྲམ་ཟེས་འགྲོ་བ་རྣམས་ཀྱི་རྒྱུ། །སྐྱེས་བུ་རྟག་པ་ཡིན་ཞེས་བསྟན། །ཁྱོད་ཀྱིས་རྟག་པ་ཞེས་བྱ་བའི། །རྒྱུ་ནི་ཅི་ཡང་མེད་ཅེས་གསུངས། །བདག་ཉིད་ཆེན་པོ་དུག་ཅན་པའི། །སྲས་པོ་སྟོང་ཕྲག་དྲུག་ཅུ་དག །སེར་སྐྱས་བལྟས་ པ་ཙམ་གྱིས་བསྲེགས། །དེ་ལའང་ཁྱོད་ནི་ཐུགས་རྗེ་མཛད། །སེར་སྐྱ་དེ་ཉིད་རིག་པས་ནི། །གཙོ་ལས་འགྲོ་བ་སྐྱེ་བར་བཤད། །ཁྱོད་ཀྱི་འགྲོ་བའི་སྐྱེ་བ་ནི། །ཉོན་མོངས་ལས་ལས་བྱུང་བར་བསྒྲགས། །སེར་སྐྱ་ལ་སོགས་ཐར་པ་ཡི། །བདག་ནི་སྲིད་པའི་རྒྱུ་ཞེས་ཟེར། །ཁྱོད་ནི་ཞི་ བར་གཤེགས་གྱུར་ནས། །ཞུགས་གུམ་ལྟ་བུར་བགྲང་དུ་མེད། །མུ་སྟེགས་བྱེད་པ་ཁ་ཅིག་ནི། །ཐར་པ་འགྲོ་དང་ལྡན་ཞེས་སྨྲ། །གང་ལ་འགྲོ་ཡོད་དེ་འཁོར་བ། །ཁྱོད་ཀྱིས་ཐུགས་སུ་ཆུད་ནས་བསྟན། །གཅེར་བུས་ཀུན་དགའ་ར་བ་སོགས། །རྩིག་པ་སྡིག་པའི་རྒྱུ་ཞེས་ཟེར། །ཐམས་ ཅད་མཁྱེན་པ་ཁྱོད་ཉིད་ནི། །དེ་ཉིད་བསོད་ནམས་རྒྱུ་ཞེས་གསུངས། །ལུས་ལས་ལུས་གཞན་དག་ཏུ་ནི། །ཕྲ་བའི་སྲོག་ནི་འཕོ་ཞེས་གྲག །ཁྱོད་ཀྱི་ལུས་ལས་གཞན་གྱུར་པའི། །སྲོག་ནི་ཡོད་པ་མིན་ཞེས་གསུངས། །ཁྲོས་པས་གཡུལ་ངོར་བསད་ན་ནི། །བདེ་འགྲོར་འགྱུར་ཞེས་རྒྱས་',\n",
       " 'པ་ཟེར། །མགོན་པོ་ཁྱོད་ཀྱིས་གནས་སྐབས་དེའི། །སེམས་ནི་ངན་འགྲོ་ཡིན་ཞེས་གསུངས། །སྐྱ་བསེང་བུ་ནི་བརྗོད་བྱས་ན། །བསོད་ནམས་འགྱུར་ཞེས་སོ་སོར་སྨྲ། །གང་ཞིག་བགྲོད་མིན་བགྲོད་བྱེད་པ། །དེ་དག་ཁྱོད་ཀྱི་བསྟན་ལ་སྨད། །སྐེམ་བྱེད་དབང་པོ་ཉེ་དབང་ པོ། །དྲག་པོ་ལ་སོགས་འཇིགས་པ་དང་། །བསྡིགས་ཕྱིར་མཚོན་ཆ་རྟག་ཏུ་ཐོགས། །ཁྱོད་བསྙེངས་བྲལ་ཞིང་བསྡིགས་མི་མཛད། །ཁྱོད་ནི་སུས་ཀྱང་མི་བསྙེངས་ལ། །སུ་ལའང་བསྡིགས་པར་མི་མཛད་པས། །ཁྱོད་ཉིད་གཅིག་པུ་མཚོན་མི་བསྣམས། །དེས་ན་འགྲོ་བ་རྣམས་ལས་ འཕགས། །སྨྲ་པོ་ཉོན་མོངས་བཅས་པའི་ཚིག །རིག་བྱེད་ལ་སོགས་ཚིག་དག་ནི། །ཕལ་ཆེར་ལྟག་འོག་འགལ་བ་ལགས། །ཁྱོད་ཀྱི་ཐམས་ཅད་མཁྱེན་པའི་གསུང་། །གཞན་གྱི་བསྟན་བཅོས་གཞན་དག་ནི། །ཕལ་ཆེར་སྔ་ཕྱི་འགལ་བ་ལས། །ཁྱོད་ཉིད་ཀྱི་ནི་གཞུང་ལུགས་དག ། ཐོག་མ་བར་མཐར་སྐྱོན་མ་མཆིས། །ཆོས་འདོད་པ་དག་དམངས་རིགས་ལ། །བློ་གྲོས་སྦྱིན་པར་བྱ་མིན་ཟེར། །ཁྱོད་ནི་གདོལ་པ་རྣམས་ལ་ཡང་། །ཐུགས་རྗེས་དམ་ཆོས་སྟོན་པར་མཛད། །ལྗོན་ཤིང་བཟང་པོ་རྣམས་སྤངས་ནས། །ངན་པ་ལ་ནི་སུ་ཞིག་བརྟེན། །འདོད་ཆགས་ བྲལ་བརྙེས་ཁྱོད་བཞུགས་ན། །མཁས་པ་སུ་ཞིག་སྟོན་གཞན་འདུད། །སེར་སྐྱས་ཡུལ་རྣམས་ལ་སྤྱད་བཞིན། །ཡེ་ཤེས་འགྱུར་མཆི་སྡིག་བྲལ་བ། །ཁྱོད་ཀྱིས་ཀུན་ནས་ཉོན་མོངས་ལ། །ཐར་པ་ག་ལ་ཡོད་ཅེས་གསུངས། །བསོད་ནམས་བྱས་པའི་ཚོགས་དག་ནི། །སེམས་ ཅན་རྣམས་ལ་ཡོངས་བསྔོ་བར། །བཅོམ་ལྡན་ཁྱོད་ཀྱིས་གང་གསུངས་པ། །དེ་གཞན་བསྟན་བཅོས་ལས་མ་བཤད། །ལྷ་རྟེན་དང་ནི་མཆོད་སྦྱིན་ལ། །སེམས་ཅན་གསོད་པར་བྱེད་པ་གང་། །འཇིག་རྟེན་པ་ནི་ཆོས་སུ་འཚལ། །ཁྱོད་ཀྱི་བསྟན་ལ་དེ་དག་སྨད། །གང་ཞིག་སྲོག་ ཆགས་ལ་རྟག་གནོད། །དེ་ལ་ཆོས་ཉིད་ག་ལ་ཡོད། །གཙོ་བོ་ཁྱོད་ཀྱིས་རང་ཉིད་ཀྱི། །སྲོག་གིས་སེམས་ཅན་ལེགས་པར་བསྲུངས། །ཤཱཀྱའི་རྒྱལ་རིགས་འཁྲུངས་ཁྱོད་ཀྱིས། །གང་ཞིག་བདེན་དང་མི་སླུ་དང་། །ཚངས་པར་སྤྱོད་དང་དུལ་བ་དང་། །བརྩེར་ལྡན་དམ་ཆོས་ལགས་པར་',\n",
       " 'དགོངས། །རིག་བྱེད་མཐའ་ལ་འབྱམས་པས་ཀྱང་། །གཡུལ་ངོར་དགྲ་མངོན་འོངས་བསད་ཅེས། །འཇིག་རྟེན་སྨྲ་ཡི་ཁྱོད་ཀྱིས་ནི། །དགྲ་ལའང་སྙིང་རྗེ་བྱ་ཞེས་གསུངས། །གཞོན་ནུས་རང་གི་ཞང་པོ་ལ། །མདུང་གིས་བསྣུན་ཞེས་བཀའ་མཆིད་གདའ། །དཔའ་བོ་ཁྱོད་ཀྱིས་ཉོན་མོངས་ པའི། །དྲ་བ་ཤེས་རབ་མཚོན་གྱིས་དྲལ། །ཁྱབ་འཇུག་གིས་ནི་རང་ཉིད་ཀྱི། །སླས་ཀྱང་ཡོངས་སུ་བསྐྱབ་མ་ནུས། །གཙོ་བོ་ཁྱོད་ཀྱིས་སེམས་ཅན་ཀུན། །བསྐྱབ་པའི་སླད་དུ་བརྩོན་པ་ལགས། །རྒན་པོས་སྦྱར་བའི་འཇིགས་ཤེས་ནས། །ཁྱབ་འཇུག་གིས་ནི་བཅོམ་བརླག་བཏང་། ། ཐུབ་པ་ཁྱོད་ལ་བསྙིངས་བགྱིད་གང་། །སེམས་ཅན་དེ་ནི་འགའ་མ་མཆིས། །ཁྱབ་འཇུག་གིས་ནི་གཉེན་འདུན་དག །ལེ་ལན་གྱིས་ནི་གཏུགས་པར་གྱུར། །ཁྱོད་ཀྱི་གཉེན་འདུན་ཐམས་ཅད་ནི། །འཁོར་བ་ལས་ནི་རྣམ་པར་སྒྲོལ། །མུ་སྟེགས་ཅན་གྱི་གཞུང་ལུགས་ལ། །ཇི་ལྟ་ཇི་ལྟར་ རྣམ་བསམས་པ། །དེ་ལྟ་དེ་ལྟར་མགོན་ཁྱོད་ལ། །བདག་གི་སེམས་ནི་དད་པར་གྱུར། །དེ་ལྟར་ཐམས་ཅད་མཁྱེན་མིན་པའི། །གྲུབ་མཐའི་སྐྱོན་གྱི་བརླག་སེམས་ལྡན། །བསམ་བརླག་རྣམས་ཀྱིས་སྐྱོན་མེད་པའི། །སྟོན་པ་ཁྱོད་ཀྱང་མི་མཐོང་ངོ་། །འཇིག་རྟེན་ལྷ་དང་བྲམ་ ཟེ་དང་། །རིག་བྱེད་ཤཱཀྱ་འདི་དག་ཅེས། །སྡང་བར་སྨྲ་བ་རང་སྐྱོན་ཉིད། །ཅི་ཕྱིར་སེམས་པར་བྱེད་ཅེ་ན། །གང་སླད་ཁྱོད་ཀྱི་བསྟན་པ་ནི། །བདེ་བས་བདེ་ཉིད་ཐོབ་བགྱིད་པ། །དེ་སླད་སྨྲ་བའི་སེང་ཁྱོད་ཀྱི། །གཞུང་ལུགས་ལ་ནི་འགྲོ་འདི་དགའ། །ཁྱོད་ཀྱི་ཡོན་ཏན་ཡང་དག་པ། ། རྣམ་པ་འདི་ལྟར་རབ་བརྗོད་པས། །བདག་གིས་བསོད་ནམས་གང་ཐོབ་དེས། །འགྲོ་བའི་འཇིག་རྟེན་ཁྱོད་འདྲར་ཤོག །མགོན་པོ་ཁྱད་པར་འཕགས་བསྟོད་པ། །བཏོན་པས་བདག་གིས་དགེ་བསགས་པ། །གང་ཡིན་དེས་ནི་འགྲོ་བ་ཀུན། །བྱང་ཆུབ་ལམ་ལ་གཞོལ་གྱུར་ཅིག ། ཁྱད་པར་དུ་འཕགས་པའི་བསྟོད་པ་སློབ་དཔོན་མཐོ་བཙུན་གྲུབ་རྗེས་མཛད་པ་རྫོགས་སོ།། །།རྒྱ་གར་གྱི་མཁན་པོ་སརྦ་ཛྙཱ་དེ་ཝ་དང་། ཞུ་ཆེན་གྱི་ལོ་ཙཱ་བ་བན་དེ་རིན་ཆེན་མཆོག་གིས་བསྒྱུར། སླད་ཀྱིས་བན་དེ་དཔལ་བརྩེགས་རཀྵི་ཏས་བསྒྱུར་ཅིང་ཞུས་ཏེ་གཏན་ལ་ཕབ་པའོ།། །།',\n",
       " '༄༅༅། །རྒྱ་གར་སྐད་དུ། བི་ཤེ་ཥ་སྟ་བ་ནཱ་མ་ཊཱི་ཀཱ། བོད་སྐད་དུ། ཁྱད་པར་དུ་འཕགས་པའི་བསྟོད་པའི་རྒྱ་ཆེར་བཤད་པ། བཅོམ་ལྡན་འདས་འཇམ་དཔལ་གཞོན་ནུར་གྱུར་པ་ལ་ཕྱག་འཚལ་ལོ། །ཁྱད་པར་ཕུལ་དུ་བྱུང་ལྡན་ཞིང་། །ལྷ་རྣམས་ཀྱིས་མཆོད་སངས་རྒྱས་ ལ། །ཕྱག་འཚལ་ཁྱད་པར་འཕགས་བསྟོད་པ། །དོན་ལས་ཚུལ་བཞིན་བཤད་པར་བྱ། །མཐོ་བཙུན་གྲུབ་རྗེ་ཞེས་བྱ་བའི་བྲམ་ཟེ་རིག་བྱེད་བཞི་ལ་མཁས་པ། བྲམ་ཟེ་རྣམས་ཀྱིས་གཙོ་བོར་བཀུར་བ་ཞིག་ཡོད་པ་དང་། དེ་བཅོམ་ལྡན་འདས་ཀྱི་བསྟན་པ་ལ་དད་པ་ཐོབ་ནས། སངས་རྒྱས་ བཅོམ་ལྡན་འདས་ལ་བརྩམས་ཏེ་བསྟོད་པ་འདི་བྱས་པར་གྱུར་པ་ཡིན་ནོ། །དེ་ཡང་འདི་ལྟར་རྗེས་སུ་ཐོས་ཏེ། ཡུལ་ཤར་ཕྱོགས་ན་ཁྱད་པར་ཅན་གྱི་བྲམ་ཟེ་ལས་དྲུག་ལ་མངོན་པར་དགའ་བའི་བྲམ་ཟེའི་རིགས་སུ་བྱུང་བ། སྔོན་ལེགས་པར་སྤྱད་པ་ཉེ་བར་བརྩམས་པ་ལས་མཐོ་བཙུན་གྲུབ་རྗེ་ ཞེས་བྱ་བ་དང་། བདེ་བྱེད་བདག་པོ་ཞེས་བྱ་བ་སྤུན་གཉིས་སུ་སྐྱེས་པར་གྱུར་ཏོ། །དེ་དག་ཀྱང་བསྟན་བཅོས་ཐམས་ཅད་རྟོགས་པར་གྱུར་པ་དང་། དེའི་ཚེ་དེ་གཉིས་འདི་སྙམ་དུ་སེམས་པར་གྱུར་ཏེ། འདི་ལྟར་བདག་ཅག་གི་ཁྱིམ་ན་ནི་དབང་ཕྱུག་ཆེན་པོ་མཆོད་ལ། སངས་རྒྱས་བཅོམ་ལྡན་ འདས་ཀྱི་གསུང་རབ་ནི་ཤིན་ཏུ་ཕུལ་དུ་བྱུང་བར་སྣང་ན། དེས་ན་ཡུ་བུ་ཅག་གིས་ཅི་དབང་ཕྱུག་ཆེན་པོ་ཁྱད་པར་དུ་འཕགས་པ་ཡིན་ནམ། འོན་ཏེ་སངས་རྒྱས་བཅོམ་ལྡན་འདས་ཁྱད་པར་དུ་འཕགས་པ་ངེས་པར་བརྟག་པར་བྱའོ་སྙམ་པ་དང་། དེ་གཉིས་ཀྱིས་ཐོས་པ། རི་བོ་ཏི་སེ་ན་དབང་ ཕྱུག་ཆེན་པོ་ཨུ་མ་དང་ཁྱུ་མཆོག་དང་བཅས་པར་མངོན་སུམ་དུ་གནས་སོ་ཞེས་ཐོས་ཀྱིས། དེར་སོང་ལ་དབང་ཕྱུག་ཆེན་པོས་ཡུ་བུ་ཅག་ལ་ཇི་ལྟར་བསྟན་པ་དེ་ལྟར་བྱའོ་ཞེས་ངེས་པ་བསྐྱེད་ནས། དེར་མྱུར་བར་སོང་སྟེ་འབད་པ་ཆེན་པོ་དང་ལྷ་དག་གིས་གྲོགས་བྱས་ཏེ། རི་བོ་ཏི་སེའི་ས་ མཉམ་པར་སོང་བ་དང་། ལྷ་ཆེན་པོའི་ཁྱུ་མཆོག་སྤྲིན་དཀར་པོའི་དུམ་བུ་ལྟ་བུ་གཟས་ལ་ཡན་པ་མཐོང་ངོ་། །དེ་མཐོང་བས་རབ་ཏུ་དགའ་བ་དང་། དེའི་རྗེས་ཐོགས་ཉིད་ལ་ལྷ་མོ་ཨུ་མ་འབྲས་བུའི་ཤིང་གི་ཚང་ཚིང་གི་ནགས་ན་འབྲས་བུ་ཐུ་བ་མཐོང་ནས། གུས་པ་དང་བཅས་པས་ཕྱག་',\n",
       " 'བྱས་ཏེ། དེ་དག་གིས་མེ་ཏོག་རྒྱས་པའི་ནགས་ཚལ་གྱི་གནས་ན་ཡུ་བུ་ཅག་གི་རྗེ་བོ་གནས་སོ་ཞེས་གཏམ་ཐོས་པ་དང་། དེ་དག་ཡིད་ལ་རབ་ཏུ་དགའ་བ་ཐོབ་པས་མེ་ཏོག་སིལ་མ་གཏོར་བས་ཉེ་བར་མཛེས་པའི་སའི་ཆར་སོང་བ་དང་། ལྷ་ཆེན་པོ་འབྱོར་བ་ཆེན་པོ་དང་ལྡན་པའི་སྟན་ལ་འདུག་ ཅིང་། འཁོར་གྱི་ཚོགས་སྟོང་གིས་བསྐོར་བ་མཐོང་ངོ་། །མཐོང་བའི་རྗེས་ཐོགས་ཉིད་ལ་ཚོགས་ཀྱི་བདག་པོས་ལག་པ་ནས་བཟུང་སྟེ། དེའི་ཐད་དུ་ཁྱེར་ནས་གུས་པ་དང་བཅས་པས་ཕྱག་བྱས་པ་དང་། དེ་དག་ལ་སྨྲས་པ། ཁྱེད་ཅག་ག་ལས་འོངས་ཞེས་དེ་དག་ལ་དྲིས་པ་དང་། དེ་གཉིས་ ཀྱིས་ཇི་ལྟར་གྱུར་པ་རྒྱས་པར་སྨྲས་སོ། །དེ་ནས་ཇི་ཙམ་ན་དགེ་སློང་རྣམས་ཀྱི་ཟས་ཀྱི་དུས་ལ་བབ་པ་དང་ཉེ་བར་གྱུར་པ་ན། ནམ་མཁའ་ལས་སྲིན་བུ་ལྷམ་བུ་ཆུ་གཤེར་གྱི་མདོག་ཅན་གྱི་གོས་གྱོན་པ་མ་དྲོས་པའི་མཚོ་ལ་གནས་པའི་དགྲ་བཅོམ་པ་ལྔ་བརྒྱ། བྱ་གཤོག་པ་དམར་པོ་དངར་བ་ལྟ་ བུར་བབས་པར་གྱུར་ཏོ། །དེ་ནས་ལྷ་ཆེན་པོ་འཁོར་གྱི་ཚོགས་དང་བཅས་པ་གུས་པ་དང་བཅས་པས་སྤོས་དང་། བྱུག་པ་དང་། མཆོད་པའི་ཡོ་བྱད་རྣམས་ཐོགས་ཏེ། དེ་དག་གི་ཐད་དུ་སོང་ནས་དེ་དག་རང་རང་གི་སྟན་ལ་འདུག་པ་ལ་རེ་རེ་ཞིང་གོས་རིན་ཆེ་བ་བསྐོན་ཏེ་བདེ་བར་འདུག་པ་དང་། བཟའ་བ་དང་། བཅའ་བ་དང་། བསོད་པ་རྣམས་ཀྱིས་ཡང་དག་པར་ཚིམ་པར་བྱས་ནས། ཨུ་མས་ཀྱང་མེ་ཏོག་དང་། འབྲས་བུས་མཆོད་དེ། དེ་དག་ལས་ཆོས་ཀྱི་གཏམ་མཉན་ནས། དེ་དག་སླར་སོང་བ་དང་། དེ་གཉིས་ལ་སྨྲས་པ། ཁྱེད་ཅག་འདིར་བྱ་བ་གང་གི་ཕྱིར་འོངས་པ་ཁོ་བོས་ཤེས་ ཀྱིས། དེ་ཁྱེད་ལ་སྨྲ་བར་བྱའོ། །གང་གི་སློབ་མ་བདག་ཅག་ཉིན་རེ་དགའ་བས་མཆོད་བྱེད་ཡོན་ཏན་དམ་པར་ལྡན། །འཇིག་རྟེན་ཉེས་སེལ་ཡོན་ཏན་ཆེན་པོའི་མཚན་གྱི་མཆོག་ནི་རབ་ཏུ་གྲགས་གྱུར་ཅིང་། །ཤིན་ཏུ་དགའ་བའི་ཡིད་ཀྱིས་ཡང་དག་མཆོད་བྱེད་ཚེ་ན་མྱ་ངན་འདས་འདྲར་ སེམས། །འཇིག་རྟེན་གསུམ་གྱི་བླ་མ་ཡོན་ཏན་མཉམ་མེད་སངས་རྒྱས་དེ་ནི་མཁས་པས་མཆོད། །དེ་བས་ན་ཁྱེད་ཅག་གི་སྟོན་པ་དེ་ཉིད་དང་། དེའི་གསུང་རབ་ལ་མཆོད་པར་བྱའོ། །དེ་ནས་དེ་ལྟར་རྟོགས་པར་གྱུར་ནས་སླར་རང་གི་ཡུལ་དུ་སོང་སྟེ། དེ་བཞིན་གཤེགས་པའི་གསུང་',\n",
       " 'རབ་ཀྱི་ཆོས་ཁ་ན་མ་ཐོ་བ་མེད་པ་ཡིན་པར་ཤེས་པས་རིག་བྱེད་ཀྱི་ཚིག་རྣམས་རྩྭ་ལྟར་བོར་ཏེ་རབ་ཏུ་བྱུང་ནས། སངས་རྒྱས་བཅོམ་ལྡན་འདས་ལ་ཁྱད་པར་དུ་འཕགས་པར་བསྟོད་པ་དང་། ལྷ་ལས་ཕུལ་དུ་བྱུང་བའི་བསྟོད་པ་གཉིས་བྱས་སོ།། །།ད་ནི་ཚིགས་སུ་བཅད་ པ་དང་པོའི་ཡན་ལག་གི་དོན་བཤད་པར་འདོད་ནས་སྨྲས་པ་ནི། བདག་ནི་སྟོན་པ་གཞན་སྤངས་ཏེ། །ཞེས་བྱ་བ་ལ་སོགས་པ་ཡིན་ཏེ། གལ་ཏེ་གཞན་དག་ཁྱེད་ཅིའི་ཕྱིར་བསྟན་བཅོས་མ་ལུས་པའི་དེ་ཁོ་ན་ཉིད་རྟོགས་ནས། སེར་སྐྱ་དང་། གཟེགས་ཟན་དང་རྐང་མིག་ལ་སོགས་པའི་ སྟོན་པ་དང་། དེས་བྱས་པའི་བསྟན་པ་རྣམས་ཀྱང་སྤངས་ཏེ། སངས་རྒྱས་བཅོམ་ལྡན་འདས་ཉིད་དང་། དེའི་བསྟན་པ་ལ་འཇུག་པར་བྱེད་ཅེས་ཟེར་རོ་སྙམ་དུ་དོགས་པའི་ཕྱིར། བདག་ནི་སྟོན་པ་གཞན་སྤངས་ནས། །བཅོམ་ལྡན་ཁྱེད་ལ་སྐྱབས་མཆིས་པ། །དེ་ཅིའི་སླད་དུ་ཞེ་ན་ཁྱོད། ། སྐྱོན་མི་མངའ་ལ་ཡོན་ཏན་ལྡན། །ཞེས་བྱ་བའི་ཚིགས་སུ་བཅད་པ་སྨྲས་པ་ཡིན་ནོ། །དེ་ལ་བདག་ནི་ཞེས་བྱ་བ་ནི་བསྟོད་པར་བྱེད་པ་བདག་ཉིད་དོ། །སྟོན་པ་ཞེས་བྱ་བ་ནི་འཆོས་ཤིང་འདུལ་བར་བྱེད་པ་ཡིན་པས་ན་སྟོན་པ་སྟེ། འདི་ནི་སེར་སྐྱ་ལ་སོགས་པ་ཡིན་པར་འདོད་དོ། །དེ་ སྤངས་པ་ནི་ཡོངས་སུ་སྤངས་ཤིང་དོར་བ་ཞེས་བྱ་བའི་དོན་ཏོ། །བཅོམ་ལྡན་ཞེས་པ་ནི་བོད་པ་སྟེ། འདོད་ཆགས་ལ་སོགས་པའི་ཉོན་མོངས་པ་བག་ཆགས་དང་བཅས་པ་སྤངས་པ་གང་ཡིན་པ་དེ་ལ་ནི་བཅོམ་པ་ཞེས་བྱ་བའི་སྒྲར་བཤད་ལ། དེ་གང་ལ་མངའ་བ་དེ་ནི་བཅོམ་ལྡན་ནོ། །ཁྱེད་ ལ་ཞེས་བྱ་བ་ནི་སངས་རྒྱས་བཅོམ་ལྡན་འདས་སོ། །ཁྱོད་ཇི་ལྟ་བུ་ཞེ་ན། སྐྱབས་ཞེས་བྱ་བ་སྨྲས་པ་ཡིན་ཏེ། རྟན་ཞེས་བྱ་བའི་དོན་ཏོ། །དེ་ཡང་གང་ལ་བརྟེན་ན་ཉེས་པར་སྤྱོད་པ་རྣམས་ཟད་པར་འགྱུར་བའོ། །མཆིས་པ་ཞེས་བྱ་བ་ནི་མཆི་ཞིང་ཞུགས་པ་ཞེས་བྱ་བའི་དོན་ཏེ། ཡིད་མི་རྟོན་པ་ལ་ སོགས་པ་ཉེས་པར་སྤྱོད་པ་རྣམ་པ་མང་པོ་ཉེ་བར་བསགས་པ་རྣམས་བཅོམ་ལྡན་འདས་ལ་ཡང་དག་པར་བསྟན་པས་སྡིག་པ་རྣམས་དང་བྲལ་བར་གྱུར་ཅིང་། མཐོ་རིས་སུ་སྐྱེས་པར་གྱུར་པ་འདིར་དཔེར་སྦྱར་བར་བྱའོ། །སྟོན་པ་གཞན་དག་སྤངས་པ་དང་། །སྟོན་པ་དེ་ལ་སྐྱབས་སུ་འགྲོ་བའི་')"
      ]
     },
     "execution_count": 19,
     "metadata": {},
     "output_type": "execute_result"
    }
   ],
   "source": [
    "tengyur_bag.take(10)"
   ]
  },
  {
   "cell_type": "code",
   "execution_count": 20,
   "metadata": {},
   "outputs": [],
   "source": [
    "tengyur_df = dask_client.persist(TengyurLoader(\"../../tibert_data/\").dataframe)"
   ]
  },
  {
   "cell_type": "code",
   "execution_count": 21,
   "metadata": {},
   "outputs": [
    {
     "data": {
      "text/html": [
       "<div><strong>Dask DataFrame Structure:</strong></div>\n",
       "<div>\n",
       "<style scoped>\n",
       "    .dataframe tbody tr th:only-of-type {\n",
       "        vertical-align: middle;\n",
       "    }\n",
       "\n",
       "    .dataframe tbody tr th {\n",
       "        vertical-align: top;\n",
       "    }\n",
       "\n",
       "    .dataframe thead th {\n",
       "        text-align: right;\n",
       "    }\n",
       "</style>\n",
       "<table border=\"1\" class=\"dataframe\">\n",
       "  <thead>\n",
       "    <tr style=\"text-align: right;\">\n",
       "      <th></th>\n",
       "      <th>filename</th>\n",
       "      <th>volume_number</th>\n",
       "      <th>location</th>\n",
       "      <th>text</th>\n",
       "    </tr>\n",
       "    <tr>\n",
       "      <th>npartitions=107</th>\n",
       "      <th></th>\n",
       "      <th></th>\n",
       "      <th></th>\n",
       "      <th></th>\n",
       "    </tr>\n",
       "  </thead>\n",
       "  <tbody>\n",
       "    <tr>\n",
       "      <th></th>\n",
       "      <td>object</td>\n",
       "      <td>int64</td>\n",
       "      <td>object</td>\n",
       "      <td>object</td>\n",
       "    </tr>\n",
       "    <tr>\n",
       "      <th></th>\n",
       "      <td>...</td>\n",
       "      <td>...</td>\n",
       "      <td>...</td>\n",
       "      <td>...</td>\n",
       "    </tr>\n",
       "    <tr>\n",
       "      <th>...</th>\n",
       "      <td>...</td>\n",
       "      <td>...</td>\n",
       "      <td>...</td>\n",
       "      <td>...</td>\n",
       "    </tr>\n",
       "    <tr>\n",
       "      <th></th>\n",
       "      <td>...</td>\n",
       "      <td>...</td>\n",
       "      <td>...</td>\n",
       "      <td>...</td>\n",
       "    </tr>\n",
       "    <tr>\n",
       "      <th></th>\n",
       "      <td>...</td>\n",
       "      <td>...</td>\n",
       "      <td>...</td>\n",
       "      <td>...</td>\n",
       "    </tr>\n",
       "  </tbody>\n",
       "</table>\n",
       "</div>\n",
       "<div>Dask Name: to_dataframe, 107 tasks</div>"
      ],
      "text/plain": [
       "Dask DataFrame Structure:\n",
       "                filename volume_number location    text\n",
       "npartitions=107                                        \n",
       "                  object         int64   object  object\n",
       "                     ...           ...      ...     ...\n",
       "...                  ...           ...      ...     ...\n",
       "                     ...           ...      ...     ...\n",
       "                     ...           ...      ...     ...\n",
       "Dask Name: to_dataframe, 107 tasks"
      ]
     },
     "execution_count": 21,
     "metadata": {},
     "output_type": "execute_result"
    }
   ],
   "source": [
    "tengyur_df"
   ]
  },
  {
   "cell_type": "code",
   "execution_count": 22,
   "metadata": {},
   "outputs": [
    {
     "data": {
      "text/html": [
       "<div>\n",
       "<style scoped>\n",
       "    .dataframe tbody tr th:only-of-type {\n",
       "        vertical-align: middle;\n",
       "    }\n",
       "\n",
       "    .dataframe tbody tr th {\n",
       "        vertical-align: top;\n",
       "    }\n",
       "\n",
       "    .dataframe thead th {\n",
       "        text-align: right;\n",
       "    }\n",
       "</style>\n",
       "<table border=\"1\" class=\"dataframe\">\n",
       "  <thead>\n",
       "    <tr style=\"text-align: right;\">\n",
       "      <th></th>\n",
       "      <th>filename</th>\n",
       "      <th>volume_number</th>\n",
       "      <th>location</th>\n",
       "      <th>text</th>\n",
       "    </tr>\n",
       "  </thead>\n",
       "  <tbody>\n",
       "    <tr>\n",
       "      <th>0</th>\n",
       "      <td>001_བསྟོད་ཚོགས།_ཀ.txt</td>\n",
       "      <td>1</td>\n",
       "      <td>F.1.a</td>\n",
       "      <td></td>\n",
       "    </tr>\n",
       "    <tr>\n",
       "      <th>1</th>\n",
       "      <td>001_བསྟོད་ཚོགས།_ཀ.txt</td>\n",
       "      <td>1</td>\n",
       "      <td>F.1.b</td>\n",
       "      <td>༄༅༅། །རྒྱ་གར་སྐད་དུ། བི་ཤིཥྚ་སྟ་བཿ། བོད་སྐད་དུ...</td>\n",
       "    </tr>\n",
       "    <tr>\n",
       "      <th>2</th>\n",
       "      <td>001_བསྟོད་ཚོགས།_ཀ.txt</td>\n",
       "      <td>1</td>\n",
       "      <td>F.2.a</td>\n",
       "      <td>བཞི་བྱུང་། །བདུད་ཀྱི་བུ་མོ་སྒེག་མོ་ཡིས། །ཁྱོད་...</td>\n",
       "    </tr>\n",
       "    <tr>\n",
       "      <th>3</th>\n",
       "      <td>001_བསྟོད་ཚོགས།_ཀ.txt</td>\n",
       "      <td>1</td>\n",
       "      <td>F.2.b</td>\n",
       "      <td>དེ་ཡང་ལས་ལས་སྐྱེས་ཞེས་བསྟན། །བརྒྱ་བྱིན་གྱིས་ནི...</td>\n",
       "    </tr>\n",
       "    <tr>\n",
       "      <th>4</th>\n",
       "      <td>001_བསྟོད་ཚོགས།_ཀ.txt</td>\n",
       "      <td>1</td>\n",
       "      <td>F.3.a</td>\n",
       "      <td>ཁྱོད་ནི་ཐུགས་ཀྱི་དཀའ་ཐུབ་ཀྱིས། །མདུད་པ་འཇིག་པར...</td>\n",
       "    </tr>\n",
       "    <tr>\n",
       "      <th>5</th>\n",
       "      <td>001_བསྟོད་ཚོགས།_ཀ.txt</td>\n",
       "      <td>1</td>\n",
       "      <td>F.3.b</td>\n",
       "      <td>པ་བརྒྱ་བྱིན་སྒྲོགས་པར་གྱུར། །ཁྱབ་འཇུག་དག་ནི་ནག...</td>\n",
       "    </tr>\n",
       "    <tr>\n",
       "      <th>6</th>\n",
       "      <td>001_བསྟོད་ཚོགས།_ཀ.txt</td>\n",
       "      <td>1</td>\n",
       "      <td>F.4.a</td>\n",
       "      <td>པ་ཟེར། །མགོན་པོ་ཁྱོད་ཀྱིས་གནས་སྐབས་དེའི། །སེམས...</td>\n",
       "    </tr>\n",
       "    <tr>\n",
       "      <th>7</th>\n",
       "      <td>001_བསྟོད་ཚོགས།_ཀ.txt</td>\n",
       "      <td>1</td>\n",
       "      <td>F.4.b</td>\n",
       "      <td>དགོངས། །རིག་བྱེད་མཐའ་ལ་འབྱམས་པས་ཀྱང་། །གཡུལ་ངོ...</td>\n",
       "    </tr>\n",
       "    <tr>\n",
       "      <th>8</th>\n",
       "      <td>001_བསྟོད་ཚོགས།_ཀ.txt</td>\n",
       "      <td>1</td>\n",
       "      <td>F.5.a</td>\n",
       "      <td>༄༅༅། །རྒྱ་གར་སྐད་དུ། བི་ཤེ་ཥ་སྟ་བ་ནཱ་མ་ཊཱི་ཀཱ།...</td>\n",
       "    </tr>\n",
       "    <tr>\n",
       "      <th>9</th>\n",
       "      <td>001_བསྟོད་ཚོགས།_ཀ.txt</td>\n",
       "      <td>1</td>\n",
       "      <td>F.5.b</td>\n",
       "      <td>བྱས་ཏེ། དེ་དག་གིས་མེ་ཏོག་རྒྱས་པའི་ནགས་ཚལ་གྱི་ག...</td>\n",
       "    </tr>\n",
       "    <tr>\n",
       "      <th>10</th>\n",
       "      <td>001_བསྟོད་ཚོགས།_ཀ.txt</td>\n",
       "      <td>1</td>\n",
       "      <td>F.6.a</td>\n",
       "      <td>རབ་ཀྱི་ཆོས་ཁ་ན་མ་ཐོ་བ་མེད་པ་ཡིན་པར་ཤེས་པས་རིག་...</td>\n",
       "    </tr>\n",
       "    <tr>\n",
       "      <th>11</th>\n",
       "      <td>001_བསྟོད་ཚོགས།_ཀ.txt</td>\n",
       "      <td>1</td>\n",
       "      <td>F.6.b</td>\n",
       "      <td>རྒྱུ་ཅི་ཞིག་ཡིན་ཞེ་ན། དེ་ཅིའི་སླད་དུ་ཞེ་ན། ཞེས...</td>\n",
       "    </tr>\n",
       "    <tr>\n",
       "      <th>12</th>\n",
       "      <td>001_བསྟོད་ཚོགས།_ཀ.txt</td>\n",
       "      <td>1</td>\n",
       "      <td>F.7.a</td>\n",
       "      <td>ལེན་པས་ན་ཡོན་ཏན་འཛིན་པ་སྟེ། ཡོན་ཏན་རྟོགས་པ་ཞེས...</td>\n",
       "    </tr>\n",
       "    <tr>\n",
       "      <th>13</th>\n",
       "      <td>001_བསྟོད་ཚོགས།_ཀ.txt</td>\n",
       "      <td>1</td>\n",
       "      <td>F.7.b</td>\n",
       "      <td>སྲིད་པར་སྟོན་ཏེ། དེ་ཡང་ལྷ་ཆེན་པོའི་ཡོན་ཏན་འཇིག...</td>\n",
       "    </tr>\n",
       "    <tr>\n",
       "      <th>14</th>\n",
       "      <td>001_བསྟོད་ཚོགས།_ཀ.txt</td>\n",
       "      <td>1</td>\n",
       "      <td>F.8.a</td>\n",
       "      <td>བསྲེགས་པ་སྟེ། རྩ་བ་ནས་འབྱིན་པར་མ་བསྲེགས་པའོ། །...</td>\n",
       "    </tr>\n",
       "    <tr>\n",
       "      <th>15</th>\n",
       "      <td>001_བསྟོད་ཚོགས།_ཀ.txt</td>\n",
       "      <td>1</td>\n",
       "      <td>F.8.b</td>\n",
       "      <td>པ་ལ་བསྐོར་བ་བྱེད་དུ་བཅུག་པ་དང་། དེ་དེའི་གཟུགས་...</td>\n",
       "    </tr>\n",
       "    <tr>\n",
       "      <th>16</th>\n",
       "      <td>001_བསྟོད་ཚོགས།_ཀ.txt</td>\n",
       "      <td>1</td>\n",
       "      <td>F.9.a</td>\n",
       "      <td>མེད་ཀྱི་དབང་ཕྱུག་ཅེས་བྱ་བར་གྱུར་ཏོ། །ཡང་། ཁྱེད...</td>\n",
       "    </tr>\n",
       "    <tr>\n",
       "      <th>17</th>\n",
       "      <td>001_བསྟོད་ཚོགས།_ཀ.txt</td>\n",
       "      <td>1</td>\n",
       "      <td>F.9.b</td>\n",
       "      <td>ལྕགས་ཀྱི་གཏུན་དེ་ལས་མདེའུ་ཙམ་ཞིག་ལུས་པར་གྱུར་པ...</td>\n",
       "    </tr>\n",
       "    <tr>\n",
       "      <th>18</th>\n",
       "      <td>001_བསྟོད་ཚོགས།_ཀ.txt</td>\n",
       "      <td>1</td>\n",
       "      <td>F.10.a</td>\n",
       "      <td>ཞེས་བྱ་བ་ནི་བཅོམ་པའོ། །ལྷ་ཆེན་མགྲིན་པ་སྔོར་གྱུ...</td>\n",
       "    </tr>\n",
       "    <tr>\n",
       "      <th>19</th>\n",
       "      <td>001_བསྟོད་ཚོགས།_ཀ.txt</td>\n",
       "      <td>1</td>\n",
       "      <td>F.10.b</td>\n",
       "      <td>ཅིག་གཡུལ་སྤྲོད་པར་མི་ནུས་ཏེ། ཤིན་ཏུ་སྐྱེས་བུའི...</td>\n",
       "    </tr>\n",
       "  </tbody>\n",
       "</table>\n",
       "</div>"
      ],
      "text/plain": [
       "                 filename  volume_number location  \\\n",
       "0   001_བསྟོད་ཚོགས།_ཀ.txt              1    F.1.a   \n",
       "1   001_བསྟོད་ཚོགས།_ཀ.txt              1    F.1.b   \n",
       "2   001_བསྟོད་ཚོགས།_ཀ.txt              1    F.2.a   \n",
       "3   001_བསྟོད་ཚོགས།_ཀ.txt              1    F.2.b   \n",
       "4   001_བསྟོད་ཚོགས།_ཀ.txt              1    F.3.a   \n",
       "5   001_བསྟོད་ཚོགས།_ཀ.txt              1    F.3.b   \n",
       "6   001_བསྟོད་ཚོགས།_ཀ.txt              1    F.4.a   \n",
       "7   001_བསྟོད་ཚོགས།_ཀ.txt              1    F.4.b   \n",
       "8   001_བསྟོད་ཚོགས།_ཀ.txt              1    F.5.a   \n",
       "9   001_བསྟོད་ཚོགས།_ཀ.txt              1    F.5.b   \n",
       "10  001_བསྟོད་ཚོགས།_ཀ.txt              1    F.6.a   \n",
       "11  001_བསྟོད་ཚོགས།_ཀ.txt              1    F.6.b   \n",
       "12  001_བསྟོད་ཚོགས།_ཀ.txt              1    F.7.a   \n",
       "13  001_བསྟོད་ཚོགས།_ཀ.txt              1    F.7.b   \n",
       "14  001_བསྟོད་ཚོགས།_ཀ.txt              1    F.8.a   \n",
       "15  001_བསྟོད་ཚོགས།_ཀ.txt              1    F.8.b   \n",
       "16  001_བསྟོད་ཚོགས།_ཀ.txt              1    F.9.a   \n",
       "17  001_བསྟོད་ཚོགས།_ཀ.txt              1    F.9.b   \n",
       "18  001_བསྟོད་ཚོགས།_ཀ.txt              1   F.10.a   \n",
       "19  001_བསྟོད་ཚོགས།_ཀ.txt              1   F.10.b   \n",
       "\n",
       "                                                 text  \n",
       "0                                                      \n",
       "1   ༄༅༅། །རྒྱ་གར་སྐད་དུ། བི་ཤིཥྚ་སྟ་བཿ། བོད་སྐད་དུ...  \n",
       "2   བཞི་བྱུང་། །བདུད་ཀྱི་བུ་མོ་སྒེག་མོ་ཡིས། །ཁྱོད་...  \n",
       "3   དེ་ཡང་ལས་ལས་སྐྱེས་ཞེས་བསྟན། །བརྒྱ་བྱིན་གྱིས་ནི...  \n",
       "4   ཁྱོད་ནི་ཐུགས་ཀྱི་དཀའ་ཐུབ་ཀྱིས། །མདུད་པ་འཇིག་པར...  \n",
       "5   པ་བརྒྱ་བྱིན་སྒྲོགས་པར་གྱུར། །ཁྱབ་འཇུག་དག་ནི་ནག...  \n",
       "6   པ་ཟེར། །མགོན་པོ་ཁྱོད་ཀྱིས་གནས་སྐབས་དེའི། །སེམས...  \n",
       "7   དགོངས། །རིག་བྱེད་མཐའ་ལ་འབྱམས་པས་ཀྱང་། །གཡུལ་ངོ...  \n",
       "8   ༄༅༅། །རྒྱ་གར་སྐད་དུ། བི་ཤེ་ཥ་སྟ་བ་ནཱ་མ་ཊཱི་ཀཱ།...  \n",
       "9   བྱས་ཏེ། དེ་དག་གིས་མེ་ཏོག་རྒྱས་པའི་ནགས་ཚལ་གྱི་ག...  \n",
       "10  རབ་ཀྱི་ཆོས་ཁ་ན་མ་ཐོ་བ་མེད་པ་ཡིན་པར་ཤེས་པས་རིག་...  \n",
       "11  རྒྱུ་ཅི་ཞིག་ཡིན་ཞེ་ན། དེ་ཅིའི་སླད་དུ་ཞེ་ན། ཞེས...  \n",
       "12  ལེན་པས་ན་ཡོན་ཏན་འཛིན་པ་སྟེ། ཡོན་ཏན་རྟོགས་པ་ཞེས...  \n",
       "13  སྲིད་པར་སྟོན་ཏེ། དེ་ཡང་ལྷ་ཆེན་པོའི་ཡོན་ཏན་འཇིག...  \n",
       "14  བསྲེགས་པ་སྟེ། རྩ་བ་ནས་འབྱིན་པར་མ་བསྲེགས་པའོ། །...  \n",
       "15  པ་ལ་བསྐོར་བ་བྱེད་དུ་བཅུག་པ་དང་། དེ་དེའི་གཟུགས་...  \n",
       "16  མེད་ཀྱི་དབང་ཕྱུག་ཅེས་བྱ་བར་གྱུར་ཏོ། །ཡང་། ཁྱེད...  \n",
       "17  ལྕགས་ཀྱི་གཏུན་དེ་ལས་མདེའུ་ཙམ་ཞིག་ལུས་པར་གྱུར་པ...  \n",
       "18  ཞེས་བྱ་བ་ནི་བཅོམ་པའོ། །ལྷ་ཆེན་མགྲིན་པ་སྔོར་གྱུ...  \n",
       "19  ཅིག་གཡུལ་སྤྲོད་པར་མི་ནུས་ཏེ། ཤིན་ཏུ་སྐྱེས་བུའི...  "
      ]
     },
     "execution_count": 22,
     "metadata": {},
     "output_type": "execute_result"
    }
   ],
   "source": [
    "tengyur_df.head(20)"
   ]
  },
  {
   "cell_type": "code",
   "execution_count": 23,
   "metadata": {},
   "outputs": [
    {
     "data": {
      "text/plain": [
       "16512"
      ]
     },
     "execution_count": 23,
     "metadata": {},
     "output_type": "execute_result"
    }
   ],
   "source": [
    "tengyur_df.text.map(len).max().compute()"
   ]
  },
  {
   "cell_type": "code",
   "execution_count": 24,
   "metadata": {},
   "outputs": [
    {
     "data": {
      "text/html": [
       "<div>\n",
       "<style scoped>\n",
       "    .dataframe tbody tr th:only-of-type {\n",
       "        vertical-align: middle;\n",
       "    }\n",
       "\n",
       "    .dataframe tbody tr th {\n",
       "        vertical-align: top;\n",
       "    }\n",
       "\n",
       "    .dataframe thead th {\n",
       "        text-align: right;\n",
       "    }\n",
       "</style>\n",
       "<table border=\"1\" class=\"dataframe\">\n",
       "  <thead>\n",
       "    <tr style=\"text-align: right;\">\n",
       "      <th></th>\n",
       "      <th>filename</th>\n",
       "      <th>volume_number</th>\n",
       "      <th>location</th>\n",
       "      <th>text</th>\n",
       "    </tr>\n",
       "  </thead>\n",
       "  <tbody>\n",
       "    <tr>\n",
       "      <th>646</th>\n",
       "      <td>211_སྣ་ཚོགས།_ནོ.txt</td>\n",
       "      <td>211</td>\n",
       "      <td>F.324.a</td>\n",
       "      <td>བྱིས་པ་སྐྱེས་ནས་ཡང་ཡང་མི་འཚོ་བ་ལ་འཁོར་ལོ་འདི་ག...</td>\n",
       "    </tr>\n",
       "  </tbody>\n",
       "</table>\n",
       "</div>"
      ],
      "text/plain": [
       "                filename  volume_number location  \\\n",
       "646  211_སྣ་ཚོགས།_ནོ.txt            211  F.324.a   \n",
       "\n",
       "                                                  text  \n",
       "646  བྱིས་པ་སྐྱེས་ནས་ཡང་ཡང་མི་འཚོ་བ་ལ་འཁོར་ལོ་འདི་ག...  "
      ]
     },
     "execution_count": 24,
     "metadata": {},
     "output_type": "execute_result"
    }
   ],
   "source": [
    "tengyur_df[tengyur_df.text.map(len) == 16512].compute()"
   ]
  },
  {
   "cell_type": "code",
   "execution_count": 25,
   "metadata": {},
   "outputs": [
    {
     "data": {
      "text/plain": [
       "<matplotlib.axes._subplots.AxesSubplot at 0x131cd97ff08>"
      ]
     },
     "execution_count": 25,
     "metadata": {},
     "output_type": "execute_result"
    },
    {
     "data": {
      "image/png": "[encoded data removed]",
      "text/plain": [
       "<Figure size 432x288 with 1 Axes>"
      ]
     },
     "metadata": {},
     "output_type": "display_data"
    }
   ],
   "source": [
    "tengyur_df[tengyur_df.text.map(len) < 16512].text.map(len).compute().hist(bins=50)"
   ]
  },
  {
   "cell_type": "code",
   "execution_count": 26,
   "metadata": {},
   "outputs": [
    {
     "data": {
      "text/plain": [
       "set()"
      ]
     },
     "execution_count": 26,
     "metadata": {},
     "output_type": "execute_result"
    }
   ],
   "source": [
    "set(tengyur_df.volume_number.unique().compute().to_list()).symmetric_difference(set(range(1, 214)))"
   ]
  },
  {
   "cell_type": "markdown",
   "metadata": {},
   "source": [
    "## Split by section"
   ]
  },
  {
   "cell_type": "code",
   "execution_count": 27,
   "metadata": {},
   "outputs": [],
   "source": [
    "kangyur_bag = KangyurLoader(\"../../tibert_data/\").to_bag(split_type=CorpusSplitType.BY_SECTION)"
   ]
  },
  {
   "cell_type": "code",
   "execution_count": 28,
   "metadata": {},
   "outputs": [
    {
     "data": {
      "text/plain": [
       "2681983"
      ]
     },
     "execution_count": 28,
     "metadata": {},
     "output_type": "execute_result"
    }
   ],
   "source": [
    "kangyur_bag.count().compute()"
   ]
  },
  {
   "cell_type": "code",
   "execution_count": 29,
   "metadata": {},
   "outputs": [
    {
     "data": {
      "text/plain": [
       "'༄ ༅ ༈ ་ ༌ ། ༑ ༠ ༡ ༢ ༣ ༤ ༥ ༦ ༧ ༨ ༩ ༼ ༽ ཀ ཁ ག ང ཅ ཆ ཇ ཉ ཊ ཋ ཌ ཎ ཏ ཐ ད དྷ ན པ ཕ བ བྷ མ ཙ ཚ ཛ ཝ ཞ ཟ འ ཡ ར ལ ཤ ཥ ས ཧ ཨ ཀྵ ཪ ཱ ི ུ ེ ཻ ོ ཽ ཾ ཿ ྀ ྂ ྃ ྅ ྈ ྉ ྍ ྎ ྐ ྑ ྒ ྔ ྕ ྗ ྙ ྚ ྛ ྜ ྞ ྟ ྠ ྡ ྣ ྤ ྥ ྦ ྨ ྩ ྪ ྫ ྭ ྰ ྱ ྲ ླ ྴ ྵ ྶ ྷ ྸ ྺ ྻ ྼ'"
      ]
     },
     "execution_count": 29,
     "metadata": {},
     "output_type": "execute_result"
    }
   ],
   "source": [
    "all_letters = \\\n",
    "    sorted( \\\n",
    "        kangyur_bag \\\n",
    "            .flatten() \\\n",
    "            .distinct() \\\n",
    "            .compute())\n",
    "' '.join(all_letters)"
   ]
  },
  {
   "cell_type": "code",
   "execution_count": 30,
   "metadata": {},
   "outputs": [
    {
     "data": {
      "text/plain": [
       "('༄༅༅།',\n",
       " '།རྒྱ་གར་སྐད་དུ།',\n",
       " 'བི་ན་ཡ་བསྟུ།',\n",
       " 'བོད་སྐད་དུ།',\n",
       " 'འདུལ་བ་གཞི།',\n",
       " 'བམ་པོ་དང་པོ།',\n",
       " 'དཀོན་མཆོག་གསུམ་ལ་ཕྱག་འཚལ་ལོ།',\n",
       " '།གང་གིས་འཆིང་',\n",
       " 'རྣམས་ཡང་དག་རབ་བཅད་ཅིང་།',\n",
       " '།མུ་སྟེགས་ཚོགས་རྣམས་ཐམས་ཅད་རབ་བཅོམ་སྟེ།',\n",
       " '།སྡེ་དང་བཅས་པའི་བདུད་རྣམས་ངེས་བཅོམ་ནས།',\n",
       " '།བྱང་ཆུབ་འདི་བརྙེས་དེ་ལ་',\n",
       " 'ཕྱག་འཚལ་ལོ།',\n",
       " '།ཁྱིམ་དོན་ཆེ་ཆུང་སྤངས་ཏེ་དང་པོར་རབ་འབྱུང་དཀའ།',\n",
       " '།རབ་བྱུང་ཐོབ་ནས་ཡུལ་སྤྱད་དག་གིས་དགའ་ཐོབ་དཀའ།',\n",
       " '།མངོན་དགའ་ཇི་བཞིན་དོན་བསྐྱེད་ཡང་',\n",
       " 'དག་བྱེད་པ་དཀའ།',\n",
       " '།ངུར་སྨྲིག་གོས་འཆང་མཁས་པ་ཚུལ་ལས་ཉམས་པ་དཀའ།',\n",
       " '།གཞི་རྣམས་ཀྱི་སྤྱི་སྡོམ་ལ།',\n",
       " 'རབ་འབྱུང་གསོ་སྦྱོང་གཞི་དང་ནི།')"
      ]
     },
     "execution_count": 30,
     "metadata": {},
     "output_type": "execute_result"
    }
   ],
   "source": [
    "kangyur_bag.take(20)"
   ]
  },
  {
   "cell_type": "code",
   "execution_count": 31,
   "metadata": {},
   "outputs": [],
   "source": [
    "tengyur_bag = TengyurLoader(\"../../tibert_data/\", test_mode=True) \\\n",
    "    .apply_markup(replace_with_suggested=True) \\\n",
    "    .clean_bad_chars(False) \\\n",
    "    .to_bag(split_type=CorpusSplitType.BY_SECTION)"
   ]
  },
  {
   "cell_type": "code",
   "execution_count": 32,
   "metadata": {},
   "outputs": [
    {
     "data": {
      "text/plain": [
       "5173272"
      ]
     },
     "execution_count": 32,
     "metadata": {},
     "output_type": "execute_result"
    }
   ],
   "source": [
    "tengyur_bag.count().compute()"
   ]
  },
  {
   "cell_type": "code",
   "execution_count": 33,
   "metadata": {},
   "outputs": [
    {
     "data": {
      "text/plain": [
       "'\\x07 # ( ) * + , - . / 0 1 2 3 4 5 6 7 8 9 : ; < = > @ A D E H X [ ] a b e f l m o p r s t x { | } × ं ऽ । ༀ ༄ ༅ ༈ ་ ༌ ། ༑ ༔ ༜ ༠ ༡ ༢ ༣ ༤ ༥ ༦ ༧ ༨ ༩ ༴ ༵ ༷ ༸ ༼ ༽ ཀ ཁ ག གྷ ང ཅ ཆ ཇ ཉ ཊ ཋ ཌ ཌྷ ཎ ཏ ཐ ད དྷ ན པ ཕ བ བྷ མ ཙ ཚ ཛ ཛྷ ཝ ཞ ཟ འ ཡ ར ལ ཤ ཥ ས ཧ ཨ ཀྵ ཪ ཱ ི ཱི ུ ཱུ ྲྀ ླྀ ཹ ེ ཻ ོ ཽ ཾ ཿ ྀ ཱྀ ྂ ྃ ྄ ྅ ྈ ྉ ྊ ྍ ྎ ྐ ྑ ྒ ྒྷ ྔ ྕ ྖ ྗ ྙ ྚ ྛ ྜ ྜྷ ྞ ྟ ྠ ྡ ྡྷ ྣ ྤ ྥ ྦ ྦྷ ྨ ྩ ྪ ྫ ྫྷ ྭ ྯ ྰ ྱ ྲ ླ ྴ ྵ ྶ ྷ ྸ ྐྵ ྺ ྻ ྼ ྾ ‚'"
      ]
     },
     "execution_count": 33,
     "metadata": {},
     "output_type": "execute_result"
    }
   ],
   "source": [
    "all_letters = \\\n",
    "    sorted( \\\n",
    "        tengyur_bag \\\n",
    "            .flatten() \\\n",
    "            .distinct() \\\n",
    "            .compute())\n",
    "' '.join(all_letters)"
   ]
  },
  {
   "cell_type": "code",
   "execution_count": 34,
   "metadata": {},
   "outputs": [
    {
     "data": {
      "text/plain": [
       "('@(རྟན་,རྟེན་)|རྟེན་@ཞེས་བྱ་བའི་དོན་ཏོ།',\n",
       " 'འོན་ཀྱང་སྐྱོན་གང་ཡིན་པ་དེ་ཡོན་ཏན་ཉིད་དུ་རྟོགས་པ་ལ་ཞུགས་པ་ཞེས་བྱ་བའི་དོན་@(དོ,ཏོ)|ཏོ@།',\n",
       " '།ཁྲོ་བའི་མེ་ཞེས་བྱ་བ་ནི་ཁྲོ་བ་ཉིད་@(མ་,མེ་)|མེ་@དང་འདྲ་བས་ན་ཁྲོ་བའི་མེ་སྟེ།',\n",
       " 'ཇི་ཙམ་ན་རྔོན་པ་རྒན་པོ་དེ་@{རི་དགས་,རི་དྭགས་}|རི་དྭགས་@བཤོར་བའི་ཕྱིར་ནགས་ཚལ་དུ་ཞུགས་ཏེ།',\n",
       " '@{རི་དགས་,རི་དྭགས་}|རི་དྭགས་@བལྟ་བའི་ཕྱིར་སེམས་གཏོད་ཅིང་',\n",
       " 'མཐེ་བོ་བསྐྱོད་པ་དེ་@{རི་དགས་,རི་དྭགས་}|རི་དྭགས་@ཀྱི་རྣ་བ་འགུལ་བ་ཡིན་ནོ་སྙམ་ནས་མདའ་བསྣུན་པ་དང་།',\n",
       " 'རྟ་མགྲིན་@{རིངས་,རིང་}|རིང་@ལ་སོགས་མང་པོ་ཞིག་རྒྱ་མཚོ་ལས་བྱུང་བར་གྱུར་པ་དང་།',\n",
       " 'ཕྱིར་@(ཚིངས་,ཚངས་)|ཚངས་@པ་ཉིད་འདི་ལྟར་སྤྱོད་པའོ།',\n",
       " '@{རི་དགས་,རི་དྭགས་}|རི་དྭགས་@སྐྱེས་དང་།',\n",
       " 'དེ་སྐད་མ་@(གསུང་,གསུངས་)|གསུངས་@ཤིག')"
      ]
     },
     "execution_count": 34,
     "metadata": {},
     "output_type": "execute_result"
    }
   ],
   "source": [
    "tengyur_bag.filter(lambda x: \"@\" in x).repartition(1).take(10)"
   ]
  },
  {
   "cell_type": "markdown",
   "metadata": {},
   "source": [
    "# Figure out how to load the corpora"
   ]
  },
  {
   "cell_type": "code",
   "execution_count": 23,
   "metadata": {},
   "outputs": [],
   "source": [
    "import re\n",
    "import unicodedata\n",
    "import glob"
   ]
  },
  {
   "cell_type": "code",
   "execution_count": 24,
   "metadata": {},
   "outputs": [],
   "source": [
    "def load_from_filename(fn):\n",
    "    with open(fn, encoding='utf-8', mode='r') as f:\n",
    "        return f.read()"
   ]
  },
  {
   "cell_type": "code",
   "execution_count": 25,
   "metadata": {},
   "outputs": [],
   "source": [
    "def load_with_filename(fn):\n",
    "    with open(fn, encoding='utf-8', mode='r') as f:\n",
    "        return (fn, f.read())"
   ]
  },
  {
   "cell_type": "markdown",
   "metadata": {},
   "source": [
    "## Kangyur"
   ]
  },
  {
   "cell_type": "markdown",
   "metadata": {},
   "source": [
    "### Load"
   ]
  },
  {
   "cell_type": "code",
   "execution_count": null,
   "metadata": {},
   "outputs": [],
   "source": [
    "kangyur_bag = db \\\n",
    "    .from_sequence(glob.glob(\"../../tibert_data/OpenPecha/P000001/*.txt\")) \\\n",
    "    .map(load_from_filename) \\\n",
    "    .map(lambda x: re.sub(\"[\\[\\]]\", '', x)) \\\n",
    "    .str.split(' ') \\\n",
    "    .flatten() \\\n",
    "    .str.replace('\\n', '')\n",
    "kangyur_bag"
   ]
  },
  {
   "cell_type": "code",
   "execution_count": null,
   "metadata": {},
   "outputs": [],
   "source": [
    "kangyur_bag.take(20)"
   ]
  },
  {
   "cell_type": "code",
   "execution_count": null,
   "metadata": {},
   "outputs": [],
   "source": [
    "kangyur_bag.count().compute()"
   ]
  },
  {
   "cell_type": "markdown",
   "metadata": {},
   "source": [
    "### Clean-up analyses"
   ]
  },
  {
   "cell_type": "code",
   "execution_count": null,
   "metadata": {},
   "outputs": [],
   "source": [
    "def repl_split_commas_or_kill(match):\n",
    "    match = match.group(0)\n",
    "    if ',' in match:\n",
    "        return match.split(',')[0][1:]\n",
    "    if '‚' in match:\n",
    "        return match.split('‚')[0][1:]\n",
    "    return ''\n",
    "\n",
    "\n",
    "bad_chars_to_remove = \"*`p}1-9\\ufeff�‘’\"\n",
    "\n",
    "kangyur_bag = db \\\n",
    "    .from_sequence(glob.glob(\"../../tibert_data/OpenPecha/P000001/*.txt\")) \\\n",
    "    .map(load_from_filename) \\\n",
    "    .map(lambda x: re.sub(\"[({][^(){}]*?[})]\", repl_split_commas_or_kill, x)) \\\n",
    "    .map(lambda x: re.sub(\"[({][^(){}]*?[})]\", repl_split_commas_or_kill, x)) \\\n",
    "    .map(lambda x: re.sub(\"[\\[\\]{}]\".format(bad_chars_to_remove), '', x)) \\\n",
    "    .str.split(' ') \\\n",
    "    .flatten() \\\n",
    "    .str.replace('\\n', '')\n",
    "kangyur_bag"
   ]
  },
  {
   "cell_type": "code",
   "execution_count": null,
   "metadata": {},
   "outputs": [],
   "source": [
    "all_letters = \\\n",
    "    sorted( \\\n",
    "        kangyur_bag \\\n",
    "            .flatten() \\\n",
    "            .distinct() \\\n",
    "            .compute())\n",
    "' '.join(all_letters)"
   ]
  },
  {
   "cell_type": "code",
   "execution_count": null,
   "metadata": {
    "scrolled": true
   },
   "outputs": [],
   "source": [
    "[unicodedata.name(c) for c in all_letters]"
   ]
  },
  {
   "cell_type": "code",
   "execution_count": null,
   "metadata": {},
   "outputs": [],
   "source": [
    "to_contain = \"‘’\"\n",
    "to_contain, [unicodedata.name(c) for c in to_contain]"
   ]
  },
  {
   "cell_type": "code",
   "execution_count": null,
   "metadata": {},
   "outputs": [],
   "source": [
    "kangyur_bag.filter(lambda x: re.findall('[{}]'.format(to_contain), x)).count().compute()"
   ]
  },
  {
   "cell_type": "code",
   "execution_count": null,
   "metadata": {},
   "outputs": [],
   "source": [
    "kangyur_bag.filter(lambda x: any([c in x for c in to_contain])).repartition(1).to_textfiles(\"c:/workspace/tibert_data/kangyur_bag_bad_chars_*.txt\")"
   ]
  },
  {
   "cell_type": "code",
   "execution_count": null,
   "metadata": {},
   "outputs": [],
   "source": [
    "#     .map(lambda x: (x[0], re.sub(\"\\[[0-9 ]+[ab.0-9]+\\]\", '', x[1]))) \\\n",
    "\n",
    "kangyur_bag = db \\\n",
    "    .from_sequence(glob.glob(\"../../tibert_data/OpenPecha/P000001/*.txt\")) \\\n",
    "    .map(load_with_filename) \\\n",
    "    .map(lambda x: [str((x[0], text)) for text in re.findall(\"\\([^\\(\\)]*\\)\", x[1])]) \\\n",
    "    .flatten() \\\n",
    "    .distinct()\n",
    "kangyur_bag"
   ]
  },
  {
   "cell_type": "code",
   "execution_count": null,
   "metadata": {},
   "outputs": [],
   "source": [
    "kangyur_bag.count().compute()"
   ]
  },
  {
   "cell_type": "code",
   "execution_count": null,
   "metadata": {},
   "outputs": [],
   "source": [
    "kangyur_bag.repartition(1).to_textfiles(\"c:/workspace/tibert_data/kangyur_bracketed_*.txt\")"
   ]
  },
  {
   "cell_type": "markdown",
   "metadata": {},
   "source": [
    "### Figure out how to split the folios"
   ]
  },
  {
   "cell_type": "code",
   "execution_count": 11,
   "metadata": {},
   "outputs": [],
   "source": [
    "kangyur_bag = db \\\n",
    "    .from_sequence(glob.glob(\"../../tibert_data/OpenPecha/P000001/*.txt\")) \\\n",
    "    .map(load_from_filename)"
   ]
  },
  {
   "cell_type": "code",
   "execution_count": 12,
   "metadata": {},
   "outputs": [],
   "source": [
    "test_str = kangyur_bag.take(1)[0]"
   ]
  },
  {
   "cell_type": "code",
   "execution_count": 97,
   "metadata": {},
   "outputs": [
    {
     "data": {
      "text/plain": [
       "(['༠', '༡', '༢', '༣', '༤', '༥', '༦', '༧', '༨', '༩'],\n",
       " ['༪', '༫', '༬', '༭', '༮', '༯', '༰', '༱', '༲', '༳'])"
      ]
     },
     "execution_count": 97,
     "metadata": {},
     "output_type": "execute_result"
    }
   ],
   "source": [
    "tibetan_digits = ['༠', '༡', '༢', '༣', '༤', '༥', '༦', '༧', '༨', '༩']\n",
    "tibetan_halves = ['༪', '༫', '༬', '༭', '༮', '༯', '༰', '༱', '༲', '༳']\n",
    "tibetan_digits, tibetan_halves"
   ]
  },
  {
   "cell_type": "code",
   "execution_count": 98,
   "metadata": {},
   "outputs": [],
   "source": [
    "def translate_tibetan_number(tibetan_number):\n",
    "    res = \"\"\n",
    "    for digit in tibetan_number:\n",
    "        res += str(tibetan_digits.index(digit))\n",
    "    return int(res)"
   ]
  },
  {
   "cell_type": "code",
   "execution_count": 40,
   "metadata": {},
   "outputs": [],
   "source": [
    "folio_marker_re = re.compile(r\"\\(([{}]+)([ནབ])་\\)\".format(''.join(tibetan_digits)))"
   ]
  },
  {
   "cell_type": "code",
   "execution_count": null,
   "metadata": {},
   "outputs": [],
   "source": [
    "for c in tibetan_digits + tibetan_halves:\n",
    "    print(unicodedata.name(c))"
   ]
  },
  {
   "cell_type": "code",
   "execution_count": null,
   "metadata": {},
   "outputs": [],
   "source": [
    "for match in folio_marker_re.finditer(test_str):\n",
    "    print(match.span(), translate_tibetan_number(match.group(1)), match.group(2))"
   ]
  },
  {
   "cell_type": "code",
   "execution_count": 62,
   "metadata": {},
   "outputs": [],
   "source": [
    "def _segment_folios(volume_str):\n",
    "    res, cur_ref, last_loc = [], None, None\n",
    "    for match in folio_marker_re.finditer(volume_str):\n",
    "        cur_loc_start, cur_loc_end = match.span()\n",
    "        if last_loc is not None:\n",
    "            res.append((cur_ref, volume_str[last_loc:cur_loc_start]))\n",
    "        last_loc = cur_loc_end\n",
    "        cur_ref = \"F.{}.{}\".format(translate_tibetan_number(match.group(1)), 'a' if match.group(2) == 'ན' else 'b')\n",
    "    res.append((cur_ref, volume_str[last_loc:]))\n",
    "    return res"
   ]
  },
  {
   "cell_type": "code",
   "execution_count": null,
   "metadata": {
    "scrolled": true
   },
   "outputs": [],
   "source": [
    "_segment_folios(test_str)"
   ]
  },
  {
   "cell_type": "code",
   "execution_count": 99,
   "metadata": {},
   "outputs": [
    {
     "data": {
      "text/plain": [
       "dask.bag<lambda, npartitions=103>"
      ]
     },
     "execution_count": 99,
     "metadata": {},
     "output_type": "execute_result"
    }
   ],
   "source": [
    "def repl_split_commas_or_kill(match):\n",
    "    match = match.group(0)\n",
    "    if ',' in match:\n",
    "        return match.split(',')[0][1:]\n",
    "    if '‚' in match:\n",
    "        return match.split('‚')[0][1:]\n",
    "    return ''\n",
    "\n",
    "\n",
    "# Basic strategy:\n",
    "#    1. Find all round and curly braces (no curly braces in the Kangyur but inspired by the Tengyur we still do it)\n",
    "#        a. If there is a comma in the bracketed text, split along comma and take first element (uncorrected)\n",
    "#        b. If no comma then just kill entire bracketed text (remove comments and mark-up)\n",
    "#    2. Remove square brackets and leave text inside them (presumed interpolation for damage etc)\n",
    "#    3. Remove unmatched commas, brackets, stars, the BOM, etc (leaves small number of bad morphemes that are very hard to clean)\n",
    "\n",
    "# Need to repl_split_commas_or_kill twice because there is some nested round bracketed text, up to depth 2\n",
    "# There are opening/closing brackets with no matching brackets\n",
    "\n",
    "bad_chars_to_remove = \"*`p}1-9\\ufeff�‘’\"\n",
    "space_re = re.compile(r\"\\s+\")\n",
    "\n",
    "kangyur_bag = db \\\n",
    "    .from_sequence(glob.glob(\"../../tibert_data/OpenPecha/P000001/*.txt\")) \\\n",
    "    .map(load_from_filename) \\\n",
    "    .map(_segment_folios) \\\n",
    "    .flatten() \\\n",
    "    .map(lambda x: (x[0], space_re.sub(' ', x[1]).strip())) \\\n",
    "    .map(lambda x: (x[0], re.sub(\"[({][^(){}]*?[})]\", repl_split_commas_or_kill, x[1]))) \\\n",
    "    .map(lambda x: (x[0], re.sub(\"[({][^(){}]*?[})]\", repl_split_commas_or_kill, x[1]))) \\\n",
    "    .map(lambda x: (x[0], re.sub(\"[\\[\\]{}]\".format(bad_chars_to_remove), '', x[1])))\n",
    "kangyur_bag"
   ]
  },
  {
   "cell_type": "code",
   "execution_count": 100,
   "metadata": {},
   "outputs": [
    {
     "data": {
      "text/plain": [
       "65643"
      ]
     },
     "execution_count": 100,
     "metadata": {},
     "output_type": "execute_result"
    }
   ],
   "source": [
    "kangyur_bag.count().compute()"
   ]
  },
  {
   "cell_type": "code",
   "execution_count": 101,
   "metadata": {
    "scrolled": true
   },
   "outputs": [
    {
     "data": {
      "text/plain": [
       "(('F.1.a', ''),\n",
       " ('F.1.b',\n",
       "  '༄༅༅། །རྒྱ་གར་སྐད་དུ། བི་ན་ཡ་བསྟུ། བོད་སྐད་དུ། འདུལ་བ་གཞི། བམ་པོ་དང་པོ། དཀོན་མཆོག་གསུམ་ལ་ཕྱག་འཚལ་ལོ། །གང་གིས་འཆིང་ རྣམས་ཡང་དག་རབ་བཅད་ཅིང་། །མུ་སྟེགས་ཚོགས་རྣམས་ཐམས་ཅད་རབ་བཅོམ་སྟེ། །སྡེ་དང་བཅས་པའི་བདུད་རྣམས་ངེས་བཅོམ་ནས། །བྱང་ཆུབ་འདི་བརྙེས་དེ་ལ་ ཕྱག་འཚལ་ལོ། །ཁྱིམ་དོན་ཆེ་ཆུང་སྤངས་ཏེ་དང་པོར་རབ་འབྱུང་དཀའ། །རབ་བྱུང་ཐོབ་ནས་ཡུལ་སྤྱད་དག་གིས་དགའ་ཐོབ་དཀའ། །མངོན་དགའ་ཇི་བཞིན་དོན་བསྐྱེད་ཡང་ དག་བྱེད་པ་དཀའ། །ངུར་སྨྲིག་གོས་འཆང་མཁས་པ་ཚུལ་ལས་ཉམས་པ་དཀའ། །གཞི་རྣམས་ཀྱི་སྤྱི་སྡོམ་ལ། རབ་འབྱུང་གསོ་སྦྱོང་གཞི་དང་ནི། །དགག་དབྱེ་དབྱར་དང་ཀོ་ ལྤགས་གཞི། །སྨན་དང་གོས་དང་སྲ་བརྐྱང་དང་། །ཀཽ་ཤཱམ་བཱི་དང་ལས་ཀྱི་གཞི། །དམར་སེར་ཅན་དང་གང་ཟག་དང་། །སྤོ་དང་གསོ་སྦྱོང་བཞག་པ་དང་། །གནས་མལ་དང་ནི་'),\n",
       " ('F.2.a',\n",
       "  'རྩོད་པ་དང་། །དགེ་འདུན་དབྱེན་རྣམས་བསྡུས་པ་ཡིན། །རབ་ཏུ་འབྱུང་བའི་གཞིའི་སྤྱི་སྡོམ་ལ། ཤཱ་རིའི་བུ་དང་མུ་སྟེགས་ཅན། །དགེ་ཚུལ་གཉིས་དང་བྱ་རོག་སྐྲོད། །དགྲ་བཅོམ་བསད་དང་ལག་རྡུམ་གྱི། །སྡེ་ཚན་ ཡང་དག་བསྡུས་པ་ཡིན། །སྡོམ་ལ། ཤཱ་རིའི་བུ་དང་རབ་འབྱུང་དང་། །བསྙེན་པར་རྫོགས་པར་གནང་བ་དང་། །ཉེ་སྡེས་ཚོགས་ནི་བསྡུས་པ་དང་། །ལྔ་པའི་སྡེ་ཚན་བསྡུས་པ་ཡིན། །བྱང་ཆུབ་སེམས་དཔའ་དགའ་ལྡན་གྱི་གནས་ན་བཞུགས་པ་ན། ཡུལ་ཨང་ག་དག་ན་ཨང་གའི་རྒྱལ་པོ་ཞེས་བྱ་བས་རྒྱལ་སྲིད་འབྱོར་པ། རྒྱས་པ་བདེ་བ་ལོ་ལེགས་པ་སྐྱེ་བོ་དང་མི་མང་པོས་གང་བ་བྱེད་དུ་བཅུག་གོ། །ཡུལ་མ་ག་དྷཱ་དག་ན་ཡང་རྒྱལ་པོ་པད་མ་ཆེན་པོ་ཞེས་བྱ་བས། རྒྱལ་སྲིད་འབྱོར་པ་རྒྱས་པ་བདེ་བ་ལོ་ ལེགས་པ་སྐྱེ་བོ་དང་མི་མང་པོས་གང་བ་བྱེད་དུ་བཅུག་གོ། །རེས་འགའ་ནི་ཨང་གའི་རྒྱལ་པོ་དཔུང་དང་མཐུ་ཆེ་བ་ཡིན་ལ། རེས་འགའ་ནི་རྒྱལ་པོ་པད་མ་ཆེན་པོ་དཔུང་དང་མཐུ་ཆེ་བ་ཡིན་ནོ། །གང་གི་ཚེ་ཨང་གའི་རྒྱལ་པོ་དཔུང་དང་མཐུ་ཆེ་བ་དེའི་ཚེ་ ན། དེས་དཔུང་གི་ཚོགས་ཡན་ལག་བཞི་པ། གླང་པོ་ཆེ་པའི་ཚོགས་དང་། རྟ་པའི་ཚོགས་དང་། ཤིང་རྟ་པའི་ཚོགས་དང་། དཔུང་བུ་ཆུང་གི་ཚོགས་གོ་བསྐོན་ཏེ། ཡུལ་མ་ག་དྷཱ་རྒྱལ་པོའི་ཁབ་མ་གཏོགས་པ་བཅོམ་ནས་ཕྱིར་ལྡོག་པར་ བྱེད་དོ། །གང་གི་ཚེ་རྒྱལ་པོ་པད་མ་ཆེན་པོ་དཔུང་དང་མཐུ་ཆེ་བ་དེའི་ཚེ་ན། དེས་ཀྱང་དཔུང་གི་ཚོགས་ཡན་ལག་བཞི་པ། གླང་པོ་ཆེ་པའི་ཚོགས་དང་། རྟ་པའི་ཚོགས་དང་། ཤིང་རྟ་པའི་ཚོགས་དང་། དཔུང་བུ་ཆུང་གི་ཚོགས་གོ་བསྐོན་ཏེ།'),\n",
       " ('F.2.b',\n",
       "  'ཡུལ་ཨང་ག་ཙམ་པ་མ་གཏོགས་པ་བཅོམ་ནས་ཕྱིར་ལྡོག་པར་བྱེད་དོ། །དེ་ནས་དུས་གཞན་ཞིག་ན་ཨང་གའི་རྒྱལ་པོ་དཔུང་དང་མཐུ་ཆེ་བར་གྱུར་ནས། དེས་དཔུང་གི་ཚོགས་ཡན་ལག་བཞི་བ་གླང་པོ་ཆེ་པའི་ཚོགས་དང་། རྟ་པའི་ཚོགས་དང་། ཤིང་རྟ་པའི་ཚོགས་དང་། དཔུང་ བུ་ཆུང་གི་ཚོགས་གོ་བསྐོན་ཏེ། ཡུལ་མ་ག་དྷཱ་གཞོམ་པར་བརྩམས་པ་དང་། མ་ག་དྷཱ་ན་གནས་པའི་སྐྱེ་བོའི་ཚོགས་ཀྱིས་རྒྱལ་པོ་པད་མ་ཆེན་པོ་ལ་ལྷ་ཨང་གའི་རྒྱལ་པོས་དཔུང་གི་ཚོགས་ཡན་ལག་བཞི་པ་གླང་པོ་ཆེ་པའི་ཚོགས་དང་། རྟ་པའི་ཚོགས་དང་། ཤིང་རྟ་པའི་ ཚོགས་དང་། དཔུང་བུ་ཆུང་གི་ཚོགས་གོ་བསྐོན་ཏེ། ཡུལ་མ་ག་དྷཱ་འཇོམས་པར་བགྱིད་དོ་ཞེས་སྦྲོན་པ་དག་བཏང་ངོ་། །རྒྱལ་པོ་པད་མ་ཆེན་པོས་ཀྱང་ཐོས་ནས་དཔུང་གི་ཚོགས་ཡན་ལག་བཞི་པ་གླང་པོ་ཆེ་པའི་ཚོགས་དང་། རྟ་པའི་ཚོགས་དང་། ཤིང་རྟ་པའི་ཚོགས་དང་། དཔུང་བུ་ཆུང་གི་ཚོགས་གོ་བསྐོན་ཏེ། ཨང་གའི་རྒྱལ་པོ་དང་གཡུལ་སྤྲད་པའི་ཕྱིར་འཕགས་སོ། །དེ་ནས་ཨང་གའི་རྒྱལ་པོས་རྒྱལ་པོ་པད་མ་ཆེན་པོའི་གླང་པོ་ཆེ་པའི་ཚོགས་ཐམས་ཅད་ཕྲོགས་ཤིང་། རྟ་པའི་ཚོགས་དང་། ཤིང་རྟ་པའི་ཚོགས་དང་། དཔུང་བུ་ཆུང་གི་ ཚོགས་ཐམས་ཅད་ཀྱང་ཕྲོགས་སོ། །རྒྱལ་པོ་པད་མ་ཆེན་པོ་ཡང་ཕམ་པ་དང་། སྐྲག་པ་དང་། བཅོམ་པ་དང་། གཞན་རྒྱལ་བ་དང་། རྒྱབ་ཀྱིས་ཕྱོགས་པར་བྱས་ཏེ། རྒྱལ་པོའི་ཁབ་ཏུ་ཞུགས་ནས་སྒོ་བཅད་དེ། ར་བ་དག་གི་ཁར་སྦྲེངས་ནས་འདུག་གོ། །ཨང་གའི་རྒྱལ་ པོས་རྒྱལ་པོ་པད་མ་ཆེན་པོ་ལ་ཕོ་ཉ་བཏང་སྟེ། གལ་ཏེ་ཕྱིར་འབྱུང་ན་དེ་ལྟ་ན་ལེགས། གལ་ཏེ་ཕྱིར་མི་འབྱུང་ན་ཇི་སྟེ་སྟེང་གི་ནམ་མཁའ་ལ་འགྲོ་ན་ནི་མདའ་བརྒྱུད་པས་ཁྱོད་ལྟུང་བར་བྱའོ། །ཇི་སྟེ་སའི་འོག་ཏུ་འགྲོ་ན་ནི་མཆིལ་པ་དང་དྲང་བའི་ཚུལ་གྱིས་དྲང་བར་བྱའོ། །ཇི་སྟེ་རིའི་ རྩེ་མོར་འཛེག་ན་ནི་དེར་ཡང་ཁྱོད་ཐར་པ་མེད་དོ་ཞེས་སྤྲིང་ངོ་། །རྒྱལ་པོ་པད་མ་ཆེན་པོས་ཕྲིན་ཡིག་བཀླགས་ནས་དེ་མི་བདེ་བར་གྱུར་ཏེ། ལག་པ་ལ་འགྲམ་པ་གཏད་ནས་སེམས་ཁོང་དུ་ཆུད་ཅིང་འདུག་འདུག་ནས། དེས་བློན་པོ་རྣམས་ལ་སྨྲས་པ། ཤེས་ལྡན་དག་ཨང་གའི་རྒྱལ་'),\n",
       " ('F.3.a',\n",
       "  'པོ་འདི་ནི་གདུག་པ། ཕ་རོལ་གནོན་པ། དཔུང་དང་མཐུ་ཆེ་བར་གྱུར་ལ། དེས་ཡུ་བུ་ཅག་ལ་འདི་དང་འདི་སྐད་ཅེས་སྤྲིང་ན། དེ་ལ་ཡུ་བུ་ཅག་གིས་ཇི་ལྟར་བསྒྲུབ་པར་བྱ། དེ་དག་གིས་ཚིགས་སུ་བཅད་པ་སྨྲས་པ། ཡུལ་དང་སྲོག་ལ་གནོད་གྱུར་ན། ། སྐྱེས་བུས་ཀུན་དུ་སྲོག་བསྲུང་བྱ། །བློ་ཡིས་གཉིས་ཀ་དཔྱད་བྱས་ན། །ཡུལ་ནི་ཡང་རྙེད་སྲོག་རྣམས་མིན། །ལྷ་རྣམ་པ་ཐམས་ཅད་དུ་སླར་འབྱུང་བར་བགྱིའོ། །དེ་རལ་གྲི་མགུལ་དུ་ཐོགས་ཏེ་ཕྱིར་བྱུང་བ་དང་། ཨང་གའི་རྒྱལ་པོས་དེ་ལ་ལོ་ཐང་དང་དཔྱ་ཕབ་སྟེ་དེ་ཉིད་དུ་ བཞག་གོ། །གང་གི་ཚེ་བཅོམ་ལྡན་འདས་བྱང་ཆུབ་སེམས་དཔའ་དགའ་ལྡན་གྱི་གནས་ན་བཞུགས་པས་གཟིགས་པ་ལྔ་པོ་དག་ལ་གཟིགས་ནས་འདོད་པ་ན་སྤྱོད་པའི་ལྷ་དྲུག་པོ་དག་ལ་ལན་གསུམ་བསྒོ་བ་མཛད་དེ། གླང་པོ་ཆེ་ལྟར་སྣང་བར་བསྒྱུར་ཏེ། ཡུམ་གྱི་ལྷུམས་སུ་ ཞུགས་པ་དེའི་ཚེ་ན་ས་ཆེན་པོ་ཤིན་ཏུ་གཡོས་པར་གྱུར་ཅིང་འཇིག་རྟེན་འདི་ཐམས་ཅད་ཀྱང་སུམ་བཅུ་རྩ་གསུམ་པའི་ལྷ་རྣམས་ཀྱི་ཁ་དོག་གི་མཐུ་བས་ལྷག་པའི་སྣང་བ་རྒྱ་ཆེན་པོས་ཁྱབ་པར་གྱུར་ཅིང་། འཇིག་རྟེན་གྱི་འཇིག་རྟེན་གྱི་བར་གང་ན་ཉི་མ་དང་ཟླ་བ་འདི་ལྟར་རྫུ་འཕྲུལ་ཆེ་བ། འདི་ལྟར་མཐུ་ཆེ་བ་འདི་གཉིས་ཀྱི་འོད་དག་ཉམས་སུ་མི་མྱོང་བའི་མུན་པ་མུན་གནག་མུན་པར་བྱེད་པས། གནག་པར་གྱུར་པ་གང་དག་ཡིན་པ་དེ་དག་ཀྱང་དེའི་ཚེ་ན་སྣང་བ་རྒྱ་ཆེན་པོས་ཁྱབ་པར་གྱུར་ནས། སེམས་ཅན་གང་དག་དེར་སྐྱེས་པ་དག་གིས་རང་གི་ལག་པ་བརྐྱང་བ་ཡང་མི་ མཐོང་བ་དེ་དག་གིས་ཀྱང་འོད་དེས་སེམས་ཅན་གཅིག་གིས་གཅིག་མཐོང་ནས་ཤེས་ལྡན་དག་སེམས་ཅན་གཞན་ཡང་འདིར་སྐྱེས་སོ། །ཤེས་ལྡན་དག་སེམས་ཅན་གཞན་ཡང་འདིར་སྐྱེས་སོ་ཞེས་ཤེས་པར་གྱུར་ཏོ། །གང་གི་ཚེ་བཅོམ་ལྡན་འདས་བྱང་ཆུབ་སེམས་དཔའ་ བལྟམ་པ་དེའི་ཚེ་ན་གྲོང་ཁྱེར་ཆེན་པོ་བཞི་པོ་དག་ཏུ་རྒྱལ་པོ་ཆེན་པོ་བཞི་དག་གི་བུ་ཡང་བཙས་པར་གྱུར་ཏེ། རྒྱལ་པོའི་ཁབ་ཏུ་རྒྱལ་པོ་པད་མ་ཆེན་པོའི་བུ་བཙས་སོ། །མཉན་ཡོད་དུ་ནི་རྒྱལ་པོ་རྩིབས་ཀྱིས་འཕུར་ཚངས་བྱིན་གྱི་བུ་བཙས་སོ། །འཕགས་རྒྱལ་དུ་ནི་རྒྱལ་པོ་མུ་'),\n",
       " ('F.3.b',\n",
       "  'ཁྱུད་མཐའ་ཡས་ཀྱི་བུ་བཙས་སོ། །ཀཽ་ཤཱམ་བཱིར་ནི་རྒྱལ་པོ་དམག་བརྒྱ་པའི་བུ་བཙས་སོ། །བཅོམ་ལྡན་འདས་བྱང་ཆུབ་སེམས་དཔའ་བལྟམ་པ་ན་འཇིག་རྟེན་ཐམས་ཅད་སུམ་བཅུ་རྩ་གསུམ་པའི་ལྷ་རྣམས་ཀྱི་ཁ་དོག་གི་མཐུ་བས་ལྷག་པའི་སྣང་བ་རྒྱ་ཆེན་པོས་ཁྱབ་པར་གྱུར་ ཅིང་འཇིག་རྟེན་གྱི་འཇིག་རྟེན་གྱི་བར་གང་ན་ཉི་མ་དང་ཟླ་བ་འདི་ལྟར་རྫུ་འཕྲུལ་ཆེ་བ། འདི་ལྟར་མཐུ་ཆེ་བ་འདི་གཉིས་ཀྱི་འོད་དག་ཉམས་སུ་མི་མྱོང་བའི་མུན་པ་མུན་གནག་མུན་པར་བྱེད་པས་གནག་པར་གྱུར་པ་གང་དག་ཡིན་པ་དེ་དག་ཀྱང་དེའི་ཚེ་ན་སྣང་བ་རྒྱ་ཆེན་པོས་ཁྱབ་པར་གྱུར་ ནས། སེམས་ཅན་གང་དག་དེར་སྐྱེས་པ་དག་གིས་རང་གི་ལག་པ་བརྐྱང་བ་ཡང་མི་མཐོང་བ་དེ་དག་གིས་ཀྱང་འོད་དེས་སེམས་ཅན་གཅིག་གིས་གཅིག་མཐོང་ནས་ཤེས་ལྡན་དག་སེམས་ཅན་གཞན་ཡང་འདིར་སྐྱེས་སོ། །ཤེས་ལྡན་དག་སེམས་ཅན་གཞན་ཡང་འདིར་སྐྱེས་སོ་ ཞེས་ཤེས་པར་གྱུར་ཏོ། །རྒྱལ་པོ་པད་མ་ཆེན་པོས་བསམས་པ། བདག་གི་བུ་བཙས་པ་ན་འཇིག་རྟེན་ཉི་མའི་གཟུགས་ཤར་བ་ལྟར་སྣང་ཞིང་འདི་བཙུན་མོ་གཟུགས་ཅན་གྱི་བུ་ཡིན་པས་གཞོན་ནུ་འདིའི་མིང་གཟུགས་ཅན་སྙིང་པོར་གདགས་སོ་སྙམ་ནས་བུ་དེའི་མིང་གཟུགས་ ཅན་སྙིང་པོ་ཞེས་བྱ་བར་བཏགས་སོ། །རྒྱལ་པོ་རྩིབས་ཀྱིས་འཕུར་ཚངས་བྱིན་གྱིས་བསམས་པ། བདག་གི་བུ་བཙས་པ་ན་འཇིག་རྟེན་གསལ་བ་གསལ་བ་ལྟར་སྣང་བས་གཞོན་ནུ་འདིའི་མིང་གསལ་རྒྱལ་དུ་གདགས་སོ་སྙམ་ནས་བུ་དེའི་མིང་གསལ་རྒྱལ་ཞེས་བྱ་བར་ བཏགས་སོ། །རྒྱལ་པོ་དམག་བརྒྱ་པས་བསམས་པ། བདག་གི་བུ་བཙས་པ་ན་འཇིག་རྟེན་ཉི་མ་ཤར་བ་ལྟར་སྣང་བར་གྱུར་པས་གཞོན་ནུ་འདིའི་མིང་ཤར་བར་གདགས་སོ་སྙམ་ནས་བུ་དེའི་མིང་ཤར་བ་ཞེས་བྱ་བར་བཏགས་སོ། །རྒྱལ་པོ་མུ་ཁྱུད་མཐའ་ཡས་ཀྱིས་ བསམས་པ། བདག་གི་བུ་བཙས་པ་ན་འཇིག་རྟེན་རབ་ཏུ་སྣང་བས་སྣང་བར་གྱུར་པས་གཞོན་ནུ་འདིའི་མིང་རབ་སྣང་ཞེས་བྱ་བར་གདགས་སོ་སྙམ་ནས་བུ་དེའི་མིང་རབ་སྣང་ཞེས་བྱ་བར་བཏགས་སོ། །རྒྱལ་པོ་རེ་རེས་བསམས་པ་ཡང་བདག་གི་བུ་འདིའི་མཐུ་ཡིན་ནོ། །བདག་'),\n",
       " ('F.4.a',\n",
       "  'གི་བུ་འདིའི་མཐུ་ཡིན་ནོ་སྙམ་མོད་ཀྱི། དེ་ནི་དེ་ལྟ་མ་ཡིན་ཏེ། འདི་ལྟར་དེ་དག་ཐམས་ཅད་ནི་བྱང་ཆུབ་སེམས་དཔའི་མཐུ་ཡིན་པའི་ཕྱིར་རོ། །གང་གི་ཉིན་མོ་གཞོན་ནུ་གཟུགས་ཅན་སྙིང་པོ་བཙས་པ་དེ་ཉིད་ཀྱི་ཉིན་མོ་བློན་པོ་ལྔ་བརྒྱ་དག་གི་བུ་ལྔ་བརྒྱ་ཡང་ བཙས་ཏེ། དེ་དག་ཀྱང་རིགས་དང་མཐུན་པར་མིང་བཏགས་སོ། །གཞོན་ནུ་གཟུགས་ཅན་སྙིང་པོ་མ་མ་བརྒྱད་པོ་པང་ན་འཚོ་བའི་མ་མ་གཉིས་དང་། ནུ་མ་སྣུན་པའི་མ་མ་གཉིས་དང་། དྲི་མ་འཕྱི་བའི་མ་མ་གཉིས་དང་། རྩེན་གྲོགས་ཀྱི་མ་མ་གཉིས་ལ་རྗེས་སུ་གཏད་དོ། ། དེ་མ་མ་བརྒྱད་པོ་དག་གིས་འོ་མ་དང་། ཞོ་དང་། མར་དང་། ཞུན་མར་དང་། མར་གྱི་སྙིང་ཁུ་དང་། གཞན་ཡང་ཡོ་བྱད་ཀྱི་བྱེ་བྲག་གཙོ་བོ་གཙོ་བོ་དག་གིས་སྲིང་བར་བྱེད། སྐྱེད་པར་བྱེད་ཅིང་རྫིང་ན་གནས་པའི་པད་མ་བཞིན་མྱུར་དུ་སྐྱེད་པར་བྱེད་དོ། །དེ་གང་གི་ཚེ་ཆེན་ པོར་གྱུར་པ་དེའི་ཚེ་ཡི་གེ་དང་། གྲངས་དང་། རྩིས་དང་། ལག་རྩིས་དང་། དབྱུང་བ་དང་། གཞུག་པ་དང་། གཞག་པ་ལ་ཉེ་བར་ཞུགས་ནས། དེ་ཡི་གེའི་མཐར་ཕྱིན་ཅིང་འབྱེད་པ་དང་། ཀློག་པ་དང་། མཁས་པ་དང་། སྐྱོད་པ་གསལ་བ་དང་། བརྟག་པ་བརྒྱད་ པོ་འདི་ལྟ་སྟེ། རིན་པོ་ཆེ་བརྟག་པ་དང་། གཞི་བརྟག་པ་དང་། གོས་བརྟག་པ་དང་། ཤིང་བརྟག་པ་དང་། གླང་པོ་ཆེ་བརྟག་པ་དང་། རྟ་བརྟག་པ་དང་། བུད་མེད་བརྟག་པ་དང་། སྐྱེས་པ་བརྟག་པ་ལ་མཁས་པར་གྱུར་ཏོ། །རྒྱལ་པོ་རྒྱལ་རིགས་སྤྱི་བོར་དབང་ བསྐུར་བ་ལྗོངས་ཀྱི་དབང་ཕྱུག་མཐུ་དང་བརྩོན་འགྲུས་ཐོབ་པ། ས་ཆེན་པོའི་དཀྱིལ་འཁོར་མངོན་པར་རྒྱལ་བར་བྱས་ཏེ་གནས་པ་རྣམས་ཀྱི་བཟོའི་གནས་དང་། ལས་ཀྱི་གནས་ཐ་དད་པར་གྱུར་པ་གང་དག་ཡིན་པ་འདི་ལྟ་སྟེ། གླང་པོ་ཆེའི་གཉར་བཞོན་པ་དང་། རྟ་བཞོན་ པ་དང་། ཤིང་རྟའི་ཐབས་དང་། རལ་གྲིའི་ཐབས་དང་། འཕོང་དང་། ཕྱིར་བསྣུར་བ་དང་། མདུན་དུ་བསྣུར་བ་དང་། ལྕགས་ཀྱི་བསྒྱུར་ཐབས་དང་། ཞགས་པ་གདབ་པ་དང་། མདའ་བོ་ཆེ་འཕེན་ཐབས་དང་། འཛིན་སྟངས་དང་། གོམ་སྟངས་དང་། ཐོར་ཚུགས་'),\n",
       " ('F.4.b',\n",
       "  'དང་། གཅད་པ་དང་། དྲལ་བ་དང་། དབུག་པ་དང་། གནས་ལྔ་པོ་འདི་ལྟ་སྟེ། རྒྱང་ནས་འཕོག་པ་དང་། སྒྲ་གྲགས་པར་འཕོག་པ་དང་། གནད་དུ་འཕོག་པ་དང་། མི་འཆོར་བར་འཕོག་པ་དང་། ཚབས་ཆེ་བ་དེ་དག་ལ་ཡང་ཞུགས་ཤིང་བྱང་བར་གྱུར་ཏོ། །བློན་ པོའི་བུ་ལྔ་བརྒྱ་པོ་དེ་དག་ཀྱང་བཟོའི་གནས་དང་། ལས་ཀྱི་གནས་དག་ལ་བྱང་བར་གྱུར་ཏོ། །དེ་ཕས་བཟོ་སྦྱང་བ་བརྒྱད་པོ་དག་ལ་བཅུག་ནས་དེའི་མིང་བཟོ་སྦྱངས་གཟུགས་ཅན་སྙིང་པོ། །བཟོ་སྦྱངས་གཟུགས་ཅན་སྙིང་པོ་ཞེས་བྱ་བར་གྱུར་ཏོ། །དེ་ནས་དུས་གཞན་ ཞིག་ན་གཞོན་ནུ་གཟུགས་ཅན་སྙིང་པོ་གླང་པོ་ཆེ་ལ་ཞོན་ཏེ་ལྗོངས་སུ་བྱུང་བ་དང་། དེས་ཨང་གའི་རྒྱལ་པོའི་ཞོ་ཤས་འཚོ་བ་དག་ལོ་ཐང་དང་དཔྱ་སྡུད་པ་མཐོང་ནས། དེས་སྨྲས་པ། ཤེས་ལྡན་དག་ལོ་ཐང་དང་དཔྱ་སྡུད་པ་འདི་དག་སུའི་ཡིན། དེ་དག་གིས་སྨྲས་པ། ལྷ་ ཨང་གའི་རྒྱལ་པོའི་ལགས་སོ། །དེས་སྨྲས་པ། ཅི་ཡུ་བུ་ཅག་དེ་ལ་ལོ་ཐང་འབུལ་བ་ཡིན་ནམ། དེ་དག་གིས་སྨྲས་པ། ལྷ་ལོ་ཐང་འབུལ་བ་ལགས་སོ། །དེས་སྨྲས་པ། ཤེས་ལྡན་དག་ཞོ་ཤས་འཚོ་བ་དེ་དག་བོས་ཤིག །དེ་དག་གིས་བོས་པ་དང་། དེས་སྨྲས་ པ། ཤེས་ལྡན་དག་དེ་ཡང་རྒྱལ་པོ་རྒྱལ་རིགས་སྤྱི་བོར་དབང་བསྐུར་བ་ཡིན་ལ། ངེད་ཀྱང་རྒྱལ་པོ་རྒྱལ་རིགས་སྤྱི་བོར་དབང་བསྐུར་བ་ཡིན་ན། ཅིའི་ཕྱིར་ཁྱེད་ཅག་ལོ་ཐང་དང་དཔྱ་སྡུད་པར་བྱེད། དེང་ལ་ཕྱིན་ཆད་ལོ་ཐང་དང་དཔྱ་མ་སྡུད་ཅིག །དེ་དག་གིས་བསམས་ པ། གཞོན་ནུ་འདི་ནི་རྒྱུས་མི་ཤེས་པ་ཡིན་པས་བདག་ཅག་རྒྱལ་པོ་པད་མ་ཆེན་པོའི་གན་དུ་འདོང་ཞིང་སོང་ནས་བསྙད་པར་བྱའོ་སྙམ་ནས། དེ་དག་རྒྱལ་པོ་པད་མ་ཆེན་པོའི་གན་དུ་སོང་སྟེ་ཕྱིན་ནས་སྨྲས་པ། ལྷ་བདག་ཅག་ཨང་གའི་རྒྱལ་པོའི་ཞོ་ཤས་འཚོ་བ་ལོ་ཐང་དང་དཔྱ་ སྡུད་པ་ན་གཞོན་ནུ་གཟུགས་ཅན་སྙིང་པོས་བཀག་ན། ཅི་བསྡུ་བར་འཚལ་ལམ། འོན་ཏེ་སླར་མཆི་བར་འཚལ། དེས་སྨྲས་པ། ཤེས་ལྡན་དག་གཞོན་ནུ་དེ་ནི་རྒྱུས་མི་ཤེས་པ་ཡིན་པས་ཁྱེད་ཅག་སྔོན་ཇི་ལྟར་ལོ་ཐང་དང་དཔྱ་སྡུད་པ་དེ་བཞིན་དུ་སྡུས་ཤིག །དེ་དག་གིས་'),\n",
       " ('F.5.a',\n",
       "  'ཡང་བསྡུ་བར་བརྩམས་ཏེ། དེ་དག་འོངས་ནས་ཕྱིར་ལྡོག་པ་གཞོན་ནུ་གཟུགས་ཅན་སྙིང་པོས་མཐོང་ནས་སྨྲས་པ། ཤེས་ལྡན་དག་ངས་ཁྱེད་ལ་ཕྱིན་ཆད་ལོ་ཐང་དང་དཔྱ་མ་སྡུད་ཅིག་ཅེས་མ་བཟློག་གམ། ཅིའི་ཕྱིར་ཡང་ཁྱེད་ལོ་ཐང་དང་དཔྱ་སྡུད། གལ་ ཏེ་རེ་ཞིག་འཁོད་ན་དེ་ལྟ་ན་ལེགས། གལ་ཏེ་མི་འཁོད་ན་མཚམས་ཆེན་པོ་གཅད་པར་བྱའོ། །དེ་དག་སྐྲག་ནས་བསམས་པ། གཞོན་ནུ་འདི་ནི་གདུག་པ་ཕ་རོལ་གནོན་པ་ཡིན་པས་བདག་ཅག་ལ་གནོད་པ་བྱེད་པར་འགྱུར་བ་གང་ཡིན་པ་དེ་ལྟ་བུའི་གནས་ཡོད་པར་འགྱུར་གྱིས། བདག་ཅག་ཨང་གའི་རྒྱལ་པོའི་གན་དུ་དོང་སྟེ་སྦྲན་པར་བྱའོ་སྙམ་ནས་དེ་དག་ཨང་གའི་རྒྱལ་པོའི་གན་དུ་དོང་སྟེ་ཕྱིན་ནས་སྨྲས་པ། ལྷ་བདག་ཅག་ལྷའི་ཞོ་ཤས་འཚོ་བ་ལགས་ཏེ། བདག་ཅག་ལྷའི་ལོ་ཐང་དང་དཔྱ་སྡུད་པ་ན་རྒྱལ་པོ་པད་མ་ཆེན་པོའི་བུ་གཞོན་ནུ་གཟུགས་ཅན་སྙིང་ པོ་དེས་བཟློག་ལགས་ན། ད་གལ་ཏེ་ལྷས་བཏང་སྙོམས་མཛད་ན་སླད་ཀྱིས་གནོད་པ་ཆེན་པོ་བགྱིད་པར་འགྱུར་བ་གང་ལགས་པ་དེ་ལྟ་བུའི་གནས་མཆིས་པར་འགྱུར་རོ། །ཚིགས་སུ་བཅད་པ་ཡང་སྨྲས་པ། ཇི་སྲིད་ཤིང་ནི་གཞོན་པའི་ཚེ། །སེན་མོ་དག་གིས་གཅད་ནུས་པ། ། དེ་ཉིད་ཆེན་པོར་སྐྱེས་པ་ན། །སྟ་རེ་བརྒྱས་ཀྱང་གཅད་པར་དཀའ། །ཨང་གའི་རྒྱལ་པོས་རྒྱལ་པོ་པད་མ་ཆེན་པོ་ལ་གཞོན་ནུ་གཟུགས་ཅན་སྙིང་པོ་མགུལ་པ་ནས་ཐོགས་ལ་ཚུར་བཀྲི་བའམ། ཡང་ན་རྩྭ་དང་ཆས་སྟ་གོན་གྱིས་ཤིག་དང་། ང་ཉིད་འོ་ནིར་འོང་ངོ་ཞེས་ཕྲིན་ཡིག་ སྤྲིང་ངོ་། །རྒྱལ་པོ་པད་མ་ཆེན་པོས་ཕྲིན་ཡིག་བཀླགས་ནས་དེ་མི་བདེ་བར་གྱུར་ཏེ་ལག་པ་འགྲམ་པ་ལ་གཏད་ནས། སེམས་ཁོང་དུ་ཆུད་ཅིང་འདུག་འདུག་ནས། དེས་གཞོན་ནུ་གཟུགས་ཅན་སྙིང་པོ་བོས་ནས་སྨྲས་པ། ཅིའི་ཕྱིར་ཁྱོད་ཀྱིས་ཨང་གའི་རྒྱལ་པོའི་ཞོ་ཤས་འཚོ་བ་དག་ ལོ་ཐང་དང་དཔྱ་སྡུད་པ་ཟློག། དེས་ཁྲོས་ཏེ་ང་ལ་འདི་དང་འདི་སྐད་ཅེས་སྤྲིང་ངོ་། །དེས་སྨྲས་པ། ལྷ་ཅི་སྐོལ་དེ་ལ་ལོ་ཐང་འབུལ་བ་ལགས་སམ། བུ་ལོ་ཐང་འབུལ་བ་ཡིན་ནོ། །དེས་སྨྲས་པ། ལྷ་དེ་ཡང་རྒྱལ་པོ་རྒྱལ་རིགས་སྤྱི་བོར་དབང་བསྐུར་བ་ལགས་ལ། སྐོལ་ཀྱང་'),\n",
       " ('F.5.b',\n",
       "  'རྒྱལ་པོ་རྒྱལ་རིགས་སྤྱི་བོར་དབང་བསྐུར་བ་ལགས་ན། ཅིའི་སླད་དུ་སྐོལ་དེ་ལ་ལོ་ཐང་དང་དཔྱ་འབུལ། ལྷས་བདག་ལ་དཔུང་གི་ཚོགས་ཡན་ལག་བཞི་པ་སྩལ་བ་འབའ་ཞིག་མཛོད་ཅིག་དང་། བདག་གིས་ཨང་གའི་རྒྱལ་པོ་དང་ལྷན་ཅིག་གཡུལ་ངོར་གཡུལ་སྤྲད་པར་ བགྱིའོ། །དེ་ནས་རྒྱལ་པོ་པད་མ་ཆེན་པོས་ཨང་གའི་རྒྱལ་པོ་ལ་ཁྱོད་ཀྱི་མཐུ་དང་། དཔུང་དང་། བརྩོན་འགྲུས་དང་། ཕ་རོལ་གནོན་པ་གང་དག་ཡིན་པ་དེ་དག་ཐམས་ཅད་མ་ཉམས་པར་གྱིས་ཤིག་ཅེས་ཕྲིན་ཡིག་སྤྲིང་ངོ་། །ཨང་གའི་རྒྱལ་པོས་ཐོས་ནས་མི་བཟོད་ པ་སྐྱེས་ཏེ་བློན་པོ་རྣམས་ལ་སྨྲས་པ། ཤེས་ལྡན་དག་དེའི་ཡུལ་འཁོར་གཞོམ་པར་བྱས། དཔུང་གི་ཚོགས་ཡན་ལག་བཞི་པ་གོ་སྐོན་ཅིག །དེས་དཔུང་གི་ཚོགས་ཡན་ལག་བཞི་པ་གླང་པོ་ཆེ་པའི་ཚོགས་དང་། རྟ་པའི་ཚོགས་དང་། ཤིང་རྟ་པའི་ཚོགས་དང་། དཔུང་བུ་ཆུང་གི་ ཚོགས་གོ་བསྐོན་ཏེ་ཡུལ་མ་ག་དྷཱ་གཞོམ་པར་བརྩམས་པ་དང་། མ་ག་དྷཱ་ན་གནས་པའི་སྐྱེ་བོའི་ཚོགས་ཀྱིས་རྒྱལ་པོ་པད་མ་ཆེན་པོ་ལ་ལྷ་ཨང་གའི་རྒྱལ་པོ་འདི་དཔུང་གི་ཚོགས་ཡན་ལག་བཞི་པ་གླང་པོ་ཆེ་པའི་ཚོགས་དང་། རྟ་པའི་ཚོགས་དང་། ཤིང་རྟ་པའི་ཚོགས་དང་། དཔུང་བུ་ཆུང་གི་ཚོགས་གོ་བསྐོན་ཏེ་ཡུལ་མ་ག་དྷཱ་འཇོམས་པར་བགྱིད་དོ་ཞེས་སྦྲོན་པ་དག་བཏང་ངོ་། །རྒྱལ་པོ་པད་མ་ཆེན་པོས་ཐོས་ནས་དེ་མི་བདེ་བར་གྱུར་ཏེ་ལག་པ་འགྲམ་པ་ལ་གཏད་ནས། སེམས་ཁོང་དུ་ཆུད་ཅིང་འདུག་འདུག་ནས། དེས་གཞོན་ནུ་གཟུགས་ཅན་སྙིང་པོ་བོས་ ཏེ། དེ་ལ་དཔུང་གི་ཚོགས་ཡན་ལག་བཞི་པ་བྱིན་ནོ། །གཞོན་ནུ་གཟུགས་ཅན་སྙིང་པོས་བློན་པོའི་བུ་ལྔ་བརྒྱ་བསྡུས་ཏེ་སྨྲས་པ། ཤེས་ལྡན་དག་ང་ནི་ཨང་གའི་རྒྱལ་པོ་དང་ལྷན་ཅིག་གཡུལ་ངོར་གཡུལ་སྤྲོད་པར་བྱེད་ན་ཤེས་ལྡན་དག་ཅི་བྱེད། དེ་དག་གིས་སྨྲས་པ། གཞོན་ནུ་ཁྱོད་ཀྱི་གནས་སྐབས་གང་ལགས་པ་དེ་བདག་ཅག་གི་ཡང་ལགས་སོ། །དེས་ཚིགས་སུ་བཅད་པ་སྨྲས་པ། མི་གང་ལ་ནི་ཁྱིམ་དཔལ་གནས། །དེ་ནི་ཀུན་གྱིས་ཡོངས་བསྲུང་བྱ། །དེ་ཉམས་ན་ནི་ཀུན་ཉམས་ཏེ། །ལྟེ་བ་ཆག་པས་རྩིབས་རྣམས་བཞིན། །ད་ཁྱེད་'))"
      ]
     },
     "execution_count": 101,
     "metadata": {},
     "output_type": "execute_result"
    }
   ],
   "source": [
    "kangyur_bag.take(10)"
   ]
  },
  {
   "cell_type": "markdown",
   "metadata": {},
   "source": [
    "### Load clean version split by section"
   ]
  },
  {
   "cell_type": "code",
   "execution_count": 102,
   "metadata": {},
   "outputs": [
    {
     "data": {
      "text/plain": [
       "dask.bag<operator.methodcaller('replace', '\\n', ''), npartitions=103>"
      ]
     },
     "execution_count": 102,
     "metadata": {},
     "output_type": "execute_result"
    }
   ],
   "source": [
    "def repl_split_commas_or_kill(match):\n",
    "    match = match.group(0)\n",
    "    if ',' in match:\n",
    "        return match.split(',')[0][1:]\n",
    "    if '‚' in match:\n",
    "        return match.split('‚')[0][1:]\n",
    "    return ''\n",
    "\n",
    "\n",
    "# Basic strategy:\n",
    "#    1. Find all round and curly braces (no curly braces in the Kangyur but inspired by the Tengyur we still do it)\n",
    "#        a. If there is a comma in the bracketed text, split along comma and take first element (uncorrected)\n",
    "#        b. If no comma then just kill entire bracketed text (remove comments and mark-up)\n",
    "#    2. Remove square brackets and leave text inside them (presumed interpolation for damage etc)\n",
    "#    3. Remove unmatched commas, brackets, stars, the BOM, etc (leaves small number of bad morphemes that are very hard to clean)\n",
    "\n",
    "# Need to repl_split_commas_or_kill twice because there is some nested round bracketed text, up to depth 2\n",
    "# There are opening/closing brackets with no matching brackets\n",
    "\n",
    "bad_chars_to_remove = \"*`p}1-9\\ufeff�‘’\"\n",
    "\n",
    "kangyur_bag = db \\\n",
    "    .from_sequence(glob.glob(\"../../tibert_data/OpenPecha/P000001/*.txt\")) \\\n",
    "    .map(load_from_filename) \\\n",
    "    .map(lambda x: re.sub(\"[({][^(){}]*?[})]\", repl_split_commas_or_kill, x)) \\\n",
    "    .map(lambda x: re.sub(\"[({][^(){}]*?[})]\", repl_split_commas_or_kill, x)) \\\n",
    "    .map(lambda x: re.sub(\"[\\[\\]{}]\".format(bad_chars_to_remove), '', x)) \\\n",
    "    .str.split(' ') \\\n",
    "    .flatten() \\\n",
    "    .str.replace('\\n', '')\n",
    "kangyur_bag"
   ]
  },
  {
   "cell_type": "code",
   "execution_count": 105,
   "metadata": {},
   "outputs": [
    {
     "data": {
      "text/plain": [
       "'༄ ༅ ༈ ་ ༌ ། ༑ ༠ ༡ ༢ ༣ ༤ ༥ ༦ ༧ ༨ ༩ ༼ ༽ ཀ ཁ ག ང ཅ ཆ ཇ ཉ ཊ ཋ ཌ ཎ ཏ ཐ ད དྷ ན པ ཕ བ བྷ མ ཙ ཚ ཛ ཝ ཞ ཟ འ ཡ ར ལ ཤ ཥ ས ཧ ཨ ཀྵ ཪ ཱ ི ུ ེ ཻ ོ ཽ ཾ ཿ ྀ ྂ ྃ ྅ ྈ ྉ ྍ ྎ ྐ ྑ ྒ ྔ ྕ ྗ ྙ ྚ ྛ ྜ ྞ ྟ ྠ ྡ ྣ ྤ ྥ ྦ ྨ ྩ ྪ ྫ ྭ ྰ ྱ ྲ ླ ྴ ྵ ྶ ྷ ྸ ྺ ྻ ྼ'"
      ]
     },
     "execution_count": 105,
     "metadata": {},
     "output_type": "execute_result"
    }
   ],
   "source": [
    "all_letters = \\\n",
    "    sorted( \\\n",
    "        kangyur_bag \\\n",
    "            .flatten() \\\n",
    "            .distinct() \\\n",
    "            .compute())\n",
    "' '.join(all_letters)"
   ]
  },
  {
   "cell_type": "code",
   "execution_count": 106,
   "metadata": {},
   "outputs": [
    {
     "data": {
      "text/plain": [
       "2254177"
      ]
     },
     "execution_count": 106,
     "metadata": {},
     "output_type": "execute_result"
    }
   ],
   "source": [
    "kangyur_bag.count().compute()"
   ]
  },
  {
   "cell_type": "code",
   "execution_count": 107,
   "metadata": {},
   "outputs": [
    {
     "data": {
      "text/plain": [
       "('༄༅༅།',\n",
       " '།རྒྱ་གར་སྐད་དུ།',\n",
       " 'བི་ན་ཡ་བསྟུ།',\n",
       " 'བོད་སྐད་དུ།',\n",
       " 'འདུལ་བ་གཞི།',\n",
       " 'བམ་པོ་དང་པོ།',\n",
       " 'དཀོན་མཆོག་གསུམ་ལ་ཕྱག་འཚལ་ལོ།',\n",
       " '།གང་གིས་འཆིང་རྣམས་ཡང་དག་རབ་བཅད་ཅིང་།',\n",
       " '།མུ་སྟེགས་ཚོགས་རྣམས་ཐམས་ཅད་རབ་བཅོམ་སྟེ།',\n",
       " '།སྡེ་དང་བཅས་པའི་བདུད་རྣམས་ངེས་བཅོམ་ནས།',\n",
       " '།བྱང་ཆུབ་འདི་བརྙེས་དེ་ལ་ཕྱག་འཚལ་ལོ།',\n",
       " '།ཁྱིམ་དོན་ཆེ་ཆུང་སྤངས་ཏེ་དང་པོར་རབ་འབྱུང་དཀའ།',\n",
       " '།རབ་བྱུང་ཐོབ་ནས་ཡུལ་སྤྱད་དག་གིས་དགའ་ཐོབ་དཀའ།',\n",
       " '།མངོན་དགའ་ཇི་བཞིན་དོན་བསྐྱེད་ཡང་དག་བྱེད་པ་དཀའ།',\n",
       " '།ངུར་སྨྲིག་གོས་འཆང་མཁས་པ་ཚུལ་ལས་ཉམས་པ་དཀའ།',\n",
       " '།གཞི་རྣམས་ཀྱི་སྤྱི་སྡོམ་ལ།',\n",
       " 'རབ་འབྱུང་གསོ་སྦྱོང་གཞི་དང་ནི།',\n",
       " '།དགག་དབྱེ་དབྱར་དང་ཀོ་ལྤགས་གཞི།',\n",
       " '།སྨན་དང་གོས་དང་སྲ་བརྐྱང་དང་།',\n",
       " '།ཀཽ་ཤཱམ་བཱི་དང་ལས་ཀྱི་གཞི།')"
      ]
     },
     "execution_count": 107,
     "metadata": {},
     "output_type": "execute_result"
    }
   ],
   "source": [
    "kangyur_bag.take(20)"
   ]
  },
  {
   "cell_type": "markdown",
   "metadata": {},
   "source": [
    "## Tengyur"
   ]
  },
  {
   "cell_type": "markdown",
   "metadata": {},
   "source": [
    "### Clean-up analyses"
   ]
  },
  {
   "cell_type": "markdown",
   "metadata": {},
   "source": [
    "#### Square bracketed text"
   ]
  },
  {
   "cell_type": "code",
   "execution_count": null,
   "metadata": {},
   "outputs": [],
   "source": [
    "tengyur_bag = db \\\n",
    "    .from_sequence(glob.glob(\"../../tibert_data/derge-tengyur/text/*.txt\")) \\\n",
    "    .map(load_with_filename) \\\n",
    "    .map(lambda x: (x[0], re.sub(\"\\[[0-9 ]+[ab.0-9]+\\]\", '', x[1]))) \\\n",
    "    .map(lambda x: [str((x[0], text)) for text in re.findall(\"\\[[^\\[\\]]*\\]\", x[1])]) \\\n",
    "    .flatten() \\\n",
    "    .distinct()\n",
    "tengyur_bag"
   ]
  },
  {
   "cell_type": "code",
   "execution_count": null,
   "metadata": {},
   "outputs": [],
   "source": [
    "tengyur_bag.count().compute()"
   ]
  },
  {
   "cell_type": "code",
   "execution_count": null,
   "metadata": {},
   "outputs": [],
   "source": [
    "tengyur_bag.repartition(1).to_textfiles(\"c:/workspace/tibert_data/tengyur_square_bracketed_*.txt\")"
   ]
  },
  {
   "cell_type": "markdown",
   "metadata": {},
   "source": [
    "PLAN: Drop the headings, then drop the brackets and leave the remaining bracketed text where it is"
   ]
  },
  {
   "cell_type": "markdown",
   "metadata": {},
   "source": [
    "#### # sign - safe to remove?"
   ]
  },
  {
   "cell_type": "code",
   "execution_count": null,
   "metadata": {},
   "outputs": [],
   "source": [
    "tengyur_bag = db \\\n",
    "    .from_sequence(glob.glob(\"../../tibert_data/derge-tengyur/text/*.txt\")) \\\n",
    "    .map(load_from_filename) \\\n",
    "    .str.split(' ') \\\n",
    "    .flatten() \\\n",
    "    .str.replace('\\n', '') \\\n",
    "    .filter(lambda x: '#' in x)\n",
    "tengyur_bag"
   ]
  },
  {
   "cell_type": "code",
   "execution_count": null,
   "metadata": {},
   "outputs": [],
   "source": [
    "tengyur_bag.count().compute()"
   ]
  },
  {
   "cell_type": "code",
   "execution_count": null,
   "metadata": {},
   "outputs": [],
   "source": [
    "tengyur_bag.repartition(1).to_textfiles(\"c:/workspace/tibert_data/tengyur_hashtag_*.txt\")"
   ]
  },
  {
   "cell_type": "markdown",
   "metadata": {},
   "source": [
    "Remove the # sign"
   ]
  },
  {
   "cell_type": "markdown",
   "metadata": {},
   "source": [
    "#### Round or curly brackets"
   ]
  },
  {
   "cell_type": "code",
   "execution_count": null,
   "metadata": {},
   "outputs": [],
   "source": [
    "tengyur_bag = db \\\n",
    "    .from_sequence(glob.glob(\"../../tibert_data/derge-tengyur/text/*.txt\")) \\\n",
    "    .map(load_from_filename) \\\n",
    "    .map(lambda x: re.findall(\"[({][^(){}]*?[})]\", x)) \\\n",
    "    .flatten() \\\n",
    "    .distinct()\n",
    "tengyur_bag"
   ]
  },
  {
   "cell_type": "code",
   "execution_count": null,
   "metadata": {},
   "outputs": [],
   "source": [
    "tengyur_bag.count().compute()"
   ]
  },
  {
   "cell_type": "code",
   "execution_count": null,
   "metadata": {},
   "outputs": [],
   "source": [
    "tengyur_bag.repartition(1).to_textfiles(\"c:/workspace/tibert_data/tengyur_round_or_curly_*.txt\")"
   ]
  },
  {
   "cell_type": "code",
   "execution_count": null,
   "metadata": {},
   "outputs": [],
   "source": [
    "tengyur_bag = db \\\n",
    "    .read_text(\"../../tibert_data/derge-tengyur/text/*.txt\") \\\n",
    "    .filter(lambda x: '(' in x)"
   ]
  },
  {
   "cell_type": "code",
   "execution_count": null,
   "metadata": {},
   "outputs": [],
   "source": [
    "tengyur_bag.count().compute()"
   ]
  },
  {
   "cell_type": "code",
   "execution_count": null,
   "metadata": {},
   "outputs": [],
   "source": [
    "test_str = \" \".join(tengyur_bag.take(2))\n",
    "test_str"
   ]
  },
  {
   "cell_type": "code",
   "execution_count": null,
   "metadata": {},
   "outputs": [],
   "source": [
    "def repl_get_first_elem(matchobj):\n",
    "#     print(matchobj.group(0))\n",
    "#     print(matchobj.group(1))\n",
    "#     print(matchobj.group(2))\n",
    "    return matchobj.group(1)\n",
    "\n",
    "print(test_str)\n",
    "\n",
    "re.sub(\"\\(([^,]*),([^,]*)\\)\", repl_get_first_elem, test_str)"
   ]
  },
  {
   "cell_type": "code",
   "execution_count": null,
   "metadata": {},
   "outputs": [],
   "source": [
    "tengyur_bag = db \\\n",
    "    .from_sequence(glob.glob(\"../../tibert_data/derge-tengyur/text/*.txt\")) \\\n",
    "    .map(load_from_filename) \\\n",
    "    .map(lambda x: re.findall(\"\\([^,]*,[^,]*\\)\", x)) \\\n",
    "    .flatten() \\\n",
    "    .distinct()"
   ]
  },
  {
   "cell_type": "code",
   "execution_count": null,
   "metadata": {},
   "outputs": [],
   "source": [
    "tengyur_bag.map(len).max().compute()"
   ]
  },
  {
   "cell_type": "code",
   "execution_count": null,
   "metadata": {},
   "outputs": [],
   "source": [
    "tengyur_bag.fold(lambda x, y: y if len(x) < len(y) else x).compute()"
   ]
  },
  {
   "cell_type": "code",
   "execution_count": null,
   "metadata": {},
   "outputs": [],
   "source": [
    "def repl_get_first_elem(matchobj):\n",
    "    return matchobj.group(1)\n",
    "\n",
    "\n",
    "tengyur_bag = db \\\n",
    "    .from_sequence(glob.glob(\"../../tibert_data/derge-tengyur/text/*.txt\")) \\\n",
    "    .map(load_from_filename) \\\n",
    "    .map(lambda x: re.sub(\"\\(([^,]*),([^,]*)\\)\", repl_get_first_elem, x)) \\\n",
    "    .map(lambda x: re.sub(\"\\(([^,]*)‚([^,]*)\\)\", repl_get_first_elem, x)) \\\n",
    "    .map(lambda x: re.findall(\",[^,]*?[)}]\", x)) \\\n",
    "    .flatten() \\\n",
    "    .distinct()\n",
    "\n",
    "\n",
    "#     .map(lambda x: re.findall(\"\\([^\\(\\)]*\\)\", x)) \\\n",
    "\n",
    "#     .str.split(' ') \\\n",
    "#     .flatten() \\\n",
    "#     .str.replace('\\n', '')\n",
    "tengyur_bag"
   ]
  },
  {
   "cell_type": "code",
   "execution_count": null,
   "metadata": {},
   "outputs": [],
   "source": [
    "tengyur_bag.count().compute()"
   ]
  },
  {
   "cell_type": "code",
   "execution_count": null,
   "metadata": {},
   "outputs": [],
   "source": [
    "tengyur_bag.repartition(1).take(200)"
   ]
  },
  {
   "cell_type": "code",
   "execution_count": null,
   "metadata": {},
   "outputs": [],
   "source": [
    "tengyur_bag.map(len).compute()"
   ]
  },
  {
   "cell_type": "code",
   "execution_count": null,
   "metadata": {},
   "outputs": [],
   "source": [
    "remaining_stuff = tengyur_bag.filter(lambda x: '(' in x).compute()\n",
    "len(remaining_stuff)"
   ]
  },
  {
   "cell_type": "code",
   "execution_count": null,
   "metadata": {},
   "outputs": [],
   "source": [
    "remaining_stuff"
   ]
  },
  {
   "cell_type": "code",
   "execution_count": null,
   "metadata": {},
   "outputs": [],
   "source": [
    "def repl_get_first_elem(matchobj):\n",
    "#     print(matchobj.group(0))\n",
    "#     print(matchobj.group(1))\n",
    "#     print(matchobj.group(2))\n",
    "    return matchobj.group(1)\n",
    "\n",
    "print(remaining_stuff[6])\n",
    "\n",
    "re.sub(\"\\(([^,]*),([^,]*)\\)\", repl_get_first_elem, remaining_stuff[6])"
   ]
  },
  {
   "cell_type": "code",
   "execution_count": null,
   "metadata": {},
   "outputs": [],
   "source": [
    "unicodedata.name('‚')"
   ]
  },
  {
   "cell_type": "code",
   "execution_count": null,
   "metadata": {},
   "outputs": [],
   "source": [
    "def repl_split_commas_or_kill(x):\n",
    "    if ',' in x:\n",
    "        return x + '|' + x.split(',')[0]\n",
    "    if '‚' in x:\n",
    "        return x + '|' + x.split('‚')[0]\n",
    "    return x + '|' + ''\n",
    "\n",
    "\n",
    "tengyur_bag = db \\\n",
    "    .from_sequence(glob.glob(\"../../tibert_data/derge-tengyur/text/*.txt\")) \\\n",
    "    .map(load_from_filename) \\\n",
    "    .map(lambda x: re.findall(\"[({][^(){}]*?[})]\", x)) \\\n",
    "    .flatten() \\\n",
    "    .map(repl_split_commas_or_kill) \\\n",
    "    .distinct()\n",
    "tengyur_bag"
   ]
  },
  {
   "cell_type": "code",
   "execution_count": null,
   "metadata": {},
   "outputs": [],
   "source": [
    "tengyur_bag.count().compute()"
   ]
  },
  {
   "cell_type": "code",
   "execution_count": null,
   "metadata": {},
   "outputs": [],
   "source": [
    "tengyur_bag.map(len).max().compute()"
   ]
  },
  {
   "cell_type": "code",
   "execution_count": null,
   "metadata": {},
   "outputs": [],
   "source": [
    "tengyur_bag.repartition(1).to_textfiles(\"c:/workspace/tibert_data/tengyur_round_or_curly_treatment_*.txt\")"
   ]
  },
  {
   "cell_type": "markdown",
   "metadata": {},
   "source": [
    "PLAN: Find all text in round or curly braces, split all comma and take first element if there is a comma, otherwise kill"
   ]
  },
  {
   "cell_type": "code",
   "execution_count": null,
   "metadata": {},
   "outputs": [],
   "source": [
    "def repl_split_commas_or_kill(match):\n",
    "    match = match.group(0)\n",
    "    if ',' in match:\n",
    "        return match.split(',')[0][1:]\n",
    "    if '‚' in match:\n",
    "        return match.split('‚')[0][1:]\n",
    "    return ''\n",
    "\n",
    "\n",
    "tengyur_bag = db \\\n",
    "    .from_sequence(glob.glob(\"../../tibert_data/derge-tengyur/text/*.txt\")) \\\n",
    "    .map(load_from_filename) \\\n",
    "    .map(lambda x: re.sub(\"[({][^(){}]*?[})]\", repl_split_commas_or_kill, x)) \\\n",
    "    .map(lambda x: re.sub(\"[({][^(){}]*?[})]\", repl_split_commas_or_kill, x)) \\\n",
    "    .map(lambda x: re.sub(\"\\[[0-9 ]+[ab.0-9]+\\]\", '', x)) \\\n",
    "    .map(lambda x: re.sub(\"[\\[\\]#]\", '', x)) \\\n",
    "    .str.split(' ') \\\n",
    "    .flatten() \\\n",
    "    .str.replace('\\n', '')\n",
    "tengyur_bag"
   ]
  },
  {
   "cell_type": "code",
   "execution_count": null,
   "metadata": {},
   "outputs": [],
   "source": [
    "tengyur_bag.count().compute()"
   ]
  },
  {
   "cell_type": "code",
   "execution_count": null,
   "metadata": {},
   "outputs": [],
   "source": [
    "tengyur_bag.filter(lambda x: '(' in x or ')' in x).count().compute()"
   ]
  },
  {
   "cell_type": "code",
   "execution_count": null,
   "metadata": {},
   "outputs": [],
   "source": [
    "tengyur_bag.filter(lambda x: '[' in x or ']' in x or '#' in x or '(' in x or ')' in x).count().compute()"
   ]
  },
  {
   "cell_type": "code",
   "execution_count": null,
   "metadata": {},
   "outputs": [],
   "source": [
    "tengyur_bag.filter(lambda x: '[' in x or ']' in x or '#' in x or '(' in x or ')' in x).map(len).max().compute()"
   ]
  },
  {
   "cell_type": "code",
   "execution_count": null,
   "metadata": {},
   "outputs": [],
   "source": [
    "all_bads = tengyur_bag.filter(lambda x: '[' in x or ']' in x or '#' in x or '(' in x or ')' in x).repartition(1).take(100)\n",
    "all_bads"
   ]
  },
  {
   "cell_type": "code",
   "execution_count": null,
   "metadata": {},
   "outputs": [],
   "source": [
    "def repl_split_commas_or_kill(match):\n",
    "    match = match.group(0)\n",
    "    if ',' in match:\n",
    "        return match.split(',')[0][1:]\n",
    "    if '‚' in match:\n",
    "        return match.split('‚')[0][1:]\n",
    "    return ''\n",
    "\n",
    "\n",
    "[(x, re.sub(\"[({][^(){}]*?[})]\", repl_split_commas_or_kill, x)) for x in all_bads]"
   ]
  },
  {
   "cell_type": "markdown",
   "metadata": {},
   "source": [
    "### Figure out how to split the folios"
   ]
  },
  {
   "cell_type": "code",
   "execution_count": 26,
   "metadata": {},
   "outputs": [],
   "source": [
    "tengyur_bag = db \\\n",
    "    .from_sequence(glob.glob(\"../../tibert_data/derge-tengyur/text/*.txt\")) \\\n",
    "    .map(load_from_filename)"
   ]
  },
  {
   "cell_type": "code",
   "execution_count": 27,
   "metadata": {},
   "outputs": [],
   "source": [
    "test_str = tengyur_bag.take(1)[0]"
   ]
  },
  {
   "cell_type": "code",
   "execution_count": 29,
   "metadata": {},
   "outputs": [],
   "source": [
    "folio_marker_re = re.compile(r\"\\[([\\d]+)([ab])\\]\")"
   ]
  },
  {
   "cell_type": "code",
   "execution_count": 32,
   "metadata": {},
   "outputs": [],
   "source": [
    "def _segment_folios(volume_str):\n",
    "    res, cur_ref, last_loc = [], None, None\n",
    "    for match in folio_marker_re.finditer(volume_str):\n",
    "        cur_loc_start, cur_loc_end = match.span()\n",
    "        if last_loc is not None:\n",
    "            res.append((cur_ref, volume_str[last_loc:cur_loc_start]))\n",
    "        last_loc = cur_loc_end\n",
    "        cur_ref = \"F.{}.{}\".format(match.group(1), match.group(2))\n",
    "    res.append((cur_ref, volume_str[last_loc:]))\n",
    "    return res"
   ]
  },
  {
   "cell_type": "code",
   "execution_count": null,
   "metadata": {
    "scrolled": true
   },
   "outputs": [],
   "source": [
    "_segment_folios(test_str)"
   ]
  },
  {
   "cell_type": "code",
   "execution_count": 36,
   "metadata": {},
   "outputs": [
    {
     "data": {
      "text/plain": [
       "dask.bag<lambda, npartitions=107>"
      ]
     },
     "execution_count": 36,
     "metadata": {},
     "output_type": "execute_result"
    }
   ],
   "source": [
    "def repl_split_commas_or_kill(match):\n",
    "    match = match.group(0)\n",
    "    if ',' in match:\n",
    "        return match.split(',')[0][1:]\n",
    "    if '‚' in match:\n",
    "        return match.split('‚')[0][1:]\n",
    "    return ''\n",
    "\n",
    "\n",
    "# Basic strategy:\n",
    "#    1. Find all round and curly braces\n",
    "#        a. If there is a comma in the bracketed text, split along comma and take first element (uncorrected)\n",
    "#        b. If no comma then just kill entire bracketed text (remove comments and mark-up)\n",
    "#    2. Remove text of the form NNNab.NNN where N are numebrs inside square brackets (section/folio/work/etc numbering)\n",
    "#    3. Remove square brackets and leave text inside them (presumed interpolation for damage etc)\n",
    "#    4. Remove hashtags (mark-up and comments)\n",
    "#    5. Remove unmatched commas, brackets, stars, and the BOM (leaves small number of bad morphemes that are very hard to clean)\n",
    "\n",
    "# Need to repl_split_commas_or_kill twice because there is some nested round bracketed text, up to depth 2\n",
    "# There are opening/closing brackets with no matching brackets\n",
    "\n",
    "bad_chars_to_remove = \"\\ufeff\\x07\\t+./0-9:;<=>A-Za-z{×\"\n",
    "space_re = re.compile(r\"\\s+\")\n",
    "\n",
    "\n",
    "tengyur_bag = db \\\n",
    "    .from_sequence(glob.glob(\"../../tibert_data/derge-tengyur/text/*.txt\")) \\\n",
    "    .map(load_from_filename) \\\n",
    "    .map(_segment_folios) \\\n",
    "    .flatten() \\\n",
    "    .map(lambda x: (x[0], space_re.sub(' ', x[1]).strip())) \\\n",
    "    .map(lambda x: (x[0], re.sub(\"[({][^(){}]*?[})]\", repl_split_commas_or_kill, x[1]))) \\\n",
    "    .map(lambda x: (x[0], re.sub(\"[({][^(){}]*?[})]\", repl_split_commas_or_kill, x[1]))) \\\n",
    "    .map(lambda x: (x[0], re.sub(\"\\[[0-9 ]+[ab.0-9]+\\]\", '', x[1]))) \\\n",
    "    .map(lambda x: (x[0], re.sub(\"[\\[\\]#\\(\\),*{}]\".format(bad_chars_to_remove), '', x[1])))\n",
    "tengyur_bag"
   ]
  },
  {
   "cell_type": "code",
   "execution_count": null,
   "metadata": {},
   "outputs": [],
   "source": [
    "tengyur_bag.take(10)"
   ]
  },
  {
   "cell_type": "code",
   "execution_count": 39,
   "metadata": {},
   "outputs": [
    {
     "data": {
      "text/plain": [
       "128626"
      ]
     },
     "execution_count": 39,
     "metadata": {},
     "output_type": "execute_result"
    }
   ],
   "source": [
    "tengyur_bag.count().compute()"
   ]
  },
  {
   "cell_type": "code",
   "execution_count": 42,
   "metadata": {},
   "outputs": [
    {
     "data": {
      "text/plain": [
       "16512"
      ]
     },
     "execution_count": 42,
     "metadata": {},
     "output_type": "execute_result"
    }
   ],
   "source": [
    "tengyur_bag.map(lambda args: len(args[1])).max().compute()"
   ]
  },
  {
   "cell_type": "markdown",
   "metadata": {},
   "source": [
    "### Load and preprocess split by section"
   ]
  },
  {
   "cell_type": "code",
   "execution_count": 17,
   "metadata": {},
   "outputs": [
    {
     "data": {
      "text/plain": [
       "dask.bag<operator.methodcaller('replace', '\\n', ''), npartitions=107>"
      ]
     },
     "execution_count": 17,
     "metadata": {},
     "output_type": "execute_result"
    }
   ],
   "source": [
    "def repl_split_commas_or_kill(match):\n",
    "    match = match.group(0)\n",
    "    if ',' in match:\n",
    "        return match.split(',')[0][1:]\n",
    "    if '‚' in match:\n",
    "        return match.split('‚')[0][1:]\n",
    "    return ''\n",
    "\n",
    "\n",
    "# Basic strategy:\n",
    "#    1. Find all round and curly braces\n",
    "#        a. If there is a comma in the bracketed text, split along comma and take first element (uncorrected)\n",
    "#        b. If no comma then just kill entire bracketed text (remove comments and mark-up)\n",
    "#    2. Remove text of the form NNNab.NNN where N are numebrs inside square brackets (section/folio/work/etc numbering)\n",
    "#    3. Remove square brackets and leave text inside them (presumed interpolation for damage etc)\n",
    "#    4. Remove hashtags (mark-up and comments)\n",
    "#    5. Remove unmatched commas, brackets, stars, and the BOM (leaves small number of bad morphemes that are very hard to clean)\n",
    "\n",
    "# Need to repl_split_commas_or_kill twice because there is some nested round bracketed text, up to depth 2\n",
    "# There are opening/closing brackets with no matching brackets\n",
    "\n",
    "bad_chars_to_remove = \"\\ufeff\\x07\\t+./0-9:;<=>A-Za-z{×\"\n",
    "\n",
    "tengyur_bag = db \\\n",
    "    .from_sequence(glob.glob(\"../../tibert_data/derge-tengyur/text/*.txt\")) \\\n",
    "    .map(load_from_filename) \\\n",
    "    .map(lambda x: re.sub(\"[({][^(){}]*?[})]\", repl_split_commas_or_kill, x)) \\\n",
    "    .map(lambda x: re.sub(\"[({][^(){}]*?[})]\", repl_split_commas_or_kill, x)) \\\n",
    "    .map(lambda x: re.sub(\"\\[[0-9 ]+[ab.0-9]+\\]\", '', x)) \\\n",
    "    .map(lambda x: re.sub(\"[\\[\\]#\\(\\),*{}]\".format(bad_chars_to_remove), '', x)) \\\n",
    "    .str.split(' ') \\\n",
    "    .flatten() \\\n",
    "    .str.replace('\\n', '')\n",
    "tengyur_bag"
   ]
  },
  {
   "cell_type": "code",
   "execution_count": 18,
   "metadata": {},
   "outputs": [
    {
     "data": {
      "text/plain": [
       "('༄༅༅།',\n",
       " '།རྒྱ་གར་སྐད་དུ།',\n",
       " 'བི་ཤིཥྚ་སྟ་བཿ།',\n",
       " 'བོད་སྐད་དུ།',\n",
       " 'ཁྱད་པར་དུ་འཕགས་པའི་བསྟོད་པ།',\n",
       " 'དེ་བཞིན་གཤེགས་པ་ཐམས་ཅད་ལ་ཕྱག་འཚལ་ལོ།',\n",
       " '།བདག་ནི་སྟོན་པ་གཞན་སྤངས་ནས།',\n",
       " '།བཅོམ་ལྡན་ཁྱོད་ལ་སྐྱབས་མཆིས་པ།',\n",
       " '།དེ་ཅིའི་སླད་དུ་ཞེ་ན་ཁྱོད།',\n",
       " '།སྐྱོན་མི་མངའ་ལ་ཡོན་ཏན་ལྡན།',\n",
       " '།གང་ཕྱིར་འཇིག་རྟེན་སྐྱོན་ལ་དགའ།',\n",
       " '།ཡོན་ཏན་འཛིན་པར་ཞེན་པས་ན།',\n",
       " '།སྐྱོན་ཡང་ཡོན་ཏན་ལྟར་མཐོང་ནས།',\n",
       " '།གཞན་ལ་སྐྱབས་སུ་མཆིས་པར་གྱུར།',\n",
       " '།ཁྱབ་འཇུག་དབང་ཕྱུག་ལ་སོགས་པ།',\n",
       " '།དེ་ལ་སྐྱེ་བོ་དགའ་དད་པས།',\n",
       " '།དེ་ཡི་ཡོན་ཏན་གང་བསྒྲགས་པ།',\n",
       " '།ཁྱོད་ཀྱི་བསྟན་ལ་དེ་དག་སྐྱོན།',\n",
       " '།ལྷ་ཆེན་ཁྲོས་པའི་མདའ་གཅིག་གིས།',\n",
       " '།གྲོང་ཁྱེར་སུམ་བརྩེགས་བསྲེགས་ཞེས་གདའ།')"
      ]
     },
     "execution_count": 18,
     "metadata": {},
     "output_type": "execute_result"
    }
   ],
   "source": [
    "tengyur_bag.take(20)"
   ]
  },
  {
   "cell_type": "code",
   "execution_count": 19,
   "metadata": {},
   "outputs": [
    {
     "data": {
      "text/plain": [
       "4320913"
      ]
     },
     "execution_count": 19,
     "metadata": {},
     "output_type": "execute_result"
    }
   ],
   "source": [
    "tengyur_bag.count().compute()"
   ]
  },
  {
   "cell_type": "code",
   "execution_count": null,
   "metadata": {},
   "outputs": [],
   "source": [
    "tengyur_bag.filter(lambda x: '[' in x or ']' in x or '#' in x or '(' in x or ')' in x).repartition(1).take(100)"
   ]
  },
  {
   "cell_type": "code",
   "execution_count": null,
   "metadata": {},
   "outputs": [],
   "source": [
    "all_letters = \\\n",
    "    sorted( \\\n",
    "        tengyur_bag \\\n",
    "            .flatten() \\\n",
    "            .distinct() \\\n",
    "            .compute())\n",
    "' '.join(all_letters)"
   ]
  },
  {
   "cell_type": "code",
   "execution_count": null,
   "metadata": {
    "scrolled": true
   },
   "outputs": [],
   "source": [
    "[unicodedata.name(c) for c in all_letters]"
   ]
  },
  {
   "cell_type": "code",
   "execution_count": null,
   "metadata": {},
   "outputs": [],
   "source": [
    "to_contain = \"a-z\"\n",
    "to_contain"
   ]
  },
  {
   "cell_type": "code",
   "execution_count": null,
   "metadata": {},
   "outputs": [],
   "source": [
    "tengyur_bag.filter(lambda x: re.findall('[{}]'.format(to_contain), x)).count().compute()"
   ]
  },
  {
   "cell_type": "code",
   "execution_count": null,
   "metadata": {},
   "outputs": [],
   "source": [
    "tengyur_bag.filter(lambda x: any([c in x for c in to_contain])).repartition(1).to_textfiles(\"c:/workspace/tibert_data/tengyur_bad_chars_*.txt\")"
   ]
  },
  {
   "cell_type": "markdown",
   "metadata": {},
   "source": [
    "# Basic analyses"
   ]
  },
  {
   "cell_type": "code",
   "execution_count": null,
   "metadata": {},
   "outputs": [],
   "source": [
    "to_analyze = tengyur_bag"
   ]
  },
  {
   "cell_type": "markdown",
   "metadata": {},
   "source": [
    "## Lengths of sections"
   ]
  },
  {
   "cell_type": "code",
   "execution_count": null,
   "metadata": {},
   "outputs": [],
   "source": [
    "to_analyze.map(len).max().compute()"
   ]
  },
  {
   "cell_type": "code",
   "execution_count": null,
   "metadata": {},
   "outputs": [],
   "source": [
    "pd \\\n",
    "    .DataFrame(\n",
    "        to_analyze \\\n",
    "            .map(len) \\\n",
    "            .frequencies() \\\n",
    "            .compute(),\n",
    "        columns=[\"len\", \"count\"]) \\\n",
    "    .set_index(\"len\") \\\n",
    "    .sort_index() \\\n",
    "    .plot(logy=True)"
   ]
  },
  {
   "cell_type": "code",
   "execution_count": null,
   "metadata": {},
   "outputs": [],
   "source": [
    "to_analyze.fold(lambda x, y: x if len(x) > len(y) else y).compute()"
   ]
  },
  {
   "cell_type": "markdown",
   "metadata": {},
   "source": [
    "## Letters"
   ]
  },
  {
   "cell_type": "code",
   "execution_count": null,
   "metadata": {},
   "outputs": [],
   "source": [
    "all_letters = to_analyze \\\n",
    "    .flatten() \\\n",
    "    .distinct() \\\n",
    "    .compute()\n",
    "len(all_letters)"
   ]
  },
  {
   "cell_type": "code",
   "execution_count": null,
   "metadata": {},
   "outputs": [],
   "source": [
    "' '.join(sorted(all_letters))"
   ]
  },
  {
   "cell_type": "markdown",
   "metadata": {},
   "source": [
    "### Find specific letter combinations"
   ]
  },
  {
   "cell_type": "code",
   "execution_count": null,
   "metadata": {},
   "outputs": [],
   "source": [
    "import re\n",
    "import unicodedata"
   ]
  },
  {
   "cell_type": "markdown",
   "metadata": {},
   "source": [
    "#### Special characters"
   ]
  },
  {
   "cell_type": "code",
   "execution_count": null,
   "metadata": {},
   "outputs": [],
   "source": [
    "special_chars = '*,`p‘’\\ufeff�'\n",
    "special_chars"
   ]
  },
  {
   "cell_type": "code",
   "execution_count": null,
   "metadata": {},
   "outputs": [],
   "source": [
    "to_analyze \\\n",
    "    .filter(lambda x: any([special_char in x for special_char in special_chars])) \\\n",
    "    .distinct() \\\n",
    "    .compute()"
   ]
  },
  {
   "cell_type": "markdown",
   "metadata": {},
   "source": [
    "#### Parentheses"
   ]
  },
  {
   "cell_type": "code",
   "execution_count": null,
   "metadata": {},
   "outputs": [],
   "source": [
    "to_find = ['[', ']']"
   ]
  },
  {
   "cell_type": "code",
   "execution_count": null,
   "metadata": {},
   "outputs": [],
   "source": [
    "found_blocks = to_analyze \\\n",
    "    .filter(lambda x: re.search(\"[{}]+\".format(''.join(to_find)), x)) \\\n",
    "    .map(lambda x: re.findall(\"\\{}.*?\\{}\".format(*to_find), x)) \\\n",
    "    .flatten() \\\n",
    "    .distinct() \\\n",
    "    .compute()"
   ]
  },
  {
   "cell_type": "code",
   "execution_count": null,
   "metadata": {},
   "outputs": [],
   "source": [
    "len(found_blocks)"
   ]
  },
  {
   "cell_type": "code",
   "execution_count": null,
   "metadata": {},
   "outputs": [],
   "source": [
    "for block in found_blocks: # [block for block in found_blocks if ',' in block]:\n",
    "    print(block, [unicodedata.name(char).replace('TIBETAN ', '') for char in block], '\\n')"
   ]
  },
  {
   "cell_type": "markdown",
   "metadata": {},
   "source": [
    "## Morphemes"
   ]
  },
  {
   "cell_type": "code",
   "execution_count": null,
   "metadata": {},
   "outputs": [],
   "source": [
    "tshegs = [\n",
    "    \"\\N{TIBETAN MARK INTERSYLLABIC TSHEG}\",\n",
    "    \"\\N{TIBETAN MARK DELIMITER TSHEG BSTAR}\",\n",
    "    \"\\N{TIBETAN SIGN RNAM BCAD}\",\n",
    "    \"\\N{TIBETAN SIGN RJES SU NGA RO}\"]"
   ]
  },
  {
   "cell_type": "code",
   "execution_count": null,
   "metadata": {},
   "outputs": [],
   "source": [
    "morphemes = to_analyze \\\n",
    "    .map(lambda x: re.split(\"[{}]+\".format(''.join(tshegs)), x)) \\\n",
    "    .flatten() \\\n",
    "    .distinct()"
   ]
  },
  {
   "cell_type": "code",
   "execution_count": null,
   "metadata": {},
   "outputs": [],
   "source": [
    "morphemes.count().compute()"
   ]
  },
  {
   "cell_type": "code",
   "execution_count": null,
   "metadata": {},
   "outputs": [],
   "source": [
    "sorted(\n",
    "    morphemes.map(len).frequencies().compute(),\n",
    "    key=lambda x: x[0])"
   ]
  },
  {
   "cell_type": "code",
   "execution_count": null,
   "metadata": {},
   "outputs": [],
   "source": [
    "long_morpheme = morphemes.fold(lambda x, y: x if len(x) > len(y) else y).compute()\n",
    "long_morpheme"
   ]
  },
  {
   "cell_type": "code",
   "execution_count": null,
   "metadata": {},
   "outputs": [],
   "source": [
    "long_morpheme, [(char, unicodedata.name(char).replace('TIBETAN ', '')) for char in long_morpheme]"
   ]
  }
 ],
 "metadata": {
  "kernelspec": {
   "display_name": "Python 3",
   "language": "python",
   "name": "python3"
  },
  "language_info": {
   "codemirror_mode": {
    "name": "ipython",
    "version": 3
   },
   "file_extension": ".py",
   "mimetype": "text/x-python",
   "name": "python",
   "nbconvert_exporter": "python",
   "pygments_lexer": "ipython3",
   "version": "3.7.6"
  },
  "toc-autonumbering": false,
  "toc-showcode": false,
  "toc-showmarkdowntxt": false,
  "toc-showtags": false
 },
 "nbformat": 4,
 "nbformat_minor": 4
}
