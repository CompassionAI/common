{
 "cells": [
  {
   "cell_type": "code",
   "execution_count": 1,
   "metadata": {},
   "outputs": [],
   "source": [
    "%matplotlib inline\n",
    "import matplotlib.pyplot as plt\n",
    "plt.style.use(\"dark_background\")"
   ]
  },
  {
   "cell_type": "code",
   "execution_count": 2,
   "metadata": {},
   "outputs": [],
   "source": [
    "from dask.distributed import Client, LocalCluster\n",
    "import dask.bag as db "
   ]
  },
  {
   "cell_type": "code",
   "execution_count": 3,
   "metadata": {},
   "outputs": [],
   "source": [
    "dask_cluster = LocalCluster(n_workers=20, threads_per_worker=1)\n",
    "dask_client = Client(dask_cluster)"
   ]
  },
  {
   "cell_type": "code",
   "execution_count": 4,
   "metadata": {},
   "outputs": [
    {
     "data": {
      "text/html": [
       "<table style=\"border: 2px solid white;\">\n",
       "<tr>\n",
       "<td style=\"vertical-align: top; border: 0px solid white\">\n",
       "<h3 style=\"text-align: left;\">Client</h3>\n",
       "<ul style=\"text-align: left; list-style: none; margin: 0; padding: 0;\">\n",
       "  <li><b>Scheduler: </b>tcp://127.0.0.1:55527</li>\n",
       "  <li><b>Dashboard: </b><a href='http://127.0.0.1:8787/status' target='_blank'>http://127.0.0.1:8787/status</a></li>\n",
       "</ul>\n",
       "</td>\n",
       "<td style=\"vertical-align: top; border: 0px solid white\">\n",
       "<h3 style=\"text-align: left;\">Cluster</h3>\n",
       "<ul style=\"text-align: left; list-style:none; margin: 0; padding: 0;\">\n",
       "  <li><b>Workers: </b>20</li>\n",
       "  <li><b>Cores: </b>20</li>\n",
       "  <li><b>Memory: </b>17.10 GB</li>\n",
       "</ul>\n",
       "</td>\n",
       "</tr>\n",
       "</table>"
      ],
      "text/plain": [
       "<Client: 'tcp://127.0.0.1:55527' processes=20 threads=20, memory=17.10 GB>"
      ]
     },
     "execution_count": 4,
     "metadata": {},
     "output_type": "execute_result"
    }
   ],
   "source": [
    "dask_client"
   ]
  },
  {
   "cell_type": "markdown",
   "metadata": {},
   "source": [
    "# Get dictionary words"
   ]
  },
  {
   "cell_type": "code",
   "execution_count": 5,
   "metadata": {},
   "outputs": [],
   "source": [
    "from tibert.dict import TibetanDict, TibetanEncoding"
   ]
  },
  {
   "cell_type": "code",
   "execution_count": 6,
   "metadata": {},
   "outputs": [],
   "source": [
    "unicode_dict = TibetanDict(\n",
    "    None,\n",
    "    glob_override=\"../../tibert_data/dictionaries/for_spm/*\",\n",
    "    default_encoding=TibetanEncoding.UNICODE)"
   ]
  },
  {
   "cell_type": "code",
   "execution_count": 7,
   "metadata": {},
   "outputs": [],
   "source": [
    "tib_words = set(unicode_dict.all_tibetan_words())"
   ]
  },
  {
   "cell_type": "code",
   "execution_count": 8,
   "metadata": {},
   "outputs": [
    {
     "data": {
      "text/plain": [
       "194863"
      ]
     },
     "execution_count": 8,
     "metadata": {},
     "output_type": "execute_result"
    }
   ],
   "source": [
    "len(tib_words)"
   ]
  },
  {
   "cell_type": "markdown",
   "metadata": {},
   "source": [
    "# Get all letters in the corpora"
   ]
  },
  {
   "cell_type": "code",
   "execution_count": 9,
   "metadata": {},
   "outputs": [],
   "source": [
    "from tibert.data import CorpusSplitType, KangyurLoader, TengyurLoader"
   ]
  },
  {
   "cell_type": "code",
   "execution_count": 10,
   "metadata": {},
   "outputs": [],
   "source": [
    "tib_bag = db.concat([\n",
    "    KangyurLoader(\"../../tibert_data/\").to_bag(),\n",
    "    TengyurLoader(\"../../tibert_data/\").to_bag()])"
   ]
  },
  {
   "cell_type": "code",
   "execution_count": 11,
   "metadata": {},
   "outputs": [
    {
     "data": {
      "text/plain": [
       "'  ं ऽ । ༀ ༄ ༅ ༈ ་ ༌ ། ༑ ༔ ༜ ༠ ༡ ༢ ༣ ༤ ༥ ༦ ༧ ༨ ༩ ༴ ༵ ༷ ༸ ༼ ༽ ཀ ཁ ག གྷ ང ཅ ཆ ཇ ཉ ཊ ཋ ཌ ཌྷ ཎ ཏ ཐ ད དྷ ན པ ཕ བ བྷ མ ཙ ཚ ཛ ཛྷ ཝ ཞ ཟ འ ཡ ར ལ ཤ ཥ ས ཧ ཨ ཀྵ ཪ ཱ ི ཱི ུ ཱུ ྲྀ ླྀ ཹ ེ ཻ ོ ཽ ཾ ཿ ྀ ཱྀ ྂ ྃ ྄ ྅ ྈ ྉ ྊ ྍ ྎ ྐ ྑ ྒ ྒྷ ྔ ྕ ྖ ྗ ྙ ྚ ྛ ྜ ྜྷ ྞ ྟ ྠ ྡ ྡྷ ྣ ྤ ྥ ྦ ྦྷ ྨ ྩ ྪ ྫ ྫྷ ྭ ྯ ྰ ྱ ྲ ླ ྴ ྵ ྶ ྷ ྸ ྐྵ ྺ ྻ ྼ ྾'"
      ]
     },
     "execution_count": 11,
     "metadata": {},
     "output_type": "execute_result"
    }
   ],
   "source": [
    "all_letters = \\\n",
    "    sorted( \\\n",
    "        tib_bag \\\n",
    "            .flatten() \\\n",
    "            .distinct() \\\n",
    "            .compute())\n",
    "' '.join(all_letters)"
   ]
  },
  {
   "cell_type": "markdown",
   "metadata": {},
   "source": [
    "# Word dataframe"
   ]
  },
  {
   "cell_type": "code",
   "execution_count": 12,
   "metadata": {},
   "outputs": [],
   "source": [
    "import unicodedata"
   ]
  },
  {
   "cell_type": "code",
   "execution_count": 13,
   "metadata": {},
   "outputs": [],
   "source": [
    "import pandas as pd"
   ]
  },
  {
   "cell_type": "code",
   "execution_count": 14,
   "metadata": {},
   "outputs": [
    {
     "data": {
      "text/html": [
       "<div>\n",
       "<style scoped>\n",
       "    .dataframe tbody tr th:only-of-type {\n",
       "        vertical-align: middle;\n",
       "    }\n",
       "\n",
       "    .dataframe tbody tr th {\n",
       "        vertical-align: top;\n",
       "    }\n",
       "\n",
       "    .dataframe thead th {\n",
       "        text-align: right;\n",
       "    }\n",
       "</style>\n",
       "<table border=\"1\" class=\"dataframe\">\n",
       "  <thead>\n",
       "    <tr style=\"text-align: right;\">\n",
       "      <th></th>\n",
       "      <th>word</th>\n",
       "    </tr>\n",
       "  </thead>\n",
       "  <tbody>\n",
       "    <tr>\n",
       "      <th>0</th>\n",
       "      <td>ཤིན་ཏུ་མཛེས་</td>\n",
       "    </tr>\n",
       "    <tr>\n",
       "      <th>1</th>\n",
       "      <td>རྐང་བཀྲ་མ་</td>\n",
       "    </tr>\n",
       "    <tr>\n",
       "      <th>2</th>\n",
       "      <td>རི་ཁྲོད་ལོ་མ་གྱོན་མ་</td>\n",
       "    </tr>\n",
       "    <tr>\n",
       "      <th>3</th>\n",
       "      <td>ཕམ་ཉེས་</td>\n",
       "    </tr>\n",
       "    <tr>\n",
       "      <th>4</th>\n",
       "      <td>༅སྦྲང་ནག་ཤ་སྦྲང་ནག་པོ་</td>\n",
       "    </tr>\n",
       "    <tr>\n",
       "      <th>...</th>\n",
       "      <td>...</td>\n",
       "    </tr>\n",
       "    <tr>\n",
       "      <th>194858</th>\n",
       "      <td>སྦྱངས་པའི་ཡོན་ཏན་</td>\n",
       "    </tr>\n",
       "    <tr>\n",
       "      <th>194859</th>\n",
       "      <td>བློ་ངན་གསུམ་</td>\n",
       "    </tr>\n",
       "    <tr>\n",
       "      <th>194860</th>\n",
       "      <td>མེ་ཏོག་ལྡན་</td>\n",
       "    </tr>\n",
       "    <tr>\n",
       "      <th>194861</th>\n",
       "      <td>བློ་ཟློག་</td>\n",
       "    </tr>\n",
       "    <tr>\n",
       "      <th>194862</th>\n",
       "      <td>བཞད་མོ་</td>\n",
       "    </tr>\n",
       "  </tbody>\n",
       "</table>\n",
       "<p>194863 rows × 1 columns</p>\n",
       "</div>"
      ],
      "text/plain": [
       "                          word\n",
       "0                 ཤིན་ཏུ་མཛེས་\n",
       "1                   རྐང་བཀྲ་མ་\n",
       "2         རི་ཁྲོད་ལོ་མ་གྱོན་མ་\n",
       "3                      ཕམ་ཉེས་\n",
       "4       ༅སྦྲང་ནག་ཤ་སྦྲང་ནག་པོ་\n",
       "...                        ...\n",
       "194858       སྦྱངས་པའི་ཡོན་ཏན་\n",
       "194859            བློ་ངན་གསུམ་\n",
       "194860             མེ་ཏོག་ལྡན་\n",
       "194861               བློ་ཟློག་\n",
       "194862                 བཞད་མོ་\n",
       "\n",
       "[194863 rows x 1 columns]"
      ]
     },
     "execution_count": 14,
     "metadata": {},
     "output_type": "execute_result"
    }
   ],
   "source": [
    "tib_words_df = pd.DataFrame(tib_words, columns=[\"word\"])\n",
    "tib_words_df[\"word\"] = tib_words_df.word.map(lambda w: w if w[-1] == '་' else w + '་')\n",
    "tib_words_df"
   ]
  },
  {
   "cell_type": "code",
   "execution_count": 15,
   "metadata": {},
   "outputs": [
    {
     "data": {
      "text/html": [
       "<div>\n",
       "<style scoped>\n",
       "    .dataframe tbody tr th:only-of-type {\n",
       "        vertical-align: middle;\n",
       "    }\n",
       "\n",
       "    .dataframe tbody tr th {\n",
       "        vertical-align: top;\n",
       "    }\n",
       "\n",
       "    .dataframe thead th {\n",
       "        text-align: right;\n",
       "    }\n",
       "</style>\n",
       "<table border=\"1\" class=\"dataframe\">\n",
       "  <thead>\n",
       "    <tr style=\"text-align: right;\">\n",
       "      <th></th>\n",
       "      <th>word</th>\n",
       "      <th>len</th>\n",
       "    </tr>\n",
       "  </thead>\n",
       "  <tbody>\n",
       "    <tr>\n",
       "      <th>0</th>\n",
       "      <td>ཤིན་ཏུ་མཛེས་</td>\n",
       "      <td>12</td>\n",
       "    </tr>\n",
       "    <tr>\n",
       "      <th>1</th>\n",
       "      <td>རྐང་བཀྲ་མ་</td>\n",
       "      <td>10</td>\n",
       "    </tr>\n",
       "    <tr>\n",
       "      <th>2</th>\n",
       "      <td>རི་ཁྲོད་ལོ་མ་གྱོན་མ་</td>\n",
       "      <td>20</td>\n",
       "    </tr>\n",
       "    <tr>\n",
       "      <th>3</th>\n",
       "      <td>ཕམ་ཉེས་</td>\n",
       "      <td>7</td>\n",
       "    </tr>\n",
       "    <tr>\n",
       "      <th>4</th>\n",
       "      <td>༅སྦྲང་ནག་ཤ་སྦྲང་ནག་པོ་</td>\n",
       "      <td>22</td>\n",
       "    </tr>\n",
       "    <tr>\n",
       "      <th>...</th>\n",
       "      <td>...</td>\n",
       "      <td>...</td>\n",
       "    </tr>\n",
       "    <tr>\n",
       "      <th>194858</th>\n",
       "      <td>སྦྱངས་པའི་ཡོན་ཏན་</td>\n",
       "      <td>17</td>\n",
       "    </tr>\n",
       "    <tr>\n",
       "      <th>194859</th>\n",
       "      <td>བློ་ངན་གསུམ་</td>\n",
       "      <td>12</td>\n",
       "    </tr>\n",
       "    <tr>\n",
       "      <th>194860</th>\n",
       "      <td>མེ་ཏོག་ལྡན་</td>\n",
       "      <td>11</td>\n",
       "    </tr>\n",
       "    <tr>\n",
       "      <th>194861</th>\n",
       "      <td>བློ་ཟློག་</td>\n",
       "      <td>9</td>\n",
       "    </tr>\n",
       "    <tr>\n",
       "      <th>194862</th>\n",
       "      <td>བཞད་མོ་</td>\n",
       "      <td>7</td>\n",
       "    </tr>\n",
       "  </tbody>\n",
       "</table>\n",
       "<p>194863 rows × 2 columns</p>\n",
       "</div>"
      ],
      "text/plain": [
       "                          word  len\n",
       "0                 ཤིན་ཏུ་མཛེས་   12\n",
       "1                   རྐང་བཀྲ་མ་   10\n",
       "2         རི་ཁྲོད་ལོ་མ་གྱོན་མ་   20\n",
       "3                      ཕམ་ཉེས་    7\n",
       "4       ༅སྦྲང་ནག་ཤ་སྦྲང་ནག་པོ་   22\n",
       "...                        ...  ...\n",
       "194858       སྦྱངས་པའི་ཡོན་ཏན་   17\n",
       "194859            བློ་ངན་གསུམ་   12\n",
       "194860             མེ་ཏོག་ལྡན་   11\n",
       "194861               བློ་ཟློག་    9\n",
       "194862                 བཞད་མོ་    7\n",
       "\n",
       "[194863 rows x 2 columns]"
      ]
     },
     "execution_count": 15,
     "metadata": {},
     "output_type": "execute_result"
    }
   ],
   "source": [
    "tib_words_df[\"len\"] = tib_words_df.word.map(len)\n",
    "tib_words_df"
   ]
  },
  {
   "cell_type": "code",
   "execution_count": 16,
   "metadata": {},
   "outputs": [
    {
     "data": {
      "text/html": [
       "<div>\n",
       "<style scoped>\n",
       "    .dataframe tbody tr th:only-of-type {\n",
       "        vertical-align: middle;\n",
       "    }\n",
       "\n",
       "    .dataframe tbody tr th {\n",
       "        vertical-align: top;\n",
       "    }\n",
       "\n",
       "    .dataframe thead th {\n",
       "        text-align: right;\n",
       "    }\n",
       "</style>\n",
       "<table border=\"1\" class=\"dataframe\">\n",
       "  <thead>\n",
       "    <tr style=\"text-align: right;\">\n",
       "      <th></th>\n",
       "      <th>word</th>\n",
       "      <th>len</th>\n",
       "      <th>syllables</th>\n",
       "    </tr>\n",
       "  </thead>\n",
       "  <tbody>\n",
       "    <tr>\n",
       "      <th>0</th>\n",
       "      <td>ཤིན་ཏུ་མཛེས་</td>\n",
       "      <td>12</td>\n",
       "      <td>3</td>\n",
       "    </tr>\n",
       "    <tr>\n",
       "      <th>1</th>\n",
       "      <td>རྐང་བཀྲ་མ་</td>\n",
       "      <td>10</td>\n",
       "      <td>3</td>\n",
       "    </tr>\n",
       "    <tr>\n",
       "      <th>2</th>\n",
       "      <td>རི་ཁྲོད་ལོ་མ་གྱོན་མ་</td>\n",
       "      <td>20</td>\n",
       "      <td>6</td>\n",
       "    </tr>\n",
       "    <tr>\n",
       "      <th>3</th>\n",
       "      <td>ཕམ་ཉེས་</td>\n",
       "      <td>7</td>\n",
       "      <td>2</td>\n",
       "    </tr>\n",
       "    <tr>\n",
       "      <th>4</th>\n",
       "      <td>༅སྦྲང་ནག་ཤ་སྦྲང་ནག་པོ་</td>\n",
       "      <td>22</td>\n",
       "      <td>6</td>\n",
       "    </tr>\n",
       "    <tr>\n",
       "      <th>...</th>\n",
       "      <td>...</td>\n",
       "      <td>...</td>\n",
       "      <td>...</td>\n",
       "    </tr>\n",
       "    <tr>\n",
       "      <th>194858</th>\n",
       "      <td>སྦྱངས་པའི་ཡོན་ཏན་</td>\n",
       "      <td>17</td>\n",
       "      <td>4</td>\n",
       "    </tr>\n",
       "    <tr>\n",
       "      <th>194859</th>\n",
       "      <td>བློ་ངན་གསུམ་</td>\n",
       "      <td>12</td>\n",
       "      <td>3</td>\n",
       "    </tr>\n",
       "    <tr>\n",
       "      <th>194860</th>\n",
       "      <td>མེ་ཏོག་ལྡན་</td>\n",
       "      <td>11</td>\n",
       "      <td>3</td>\n",
       "    </tr>\n",
       "    <tr>\n",
       "      <th>194861</th>\n",
       "      <td>བློ་ཟློག་</td>\n",
       "      <td>9</td>\n",
       "      <td>2</td>\n",
       "    </tr>\n",
       "    <tr>\n",
       "      <th>194862</th>\n",
       "      <td>བཞད་མོ་</td>\n",
       "      <td>7</td>\n",
       "      <td>2</td>\n",
       "    </tr>\n",
       "  </tbody>\n",
       "</table>\n",
       "<p>194863 rows × 3 columns</p>\n",
       "</div>"
      ],
      "text/plain": [
       "                          word  len  syllables\n",
       "0                 ཤིན་ཏུ་མཛེས་   12          3\n",
       "1                   རྐང་བཀྲ་མ་   10          3\n",
       "2         རི་ཁྲོད་ལོ་མ་གྱོན་མ་   20          6\n",
       "3                      ཕམ་ཉེས་    7          2\n",
       "4       ༅སྦྲང་ནག་ཤ་སྦྲང་ནག་པོ་   22          6\n",
       "...                        ...  ...        ...\n",
       "194858       སྦྱངས་པའི་ཡོན་ཏན་   17          4\n",
       "194859            བློ་ངན་གསུམ་   12          3\n",
       "194860             མེ་ཏོག་ལྡན་   11          3\n",
       "194861               བློ་ཟློག་    9          2\n",
       "194862                 བཞད་མོ་    7          2\n",
       "\n",
       "[194863 rows x 3 columns]"
      ]
     },
     "execution_count": 16,
     "metadata": {},
     "output_type": "execute_result"
    }
   ],
   "source": [
    "tib_words_df[\"syllables\"] = tib_words_df.word.map(lambda w: sum([1 for c in w if c == '་']))\n",
    "tib_words_df"
   ]
  },
  {
   "cell_type": "code",
   "execution_count": 17,
   "metadata": {},
   "outputs": [
    {
     "data": {
      "text/plain": [
       "<matplotlib.axes._subplots.AxesSubplot at 0x2987383f5c8>"
      ]
     },
     "execution_count": 17,
     "metadata": {},
     "output_type": "execute_result"
    },
    {
     "data": {
      "image/png": "[encoded data removed]",
      "text/plain": [
       "<Figure size 1440x720 with 1 Axes>"
      ]
     },
     "metadata": {},
     "output_type": "display_data"
    }
   ],
   "source": [
    "tib_words_df.syllables.hist(bins=50, figsize=(20, 10))"
   ]
  },
  {
   "cell_type": "code",
   "execution_count": 18,
   "metadata": {},
   "outputs": [
    {
     "data": {
      "text/plain": [
       "count    194863.000000\n",
       "mean         14.135449\n",
       "std           9.148194\n",
       "min           2.000000\n",
       "25%           9.000000\n",
       "50%          12.000000\n",
       "75%          17.000000\n",
       "max         335.000000\n",
       "Name: len, dtype: float64"
      ]
     },
     "execution_count": 18,
     "metadata": {},
     "output_type": "execute_result"
    }
   ],
   "source": [
    "tib_words_df.len.describe()"
   ]
  },
  {
   "cell_type": "code",
   "execution_count": 19,
   "metadata": {},
   "outputs": [
    {
     "data": {
      "text/plain": [
       "count    194863.000000\n",
       "mean          3.622678\n",
       "std           2.313820\n",
       "min           1.000000\n",
       "25%           2.000000\n",
       "50%           3.000000\n",
       "75%           4.000000\n",
       "max          82.000000\n",
       "Name: syllables, dtype: float64"
      ]
     },
     "execution_count": 19,
     "metadata": {},
     "output_type": "execute_result"
    }
   ],
   "source": [
    "tib_words_df.syllables.describe()"
   ]
  },
  {
   "cell_type": "code",
   "execution_count": 20,
   "metadata": {},
   "outputs": [
    {
     "data": {
      "text/html": [
       "<div>\n",
       "<style scoped>\n",
       "    .dataframe tbody tr th:only-of-type {\n",
       "        vertical-align: middle;\n",
       "    }\n",
       "\n",
       "    .dataframe tbody tr th {\n",
       "        vertical-align: top;\n",
       "    }\n",
       "\n",
       "    .dataframe thead th {\n",
       "        text-align: right;\n",
       "    }\n",
       "</style>\n",
       "<table border=\"1\" class=\"dataframe\">\n",
       "  <thead>\n",
       "    <tr style=\"text-align: right;\">\n",
       "      <th></th>\n",
       "      <th>word</th>\n",
       "      <th>len</th>\n",
       "      <th>syllables</th>\n",
       "    </tr>\n",
       "  </thead>\n",
       "  <tbody>\n",
       "    <tr>\n",
       "      <th>134417</th>\n",
       "      <td>ཨ་ར་པ་ཙ་ན་</td>\n",
       "      <td>10</td>\n",
       "      <td>5</td>\n",
       "    </tr>\n",
       "    <tr>\n",
       "      <th>193011</th>\n",
       "      <td>ཁ་བ་ཅ་ད་ཀ་</td>\n",
       "      <td>10</td>\n",
       "      <td>5</td>\n",
       "    </tr>\n",
       "    <tr>\n",
       "      <th>101027</th>\n",
       "      <td>ཨ་ལུ་བ་ཀ་ར་</td>\n",
       "      <td>11</td>\n",
       "      <td>5</td>\n",
       "    </tr>\n",
       "    <tr>\n",
       "      <th>156066</th>\n",
       "      <td>ཨ་ཛ་ན་མ་ཎི་</td>\n",
       "      <td>11</td>\n",
       "      <td>5</td>\n",
       "    </tr>\n",
       "    <tr>\n",
       "      <th>168594</th>\n",
       "      <td>མ་ན་ནུ་ག་མ་</td>\n",
       "      <td>11</td>\n",
       "      <td>5</td>\n",
       "    </tr>\n",
       "    <tr>\n",
       "      <th>...</th>\n",
       "      <td>...</td>\n",
       "      <td>...</td>\n",
       "      <td>...</td>\n",
       "    </tr>\n",
       "    <tr>\n",
       "      <th>105789</th>\n",
       "      <td>འདུ་ཤེས་མེད་པའི་སྙོམས་འཇུག་དགེ་རྒྱས་ཀྱི་འདོད་ཆ...</td>\n",
       "      <td>253</td>\n",
       "      <td>64</td>\n",
       "    </tr>\n",
       "    <tr>\n",
       "      <th>22745</th>\n",
       "      <td>འགོག་པའི་སྙོམས་འཇུག་ཚོར་བ་དང་འདུ་ཤེས་རགས་པ་འགོ...</td>\n",
       "      <td>257</td>\n",
       "      <td>66</td>\n",
       "    </tr>\n",
       "    <tr>\n",
       "      <th>87451</th>\n",
       "      <td>བཀའ་ཤག་སྔར་གྱི་བོད་ས་གནས་སྲིད་གཞུང་སྟེ་ཆིང་རྒྱ...</td>\n",
       "      <td>259</td>\n",
       "      <td>62</td>\n",
       "    </tr>\n",
       "    <tr>\n",
       "      <th>173926</th>\n",
       "      <td>སྡེ་དགེའི་བསྟན་འགྱུར་དཀར་ཆག་ཀུན་མཁྱེན་ཉི་མའི་ག...</td>\n",
       "      <td>314</td>\n",
       "      <td>75</td>\n",
       "    </tr>\n",
       "    <tr>\n",
       "      <th>41148</th>\n",
       "      <td>བསམ་ཡས་དཀར་ཆག་རབ་འབྱམས་དམ་པའི་ཞིང་གི་ཡོན་ཏན་ཀུ...</td>\n",
       "      <td>335</td>\n",
       "      <td>82</td>\n",
       "    </tr>\n",
       "  </tbody>\n",
       "</table>\n",
       "<p>38707 rows × 3 columns</p>\n",
       "</div>"
      ],
      "text/plain": [
       "                                                     word  len  syllables\n",
       "134417                                         ཨ་ར་པ་ཙ་ན་   10          5\n",
       "193011                                         ཁ་བ་ཅ་ད་ཀ་   10          5\n",
       "101027                                        ཨ་ལུ་བ་ཀ་ར་   11          5\n",
       "156066                                        ཨ་ཛ་ན་མ་ཎི་   11          5\n",
       "168594                                        མ་ན་ནུ་ག་མ་   11          5\n",
       "...                                                   ...  ...        ...\n",
       "105789  འདུ་ཤེས་མེད་པའི་སྙོམས་འཇུག་དགེ་རྒྱས་ཀྱི་འདོད་ཆ...  253         64\n",
       "22745   འགོག་པའི་སྙོམས་འཇུག་ཚོར་བ་དང་འདུ་ཤེས་རགས་པ་འགོ...  257         66\n",
       "87451   བཀའ་ཤག་སྔར་གྱི་བོད་ས་གནས་སྲིད་གཞུང་སྟེ་ཆིང་རྒྱ...  259         62\n",
       "173926  སྡེ་དགེའི་བསྟན་འགྱུར་དཀར་ཆག་ཀུན་མཁྱེན་ཉི་མའི་ག...  314         75\n",
       "41148   བསམ་ཡས་དཀར་ཆག་རབ་འབྱམས་དམ་པའི་ཞིང་གི་ཡོན་ཏན་ཀུ...  335         82\n",
       "\n",
       "[38707 rows x 3 columns]"
      ]
     },
     "execution_count": 20,
     "metadata": {},
     "output_type": "execute_result"
    }
   ],
   "source": [
    "tib_words_df[tib_words_df.syllables > 4].sort_values(\"len\")"
   ]
  },
  {
   "cell_type": "code",
   "execution_count": 21,
   "metadata": {},
   "outputs": [
    {
     "data": {
      "text/plain": [
       "['a kind of flower', 'layman, commoner, common people']"
      ]
     },
     "execution_count": 21,
     "metadata": {},
     "output_type": "execute_result"
    }
   ],
   "source": [
    "unicode_dict[tib_words_df.word[2096][:-1]]"
   ]
  },
  {
   "cell_type": "code",
   "execution_count": 22,
   "metadata": {},
   "outputs": [
    {
     "data": {
      "text/plain": [
       "[\"conditioned virtue. Spiritual practice in which a dualistic point of reference is used. Includes the preliminaries, seven branches and so forth. Unconditioned virtue is the recognition of buddha nature, often called 'threefold purity.' These two aspects of virtue gather the two accumulations, remove the two obscurations, manifest the twofold knowledge, and actualize the two kayas\"]"
      ]
     },
     "execution_count": 22,
     "metadata": {},
     "output_type": "execute_result"
    }
   ],
   "source": [
    "unicode_dict[\"ཟག་བཅས་ཀྱི་དགེ་བ\"]"
   ]
  },
  {
   "cell_type": "code",
   "execution_count": 23,
   "metadata": {},
   "outputs": [
    {
     "data": {
      "text/html": [
       "<div>\n",
       "<style scoped>\n",
       "    .dataframe tbody tr th:only-of-type {\n",
       "        vertical-align: middle;\n",
       "    }\n",
       "\n",
       "    .dataframe tbody tr th {\n",
       "        vertical-align: top;\n",
       "    }\n",
       "\n",
       "    .dataframe thead th {\n",
       "        text-align: right;\n",
       "    }\n",
       "</style>\n",
       "<table border=\"1\" class=\"dataframe\">\n",
       "  <thead>\n",
       "    <tr style=\"text-align: right;\">\n",
       "      <th></th>\n",
       "      <th>word</th>\n",
       "      <th>len</th>\n",
       "      <th>syllables</th>\n",
       "    </tr>\n",
       "  </thead>\n",
       "  <tbody>\n",
       "    <tr>\n",
       "      <th>161971</th>\n",
       "      <td>ར་</td>\n",
       "      <td>2</td>\n",
       "      <td>1</td>\n",
       "    </tr>\n",
       "    <tr>\n",
       "      <th>57798</th>\n",
       "      <td>ཎ་</td>\n",
       "      <td>2</td>\n",
       "      <td>1</td>\n",
       "    </tr>\n",
       "    <tr>\n",
       "      <th>49209</th>\n",
       "      <td>བ་</td>\n",
       "      <td>2</td>\n",
       "      <td>1</td>\n",
       "    </tr>\n",
       "    <tr>\n",
       "      <th>134734</th>\n",
       "      <td>ཙ་</td>\n",
       "      <td>2</td>\n",
       "      <td>1</td>\n",
       "    </tr>\n",
       "    <tr>\n",
       "      <th>135973</th>\n",
       "      <td>ཚ་</td>\n",
       "      <td>2</td>\n",
       "      <td>1</td>\n",
       "    </tr>\n",
       "    <tr>\n",
       "      <th>...</th>\n",
       "      <td>...</td>\n",
       "      <td>...</td>\n",
       "      <td>...</td>\n",
       "    </tr>\n",
       "    <tr>\n",
       "      <th>143853</th>\n",
       "      <td>མཐུན་སྒྲིལ་སྐྱོན་བརྗོད་</td>\n",
       "      <td>23</td>\n",
       "      <td>4</td>\n",
       "    </tr>\n",
       "    <tr>\n",
       "      <th>137784</th>\n",
       "      <td>འདེམས་བསྐོའི་ཁྲིམས་ལུགས་</td>\n",
       "      <td>24</td>\n",
       "      <td>4</td>\n",
       "    </tr>\n",
       "    <tr>\n",
       "      <th>37506</th>\n",
       "      <td>བསྐྱོར་བསྐྱོད་འཁྲབ་སྟོན་</td>\n",
       "      <td>24</td>\n",
       "      <td>4</td>\n",
       "    </tr>\n",
       "    <tr>\n",
       "      <th>166934</th>\n",
       "      <td>དབུགས་དབྱུང་གཟེངས་བསྟོད་</td>\n",
       "      <td>24</td>\n",
       "      <td>4</td>\n",
       "    </tr>\n",
       "    <tr>\n",
       "      <th>71821</th>\n",
       "      <td>རྩོམ་བསྡུས་ཕྱོགས་བསྡེབས་</td>\n",
       "      <td>24</td>\n",
       "      <td>4</td>\n",
       "    </tr>\n",
       "  </tbody>\n",
       "</table>\n",
       "<p>156156 rows × 3 columns</p>\n",
       "</div>"
      ],
      "text/plain": [
       "                            word  len  syllables\n",
       "161971                        ར་    2          1\n",
       "57798                         ཎ་    2          1\n",
       "49209                         བ་    2          1\n",
       "134734                        ཙ་    2          1\n",
       "135973                        ཚ་    2          1\n",
       "...                          ...  ...        ...\n",
       "143853   མཐུན་སྒྲིལ་སྐྱོན་བརྗོད་   23          4\n",
       "137784  འདེམས་བསྐོའི་ཁྲིམས་ལུགས་   24          4\n",
       "37506   བསྐྱོར་བསྐྱོད་འཁྲབ་སྟོན་   24          4\n",
       "166934  དབུགས་དབྱུང་གཟེངས་བསྟོད་   24          4\n",
       "71821   རྩོམ་བསྡུས་ཕྱོགས་བསྡེབས་   24          4\n",
       "\n",
       "[156156 rows x 3 columns]"
      ]
     },
     "execution_count": 23,
     "metadata": {},
     "output_type": "execute_result"
    }
   ],
   "source": [
    "tib_words_df[tib_words_df.syllables < 5].sort_values(\"len\")"
   ]
  },
  {
   "cell_type": "code",
   "execution_count": 24,
   "metadata": {},
   "outputs": [
    {
     "data": {
      "text/plain": [
       "['graced and honored']"
      ]
     },
     "execution_count": 24,
     "metadata": {},
     "output_type": "execute_result"
    }
   ],
   "source": [
    "unicode_dict[\"དབུགས་དབྱུང་གཟེངས་བསྟོད\"]"
   ]
  },
  {
   "cell_type": "code",
   "execution_count": 25,
   "metadata": {},
   "outputs": [
    {
     "data": {
      "text/plain": [
       "439974"
      ]
     },
     "execution_count": 25,
     "metadata": {},
     "output_type": "execute_result"
    }
   ],
   "source": [
    "tib_words_df[tib_words_df.syllables < 5].syllables.sum()"
   ]
  },
  {
   "cell_type": "code",
   "execution_count": 26,
   "metadata": {},
   "outputs": [
    {
     "data": {
      "text/plain": [
       "<matplotlib.axes._subplots.AxesSubplot at 0x29873d736c8>"
      ]
     },
     "execution_count": 26,
     "metadata": {},
     "output_type": "execute_result"
    },
    {
     "data": {
      "image/png": "[encoded data removed]",
      "text/plain": [
       "<Figure size 1440x720 with 1 Axes>"
      ]
     },
     "metadata": {},
     "output_type": "display_data"
    }
   ],
   "source": [
    "tib_words_df[tib_words_df.syllables < 5].len.hist(bins=50, figsize=(20, 10))"
   ]
  },
  {
   "cell_type": "code",
   "execution_count": 28,
   "metadata": {},
   "outputs": [],
   "source": [
    "# set([(c, unicodedata.name(c)) for w in tib_words for c in w])"
   ]
  },
  {
   "cell_type": "markdown",
   "metadata": {},
   "source": [
    "# Make training set"
   ]
  },
  {
   "cell_type": "code",
   "execution_count": 29,
   "metadata": {},
   "outputs": [],
   "source": [
    "train_df = tib_words_df[tib_words_df.syllables < 5]"
   ]
  },
  {
   "cell_type": "code",
   "execution_count": 30,
   "metadata": {},
   "outputs": [],
   "source": [
    "with open(\"../../tibert_data/training/tokenizer/spm_train.txt\", mode='w', encoding='utf-8') as f:\n",
    "    for c in all_letters:\n",
    "        f.write(c + '\\n')\n",
    "    for w in train_df.word.tolist():\n",
    "        f.write(w + '\\n')"
   ]
  },
  {
   "cell_type": "markdown",
   "metadata": {},
   "source": [
    "# Train tokenizer"
   ]
  },
  {
   "cell_type": "code",
   "execution_count": 31,
   "metadata": {},
   "outputs": [],
   "source": [
    "from tibert.models import TibertTokenizer"
   ]
  },
  {
   "cell_type": "code",
   "execution_count": 32,
   "metadata": {},
   "outputs": [],
   "source": [
    "TibertTokenizer.train(\n",
    "    \"c:/workspace/tibert_data/training/tokenizer/spm_train.txt\",\n",
    "    'c:/workspace/tibert_data/training/models/tokenizer/tibert_spm_bpe_tiny',\n",
    "    model_type='bpe',\n",
    "    vocab_size=1000)"
   ]
  },
  {
   "cell_type": "code",
   "execution_count": 33,
   "metadata": {},
   "outputs": [],
   "source": [
    "TibertTokenizer.train(\n",
    "    \"c:/workspace/tibert_data/training/tokenizer/spm_train.txt\",\n",
    "    'c:/workspace/tibert_data/training/models/tokenizer/tibert_spm_bpe_small',\n",
    "    model_type='bpe',\n",
    "    vocab_size=5000)"
   ]
  },
  {
   "cell_type": "code",
   "execution_count": 34,
   "metadata": {},
   "outputs": [],
   "source": [
    "TibertTokenizer.train(\n",
    "    \"c:/workspace/tibert_data/training/tokenizer/spm_train.txt\",\n",
    "    'c:/workspace/tibert_data/training/models/tokenizer/tibert_spm_bpe_big',\n",
    "    model_type='bpe',\n",
    "    vocab_size=10000)"
   ]
  },
  {
   "cell_type": "markdown",
   "metadata": {},
   "source": [
    "# Test tokenizer"
   ]
  },
  {
   "cell_type": "code",
   "execution_count": 35,
   "metadata": {},
   "outputs": [],
   "source": [
    "from tibert.models import TibertTokenizer"
   ]
  },
  {
   "cell_type": "code",
   "execution_count": 36,
   "metadata": {},
   "outputs": [],
   "source": [
    "tokenizer = TibertTokenizer.from_pretrained('tibert-bpe-large')\n",
    "tokenizer.stochastic_tokenization = False"
   ]
  },
  {
   "cell_type": "code",
   "execution_count": 37,
   "metadata": {},
   "outputs": [],
   "source": [
    "from tibert.data import CorpusSplitType, KangyurLoader, TengyurLoader"
   ]
  },
  {
   "cell_type": "code",
   "execution_count": 38,
   "metadata": {},
   "outputs": [],
   "source": [
    "tib_df = KangyurLoader(\"../../tibert_data/\").dataframe.append(TengyurLoader(\"../../tibert_data/\").dataframe)"
   ]
  },
  {
   "cell_type": "code",
   "execution_count": 39,
   "metadata": {},
   "outputs": [
    {
     "data": {
      "text/plain": [
       "(20, '')"
      ]
     },
     "execution_count": 39,
     "metadata": {},
     "output_type": "execute_result"
    }
   ],
   "source": [
    "tib_samples = tib_df.text.sample(frac=0.01).compute().tolist()\n",
    "tib_samples = tib_df.text.head(20).tolist()\n",
    "len(tib_samples), tib_samples[0]"
   ]
  },
  {
   "cell_type": "code",
   "execution_count": 40,
   "metadata": {},
   "outputs": [],
   "source": [
    "i = 0"
   ]
  },
  {
   "cell_type": "code",
   "execution_count": 53,
   "metadata": {},
   "outputs": [
    {
     "data": {
      "text/plain": [
       "'[CLS] པོ་འདི་ནི་གདུག་པ། ཕ་རོལ་གནོན་པ། དཔུང་དང་མཐུ་ཆེ་བར་གྱུར་ལ། དེས་ཡུ་བུ་ཅག་ལ་འདི་དང་འདི་སྐད་ཅེས་སྤྲིང་ན། དེ་ལ་ཡུ་བུ་ཅག་གིས་ཇི་ལྟར་བསྒྲུབ་པར་བྱ། དེ་དག་གིས་ཚིགས་སུ་བཅད་པ་སྨྲས་པ། ཡུལ་དང་སྲོག་ལ་གནོད་གྱུར་ན། ། སྐྱེས་བུས་ཀུན་དུ་སྲོག་བསྲུང་བྱ། །བློ་ཡིས་གཉིས་ཀ་དཔྱད་བྱས་ན། །ཡུལ་ནི་ཡང་རྙེད་སྲོག་རྣམས་མིན། །ལྷ་རྣམ་པ་ཐམས་ཅད་དུ་སླར་འབྱུང་བར་བགྱིའོ། །དེ་རལ་གྲི་མགུལ་དུ་ཐོགས་ཏེ་ཕྱིར་བྱུང་བ་དང་། ཨང་གའི་རྒྱལ་པོས་དེ་ལ་ལོ་ཐང་དང་དཔྱ་ཕབ་སྟེ་དེ་ཉིད་དུ་ བཞག་གོ། །གང་གི་ཚེ་བཅོམ་ལྡན་འདས་བྱང་ཆུབ་སེམས་དཔའ་དགའ་ལྡན་གྱི་གནས་ན་བཞུགས་པས་གཟིགས་པ་ལྔ་པོ་དག་ལ་གཟིགས་ནས་འདོད་པ་ན་སྤྱོད་པའི་ལྷ་དྲུག་པོ་དག་ལ་ལན་གསུམ་བསྒོ་བ་མཛད་དེ། གླང་པོ་ཆེ་ལྟར་སྣང་བར་བསྒྱུར་ཏེ། ཡུམ་གྱི་ལྷུམས་སུ་ ཞུགས་པ་དེའི་ཚེ་ན་ས་ཆེན་པོ་ཤིན་ཏུ་གཡོས་པར་གྱུར་ཅིང་འཇིག་རྟེན་འདི་ཐམས་ཅད་ཀྱང་སུམ་བཅུ་རྩ་གསུམ་པའི་ལྷ་རྣམས་ཀྱི་ཁ་དོག་གི་མཐུ་བས་ལྷག་པའི་སྣང་བ་རྒྱ་ཆེན་པོས་ཁྱབ་པར་གྱུར་ཅིང་། འཇིག་རྟེན་གྱི་འཇིག་རྟེན་གྱི་བར་གང་ན་ཉི་མ་དང་ཟླ་བ་འདི་ལྟར་རྫུ་འཕྲུལ་ཆེ་བ། འདི་ལྟར་མཐུ་ཆེ་བ་འདི་གཉིས་ཀྱི་འོད་དག་ཉམས་སུ་མི་མྱོང་བའི་མུན་པ་མུན་གནག་མུན་པར་བྱེད་པས། གནག་པར་གྱུར་པ་གང་དག་ཡིན་པ་དེ་དག་ཀྱང་དེའི་ཚེ་ན་སྣང་བ་རྒྱ་ཆེན་པོས་ཁྱབ་པར་གྱུར་ནས། སེམས་ཅན་གང་དག་དེར་སྐྱེས་པ་དག་གིས་རང་གི་ལག་པ་བརྐྱང་བ་ཡང་མི་ མཐོང་བ་དེ་དག་གིས་ཀྱང་འོད་དེས་སེམས་ཅན་གཅིག་གིས་གཅིག་མཐོང་ནས་ཤེས་ལྡན་དག་སེམས་ཅན་གཞན་ཡང་འདིར་སྐྱེས་སོ། །ཤེས་ལྡན་དག་སེམས་ཅན་གཞན་ཡང་འདིར་སྐྱེས་སོ་ཞེས་ཤེས་པར་གྱུར་ཏོ། །གང་གི་ཚེ་བཅོམ་ལྡན་འདས་བྱང་ཆུབ་སེམས་དཔའ་ བལྟམ་པ་དེའི་ཚེ་ན་གྲོང་ཁྱེར་ཆེན་པོ་བཞི་པོ་དག་ཏུ་རྒྱལ་པོ་ཆེན་པོ་བཞི་དག་གི་བུ་ཡང་བཙས་པར་གྱུར་ཏེ། རྒྱལ་པོའི་ཁབ་ཏུ་རྒྱལ་པོ་པད་མ་ཆེན་པོའི་བུ་བཙས་སོ། །མཉན་ཡོད་དུ་ནི་རྒྱལ་པོ་རྩིབས་ཀྱིས་འཕུར་ཚངས་བྱིན་གྱི་བུ་བཙས་སོ། །འཕགས་རྒྱལ་དུ་ནི་རྒྱལ་པོ་མུ་[SEP]'"
      ]
     },
     "execution_count": 53,
     "metadata": {},
     "output_type": "execute_result"
    }
   ],
   "source": [
    "tokenizer.decode(tokenizer.encode(tib_samples[i]))"
   ]
  },
  {
   "cell_type": "code",
   "execution_count": 54,
   "metadata": {},
   "outputs": [
    {
     "data": {
      "text/plain": [
       "'▁པོ་ འདི་ ནི་ གདུག་ པ ། ▁ཕ་རོལ་ གནོན་ པ ། ▁དཔུང་ དང་ མཐུ་ ཆེ་ བར་གྱུར་ ལ ། ▁དེས་ ཡུ་ བུ་ ཅག་ ལ་ འདི་ དང་ འདི་ སྐད་ ཅེས་ སྤྲིང་ ན ། ▁དེ་ལ་ ཡུ་ བུ་ ཅག་ གིས་ ཇི་ལྟར་ བསྒྲུབ་ པར་ བྱ ། ▁དེ་དག་ གིས་ ཚིགས་ སུ་ བཅད་པ་ སྨྲས་ པ ། ▁ཡུལ་ དང་ སྲོག་ ལ་ གནོད་ གྱུར་ ན ། ▁ ། ▁སྐྱེས་ བུས་ ཀུན་ དུ་ སྲོག་ བསྲུང་ བྱ ། ▁ ། བློ་ ཡིས་ གཉིས་ ཀ་ དཔྱད་ བྱས་ ན ། ▁ ། ཡུལ་ ནི་ ཡང་ རྙེད་ སྲོག་ རྣམས་ མ ིན ། ▁ ། ལྷ ་ར ྣམ་ པ་ ཐམས་ཅད་ དུ་ སླ ར་ འབྱུང་ བར་ བགྱ ི འ ོ ། ▁ ། དེ་ རལ་ གྲི་ མགུལ་ དུ་ ཐོགས་ ཏེ་ ཕྱིར་ བྱུང་བ་ དང་ ། ▁ཨང་ གའི་ རྒྱལ་ པོས་ དེ་ ལ་ ལོ་ ཐང་ དང་ དཔྱ་ ཕབ་ སྟེ་ དེ་ ཉིད་དུ་ ▁བཞག་ ག ོ ། ▁ ། གང་ གི་ ཚེ་ བཅོམ་ ལྡན་ འདས་ བྱང་ཆུབ་ སེམས་དཔའ་ དགའ་ ལྡན་ གྱི་གནས་ ན་ བཞུགས་ པས་ གཟིགས་པ་ ལྔ་ པོ་ དག་ ལ་ གཟིགས་ ནས་ འདོད་པ་ ན་ སྤྱོད་ པའི་ལྷ་ དྲུག་ པོ་ དག་ ལ་ ལན་ གསུམ་ བསྒ ོ་བ་ མཛད་ ད ེ ། ▁གླང་པོ་ ཆེ་ ལྟར་སྣང་ བར་ བསྒྱུར་ ཏ ེ ། ▁ཡུམ་ གྱི་ ལྷ ུམས་ སུ་ ▁ཞ ུགས་པ་ དེའི་ ཚེ་ ན་ ས་ ཆེན་པོ་ ཤིན་ ཏུ་ གཡོས་ པར་གྱུར་ ཅིང་ འཇིག་རྟེན་ འདི་ ཐམས་ཅད་ ཀྱང་ སུམ་ བཅུ་ རྩ་ གསུམ་ པའི་ ལྷ ་རྣམས་ ཀྱི་ ཁ་དོག་ གི་ མཐུ་ བས་ ལྷག་ པའི་ སྣང་བ་ རྒྱ་ ཆེན་ པོས་ ཁྱབ་ པར་གྱུར་ ཅིང་ ། ▁འཇིག་རྟེན་གྱི་ འཇིག་རྟེན་ གྱི་ བར་ གང་ ན་ ཉི་མ་ དང་ ཟླ་བ་ འདི་ ལྟར་ རྫུ་ འཕྲུལ་ ཆེ་ བ ། ▁འདི་ ལྟར་ མཐུ་ ཆེ་བ་ འདི་ གཉིས་ ཀྱི་ འོད་ དག་ ཉམས་ སུ་ མི་ མྱོང་ བའི་ མ ུན་པ་ མུན་ གནག་ མུན་ པར་བྱེད་ པ ས ། ▁གནག་ པར་གྱུར་པ་ གང་ དག་ ཡིན་པ་ དེ་ དག་ ཀྱང་ དེའི་ ཚེ་ ན་ སྣང་བ་ རྒྱ་ ཆེན་ པོས་ ཁྱབ་ པར་གྱུར་ ན ས ། ▁སེམས་ཅན་ གང་ དག་ དེར་ སྐྱེས་པ་ དག་ གིས་ རང་གི་ ལག་པ་ བ རྐྱ ང་བ་ ཡང་ མི་ ▁མཐོང་བ་ དེ་ དག་ གིས་ ཀྱང་ འོད་ དེས་ སེམས་ཅན་ གཅིག་ གིས་ གཅིག་ མཐོང་ ནས་ ཤེས་ ལྡན་ དག་ སེམས་ཅན་ གཞན་ ཡང་ འདིར་ སྐྱེས་ ས ོ ། ▁ ། ཤེས་ ལྡན་ དག་ སེམས་ཅན་ གཞན་ ཡང་ འདིར་ སྐྱེས་ སོ་ ཞེས་ ཤེས་ པར་གྱུར་ ཏ ོ ། ▁ ། གང་ གི་ ཚེ་ བཅོམ་ ལྡན་ འདས་ བྱང་ཆུབ་ སེམས་དཔའ་ ▁བལྟ མ་པ་ དེའི་ ཚེ་ ན་ གྲོང་ཁྱེར་ ཆེན་པོ་ བཞི་པོ་ དག་ ཏུ་ རྒྱལ་པོ་ ཆེན་པོ་ བཞི་ དག་ གི་བུ་ ཡང་ བཙས་ པར་གྱུར་ ཏ ེ ། ▁རྒྱལ་པོའི་ ཁབ་ ཏུ་ རྒྱལ་པོ་ པད་མ་ ཆེན་པོའི་ བུ་ བཙས་ ས ོ ། ▁ ། མཉ ན་ ཡོད་ དུ་ ནི་ རྒྱལ་པོ་ རྩ ིབས་ ཀྱིས་ འཕུར་ ཚངས་ བྱིན་ གྱི་བུ་ བཙས་ ས ོ ། ▁ ། འཕགས་ རྒྱལ་ དུ་ ནི་ རྒྱལ་པོ་ མུ་'"
      ]
     },
     "execution_count": 54,
     "metadata": {},
     "output_type": "execute_result"
    }
   ],
   "source": [
    "' '.join(tokenizer.tokenize(tib_samples[i]))"
   ]
  },
  {
   "cell_type": "code",
   "execution_count": 55,
   "metadata": {},
   "outputs": [],
   "source": [
    "i += 1"
   ]
  },
  {
   "cell_type": "code",
   "execution_count": 52,
   "metadata": {},
   "outputs": [],
   "source": [
    "from tqdm.notebook import tqdm\n",
    "import pandas as pd"
   ]
  },
  {
   "cell_type": "code",
   "execution_count": 54,
   "metadata": {},
   "outputs": [
    {
     "data": {
      "application/vnd.jupyter.widget-view+json": {
       "model_id": "",
       "version_major": 2,
       "version_minor": 0
      },
      "text/plain": [
       "HBox(children=(FloatProgress(value=1.0, bar_style='info', max=1.0), HTML(value='')))"
      ]
     },
     "metadata": {},
     "output_type": "display_data"
    },
    {
     "name": "stdout",
     "output_type": "stream",
     "text": [
      "\n"
     ]
    },
    {
     "data": {
      "text/html": [
       "<div>\n",
       "<style scoped>\n",
       "    .dataframe tbody tr th:only-of-type {\n",
       "        vertical-align: middle;\n",
       "    }\n",
       "\n",
       "    .dataframe tbody tr th {\n",
       "        vertical-align: top;\n",
       "    }\n",
       "\n",
       "    .dataframe thead th {\n",
       "        text-align: right;\n",
       "    }\n",
       "</style>\n",
       "<table border=\"1\" class=\"dataframe\">\n",
       "  <thead>\n",
       "    <tr style=\"text-align: right;\">\n",
       "      <th></th>\n",
       "      <th>token</th>\n",
       "      <th>decoding</th>\n",
       "      <th>len</th>\n",
       "    </tr>\n",
       "  </thead>\n",
       "  <tbody>\n",
       "    <tr>\n",
       "      <th>0</th>\n",
       "      <td>0</td>\n",
       "      <td>&lt;pad&gt;</td>\n",
       "      <td>5</td>\n",
       "    </tr>\n",
       "    <tr>\n",
       "      <th>1</th>\n",
       "      <td>1</td>\n",
       "      <td>&lt;unk&gt;</td>\n",
       "      <td>5</td>\n",
       "    </tr>\n",
       "    <tr>\n",
       "      <th>2</th>\n",
       "      <td>2</td>\n",
       "      <td>[CLS]</td>\n",
       "      <td>5</td>\n",
       "    </tr>\n",
       "    <tr>\n",
       "      <th>3</th>\n",
       "      <td>3</td>\n",
       "      <td>[SEP]</td>\n",
       "      <td>5</td>\n",
       "    </tr>\n",
       "    <tr>\n",
       "      <th>4</th>\n",
       "      <td>4</td>\n",
       "      <td>[MASK]</td>\n",
       "      <td>6</td>\n",
       "    </tr>\n",
       "    <tr>\n",
       "      <th>...</th>\n",
       "      <td>...</td>\n",
       "      <td>...</td>\n",
       "      <td>...</td>\n",
       "    </tr>\n",
       "    <tr>\n",
       "      <th>9995</th>\n",
       "      <td>9995</td>\n",
       "      <td>ྶ</td>\n",
       "      <td>1</td>\n",
       "    </tr>\n",
       "    <tr>\n",
       "      <th>9996</th>\n",
       "      <td>9996</td>\n",
       "      <td>ྸ</td>\n",
       "      <td>1</td>\n",
       "    </tr>\n",
       "    <tr>\n",
       "      <th>9997</th>\n",
       "      <td>9997</td>\n",
       "      <td>ྺ</td>\n",
       "      <td>1</td>\n",
       "    </tr>\n",
       "    <tr>\n",
       "      <th>9998</th>\n",
       "      <td>9998</td>\n",
       "      <td>ྻ</td>\n",
       "      <td>1</td>\n",
       "    </tr>\n",
       "    <tr>\n",
       "      <th>9999</th>\n",
       "      <td>9999</td>\n",
       "      <td>ྼ</td>\n",
       "      <td>1</td>\n",
       "    </tr>\n",
       "  </tbody>\n",
       "</table>\n",
       "<p>10000 rows × 3 columns</p>\n",
       "</div>"
      ],
      "text/plain": [
       "      token decoding  len\n",
       "0         0    <pad>    5\n",
       "1         1    <unk>    5\n",
       "2         2    [CLS]    5\n",
       "3         3    [SEP]    5\n",
       "4         4   [MASK]    6\n",
       "...     ...      ...  ...\n",
       "9995   9995        ྶ    1\n",
       "9996   9996        ྸ    1\n",
       "9997   9997        ྺ    1\n",
       "9998   9998        ྻ    1\n",
       "9999   9999        ྼ    1\n",
       "\n",
       "[10000 rows x 3 columns]"
      ]
     },
     "execution_count": 54,
     "metadata": {},
     "output_type": "execute_result"
    }
   ],
   "source": [
    "tokens, decoding = [], []\n",
    "for idx, token in tqdm(enumerate(range(10000))):\n",
    "    tokens.append(token)\n",
    "    decoding.append(tokenizer.decode([token]))\n",
    "dec_df = pd.DataFrame({\"token\": tokens, \"decoding\": decoding})\n",
    "dec_df[\"len\"] = dec_df.decoding.map(len)\n",
    "dec_df"
   ]
  },
  {
   "cell_type": "code",
   "execution_count": 56,
   "metadata": {},
   "outputs": [
    {
     "data": {
      "text/html": [
       "<div>\n",
       "<style scoped>\n",
       "    .dataframe tbody tr th:only-of-type {\n",
       "        vertical-align: middle;\n",
       "    }\n",
       "\n",
       "    .dataframe tbody tr th {\n",
       "        vertical-align: top;\n",
       "    }\n",
       "\n",
       "    .dataframe thead th {\n",
       "        text-align: right;\n",
       "    }\n",
       "</style>\n",
       "<table border=\"1\" class=\"dataframe\">\n",
       "  <thead>\n",
       "    <tr style=\"text-align: right;\">\n",
       "      <th></th>\n",
       "      <th>token</th>\n",
       "      <th>decoding</th>\n",
       "      <th>len</th>\n",
       "    </tr>\n",
       "  </thead>\n",
       "  <tbody>\n",
       "    <tr>\n",
       "      <th>9874</th>\n",
       "      <td>9874</td>\n",
       "      <td></td>\n",
       "      <td>0</td>\n",
       "    </tr>\n",
       "  </tbody>\n",
       "</table>\n",
       "</div>"
      ],
      "text/plain": [
       "      token decoding  len\n",
       "9874   9874             0"
      ]
     },
     "execution_count": 56,
     "metadata": {},
     "output_type": "execute_result"
    }
   ],
   "source": [
    "dec_df[dec_df.len == 0]"
   ]
  }
 ],
 "metadata": {
  "kernelspec": {
   "display_name": "Python 3",
   "language": "python",
   "name": "python3"
  },
  "language_info": {
   "codemirror_mode": {
    "name": "ipython",
    "version": 3
   },
   "file_extension": ".py",
   "mimetype": "text/x-python",
   "name": "python",
   "nbconvert_exporter": "python",
   "pygments_lexer": "ipython3",
   "version": "3.7.6"
  }
 },
 "nbformat": 4,
 "nbformat_minor": 4
}
