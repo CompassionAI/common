{
 "cells": [
  {
   "cell_type": "code",
   "execution_count": 1,
   "metadata": {},
   "outputs": [],
   "source": [
    "%matplotlib inline\n",
    "import matplotlib.pyplot as plt\n",
    "plt.style.use(\"dark_background\")"
   ]
  },
  {
   "cell_type": "markdown",
   "metadata": {},
   "source": [
    "# Test the loaders"
   ]
  },
  {
   "cell_type": "code",
   "execution_count": 2,
   "metadata": {},
   "outputs": [],
   "source": [
    "from dask.distributed import Client, LocalCluster\n",
    "import dask.bag as db"
   ]
  },
  {
   "cell_type": "code",
   "execution_count": 3,
   "metadata": {},
   "outputs": [
    {
     "name": "stderr",
     "output_type": "stream",
     "text": [
      "/home/eeisenst/miniconda3/envs/cai-base/lib/python3.10/site-packages/distributed/node.py:177: UserWarning: Port 8787 is already in use.\n",
      "Perhaps you already have a cluster running?\n",
      "Hosting the HTTP server on port 33429 instead\n",
      "  warnings.warn(\n"
     ]
    }
   ],
   "source": [
    "dask_cluster = LocalCluster(n_workers=20, threads_per_worker=1)\n",
    "dask_client = Client(dask_cluster)"
   ]
  },
  {
   "cell_type": "code",
   "execution_count": 4,
   "metadata": {},
   "outputs": [
    {
     "data": {
      "text/html": [
       "<div>\n",
       "    <div style=\"width: 24px; height: 24px; background-color: #e1e1e1; border: 3px solid #9D9D9D; border-radius: 5px; position: absolute;\"> </div>\n",
       "    <div style=\"margin-left: 48px;\">\n",
       "        <h3 style=\"margin-bottom: 0px;\">Client</h3>\n",
       "        <p style=\"color: #9D9D9D; margin-bottom: 0px;\">Client-4eacb313-dc5b-11ec-abe7-dc21485c56f2</p>\n",
       "        <table style=\"width: 100%; text-align: left;\">\n",
       "\n",
       "        <tr>\n",
       "        \n",
       "            <td style=\"text-align: left;\"><strong>Connection method:</strong> Cluster object</td>\n",
       "            <td style=\"text-align: left;\"><strong>Cluster type:</strong> distributed.LocalCluster</td>\n",
       "        \n",
       "        </tr>\n",
       "\n",
       "        \n",
       "            <tr>\n",
       "                <td style=\"text-align: left;\">\n",
       "                    <strong>Dashboard: </strong> <a href=\"http://127.0.0.1:33429/status\" target=\"_blank\">http://127.0.0.1:33429/status</a>\n",
       "                </td>\n",
       "                <td style=\"text-align: left;\"></td>\n",
       "            </tr>\n",
       "        \n",
       "\n",
       "        </table>\n",
       "\n",
       "        \n",
       "            <details>\n",
       "            <summary style=\"margin-bottom: 20px;\"><h3 style=\"display: inline;\">Cluster Info</h3></summary>\n",
       "            <div class=\"jp-RenderedHTMLCommon jp-RenderedHTML jp-mod-trusted jp-OutputArea-output\">\n",
       "    <div style=\"width: 24px; height: 24px; background-color: #e1e1e1; border: 3px solid #9D9D9D; border-radius: 5px; position: absolute;\">\n",
       "    </div>\n",
       "    <div style=\"margin-left: 48px;\">\n",
       "        <h3 style=\"margin-bottom: 0px; margin-top: 0px;\">LocalCluster</h3>\n",
       "        <p style=\"color: #9D9D9D; margin-bottom: 0px;\">6e2ea95f</p>\n",
       "        <table style=\"width: 100%; text-align: left;\">\n",
       "            <tr>\n",
       "                <td style=\"text-align: left;\">\n",
       "                    <strong>Dashboard:</strong> <a href=\"http://127.0.0.1:33429/status\" target=\"_blank\">http://127.0.0.1:33429/status</a>\n",
       "                </td>\n",
       "                <td style=\"text-align: left;\">\n",
       "                    <strong>Workers:</strong> 20\n",
       "                </td>\n",
       "            </tr>\n",
       "            <tr>\n",
       "                <td style=\"text-align: left;\">\n",
       "                    <strong>Total threads:</strong> 20\n",
       "                </td>\n",
       "                <td style=\"text-align: left;\">\n",
       "                    <strong>Total memory:</strong> 31.17 GiB\n",
       "                </td>\n",
       "            </tr>\n",
       "            \n",
       "            <tr>\n",
       "    <td style=\"text-align: left;\"><strong>Status:</strong> running</td>\n",
       "    <td style=\"text-align: left;\"><strong>Using processes:</strong> True</td>\n",
       "</tr>\n",
       "\n",
       "            \n",
       "        </table>\n",
       "\n",
       "        <details>\n",
       "            <summary style=\"margin-bottom: 20px;\">\n",
       "                <h3 style=\"display: inline;\">Scheduler Info</h3>\n",
       "            </summary>\n",
       "\n",
       "            <div style=\"\">\n",
       "    <div>\n",
       "        <div style=\"width: 24px; height: 24px; background-color: #FFF7E5; border: 3px solid #FF6132; border-radius: 5px; position: absolute;\"> </div>\n",
       "        <div style=\"margin-left: 48px;\">\n",
       "            <h3 style=\"margin-bottom: 0px;\">Scheduler</h3>\n",
       "            <p style=\"color: #9D9D9D; margin-bottom: 0px;\">Scheduler-674401a7-1a1d-4b6f-941e-62955b9b0924</p>\n",
       "            <table style=\"width: 100%; text-align: left;\">\n",
       "                <tr>\n",
       "                    <td style=\"text-align: left;\">\n",
       "                        <strong>Comm:</strong> tcp://127.0.0.1:42111\n",
       "                    </td>\n",
       "                    <td style=\"text-align: left;\">\n",
       "                        <strong>Workers:</strong> 20\n",
       "                    </td>\n",
       "                </tr>\n",
       "                <tr>\n",
       "                    <td style=\"text-align: left;\">\n",
       "                        <strong>Dashboard:</strong> <a href=\"http://127.0.0.1:33429/status\" target=\"_blank\">http://127.0.0.1:33429/status</a>\n",
       "                    </td>\n",
       "                    <td style=\"text-align: left;\">\n",
       "                        <strong>Total threads:</strong> 20\n",
       "                    </td>\n",
       "                </tr>\n",
       "                <tr>\n",
       "                    <td style=\"text-align: left;\">\n",
       "                        <strong>Started:</strong> Just now\n",
       "                    </td>\n",
       "                    <td style=\"text-align: left;\">\n",
       "                        <strong>Total memory:</strong> 31.17 GiB\n",
       "                    </td>\n",
       "                </tr>\n",
       "            </table>\n",
       "        </div>\n",
       "    </div>\n",
       "\n",
       "    <details style=\"margin-left: 48px;\">\n",
       "        <summary style=\"margin-bottom: 20px;\">\n",
       "            <h3 style=\"display: inline;\">Workers</h3>\n",
       "        </summary>\n",
       "\n",
       "        \n",
       "        <div style=\"margin-bottom: 20px;\">\n",
       "            <div style=\"width: 24px; height: 24px; background-color: #DBF5FF; border: 3px solid #4CC9FF; border-radius: 5px; position: absolute;\"> </div>\n",
       "            <div style=\"margin-left: 48px;\">\n",
       "            <details>\n",
       "                <summary>\n",
       "                    <h4 style=\"margin-bottom: 0px; display: inline;\">Worker: 0</h4>\n",
       "                </summary>\n",
       "                <table style=\"width: 100%; text-align: left;\">\n",
       "                    <tr>\n",
       "                        <td style=\"text-align: left;\">\n",
       "                            <strong>Comm: </strong> tcp://127.0.0.1:45347\n",
       "                        </td>\n",
       "                        <td style=\"text-align: left;\">\n",
       "                            <strong>Total threads: </strong> 1\n",
       "                        </td>\n",
       "                    </tr>\n",
       "                    <tr>\n",
       "                        <td style=\"text-align: left;\">\n",
       "                            <strong>Dashboard: </strong> <a href=\"http://127.0.0.1:35745/status\" target=\"_blank\">http://127.0.0.1:35745/status</a>\n",
       "                        </td>\n",
       "                        <td style=\"text-align: left;\">\n",
       "                            <strong>Memory: </strong> 1.56 GiB\n",
       "                        </td>\n",
       "                    </tr>\n",
       "                    <tr>\n",
       "                        <td style=\"text-align: left;\">\n",
       "                            <strong>Nanny: </strong> tcp://127.0.0.1:42501\n",
       "                        </td>\n",
       "                        <td style=\"text-align: left;\"></td>\n",
       "                    </tr>\n",
       "                    <tr>\n",
       "                        <td colspan=\"2\" style=\"text-align: left;\">\n",
       "                            <strong>Local directory: </strong> /home/eeisenst/workspace/compassionai/common/notebooks/dask-worker-space/worker-e2v5nrfn\n",
       "                        </td>\n",
       "                    </tr>\n",
       "\n",
       "                    \n",
       "\n",
       "                    \n",
       "\n",
       "                </table>\n",
       "            </details>\n",
       "            </div>\n",
       "        </div>\n",
       "        \n",
       "        <div style=\"margin-bottom: 20px;\">\n",
       "            <div style=\"width: 24px; height: 24px; background-color: #DBF5FF; border: 3px solid #4CC9FF; border-radius: 5px; position: absolute;\"> </div>\n",
       "            <div style=\"margin-left: 48px;\">\n",
       "            <details>\n",
       "                <summary>\n",
       "                    <h4 style=\"margin-bottom: 0px; display: inline;\">Worker: 1</h4>\n",
       "                </summary>\n",
       "                <table style=\"width: 100%; text-align: left;\">\n",
       "                    <tr>\n",
       "                        <td style=\"text-align: left;\">\n",
       "                            <strong>Comm: </strong> tcp://127.0.0.1:33097\n",
       "                        </td>\n",
       "                        <td style=\"text-align: left;\">\n",
       "                            <strong>Total threads: </strong> 1\n",
       "                        </td>\n",
       "                    </tr>\n",
       "                    <tr>\n",
       "                        <td style=\"text-align: left;\">\n",
       "                            <strong>Dashboard: </strong> <a href=\"http://127.0.0.1:36907/status\" target=\"_blank\">http://127.0.0.1:36907/status</a>\n",
       "                        </td>\n",
       "                        <td style=\"text-align: left;\">\n",
       "                            <strong>Memory: </strong> 1.56 GiB\n",
       "                        </td>\n",
       "                    </tr>\n",
       "                    <tr>\n",
       "                        <td style=\"text-align: left;\">\n",
       "                            <strong>Nanny: </strong> tcp://127.0.0.1:44331\n",
       "                        </td>\n",
       "                        <td style=\"text-align: left;\"></td>\n",
       "                    </tr>\n",
       "                    <tr>\n",
       "                        <td colspan=\"2\" style=\"text-align: left;\">\n",
       "                            <strong>Local directory: </strong> /home/eeisenst/workspace/compassionai/common/notebooks/dask-worker-space/worker-p6pro_hi\n",
       "                        </td>\n",
       "                    </tr>\n",
       "\n",
       "                    \n",
       "\n",
       "                    \n",
       "\n",
       "                </table>\n",
       "            </details>\n",
       "            </div>\n",
       "        </div>\n",
       "        \n",
       "        <div style=\"margin-bottom: 20px;\">\n",
       "            <div style=\"width: 24px; height: 24px; background-color: #DBF5FF; border: 3px solid #4CC9FF; border-radius: 5px; position: absolute;\"> </div>\n",
       "            <div style=\"margin-left: 48px;\">\n",
       "            <details>\n",
       "                <summary>\n",
       "                    <h4 style=\"margin-bottom: 0px; display: inline;\">Worker: 2</h4>\n",
       "                </summary>\n",
       "                <table style=\"width: 100%; text-align: left;\">\n",
       "                    <tr>\n",
       "                        <td style=\"text-align: left;\">\n",
       "                            <strong>Comm: </strong> tcp://127.0.0.1:38343\n",
       "                        </td>\n",
       "                        <td style=\"text-align: left;\">\n",
       "                            <strong>Total threads: </strong> 1\n",
       "                        </td>\n",
       "                    </tr>\n",
       "                    <tr>\n",
       "                        <td style=\"text-align: left;\">\n",
       "                            <strong>Dashboard: </strong> <a href=\"http://127.0.0.1:40229/status\" target=\"_blank\">http://127.0.0.1:40229/status</a>\n",
       "                        </td>\n",
       "                        <td style=\"text-align: left;\">\n",
       "                            <strong>Memory: </strong> 1.56 GiB\n",
       "                        </td>\n",
       "                    </tr>\n",
       "                    <tr>\n",
       "                        <td style=\"text-align: left;\">\n",
       "                            <strong>Nanny: </strong> tcp://127.0.0.1:44153\n",
       "                        </td>\n",
       "                        <td style=\"text-align: left;\"></td>\n",
       "                    </tr>\n",
       "                    <tr>\n",
       "                        <td colspan=\"2\" style=\"text-align: left;\">\n",
       "                            <strong>Local directory: </strong> /home/eeisenst/workspace/compassionai/common/notebooks/dask-worker-space/worker-9dcq9aw1\n",
       "                        </td>\n",
       "                    </tr>\n",
       "\n",
       "                    \n",
       "\n",
       "                    \n",
       "\n",
       "                </table>\n",
       "            </details>\n",
       "            </div>\n",
       "        </div>\n",
       "        \n",
       "        <div style=\"margin-bottom: 20px;\">\n",
       "            <div style=\"width: 24px; height: 24px; background-color: #DBF5FF; border: 3px solid #4CC9FF; border-radius: 5px; position: absolute;\"> </div>\n",
       "            <div style=\"margin-left: 48px;\">\n",
       "            <details>\n",
       "                <summary>\n",
       "                    <h4 style=\"margin-bottom: 0px; display: inline;\">Worker: 3</h4>\n",
       "                </summary>\n",
       "                <table style=\"width: 100%; text-align: left;\">\n",
       "                    <tr>\n",
       "                        <td style=\"text-align: left;\">\n",
       "                            <strong>Comm: </strong> tcp://127.0.0.1:41541\n",
       "                        </td>\n",
       "                        <td style=\"text-align: left;\">\n",
       "                            <strong>Total threads: </strong> 1\n",
       "                        </td>\n",
       "                    </tr>\n",
       "                    <tr>\n",
       "                        <td style=\"text-align: left;\">\n",
       "                            <strong>Dashboard: </strong> <a href=\"http://127.0.0.1:44809/status\" target=\"_blank\">http://127.0.0.1:44809/status</a>\n",
       "                        </td>\n",
       "                        <td style=\"text-align: left;\">\n",
       "                            <strong>Memory: </strong> 1.56 GiB\n",
       "                        </td>\n",
       "                    </tr>\n",
       "                    <tr>\n",
       "                        <td style=\"text-align: left;\">\n",
       "                            <strong>Nanny: </strong> tcp://127.0.0.1:44485\n",
       "                        </td>\n",
       "                        <td style=\"text-align: left;\"></td>\n",
       "                    </tr>\n",
       "                    <tr>\n",
       "                        <td colspan=\"2\" style=\"text-align: left;\">\n",
       "                            <strong>Local directory: </strong> /home/eeisenst/workspace/compassionai/common/notebooks/dask-worker-space/worker-mg37pya6\n",
       "                        </td>\n",
       "                    </tr>\n",
       "\n",
       "                    \n",
       "\n",
       "                    \n",
       "\n",
       "                </table>\n",
       "            </details>\n",
       "            </div>\n",
       "        </div>\n",
       "        \n",
       "        <div style=\"margin-bottom: 20px;\">\n",
       "            <div style=\"width: 24px; height: 24px; background-color: #DBF5FF; border: 3px solid #4CC9FF; border-radius: 5px; position: absolute;\"> </div>\n",
       "            <div style=\"margin-left: 48px;\">\n",
       "            <details>\n",
       "                <summary>\n",
       "                    <h4 style=\"margin-bottom: 0px; display: inline;\">Worker: 4</h4>\n",
       "                </summary>\n",
       "                <table style=\"width: 100%; text-align: left;\">\n",
       "                    <tr>\n",
       "                        <td style=\"text-align: left;\">\n",
       "                            <strong>Comm: </strong> tcp://127.0.0.1:40145\n",
       "                        </td>\n",
       "                        <td style=\"text-align: left;\">\n",
       "                            <strong>Total threads: </strong> 1\n",
       "                        </td>\n",
       "                    </tr>\n",
       "                    <tr>\n",
       "                        <td style=\"text-align: left;\">\n",
       "                            <strong>Dashboard: </strong> <a href=\"http://127.0.0.1:40957/status\" target=\"_blank\">http://127.0.0.1:40957/status</a>\n",
       "                        </td>\n",
       "                        <td style=\"text-align: left;\">\n",
       "                            <strong>Memory: </strong> 1.56 GiB\n",
       "                        </td>\n",
       "                    </tr>\n",
       "                    <tr>\n",
       "                        <td style=\"text-align: left;\">\n",
       "                            <strong>Nanny: </strong> tcp://127.0.0.1:33033\n",
       "                        </td>\n",
       "                        <td style=\"text-align: left;\"></td>\n",
       "                    </tr>\n",
       "                    <tr>\n",
       "                        <td colspan=\"2\" style=\"text-align: left;\">\n",
       "                            <strong>Local directory: </strong> /home/eeisenst/workspace/compassionai/common/notebooks/dask-worker-space/worker-0nohjdjt\n",
       "                        </td>\n",
       "                    </tr>\n",
       "\n",
       "                    \n",
       "\n",
       "                    \n",
       "\n",
       "                </table>\n",
       "            </details>\n",
       "            </div>\n",
       "        </div>\n",
       "        \n",
       "        <div style=\"margin-bottom: 20px;\">\n",
       "            <div style=\"width: 24px; height: 24px; background-color: #DBF5FF; border: 3px solid #4CC9FF; border-radius: 5px; position: absolute;\"> </div>\n",
       "            <div style=\"margin-left: 48px;\">\n",
       "            <details>\n",
       "                <summary>\n",
       "                    <h4 style=\"margin-bottom: 0px; display: inline;\">Worker: 5</h4>\n",
       "                </summary>\n",
       "                <table style=\"width: 100%; text-align: left;\">\n",
       "                    <tr>\n",
       "                        <td style=\"text-align: left;\">\n",
       "                            <strong>Comm: </strong> tcp://127.0.0.1:41325\n",
       "                        </td>\n",
       "                        <td style=\"text-align: left;\">\n",
       "                            <strong>Total threads: </strong> 1\n",
       "                        </td>\n",
       "                    </tr>\n",
       "                    <tr>\n",
       "                        <td style=\"text-align: left;\">\n",
       "                            <strong>Dashboard: </strong> <a href=\"http://127.0.0.1:40305/status\" target=\"_blank\">http://127.0.0.1:40305/status</a>\n",
       "                        </td>\n",
       "                        <td style=\"text-align: left;\">\n",
       "                            <strong>Memory: </strong> 1.56 GiB\n",
       "                        </td>\n",
       "                    </tr>\n",
       "                    <tr>\n",
       "                        <td style=\"text-align: left;\">\n",
       "                            <strong>Nanny: </strong> tcp://127.0.0.1:42593\n",
       "                        </td>\n",
       "                        <td style=\"text-align: left;\"></td>\n",
       "                    </tr>\n",
       "                    <tr>\n",
       "                        <td colspan=\"2\" style=\"text-align: left;\">\n",
       "                            <strong>Local directory: </strong> /home/eeisenst/workspace/compassionai/common/notebooks/dask-worker-space/worker-bnzsdbxx\n",
       "                        </td>\n",
       "                    </tr>\n",
       "\n",
       "                    \n",
       "\n",
       "                    \n",
       "\n",
       "                </table>\n",
       "            </details>\n",
       "            </div>\n",
       "        </div>\n",
       "        \n",
       "        <div style=\"margin-bottom: 20px;\">\n",
       "            <div style=\"width: 24px; height: 24px; background-color: #DBF5FF; border: 3px solid #4CC9FF; border-radius: 5px; position: absolute;\"> </div>\n",
       "            <div style=\"margin-left: 48px;\">\n",
       "            <details>\n",
       "                <summary>\n",
       "                    <h4 style=\"margin-bottom: 0px; display: inline;\">Worker: 6</h4>\n",
       "                </summary>\n",
       "                <table style=\"width: 100%; text-align: left;\">\n",
       "                    <tr>\n",
       "                        <td style=\"text-align: left;\">\n",
       "                            <strong>Comm: </strong> tcp://127.0.0.1:37825\n",
       "                        </td>\n",
       "                        <td style=\"text-align: left;\">\n",
       "                            <strong>Total threads: </strong> 1\n",
       "                        </td>\n",
       "                    </tr>\n",
       "                    <tr>\n",
       "                        <td style=\"text-align: left;\">\n",
       "                            <strong>Dashboard: </strong> <a href=\"http://127.0.0.1:46639/status\" target=\"_blank\">http://127.0.0.1:46639/status</a>\n",
       "                        </td>\n",
       "                        <td style=\"text-align: left;\">\n",
       "                            <strong>Memory: </strong> 1.56 GiB\n",
       "                        </td>\n",
       "                    </tr>\n",
       "                    <tr>\n",
       "                        <td style=\"text-align: left;\">\n",
       "                            <strong>Nanny: </strong> tcp://127.0.0.1:38303\n",
       "                        </td>\n",
       "                        <td style=\"text-align: left;\"></td>\n",
       "                    </tr>\n",
       "                    <tr>\n",
       "                        <td colspan=\"2\" style=\"text-align: left;\">\n",
       "                            <strong>Local directory: </strong> /home/eeisenst/workspace/compassionai/common/notebooks/dask-worker-space/worker-mdy9q35s\n",
       "                        </td>\n",
       "                    </tr>\n",
       "\n",
       "                    \n",
       "\n",
       "                    \n",
       "\n",
       "                </table>\n",
       "            </details>\n",
       "            </div>\n",
       "        </div>\n",
       "        \n",
       "        <div style=\"margin-bottom: 20px;\">\n",
       "            <div style=\"width: 24px; height: 24px; background-color: #DBF5FF; border: 3px solid #4CC9FF; border-radius: 5px; position: absolute;\"> </div>\n",
       "            <div style=\"margin-left: 48px;\">\n",
       "            <details>\n",
       "                <summary>\n",
       "                    <h4 style=\"margin-bottom: 0px; display: inline;\">Worker: 7</h4>\n",
       "                </summary>\n",
       "                <table style=\"width: 100%; text-align: left;\">\n",
       "                    <tr>\n",
       "                        <td style=\"text-align: left;\">\n",
       "                            <strong>Comm: </strong> tcp://127.0.0.1:46535\n",
       "                        </td>\n",
       "                        <td style=\"text-align: left;\">\n",
       "                            <strong>Total threads: </strong> 1\n",
       "                        </td>\n",
       "                    </tr>\n",
       "                    <tr>\n",
       "                        <td style=\"text-align: left;\">\n",
       "                            <strong>Dashboard: </strong> <a href=\"http://127.0.0.1:40801/status\" target=\"_blank\">http://127.0.0.1:40801/status</a>\n",
       "                        </td>\n",
       "                        <td style=\"text-align: left;\">\n",
       "                            <strong>Memory: </strong> 1.56 GiB\n",
       "                        </td>\n",
       "                    </tr>\n",
       "                    <tr>\n",
       "                        <td style=\"text-align: left;\">\n",
       "                            <strong>Nanny: </strong> tcp://127.0.0.1:45025\n",
       "                        </td>\n",
       "                        <td style=\"text-align: left;\"></td>\n",
       "                    </tr>\n",
       "                    <tr>\n",
       "                        <td colspan=\"2\" style=\"text-align: left;\">\n",
       "                            <strong>Local directory: </strong> /home/eeisenst/workspace/compassionai/common/notebooks/dask-worker-space/worker-mj550gjr\n",
       "                        </td>\n",
       "                    </tr>\n",
       "\n",
       "                    \n",
       "\n",
       "                    \n",
       "\n",
       "                </table>\n",
       "            </details>\n",
       "            </div>\n",
       "        </div>\n",
       "        \n",
       "        <div style=\"margin-bottom: 20px;\">\n",
       "            <div style=\"width: 24px; height: 24px; background-color: #DBF5FF; border: 3px solid #4CC9FF; border-radius: 5px; position: absolute;\"> </div>\n",
       "            <div style=\"margin-left: 48px;\">\n",
       "            <details>\n",
       "                <summary>\n",
       "                    <h4 style=\"margin-bottom: 0px; display: inline;\">Worker: 8</h4>\n",
       "                </summary>\n",
       "                <table style=\"width: 100%; text-align: left;\">\n",
       "                    <tr>\n",
       "                        <td style=\"text-align: left;\">\n",
       "                            <strong>Comm: </strong> tcp://127.0.0.1:34627\n",
       "                        </td>\n",
       "                        <td style=\"text-align: left;\">\n",
       "                            <strong>Total threads: </strong> 1\n",
       "                        </td>\n",
       "                    </tr>\n",
       "                    <tr>\n",
       "                        <td style=\"text-align: left;\">\n",
       "                            <strong>Dashboard: </strong> <a href=\"http://127.0.0.1:35747/status\" target=\"_blank\">http://127.0.0.1:35747/status</a>\n",
       "                        </td>\n",
       "                        <td style=\"text-align: left;\">\n",
       "                            <strong>Memory: </strong> 1.56 GiB\n",
       "                        </td>\n",
       "                    </tr>\n",
       "                    <tr>\n",
       "                        <td style=\"text-align: left;\">\n",
       "                            <strong>Nanny: </strong> tcp://127.0.0.1:35679\n",
       "                        </td>\n",
       "                        <td style=\"text-align: left;\"></td>\n",
       "                    </tr>\n",
       "                    <tr>\n",
       "                        <td colspan=\"2\" style=\"text-align: left;\">\n",
       "                            <strong>Local directory: </strong> /home/eeisenst/workspace/compassionai/common/notebooks/dask-worker-space/worker-rvc8ns8q\n",
       "                        </td>\n",
       "                    </tr>\n",
       "\n",
       "                    \n",
       "\n",
       "                    \n",
       "\n",
       "                </table>\n",
       "            </details>\n",
       "            </div>\n",
       "        </div>\n",
       "        \n",
       "        <div style=\"margin-bottom: 20px;\">\n",
       "            <div style=\"width: 24px; height: 24px; background-color: #DBF5FF; border: 3px solid #4CC9FF; border-radius: 5px; position: absolute;\"> </div>\n",
       "            <div style=\"margin-left: 48px;\">\n",
       "            <details>\n",
       "                <summary>\n",
       "                    <h4 style=\"margin-bottom: 0px; display: inline;\">Worker: 9</h4>\n",
       "                </summary>\n",
       "                <table style=\"width: 100%; text-align: left;\">\n",
       "                    <tr>\n",
       "                        <td style=\"text-align: left;\">\n",
       "                            <strong>Comm: </strong> tcp://127.0.0.1:37561\n",
       "                        </td>\n",
       "                        <td style=\"text-align: left;\">\n",
       "                            <strong>Total threads: </strong> 1\n",
       "                        </td>\n",
       "                    </tr>\n",
       "                    <tr>\n",
       "                        <td style=\"text-align: left;\">\n",
       "                            <strong>Dashboard: </strong> <a href=\"http://127.0.0.1:39173/status\" target=\"_blank\">http://127.0.0.1:39173/status</a>\n",
       "                        </td>\n",
       "                        <td style=\"text-align: left;\">\n",
       "                            <strong>Memory: </strong> 1.56 GiB\n",
       "                        </td>\n",
       "                    </tr>\n",
       "                    <tr>\n",
       "                        <td style=\"text-align: left;\">\n",
       "                            <strong>Nanny: </strong> tcp://127.0.0.1:40573\n",
       "                        </td>\n",
       "                        <td style=\"text-align: left;\"></td>\n",
       "                    </tr>\n",
       "                    <tr>\n",
       "                        <td colspan=\"2\" style=\"text-align: left;\">\n",
       "                            <strong>Local directory: </strong> /home/eeisenst/workspace/compassionai/common/notebooks/dask-worker-space/worker-swrzdtqr\n",
       "                        </td>\n",
       "                    </tr>\n",
       "\n",
       "                    \n",
       "\n",
       "                    \n",
       "\n",
       "                </table>\n",
       "            </details>\n",
       "            </div>\n",
       "        </div>\n",
       "        \n",
       "        <div style=\"margin-bottom: 20px;\">\n",
       "            <div style=\"width: 24px; height: 24px; background-color: #DBF5FF; border: 3px solid #4CC9FF; border-radius: 5px; position: absolute;\"> </div>\n",
       "            <div style=\"margin-left: 48px;\">\n",
       "            <details>\n",
       "                <summary>\n",
       "                    <h4 style=\"margin-bottom: 0px; display: inline;\">Worker: 10</h4>\n",
       "                </summary>\n",
       "                <table style=\"width: 100%; text-align: left;\">\n",
       "                    <tr>\n",
       "                        <td style=\"text-align: left;\">\n",
       "                            <strong>Comm: </strong> tcp://127.0.0.1:41819\n",
       "                        </td>\n",
       "                        <td style=\"text-align: left;\">\n",
       "                            <strong>Total threads: </strong> 1\n",
       "                        </td>\n",
       "                    </tr>\n",
       "                    <tr>\n",
       "                        <td style=\"text-align: left;\">\n",
       "                            <strong>Dashboard: </strong> <a href=\"http://127.0.0.1:37829/status\" target=\"_blank\">http://127.0.0.1:37829/status</a>\n",
       "                        </td>\n",
       "                        <td style=\"text-align: left;\">\n",
       "                            <strong>Memory: </strong> 1.56 GiB\n",
       "                        </td>\n",
       "                    </tr>\n",
       "                    <tr>\n",
       "                        <td style=\"text-align: left;\">\n",
       "                            <strong>Nanny: </strong> tcp://127.0.0.1:41609\n",
       "                        </td>\n",
       "                        <td style=\"text-align: left;\"></td>\n",
       "                    </tr>\n",
       "                    <tr>\n",
       "                        <td colspan=\"2\" style=\"text-align: left;\">\n",
       "                            <strong>Local directory: </strong> /home/eeisenst/workspace/compassionai/common/notebooks/dask-worker-space/worker-wxw7fzgo\n",
       "                        </td>\n",
       "                    </tr>\n",
       "\n",
       "                    \n",
       "\n",
       "                    \n",
       "\n",
       "                </table>\n",
       "            </details>\n",
       "            </div>\n",
       "        </div>\n",
       "        \n",
       "        <div style=\"margin-bottom: 20px;\">\n",
       "            <div style=\"width: 24px; height: 24px; background-color: #DBF5FF; border: 3px solid #4CC9FF; border-radius: 5px; position: absolute;\"> </div>\n",
       "            <div style=\"margin-left: 48px;\">\n",
       "            <details>\n",
       "                <summary>\n",
       "                    <h4 style=\"margin-bottom: 0px; display: inline;\">Worker: 11</h4>\n",
       "                </summary>\n",
       "                <table style=\"width: 100%; text-align: left;\">\n",
       "                    <tr>\n",
       "                        <td style=\"text-align: left;\">\n",
       "                            <strong>Comm: </strong> tcp://127.0.0.1:40461\n",
       "                        </td>\n",
       "                        <td style=\"text-align: left;\">\n",
       "                            <strong>Total threads: </strong> 1\n",
       "                        </td>\n",
       "                    </tr>\n",
       "                    <tr>\n",
       "                        <td style=\"text-align: left;\">\n",
       "                            <strong>Dashboard: </strong> <a href=\"http://127.0.0.1:39047/status\" target=\"_blank\">http://127.0.0.1:39047/status</a>\n",
       "                        </td>\n",
       "                        <td style=\"text-align: left;\">\n",
       "                            <strong>Memory: </strong> 1.56 GiB\n",
       "                        </td>\n",
       "                    </tr>\n",
       "                    <tr>\n",
       "                        <td style=\"text-align: left;\">\n",
       "                            <strong>Nanny: </strong> tcp://127.0.0.1:41909\n",
       "                        </td>\n",
       "                        <td style=\"text-align: left;\"></td>\n",
       "                    </tr>\n",
       "                    <tr>\n",
       "                        <td colspan=\"2\" style=\"text-align: left;\">\n",
       "                            <strong>Local directory: </strong> /home/eeisenst/workspace/compassionai/common/notebooks/dask-worker-space/worker-zs12wehq\n",
       "                        </td>\n",
       "                    </tr>\n",
       "\n",
       "                    \n",
       "\n",
       "                    \n",
       "\n",
       "                </table>\n",
       "            </details>\n",
       "            </div>\n",
       "        </div>\n",
       "        \n",
       "        <div style=\"margin-bottom: 20px;\">\n",
       "            <div style=\"width: 24px; height: 24px; background-color: #DBF5FF; border: 3px solid #4CC9FF; border-radius: 5px; position: absolute;\"> </div>\n",
       "            <div style=\"margin-left: 48px;\">\n",
       "            <details>\n",
       "                <summary>\n",
       "                    <h4 style=\"margin-bottom: 0px; display: inline;\">Worker: 12</h4>\n",
       "                </summary>\n",
       "                <table style=\"width: 100%; text-align: left;\">\n",
       "                    <tr>\n",
       "                        <td style=\"text-align: left;\">\n",
       "                            <strong>Comm: </strong> tcp://127.0.0.1:35427\n",
       "                        </td>\n",
       "                        <td style=\"text-align: left;\">\n",
       "                            <strong>Total threads: </strong> 1\n",
       "                        </td>\n",
       "                    </tr>\n",
       "                    <tr>\n",
       "                        <td style=\"text-align: left;\">\n",
       "                            <strong>Dashboard: </strong> <a href=\"http://127.0.0.1:43907/status\" target=\"_blank\">http://127.0.0.1:43907/status</a>\n",
       "                        </td>\n",
       "                        <td style=\"text-align: left;\">\n",
       "                            <strong>Memory: </strong> 1.56 GiB\n",
       "                        </td>\n",
       "                    </tr>\n",
       "                    <tr>\n",
       "                        <td style=\"text-align: left;\">\n",
       "                            <strong>Nanny: </strong> tcp://127.0.0.1:45209\n",
       "                        </td>\n",
       "                        <td style=\"text-align: left;\"></td>\n",
       "                    </tr>\n",
       "                    <tr>\n",
       "                        <td colspan=\"2\" style=\"text-align: left;\">\n",
       "                            <strong>Local directory: </strong> /home/eeisenst/workspace/compassionai/common/notebooks/dask-worker-space/worker-7jbly9_1\n",
       "                        </td>\n",
       "                    </tr>\n",
       "\n",
       "                    \n",
       "\n",
       "                    \n",
       "\n",
       "                </table>\n",
       "            </details>\n",
       "            </div>\n",
       "        </div>\n",
       "        \n",
       "        <div style=\"margin-bottom: 20px;\">\n",
       "            <div style=\"width: 24px; height: 24px; background-color: #DBF5FF; border: 3px solid #4CC9FF; border-radius: 5px; position: absolute;\"> </div>\n",
       "            <div style=\"margin-left: 48px;\">\n",
       "            <details>\n",
       "                <summary>\n",
       "                    <h4 style=\"margin-bottom: 0px; display: inline;\">Worker: 13</h4>\n",
       "                </summary>\n",
       "                <table style=\"width: 100%; text-align: left;\">\n",
       "                    <tr>\n",
       "                        <td style=\"text-align: left;\">\n",
       "                            <strong>Comm: </strong> tcp://127.0.0.1:33917\n",
       "                        </td>\n",
       "                        <td style=\"text-align: left;\">\n",
       "                            <strong>Total threads: </strong> 1\n",
       "                        </td>\n",
       "                    </tr>\n",
       "                    <tr>\n",
       "                        <td style=\"text-align: left;\">\n",
       "                            <strong>Dashboard: </strong> <a href=\"http://127.0.0.1:44543/status\" target=\"_blank\">http://127.0.0.1:44543/status</a>\n",
       "                        </td>\n",
       "                        <td style=\"text-align: left;\">\n",
       "                            <strong>Memory: </strong> 1.56 GiB\n",
       "                        </td>\n",
       "                    </tr>\n",
       "                    <tr>\n",
       "                        <td style=\"text-align: left;\">\n",
       "                            <strong>Nanny: </strong> tcp://127.0.0.1:46347\n",
       "                        </td>\n",
       "                        <td style=\"text-align: left;\"></td>\n",
       "                    </tr>\n",
       "                    <tr>\n",
       "                        <td colspan=\"2\" style=\"text-align: left;\">\n",
       "                            <strong>Local directory: </strong> /home/eeisenst/workspace/compassionai/common/notebooks/dask-worker-space/worker-yp0uijtu\n",
       "                        </td>\n",
       "                    </tr>\n",
       "\n",
       "                    \n",
       "\n",
       "                    \n",
       "\n",
       "                </table>\n",
       "            </details>\n",
       "            </div>\n",
       "        </div>\n",
       "        \n",
       "        <div style=\"margin-bottom: 20px;\">\n",
       "            <div style=\"width: 24px; height: 24px; background-color: #DBF5FF; border: 3px solid #4CC9FF; border-radius: 5px; position: absolute;\"> </div>\n",
       "            <div style=\"margin-left: 48px;\">\n",
       "            <details>\n",
       "                <summary>\n",
       "                    <h4 style=\"margin-bottom: 0px; display: inline;\">Worker: 14</h4>\n",
       "                </summary>\n",
       "                <table style=\"width: 100%; text-align: left;\">\n",
       "                    <tr>\n",
       "                        <td style=\"text-align: left;\">\n",
       "                            <strong>Comm: </strong> tcp://127.0.0.1:45833\n",
       "                        </td>\n",
       "                        <td style=\"text-align: left;\">\n",
       "                            <strong>Total threads: </strong> 1\n",
       "                        </td>\n",
       "                    </tr>\n",
       "                    <tr>\n",
       "                        <td style=\"text-align: left;\">\n",
       "                            <strong>Dashboard: </strong> <a href=\"http://127.0.0.1:32857/status\" target=\"_blank\">http://127.0.0.1:32857/status</a>\n",
       "                        </td>\n",
       "                        <td style=\"text-align: left;\">\n",
       "                            <strong>Memory: </strong> 1.56 GiB\n",
       "                        </td>\n",
       "                    </tr>\n",
       "                    <tr>\n",
       "                        <td style=\"text-align: left;\">\n",
       "                            <strong>Nanny: </strong> tcp://127.0.0.1:35531\n",
       "                        </td>\n",
       "                        <td style=\"text-align: left;\"></td>\n",
       "                    </tr>\n",
       "                    <tr>\n",
       "                        <td colspan=\"2\" style=\"text-align: left;\">\n",
       "                            <strong>Local directory: </strong> /home/eeisenst/workspace/compassionai/common/notebooks/dask-worker-space/worker-q89ntnd5\n",
       "                        </td>\n",
       "                    </tr>\n",
       "\n",
       "                    \n",
       "\n",
       "                    \n",
       "\n",
       "                </table>\n",
       "            </details>\n",
       "            </div>\n",
       "        </div>\n",
       "        \n",
       "        <div style=\"margin-bottom: 20px;\">\n",
       "            <div style=\"width: 24px; height: 24px; background-color: #DBF5FF; border: 3px solid #4CC9FF; border-radius: 5px; position: absolute;\"> </div>\n",
       "            <div style=\"margin-left: 48px;\">\n",
       "            <details>\n",
       "                <summary>\n",
       "                    <h4 style=\"margin-bottom: 0px; display: inline;\">Worker: 15</h4>\n",
       "                </summary>\n",
       "                <table style=\"width: 100%; text-align: left;\">\n",
       "                    <tr>\n",
       "                        <td style=\"text-align: left;\">\n",
       "                            <strong>Comm: </strong> tcp://127.0.0.1:33343\n",
       "                        </td>\n",
       "                        <td style=\"text-align: left;\">\n",
       "                            <strong>Total threads: </strong> 1\n",
       "                        </td>\n",
       "                    </tr>\n",
       "                    <tr>\n",
       "                        <td style=\"text-align: left;\">\n",
       "                            <strong>Dashboard: </strong> <a href=\"http://127.0.0.1:33565/status\" target=\"_blank\">http://127.0.0.1:33565/status</a>\n",
       "                        </td>\n",
       "                        <td style=\"text-align: left;\">\n",
       "                            <strong>Memory: </strong> 1.56 GiB\n",
       "                        </td>\n",
       "                    </tr>\n",
       "                    <tr>\n",
       "                        <td style=\"text-align: left;\">\n",
       "                            <strong>Nanny: </strong> tcp://127.0.0.1:46229\n",
       "                        </td>\n",
       "                        <td style=\"text-align: left;\"></td>\n",
       "                    </tr>\n",
       "                    <tr>\n",
       "                        <td colspan=\"2\" style=\"text-align: left;\">\n",
       "                            <strong>Local directory: </strong> /home/eeisenst/workspace/compassionai/common/notebooks/dask-worker-space/worker-o4lkwfur\n",
       "                        </td>\n",
       "                    </tr>\n",
       "\n",
       "                    \n",
       "\n",
       "                    \n",
       "\n",
       "                </table>\n",
       "            </details>\n",
       "            </div>\n",
       "        </div>\n",
       "        \n",
       "        <div style=\"margin-bottom: 20px;\">\n",
       "            <div style=\"width: 24px; height: 24px; background-color: #DBF5FF; border: 3px solid #4CC9FF; border-radius: 5px; position: absolute;\"> </div>\n",
       "            <div style=\"margin-left: 48px;\">\n",
       "            <details>\n",
       "                <summary>\n",
       "                    <h4 style=\"margin-bottom: 0px; display: inline;\">Worker: 16</h4>\n",
       "                </summary>\n",
       "                <table style=\"width: 100%; text-align: left;\">\n",
       "                    <tr>\n",
       "                        <td style=\"text-align: left;\">\n",
       "                            <strong>Comm: </strong> tcp://127.0.0.1:33551\n",
       "                        </td>\n",
       "                        <td style=\"text-align: left;\">\n",
       "                            <strong>Total threads: </strong> 1\n",
       "                        </td>\n",
       "                    </tr>\n",
       "                    <tr>\n",
       "                        <td style=\"text-align: left;\">\n",
       "                            <strong>Dashboard: </strong> <a href=\"http://127.0.0.1:45543/status\" target=\"_blank\">http://127.0.0.1:45543/status</a>\n",
       "                        </td>\n",
       "                        <td style=\"text-align: left;\">\n",
       "                            <strong>Memory: </strong> 1.56 GiB\n",
       "                        </td>\n",
       "                    </tr>\n",
       "                    <tr>\n",
       "                        <td style=\"text-align: left;\">\n",
       "                            <strong>Nanny: </strong> tcp://127.0.0.1:36007\n",
       "                        </td>\n",
       "                        <td style=\"text-align: left;\"></td>\n",
       "                    </tr>\n",
       "                    <tr>\n",
       "                        <td colspan=\"2\" style=\"text-align: left;\">\n",
       "                            <strong>Local directory: </strong> /home/eeisenst/workspace/compassionai/common/notebooks/dask-worker-space/worker-5yhvbp9o\n",
       "                        </td>\n",
       "                    </tr>\n",
       "\n",
       "                    \n",
       "\n",
       "                    \n",
       "\n",
       "                </table>\n",
       "            </details>\n",
       "            </div>\n",
       "        </div>\n",
       "        \n",
       "        <div style=\"margin-bottom: 20px;\">\n",
       "            <div style=\"width: 24px; height: 24px; background-color: #DBF5FF; border: 3px solid #4CC9FF; border-radius: 5px; position: absolute;\"> </div>\n",
       "            <div style=\"margin-left: 48px;\">\n",
       "            <details>\n",
       "                <summary>\n",
       "                    <h4 style=\"margin-bottom: 0px; display: inline;\">Worker: 17</h4>\n",
       "                </summary>\n",
       "                <table style=\"width: 100%; text-align: left;\">\n",
       "                    <tr>\n",
       "                        <td style=\"text-align: left;\">\n",
       "                            <strong>Comm: </strong> tcp://127.0.0.1:46353\n",
       "                        </td>\n",
       "                        <td style=\"text-align: left;\">\n",
       "                            <strong>Total threads: </strong> 1\n",
       "                        </td>\n",
       "                    </tr>\n",
       "                    <tr>\n",
       "                        <td style=\"text-align: left;\">\n",
       "                            <strong>Dashboard: </strong> <a href=\"http://127.0.0.1:43401/status\" target=\"_blank\">http://127.0.0.1:43401/status</a>\n",
       "                        </td>\n",
       "                        <td style=\"text-align: left;\">\n",
       "                            <strong>Memory: </strong> 1.56 GiB\n",
       "                        </td>\n",
       "                    </tr>\n",
       "                    <tr>\n",
       "                        <td style=\"text-align: left;\">\n",
       "                            <strong>Nanny: </strong> tcp://127.0.0.1:46155\n",
       "                        </td>\n",
       "                        <td style=\"text-align: left;\"></td>\n",
       "                    </tr>\n",
       "                    <tr>\n",
       "                        <td colspan=\"2\" style=\"text-align: left;\">\n",
       "                            <strong>Local directory: </strong> /home/eeisenst/workspace/compassionai/common/notebooks/dask-worker-space/worker-a41pkwxm\n",
       "                        </td>\n",
       "                    </tr>\n",
       "\n",
       "                    \n",
       "\n",
       "                    \n",
       "\n",
       "                </table>\n",
       "            </details>\n",
       "            </div>\n",
       "        </div>\n",
       "        \n",
       "        <div style=\"margin-bottom: 20px;\">\n",
       "            <div style=\"width: 24px; height: 24px; background-color: #DBF5FF; border: 3px solid #4CC9FF; border-radius: 5px; position: absolute;\"> </div>\n",
       "            <div style=\"margin-left: 48px;\">\n",
       "            <details>\n",
       "                <summary>\n",
       "                    <h4 style=\"margin-bottom: 0px; display: inline;\">Worker: 18</h4>\n",
       "                </summary>\n",
       "                <table style=\"width: 100%; text-align: left;\">\n",
       "                    <tr>\n",
       "                        <td style=\"text-align: left;\">\n",
       "                            <strong>Comm: </strong> tcp://127.0.0.1:34677\n",
       "                        </td>\n",
       "                        <td style=\"text-align: left;\">\n",
       "                            <strong>Total threads: </strong> 1\n",
       "                        </td>\n",
       "                    </tr>\n",
       "                    <tr>\n",
       "                        <td style=\"text-align: left;\">\n",
       "                            <strong>Dashboard: </strong> <a href=\"http://127.0.0.1:41297/status\" target=\"_blank\">http://127.0.0.1:41297/status</a>\n",
       "                        </td>\n",
       "                        <td style=\"text-align: left;\">\n",
       "                            <strong>Memory: </strong> 1.56 GiB\n",
       "                        </td>\n",
       "                    </tr>\n",
       "                    <tr>\n",
       "                        <td style=\"text-align: left;\">\n",
       "                            <strong>Nanny: </strong> tcp://127.0.0.1:44493\n",
       "                        </td>\n",
       "                        <td style=\"text-align: left;\"></td>\n",
       "                    </tr>\n",
       "                    <tr>\n",
       "                        <td colspan=\"2\" style=\"text-align: left;\">\n",
       "                            <strong>Local directory: </strong> /home/eeisenst/workspace/compassionai/common/notebooks/dask-worker-space/worker-c64f5nn2\n",
       "                        </td>\n",
       "                    </tr>\n",
       "\n",
       "                    \n",
       "\n",
       "                    \n",
       "\n",
       "                </table>\n",
       "            </details>\n",
       "            </div>\n",
       "        </div>\n",
       "        \n",
       "        <div style=\"margin-bottom: 20px;\">\n",
       "            <div style=\"width: 24px; height: 24px; background-color: #DBF5FF; border: 3px solid #4CC9FF; border-radius: 5px; position: absolute;\"> </div>\n",
       "            <div style=\"margin-left: 48px;\">\n",
       "            <details>\n",
       "                <summary>\n",
       "                    <h4 style=\"margin-bottom: 0px; display: inline;\">Worker: 19</h4>\n",
       "                </summary>\n",
       "                <table style=\"width: 100%; text-align: left;\">\n",
       "                    <tr>\n",
       "                        <td style=\"text-align: left;\">\n",
       "                            <strong>Comm: </strong> tcp://127.0.0.1:39043\n",
       "                        </td>\n",
       "                        <td style=\"text-align: left;\">\n",
       "                            <strong>Total threads: </strong> 1\n",
       "                        </td>\n",
       "                    </tr>\n",
       "                    <tr>\n",
       "                        <td style=\"text-align: left;\">\n",
       "                            <strong>Dashboard: </strong> <a href=\"http://127.0.0.1:36679/status\" target=\"_blank\">http://127.0.0.1:36679/status</a>\n",
       "                        </td>\n",
       "                        <td style=\"text-align: left;\">\n",
       "                            <strong>Memory: </strong> 1.56 GiB\n",
       "                        </td>\n",
       "                    </tr>\n",
       "                    <tr>\n",
       "                        <td style=\"text-align: left;\">\n",
       "                            <strong>Nanny: </strong> tcp://127.0.0.1:40537\n",
       "                        </td>\n",
       "                        <td style=\"text-align: left;\"></td>\n",
       "                    </tr>\n",
       "                    <tr>\n",
       "                        <td colspan=\"2\" style=\"text-align: left;\">\n",
       "                            <strong>Local directory: </strong> /home/eeisenst/workspace/compassionai/common/notebooks/dask-worker-space/worker-81z9147l\n",
       "                        </td>\n",
       "                    </tr>\n",
       "\n",
       "                    \n",
       "\n",
       "                    \n",
       "\n",
       "                </table>\n",
       "            </details>\n",
       "            </div>\n",
       "        </div>\n",
       "        \n",
       "\n",
       "    </details>\n",
       "</div>\n",
       "\n",
       "        </details>\n",
       "    </div>\n",
       "</div>\n",
       "            </details>\n",
       "        \n",
       "\n",
       "    </div>\n",
       "</div>"
      ],
      "text/plain": [
       "<Client: 'tcp://127.0.0.1:42111' processes=20 threads=20, memory=31.17 GiB>"
      ]
     },
     "execution_count": 4,
     "metadata": {},
     "output_type": "execute_result"
    }
   ],
   "source": [
    "dask_client"
   ]
  },
  {
   "cell_type": "code",
   "execution_count": 5,
   "metadata": {},
   "outputs": [],
   "source": [
    "from cai_common.data import TeiLoader, CorpusSplitType"
   ]
  },
  {
   "cell_type": "code",
   "execution_count": 6,
   "metadata": {},
   "outputs": [
    {
     "name": "stderr",
     "output_type": "stream",
     "text": [
      "/home/eeisenst/miniconda3/envs/cai-base/lib/python3.10/site-packages/bs4/__init__.py:226: UserWarning: You provided Unicode markup but also provided a value for from_encoding. Your from_encoding will be ignored.\n",
      "  warnings.warn(\"You provided Unicode markup but also provided a value for from_encoding. Your from_encoding will be ignored.\")\n",
      "/home/eeisenst/miniconda3/envs/cai-base/lib/python3.10/site-packages/bs4/__init__.py:226: UserWarning: You provided Unicode markup but also provided a value for from_encoding. Your from_encoding will be ignored.\n",
      "  warnings.warn(\"You provided Unicode markup but also provided a value for from_encoding. Your from_encoding will be ignored.\")\n",
      "/home/eeisenst/miniconda3/envs/cai-base/lib/python3.10/site-packages/bs4/__init__.py:226: UserWarning: You provided Unicode markup but also provided a value for from_encoding. Your from_encoding will be ignored.\n",
      "  warnings.warn(\"You provided Unicode markup but also provided a value for from_encoding. Your from_encoding will be ignored.\")\n",
      "/home/eeisenst/miniconda3/envs/cai-base/lib/python3.10/site-packages/bs4/__init__.py:226: UserWarning: You provided Unicode markup but also provided a value for from_encoding. Your from_encoding will be ignored.\n",
      "  warnings.warn(\"You provided Unicode markup but also provided a value for from_encoding. Your from_encoding will be ignored.\")\n",
      "/home/eeisenst/miniconda3/envs/cai-base/lib/python3.10/site-packages/bs4/__init__.py:226: UserWarning: You provided Unicode markup but also provided a value for from_encoding. Your from_encoding will be ignored.\n",
      "  warnings.warn(\"You provided Unicode markup but also provided a value for from_encoding. Your from_encoding will be ignored.\")\n",
      "/home/eeisenst/miniconda3/envs/cai-base/lib/python3.10/site-packages/bs4/__init__.py:226: UserWarning: You provided Unicode markup but also provided a value for from_encoding. Your from_encoding will be ignored.\n",
      "  warnings.warn(\"You provided Unicode markup but also provided a value for from_encoding. Your from_encoding will be ignored.\")\n",
      "/home/eeisenst/miniconda3/envs/cai-base/lib/python3.10/site-packages/bs4/__init__.py:226: UserWarning: You provided Unicode markup but also provided a value for from_encoding. Your from_encoding will be ignored.\n",
      "  warnings.warn(\"You provided Unicode markup but also provided a value for from_encoding. Your from_encoding will be ignored.\")\n",
      "/home/eeisenst/miniconda3/envs/cai-base/lib/python3.10/site-packages/bs4/__init__.py:226: UserWarning: You provided Unicode markup but also provided a value for from_encoding. Your from_encoding will be ignored.\n",
      "  warnings.warn(\"You provided Unicode markup but also provided a value for from_encoding. Your from_encoding will be ignored.\")\n",
      "/home/eeisenst/miniconda3/envs/cai-base/lib/python3.10/site-packages/bs4/__init__.py:226: UserWarning: You provided Unicode markup but also provided a value for from_encoding. Your from_encoding will be ignored.\n",
      "  warnings.warn(\"You provided Unicode markup but also provided a value for from_encoding. Your from_encoding will be ignored.\")\n",
      "/home/eeisenst/miniconda3/envs/cai-base/lib/python3.10/site-packages/bs4/__init__.py:226: UserWarning: You provided Unicode markup but also provided a value for from_encoding. Your from_encoding will be ignored.\n",
      "  warnings.warn(\"You provided Unicode markup but also provided a value for from_encoding. Your from_encoding will be ignored.\")\n",
      "/home/eeisenst/miniconda3/envs/cai-base/lib/python3.10/site-packages/bs4/__init__.py:226: UserWarning: You provided Unicode markup but also provided a value for from_encoding. Your from_encoding will be ignored.\n",
      "  warnings.warn(\"You provided Unicode markup but also provided a value for from_encoding. Your from_encoding will be ignored.\")\n",
      "/home/eeisenst/miniconda3/envs/cai-base/lib/python3.10/site-packages/bs4/__init__.py:226: UserWarning: You provided Unicode markup but also provided a value for from_encoding. Your from_encoding will be ignored.\n",
      "  warnings.warn(\"You provided Unicode markup but also provided a value for from_encoding. Your from_encoding will be ignored.\")\n",
      "/home/eeisenst/miniconda3/envs/cai-base/lib/python3.10/site-packages/bs4/__init__.py:226: UserWarning: You provided Unicode markup but also provided a value for from_encoding. Your from_encoding will be ignored.\n",
      "  warnings.warn(\"You provided Unicode markup but also provided a value for from_encoding. Your from_encoding will be ignored.\")\n",
      "/home/eeisenst/miniconda3/envs/cai-base/lib/python3.10/site-packages/bs4/__init__.py:226: UserWarning: You provided Unicode markup but also provided a value for from_encoding. Your from_encoding will be ignored.\n",
      "  warnings.warn(\"You provided Unicode markup but also provided a value for from_encoding. Your from_encoding will be ignored.\")\n",
      "/home/eeisenst/miniconda3/envs/cai-base/lib/python3.10/site-packages/bs4/__init__.py:226: UserWarning: You provided Unicode markup but also provided a value for from_encoding. Your from_encoding will be ignored.\n",
      "  warnings.warn(\"You provided Unicode markup but also provided a value for from_encoding. Your from_encoding will be ignored.\")\n",
      "/home/eeisenst/miniconda3/envs/cai-base/lib/python3.10/site-packages/bs4/__init__.py:226: UserWarning: You provided Unicode markup but also provided a value for from_encoding. Your from_encoding will be ignored.\n",
      "  warnings.warn(\"You provided Unicode markup but also provided a value for from_encoding. Your from_encoding will be ignored.\")\n",
      "/home/eeisenst/miniconda3/envs/cai-base/lib/python3.10/site-packages/bs4/__init__.py:226: UserWarning: You provided Unicode markup but also provided a value for from_encoding. Your from_encoding will be ignored.\n",
      "  warnings.warn(\"You provided Unicode markup but also provided a value for from_encoding. Your from_encoding will be ignored.\")\n",
      "/home/eeisenst/miniconda3/envs/cai-base/lib/python3.10/site-packages/bs4/__init__.py:226: UserWarning: You provided Unicode markup but also provided a value for from_encoding. Your from_encoding will be ignored.\n",
      "  warnings.warn(\"You provided Unicode markup but also provided a value for from_encoding. Your from_encoding will be ignored.\")\n",
      "/home/eeisenst/miniconda3/envs/cai-base/lib/python3.10/site-packages/bs4/__init__.py:226: UserWarning: You provided Unicode markup but also provided a value for from_encoding. Your from_encoding will be ignored.\n",
      "  warnings.warn(\"You provided Unicode markup but also provided a value for from_encoding. Your from_encoding will be ignored.\")\n",
      "/home/eeisenst/miniconda3/envs/cai-base/lib/python3.10/site-packages/bs4/__init__.py:226: UserWarning: You provided Unicode markup but also provided a value for from_encoding. Your from_encoding will be ignored.\n",
      "  warnings.warn(\"You provided Unicode markup but also provided a value for from_encoding. Your from_encoding will be ignored.\")\n"
     ]
    }
   ],
   "source": [
    "kangyur_bag = dask_client.persist(TeiLoader(\"kangyur\").to_bag(split_type=CorpusSplitType.BY_SENTENCE))"
   ]
  },
  {
   "cell_type": "code",
   "execution_count": 7,
   "metadata": {},
   "outputs": [
    {
     "data": {
      "text/plain": [
       "202654"
      ]
     },
     "execution_count": 7,
     "metadata": {},
     "output_type": "execute_result"
    }
   ],
   "source": [
    "kangyur_bag.count().compute()"
   ]
  },
  {
   "cell_type": "code",
   "execution_count": 8,
   "metadata": {},
   "outputs": [
    {
     "data": {
      "text/plain": [
       "2427"
      ]
     },
     "execution_count": 8,
     "metadata": {},
     "output_type": "execute_result"
    }
   ],
   "source": [
    "kangyur_bag.map(len).max().compute()"
   ]
  },
  {
   "cell_type": "code",
   "execution_count": 9,
   "metadata": {},
   "outputs": [
    {
     "data": {
      "text/plain": [
       "1"
      ]
     },
     "execution_count": 9,
     "metadata": {},
     "output_type": "execute_result"
    }
   ],
   "source": [
    "kangyur_bag.filter(lambda x: len(x) == 2427).count().compute()"
   ]
  },
  {
   "cell_type": "code",
   "execution_count": 10,
   "metadata": {},
   "outputs": [
    {
     "data": {
      "text/plain": [
       "['They are as follows:    Sarva\\xadtathāgatābhiṣiktā (She Who Was Empowered by All Tathāgatas),  Sarva\\xaddevatābhiṣiktā (She Who Was Empowered by All Gods),  Sarva\\xadtathāgata\\xadmātṛ (Mother of All Tathāgatas),  Sarva\\xaddevatā\\xadmātṛ (Mother of All Gods),   Sarva\\xadtathāgata\\xadśrī (Glory of All Tathāgatas),  Sarva\\xadbodhisattva\\xadśrī (Glory of All Bodhisattvas),  Sarvārya\\xadśrāvaka\\xadpratyeka\\xadbuddha\\xadśrī (Glory of All Āryaśrāvakas and Pratyekabuddhas),  Brahma\\xadviṣṇu\\xadmaheśvara\\xadśrī (Glory of Brahmā, Viṣṇu, and Maheśvara),   Mahā\\xadsthāna\\xadgata\\xadśrī (Glory Present in Great Places),   Sarva\\xaddevatābhimukha\\xadśrī (Glory in the Presence of All Gods),   Sarva\\xaddeva\\xadnāga\\xadyakṣa\\xadgandharvāsura\\xadgaruḍa\\xadkiṃnara\\xadmahoraga\\xadśrī (Glory of All the Gods, Nāgas, Yakṣas, Gandharvas, Asuras, Garuḍas, Kiṃnaras, and Mahoragas),  Sarva\\xadvidyā\\xaddhara\\xadvajra\\xadpāṇi\\xadvajra\\xaddhara\\xadśrī (Glory of All the Vidyādharas, Vajrapāṇi and Vajradharas),   Catuḥpañca\\xadlokapāla\\xadśrī (Glory of the Four and the Five Guardians of the World),  Aṣṭa\\xadgrahāṣṭāviṃśati\\xadnakṣatra\\xadśrī (Glory of the Eight Planets and Twenty-Eight Constellations),  Oṃ Sāvitrī (Daughter of Savitra),  Dhātrī (Nurse),   Mātṛ (Mother),  Caturvedaśrī (Glory of the Four Vedas),  Lakṣmī (Goddess of Prosperity),  Bhūtamātṛ (Mother of Sentient Beings),   Jayā (She Who Is Victorious),  Vijayā (She Who Conquers),  Gaṅgā (She Who Is the Ganges),  Sarvatīrthā (She of All Holy Places),  Sarvamaṅgalyā (She Who Confers All Auspiciousness),   Vimala\\xadnirmala\\xadkara\\xadśrī (Glory That Makes One Stainless and Pure),  Sarva\\xadpāpa\\xadhantrī (She Who Slays All Sins),  Nirmadakarā (She Who Humbles),   Candraśrī (Glory of the Moon),  Sūryaśrī (Glory of the Sun),  Sarvagrahaśrī (Glory of All the Planets),  Siṃhavāhinī (She Who Rides upon a Lion),   Śata\\xadsahasra\\xadkoṭipadma\\xadvivara\\xadsaṃcchannā (She Who Is Enveloped by a Display of One Hundred Thousand Crore Lotuses),   Padmā (She Who Has Lotuses),  Padmasambhavā (She Who Was Born from a Lotus),  Padmālayā (She Whose Abode Is a Lotus),   Padmadharā (She Who Holds a Lotus),  Padmāvatī (She Who Is Endowed with Lotuses),  Aneka\\xadratnāṃśu\\xadmālā (She Who Has a Garland of Many Light Rays That Are Like Jewels),  Dhanadā (She Who Brings Wealth),   Śvetā (Fair One),  Mahāśvetā (Great Fair One),  Śvetabhujā (She Who Has Fair Arms),  Sarva\\xadmaṅgala\\xaddhāriṇī (She Who Possesses All Auspiciousness),     Sarva\\xadpuṇyopacitāṅgī (She Whose Body Consists of All Collections of Merit),   Dākṣāyaṇī (Daughter of Dakṣa),']"
      ]
     },
     "execution_count": 10,
     "metadata": {},
     "output_type": "execute_result"
    }
   ],
   "source": [
    "kangyur_bag.filter(lambda x: len(x) == 2427).compute()"
   ]
  },
  {
   "cell_type": "code",
   "execution_count": 11,
   "metadata": {},
   "outputs": [],
   "source": [
    "kangyur_bag = dask_client.persist(TeiLoader(\"kangyur\").to_bag())"
   ]
  },
  {
   "cell_type": "code",
   "execution_count": 12,
   "metadata": {},
   "outputs": [
    {
     "data": {
      "text/plain": [
       "12826"
      ]
     },
     "execution_count": 12,
     "metadata": {},
     "output_type": "execute_result"
    }
   ],
   "source": [
    "kangyur_bag.count().compute()"
   ]
  },
  {
   "cell_type": "code",
   "execution_count": 13,
   "metadata": {
    "scrolled": true
   },
   "outputs": [
    {
     "name": "stderr",
     "output_type": "stream",
     "text": [
      "/home/eeisenst/miniconda3/envs/cai-base/lib/python3.10/site-packages/dask/bag/core.py:2498: UserWarning: Insufficient elements for `take`. 20 elements requested, only 3 elements available. Try passing larger `npartitions` to `take`.\n",
      "  warnings.warn(\n"
     ]
    },
    {
     "data": {
      "text/plain": [
       "('  The Translation  The Noble Mahāyāna Sūtra Entitled Teaching the Four Factors    ',\n",
       " ' Homage to all the buddhas and bodhisattvas!   Thus did I hear at one time. The Blessed One was dwelling in the Sudharmā assembly hall in the Heaven of the Thirty-Three, together with a great gathering of five hundred monks, and very many bodhisattva mahāsattvas, including Maitreya and Mañjuśrī.   At that time the Blessed One said to the bodhisattva mahāsattva Maitreya, ',\n",
       " ' “O Maitreya, bodhisattva mahāsattva, if you possess four factors, the misdeeds you have committed and accumulated will be overcome.   “What are these four? The action of repentance, antidotal action, the power of restraint, and the power of support.   “The action of repentance is to feel intense remorse for any non-virtuous action you have committed.  “Antidotal action is to put great effort into virtuous actions once you have committed a non-virtuous action.  “The power of restraint is to make a pledge and thereby refrain from any similar action.   “The power of support is to take refuge in the Buddha, Dharma, and Saṅgha, and not to forsake the mind of awakening. By relying on such powerful forces, you will be immune to misdeeds.   “O Maitreya, bodhisattva mahāsattva, if you possess these four factors, you will overcome any misdeeds that you have committed and accumulated. The bodhisattva mahāsattva should continually read this sūtra, recite it aloud, and reflect and meditate on it, doing so many times. Through this, the effects of negative conduct will not come about.”   Once the Blessed One had said this, the whole assembly, including the bodhisattva mahāsattva Maitreya, the monks, the bodhisattvas, and the ranks of the gods, such as Śakra, were overjoyed and full of praise for what the Blessed One had taught.    This concludes the noble Mahāyāna sūtra entitled “Teaching the Four Factors.”    Colophon  Translated, edited, and corrected by the Indian preceptor Surendrabodhi and the principal editor and translator venerable Yeshé Dé.  ')"
      ]
     },
     "execution_count": 13,
     "metadata": {},
     "output_type": "execute_result"
    }
   ],
   "source": [
    "kangyur_bag.take(20)"
   ]
  },
  {
   "cell_type": "code",
   "execution_count": 14,
   "metadata": {},
   "outputs": [
    {
     "name": "stderr",
     "output_type": "stream",
     "text": [
      "/home/eeisenst/miniconda3/envs/cai-base/lib/python3.10/site-packages/bs4/__init__.py:226: UserWarning: You provided Unicode markup but also provided a value for from_encoding. Your from_encoding will be ignored.\n",
      "  warnings.warn(\"You provided Unicode markup but also provided a value for from_encoding. Your from_encoding will be ignored.\")\n",
      "/home/eeisenst/miniconda3/envs/cai-base/lib/python3.10/site-packages/bs4/__init__.py:226: UserWarning: You provided Unicode markup but also provided a value for from_encoding. Your from_encoding will be ignored.\n",
      "  warnings.warn(\"You provided Unicode markup but also provided a value for from_encoding. Your from_encoding will be ignored.\")\n",
      "/home/eeisenst/miniconda3/envs/cai-base/lib/python3.10/site-packages/bs4/__init__.py:226: UserWarning: You provided Unicode markup but also provided a value for from_encoding. Your from_encoding will be ignored.\n",
      "  warnings.warn(\"You provided Unicode markup but also provided a value for from_encoding. Your from_encoding will be ignored.\")\n",
      "/home/eeisenst/miniconda3/envs/cai-base/lib/python3.10/site-packages/bs4/__init__.py:226: UserWarning: You provided Unicode markup but also provided a value for from_encoding. Your from_encoding will be ignored.\n",
      "  warnings.warn(\"You provided Unicode markup but also provided a value for from_encoding. Your from_encoding will be ignored.\")\n",
      "/home/eeisenst/miniconda3/envs/cai-base/lib/python3.10/site-packages/bs4/__init__.py:226: UserWarning: You provided Unicode markup but also provided a value for from_encoding. Your from_encoding will be ignored.\n",
      "  warnings.warn(\"You provided Unicode markup but also provided a value for from_encoding. Your from_encoding will be ignored.\")\n",
      "/home/eeisenst/miniconda3/envs/cai-base/lib/python3.10/site-packages/bs4/__init__.py:226: UserWarning: You provided Unicode markup but also provided a value for from_encoding. Your from_encoding will be ignored.\n",
      "  warnings.warn(\"You provided Unicode markup but also provided a value for from_encoding. Your from_encoding will be ignored.\")\n",
      "/home/eeisenst/miniconda3/envs/cai-base/lib/python3.10/site-packages/bs4/__init__.py:226: UserWarning: You provided Unicode markup but also provided a value for from_encoding. Your from_encoding will be ignored.\n",
      "  warnings.warn(\"You provided Unicode markup but also provided a value for from_encoding. Your from_encoding will be ignored.\")\n",
      "/home/eeisenst/miniconda3/envs/cai-base/lib/python3.10/site-packages/bs4/__init__.py:226: UserWarning: You provided Unicode markup but also provided a value for from_encoding. Your from_encoding will be ignored.\n",
      "  warnings.warn(\"You provided Unicode markup but also provided a value for from_encoding. Your from_encoding will be ignored.\")\n",
      "/home/eeisenst/miniconda3/envs/cai-base/lib/python3.10/site-packages/bs4/__init__.py:226: UserWarning: You provided Unicode markup but also provided a value for from_encoding. Your from_encoding will be ignored.\n",
      "  warnings.warn(\"You provided Unicode markup but also provided a value for from_encoding. Your from_encoding will be ignored.\")\n",
      "/home/eeisenst/miniconda3/envs/cai-base/lib/python3.10/site-packages/bs4/__init__.py:226: UserWarning: You provided Unicode markup but also provided a value for from_encoding. Your from_encoding will be ignored.\n",
      "  warnings.warn(\"You provided Unicode markup but also provided a value for from_encoding. Your from_encoding will be ignored.\")\n",
      "/home/eeisenst/miniconda3/envs/cai-base/lib/python3.10/site-packages/bs4/__init__.py:226: UserWarning: You provided Unicode markup but also provided a value for from_encoding. Your from_encoding will be ignored.\n",
      "  warnings.warn(\"You provided Unicode markup but also provided a value for from_encoding. Your from_encoding will be ignored.\")\n",
      "/home/eeisenst/miniconda3/envs/cai-base/lib/python3.10/site-packages/bs4/__init__.py:226: UserWarning: You provided Unicode markup but also provided a value for from_encoding. Your from_encoding will be ignored.\n",
      "  warnings.warn(\"You provided Unicode markup but also provided a value for from_encoding. Your from_encoding will be ignored.\")\n",
      "/home/eeisenst/miniconda3/envs/cai-base/lib/python3.10/site-packages/bs4/__init__.py:226: UserWarning: You provided Unicode markup but also provided a value for from_encoding. Your from_encoding will be ignored.\n",
      "  warnings.warn(\"You provided Unicode markup but also provided a value for from_encoding. Your from_encoding will be ignored.\")\n",
      "/home/eeisenst/miniconda3/envs/cai-base/lib/python3.10/site-packages/bs4/__init__.py:226: UserWarning: You provided Unicode markup but also provided a value for from_encoding. Your from_encoding will be ignored.\n",
      "  warnings.warn(\"You provided Unicode markup but also provided a value for from_encoding. Your from_encoding will be ignored.\")\n",
      "/home/eeisenst/miniconda3/envs/cai-base/lib/python3.10/site-packages/bs4/__init__.py:226: UserWarning: You provided Unicode markup but also provided a value for from_encoding. Your from_encoding will be ignored.\n",
      "  warnings.warn(\"You provided Unicode markup but also provided a value for from_encoding. Your from_encoding will be ignored.\")\n",
      "/home/eeisenst/miniconda3/envs/cai-base/lib/python3.10/site-packages/bs4/__init__.py:226: UserWarning: You provided Unicode markup but also provided a value for from_encoding. Your from_encoding will be ignored.\n",
      "  warnings.warn(\"You provided Unicode markup but also provided a value for from_encoding. Your from_encoding will be ignored.\")\n",
      "/home/eeisenst/miniconda3/envs/cai-base/lib/python3.10/site-packages/bs4/__init__.py:226: UserWarning: You provided Unicode markup but also provided a value for from_encoding. Your from_encoding will be ignored.\n",
      "  warnings.warn(\"You provided Unicode markup but also provided a value for from_encoding. Your from_encoding will be ignored.\")\n",
      "/home/eeisenst/miniconda3/envs/cai-base/lib/python3.10/site-packages/bs4/__init__.py:226: UserWarning: You provided Unicode markup but also provided a value for from_encoding. Your from_encoding will be ignored.\n",
      "  warnings.warn(\"You provided Unicode markup but also provided a value for from_encoding. Your from_encoding will be ignored.\")\n",
      "/home/eeisenst/miniconda3/envs/cai-base/lib/python3.10/site-packages/bs4/__init__.py:226: UserWarning: You provided Unicode markup but also provided a value for from_encoding. Your from_encoding will be ignored.\n",
      "  warnings.warn(\"You provided Unicode markup but also provided a value for from_encoding. Your from_encoding will be ignored.\")\n",
      "/home/eeisenst/miniconda3/envs/cai-base/lib/python3.10/site-packages/bs4/__init__.py:226: UserWarning: You provided Unicode markup but also provided a value for from_encoding. Your from_encoding will be ignored.\n",
      "  warnings.warn(\"You provided Unicode markup but also provided a value for from_encoding. Your from_encoding will be ignored.\")\n",
      "/home/eeisenst/miniconda3/envs/cai-base/lib/python3.10/site-packages/bs4/__init__.py:226: UserWarning: You provided Unicode markup but also provided a value for from_encoding. Your from_encoding will be ignored.\n",
      "  warnings.warn(\"You provided Unicode markup but also provided a value for from_encoding. Your from_encoding will be ignored.\")\n",
      "/home/eeisenst/miniconda3/envs/cai-base/lib/python3.10/site-packages/bs4/__init__.py:226: UserWarning: You provided Unicode markup but also provided a value for from_encoding. Your from_encoding will be ignored.\n",
      "  warnings.warn(\"You provided Unicode markup but also provided a value for from_encoding. Your from_encoding will be ignored.\")\n",
      "/home/eeisenst/miniconda3/envs/cai-base/lib/python3.10/site-packages/bs4/__init__.py:226: UserWarning: You provided Unicode markup but also provided a value for from_encoding. Your from_encoding will be ignored.\n",
      "  warnings.warn(\"You provided Unicode markup but also provided a value for from_encoding. Your from_encoding will be ignored.\")\n",
      "/home/eeisenst/miniconda3/envs/cai-base/lib/python3.10/site-packages/bs4/__init__.py:226: UserWarning: You provided Unicode markup but also provided a value for from_encoding. Your from_encoding will be ignored.\n",
      "  warnings.warn(\"You provided Unicode markup but also provided a value for from_encoding. Your from_encoding will be ignored.\")\n",
      "/home/eeisenst/miniconda3/envs/cai-base/lib/python3.10/site-packages/bs4/__init__.py:226: UserWarning: You provided Unicode markup but also provided a value for from_encoding. Your from_encoding will be ignored.\n",
      "  warnings.warn(\"You provided Unicode markup but also provided a value for from_encoding. Your from_encoding will be ignored.\")\n",
      "/home/eeisenst/miniconda3/envs/cai-base/lib/python3.10/site-packages/bs4/__init__.py:226: UserWarning: You provided Unicode markup but also provided a value for from_encoding. Your from_encoding will be ignored.\n",
      "  warnings.warn(\"You provided Unicode markup but also provided a value for from_encoding. Your from_encoding will be ignored.\")\n",
      "/home/eeisenst/miniconda3/envs/cai-base/lib/python3.10/site-packages/bs4/__init__.py:226: UserWarning: You provided Unicode markup but also provided a value for from_encoding. Your from_encoding will be ignored.\n",
      "  warnings.warn(\"You provided Unicode markup but also provided a value for from_encoding. Your from_encoding will be ignored.\")\n",
      "/home/eeisenst/miniconda3/envs/cai-base/lib/python3.10/site-packages/bs4/__init__.py:226: UserWarning: You provided Unicode markup but also provided a value for from_encoding. Your from_encoding will be ignored.\n",
      "  warnings.warn(\"You provided Unicode markup but also provided a value for from_encoding. Your from_encoding will be ignored.\")\n",
      "/home/eeisenst/miniconda3/envs/cai-base/lib/python3.10/site-packages/bs4/__init__.py:226: UserWarning: You provided Unicode markup but also provided a value for from_encoding. Your from_encoding will be ignored.\n",
      "  warnings.warn(\"You provided Unicode markup but also provided a value for from_encoding. Your from_encoding will be ignored.\")\n",
      "/home/eeisenst/miniconda3/envs/cai-base/lib/python3.10/site-packages/bs4/__init__.py:226: UserWarning: You provided Unicode markup but also provided a value for from_encoding. Your from_encoding will be ignored.\n",
      "  warnings.warn(\"You provided Unicode markup but also provided a value for from_encoding. Your from_encoding will be ignored.\")\n"
     ]
    }
   ],
   "source": [
    "kangyur_df = dask_client.persist(TeiLoader(\"kangyur\").dataframe)"
   ]
  },
  {
   "cell_type": "code",
   "execution_count": 15,
   "metadata": {
    "scrolled": true
   },
   "outputs": [
    {
     "name": "stderr",
     "output_type": "stream",
     "text": [
      "/home/eeisenst/miniconda3/envs/cai-base/lib/python3.10/site-packages/bs4/__init__.py:226: UserWarning: You provided Unicode markup but also provided a value for from_encoding. Your from_encoding will be ignored.\n",
      "  warnings.warn(\"You provided Unicode markup but also provided a value for from_encoding. Your from_encoding will be ignored.\")\n",
      "/home/eeisenst/miniconda3/envs/cai-base/lib/python3.10/site-packages/bs4/__init__.py:226: UserWarning: You provided Unicode markup but also provided a value for from_encoding. Your from_encoding will be ignored.\n",
      "  warnings.warn(\"You provided Unicode markup but also provided a value for from_encoding. Your from_encoding will be ignored.\")\n",
      "/home/eeisenst/miniconda3/envs/cai-base/lib/python3.10/site-packages/bs4/__init__.py:226: UserWarning: You provided Unicode markup but also provided a value for from_encoding. Your from_encoding will be ignored.\n",
      "  warnings.warn(\"You provided Unicode markup but also provided a value for from_encoding. Your from_encoding will be ignored.\")\n",
      "/home/eeisenst/miniconda3/envs/cai-base/lib/python3.10/site-packages/bs4/__init__.py:226: UserWarning: You provided Unicode markup but also provided a value for from_encoding. Your from_encoding will be ignored.\n",
      "  warnings.warn(\"You provided Unicode markup but also provided a value for from_encoding. Your from_encoding will be ignored.\")\n",
      "/home/eeisenst/miniconda3/envs/cai-base/lib/python3.10/site-packages/bs4/__init__.py:226: UserWarning: You provided Unicode markup but also provided a value for from_encoding. Your from_encoding will be ignored.\n",
      "  warnings.warn(\"You provided Unicode markup but also provided a value for from_encoding. Your from_encoding will be ignored.\")\n",
      "/home/eeisenst/miniconda3/envs/cai-base/lib/python3.10/site-packages/bs4/__init__.py:226: UserWarning: You provided Unicode markup but also provided a value for from_encoding. Your from_encoding will be ignored.\n",
      "  warnings.warn(\"You provided Unicode markup but also provided a value for from_encoding. Your from_encoding will be ignored.\")\n",
      "/home/eeisenst/miniconda3/envs/cai-base/lib/python3.10/site-packages/bs4/__init__.py:226: UserWarning: You provided Unicode markup but also provided a value for from_encoding. Your from_encoding will be ignored.\n",
      "  warnings.warn(\"You provided Unicode markup but also provided a value for from_encoding. Your from_encoding will be ignored.\")\n",
      "/home/eeisenst/miniconda3/envs/cai-base/lib/python3.10/site-packages/bs4/__init__.py:226: UserWarning: You provided Unicode markup but also provided a value for from_encoding. Your from_encoding will be ignored.\n",
      "  warnings.warn(\"You provided Unicode markup but also provided a value for from_encoding. Your from_encoding will be ignored.\")\n",
      "/home/eeisenst/miniconda3/envs/cai-base/lib/python3.10/site-packages/bs4/__init__.py:226: UserWarning: You provided Unicode markup but also provided a value for from_encoding. Your from_encoding will be ignored.\n",
      "  warnings.warn(\"You provided Unicode markup but also provided a value for from_encoding. Your from_encoding will be ignored.\")\n",
      "/home/eeisenst/miniconda3/envs/cai-base/lib/python3.10/site-packages/bs4/__init__.py:226: UserWarning: You provided Unicode markup but also provided a value for from_encoding. Your from_encoding will be ignored.\n",
      "  warnings.warn(\"You provided Unicode markup but also provided a value for from_encoding. Your from_encoding will be ignored.\")\n",
      "/home/eeisenst/miniconda3/envs/cai-base/lib/python3.10/site-packages/bs4/__init__.py:226: UserWarning: You provided Unicode markup but also provided a value for from_encoding. Your from_encoding will be ignored.\n",
      "  warnings.warn(\"You provided Unicode markup but also provided a value for from_encoding. Your from_encoding will be ignored.\")\n",
      "/home/eeisenst/miniconda3/envs/cai-base/lib/python3.10/site-packages/bs4/__init__.py:226: UserWarning: You provided Unicode markup but also provided a value for from_encoding. Your from_encoding will be ignored.\n",
      "  warnings.warn(\"You provided Unicode markup but also provided a value for from_encoding. Your from_encoding will be ignored.\")\n",
      "/home/eeisenst/miniconda3/envs/cai-base/lib/python3.10/site-packages/bs4/__init__.py:226: UserWarning: You provided Unicode markup but also provided a value for from_encoding. Your from_encoding will be ignored.\n",
      "  warnings.warn(\"You provided Unicode markup but also provided a value for from_encoding. Your from_encoding will be ignored.\")\n",
      "/home/eeisenst/miniconda3/envs/cai-base/lib/python3.10/site-packages/bs4/__init__.py:226: UserWarning: You provided Unicode markup but also provided a value for from_encoding. Your from_encoding will be ignored.\n",
      "  warnings.warn(\"You provided Unicode markup but also provided a value for from_encoding. Your from_encoding will be ignored.\")\n",
      "/home/eeisenst/miniconda3/envs/cai-base/lib/python3.10/site-packages/bs4/__init__.py:226: UserWarning: You provided Unicode markup but also provided a value for from_encoding. Your from_encoding will be ignored.\n",
      "  warnings.warn(\"You provided Unicode markup but also provided a value for from_encoding. Your from_encoding will be ignored.\")\n",
      "/home/eeisenst/miniconda3/envs/cai-base/lib/python3.10/site-packages/bs4/__init__.py:226: UserWarning: You provided Unicode markup but also provided a value for from_encoding. Your from_encoding will be ignored.\n",
      "  warnings.warn(\"You provided Unicode markup but also provided a value for from_encoding. Your from_encoding will be ignored.\")\n",
      "/home/eeisenst/miniconda3/envs/cai-base/lib/python3.10/site-packages/bs4/__init__.py:226: UserWarning: You provided Unicode markup but also provided a value for from_encoding. Your from_encoding will be ignored.\n",
      "  warnings.warn(\"You provided Unicode markup but also provided a value for from_encoding. Your from_encoding will be ignored.\")\n",
      "/home/eeisenst/miniconda3/envs/cai-base/lib/python3.10/site-packages/bs4/__init__.py:226: UserWarning: You provided Unicode markup but also provided a value for from_encoding. Your from_encoding will be ignored.\n",
      "  warnings.warn(\"You provided Unicode markup but also provided a value for from_encoding. Your from_encoding will be ignored.\")\n",
      "/home/eeisenst/miniconda3/envs/cai-base/lib/python3.10/site-packages/bs4/__init__.py:226: UserWarning: You provided Unicode markup but also provided a value for from_encoding. Your from_encoding will be ignored.\n",
      "  warnings.warn(\"You provided Unicode markup but also provided a value for from_encoding. Your from_encoding will be ignored.\")\n",
      "/home/eeisenst/miniconda3/envs/cai-base/lib/python3.10/site-packages/bs4/__init__.py:226: UserWarning: You provided Unicode markup but also provided a value for from_encoding. Your from_encoding will be ignored.\n",
      "  warnings.warn(\"You provided Unicode markup but also provided a value for from_encoding. Your from_encoding will be ignored.\")\n",
      "/home/eeisenst/miniconda3/envs/cai-base/lib/python3.10/site-packages/bs4/__init__.py:226: UserWarning: You provided Unicode markup but also provided a value for from_encoding. Your from_encoding will be ignored.\n",
      "  warnings.warn(\"You provided Unicode markup but also provided a value for from_encoding. Your from_encoding will be ignored.\")\n",
      "/home/eeisenst/miniconda3/envs/cai-base/lib/python3.10/site-packages/bs4/__init__.py:226: UserWarning: You provided Unicode markup but also provided a value for from_encoding. Your from_encoding will be ignored.\n",
      "  warnings.warn(\"You provided Unicode markup but also provided a value for from_encoding. Your from_encoding will be ignored.\")\n",
      "/home/eeisenst/miniconda3/envs/cai-base/lib/python3.10/site-packages/bs4/__init__.py:226: UserWarning: You provided Unicode markup but also provided a value for from_encoding. Your from_encoding will be ignored.\n",
      "  warnings.warn(\"You provided Unicode markup but also provided a value for from_encoding. Your from_encoding will be ignored.\")\n",
      "/home/eeisenst/miniconda3/envs/cai-base/lib/python3.10/site-packages/bs4/__init__.py:226: UserWarning: You provided Unicode markup but also provided a value for from_encoding. Your from_encoding will be ignored.\n",
      "  warnings.warn(\"You provided Unicode markup but also provided a value for from_encoding. Your from_encoding will be ignored.\")\n",
      "/home/eeisenst/miniconda3/envs/cai-base/lib/python3.10/site-packages/bs4/__init__.py:226: UserWarning: You provided Unicode markup but also provided a value for from_encoding. Your from_encoding will be ignored.\n",
      "  warnings.warn(\"You provided Unicode markup but also provided a value for from_encoding. Your from_encoding will be ignored.\")\n",
      "/home/eeisenst/miniconda3/envs/cai-base/lib/python3.10/site-packages/bs4/__init__.py:226: UserWarning: You provided Unicode markup but also provided a value for from_encoding. Your from_encoding will be ignored.\n",
      "  warnings.warn(\"You provided Unicode markup but also provided a value for from_encoding. Your from_encoding will be ignored.\")\n",
      "/home/eeisenst/miniconda3/envs/cai-base/lib/python3.10/site-packages/bs4/__init__.py:226: UserWarning: You provided Unicode markup but also provided a value for from_encoding. Your from_encoding will be ignored.\n",
      "  warnings.warn(\"You provided Unicode markup but also provided a value for from_encoding. Your from_encoding will be ignored.\")\n",
      "/home/eeisenst/miniconda3/envs/cai-base/lib/python3.10/site-packages/bs4/__init__.py:226: UserWarning: You provided Unicode markup but also provided a value for from_encoding. Your from_encoding will be ignored.\n",
      "  warnings.warn(\"You provided Unicode markup but also provided a value for from_encoding. Your from_encoding will be ignored.\")\n",
      "/home/eeisenst/miniconda3/envs/cai-base/lib/python3.10/site-packages/bs4/__init__.py:226: UserWarning: You provided Unicode markup but also provided a value for from_encoding. Your from_encoding will be ignored.\n",
      "  warnings.warn(\"You provided Unicode markup but also provided a value for from_encoding. Your from_encoding will be ignored.\")\n",
      "/home/eeisenst/miniconda3/envs/cai-base/lib/python3.10/site-packages/bs4/__init__.py:226: UserWarning: You provided Unicode markup but also provided a value for from_encoding. Your from_encoding will be ignored.\n",
      "  warnings.warn(\"You provided Unicode markup but also provided a value for from_encoding. Your from_encoding will be ignored.\")\n",
      "/home/eeisenst/miniconda3/envs/cai-base/lib/python3.10/site-packages/dask/dataframe/core.py:7474: UserWarning: Insufficient elements for `head`. 20 elements requested, only 3 elements available. Try passing larger `npartitions` to `head`.\n",
      "  warnings.warn(\n",
      "/home/eeisenst/miniconda3/envs/cai-base/lib/python3.10/site-packages/bs4/__init__.py:226: UserWarning: You provided Unicode markup but also provided a value for from_encoding. Your from_encoding will be ignored.\n",
      "  warnings.warn(\"You provided Unicode markup but also provided a value for from_encoding. Your from_encoding will be ignored.\")\n",
      "/home/eeisenst/miniconda3/envs/cai-base/lib/python3.10/site-packages/bs4/__init__.py:226: UserWarning: You provided Unicode markup but also provided a value for from_encoding. Your from_encoding will be ignored.\n",
      "  warnings.warn(\"You provided Unicode markup but also provided a value for from_encoding. Your from_encoding will be ignored.\")\n",
      "/home/eeisenst/miniconda3/envs/cai-base/lib/python3.10/site-packages/bs4/__init__.py:226: UserWarning: You provided Unicode markup but also provided a value for from_encoding. Your from_encoding will be ignored.\n",
      "  warnings.warn(\"You provided Unicode markup but also provided a value for from_encoding. Your from_encoding will be ignored.\")\n",
      "/home/eeisenst/miniconda3/envs/cai-base/lib/python3.10/site-packages/bs4/__init__.py:226: UserWarning: You provided Unicode markup but also provided a value for from_encoding. Your from_encoding will be ignored.\n",
      "  warnings.warn(\"You provided Unicode markup but also provided a value for from_encoding. Your from_encoding will be ignored.\")\n",
      "/home/eeisenst/miniconda3/envs/cai-base/lib/python3.10/site-packages/bs4/__init__.py:226: UserWarning: You provided Unicode markup but also provided a value for from_encoding. Your from_encoding will be ignored.\n",
      "  warnings.warn(\"You provided Unicode markup but also provided a value for from_encoding. Your from_encoding will be ignored.\")\n",
      "/home/eeisenst/miniconda3/envs/cai-base/lib/python3.10/site-packages/bs4/__init__.py:226: UserWarning: You provided Unicode markup but also provided a value for from_encoding. Your from_encoding will be ignored.\n",
      "  warnings.warn(\"You provided Unicode markup but also provided a value for from_encoding. Your from_encoding will be ignored.\")\n",
      "/home/eeisenst/miniconda3/envs/cai-base/lib/python3.10/site-packages/bs4/__init__.py:226: UserWarning: You provided Unicode markup but also provided a value for from_encoding. Your from_encoding will be ignored.\n",
      "  warnings.warn(\"You provided Unicode markup but also provided a value for from_encoding. Your from_encoding will be ignored.\")\n",
      "/home/eeisenst/miniconda3/envs/cai-base/lib/python3.10/site-packages/bs4/__init__.py:226: UserWarning: You provided Unicode markup but also provided a value for from_encoding. Your from_encoding will be ignored.\n",
      "  warnings.warn(\"You provided Unicode markup but also provided a value for from_encoding. Your from_encoding will be ignored.\")\n",
      "/home/eeisenst/miniconda3/envs/cai-base/lib/python3.10/site-packages/bs4/__init__.py:226: UserWarning: You provided Unicode markup but also provided a value for from_encoding. Your from_encoding will be ignored.\n",
      "  warnings.warn(\"You provided Unicode markup but also provided a value for from_encoding. Your from_encoding will be ignored.\")\n",
      "/home/eeisenst/miniconda3/envs/cai-base/lib/python3.10/site-packages/bs4/__init__.py:226: UserWarning: You provided Unicode markup but also provided a value for from_encoding. Your from_encoding will be ignored.\n",
      "  warnings.warn(\"You provided Unicode markup but also provided a value for from_encoding. Your from_encoding will be ignored.\")\n",
      "/home/eeisenst/miniconda3/envs/cai-base/lib/python3.10/site-packages/bs4/__init__.py:226: UserWarning: You provided Unicode markup but also provided a value for from_encoding. Your from_encoding will be ignored.\n",
      "  warnings.warn(\"You provided Unicode markup but also provided a value for from_encoding. Your from_encoding will be ignored.\")\n",
      "/home/eeisenst/miniconda3/envs/cai-base/lib/python3.10/site-packages/bs4/__init__.py:226: UserWarning: You provided Unicode markup but also provided a value for from_encoding. Your from_encoding will be ignored.\n",
      "  warnings.warn(\"You provided Unicode markup but also provided a value for from_encoding. Your from_encoding will be ignored.\")\n",
      "/home/eeisenst/miniconda3/envs/cai-base/lib/python3.10/site-packages/bs4/__init__.py:226: UserWarning: You provided Unicode markup but also provided a value for from_encoding. Your from_encoding will be ignored.\n",
      "  warnings.warn(\"You provided Unicode markup but also provided a value for from_encoding. Your from_encoding will be ignored.\")\n"
     ]
    },
    {
     "data": {
      "text/html": [
       "<div>\n",
       "<style scoped>\n",
       "    .dataframe tbody tr th:only-of-type {\n",
       "        vertical-align: middle;\n",
       "    }\n",
       "\n",
       "    .dataframe tbody tr th {\n",
       "        vertical-align: top;\n",
       "    }\n",
       "\n",
       "    .dataframe thead th {\n",
       "        text-align: right;\n",
       "    }\n",
       "</style>\n",
       "<table border=\"1\" class=\"dataframe\">\n",
       "  <thead>\n",
       "    <tr style=\"text-align: right;\">\n",
       "      <th></th>\n",
       "      <th>filename</th>\n",
       "      <th>volume_number</th>\n",
       "      <th>tohoku_number</th>\n",
       "      <th>location</th>\n",
       "      <th>text</th>\n",
       "    </tr>\n",
       "  </thead>\n",
       "  <tbody>\n",
       "    <tr>\n",
       "      <th>0</th>\n",
       "      <td>066-007_toh249-the_sutra_teaching_four_factors...</td>\n",
       "      <td>66</td>\n",
       "      <td>toh249</td>\n",
       "      <td>None</td>\n",
       "      <td>The Translation  The Noble Mahāyāna Sūtra En...</td>\n",
       "    </tr>\n",
       "    <tr>\n",
       "      <th>1</th>\n",
       "      <td>066-007_toh249-the_sutra_teaching_four_factors...</td>\n",
       "      <td>66</td>\n",
       "      <td>toh249</td>\n",
       "      <td>F.59.a</td>\n",
       "      <td>Homage to all the buddhas and bodhisattvas!  ...</td>\n",
       "    </tr>\n",
       "    <tr>\n",
       "      <th>2</th>\n",
       "      <td>066-007_toh249-the_sutra_teaching_four_factors...</td>\n",
       "      <td>66</td>\n",
       "      <td>toh249</td>\n",
       "      <td>F.59.b</td>\n",
       "      <td>“O Maitreya, bodhisattva mahāsattva, if you p...</td>\n",
       "    </tr>\n",
       "  </tbody>\n",
       "</table>\n",
       "</div>"
      ],
      "text/plain": [
       "                                            filename  volume_number  \\\n",
       "0  066-007_toh249-the_sutra_teaching_four_factors...             66   \n",
       "1  066-007_toh249-the_sutra_teaching_four_factors...             66   \n",
       "2  066-007_toh249-the_sutra_teaching_four_factors...             66   \n",
       "\n",
       "  tohoku_number location                                               text  \n",
       "0        toh249     None    The Translation  The Noble Mahāyāna Sūtra En...  \n",
       "1        toh249   F.59.a   Homage to all the buddhas and bodhisattvas!  ...  \n",
       "2        toh249   F.59.b   “O Maitreya, bodhisattva mahāsattva, if you p...  "
      ]
     },
     "execution_count": 15,
     "metadata": {},
     "output_type": "execute_result"
    },
    {
     "name": "stderr",
     "output_type": "stream",
     "text": [
      "/home/eeisenst/miniconda3/envs/cai-base/lib/python3.10/site-packages/bs4/__init__.py:226: UserWarning: You provided Unicode markup but also provided a value for from_encoding. Your from_encoding will be ignored.\n",
      "  warnings.warn(\"You provided Unicode markup but also provided a value for from_encoding. Your from_encoding will be ignored.\")\n",
      "/home/eeisenst/miniconda3/envs/cai-base/lib/python3.10/site-packages/bs4/__init__.py:226: UserWarning: You provided Unicode markup but also provided a value for from_encoding. Your from_encoding will be ignored.\n",
      "  warnings.warn(\"You provided Unicode markup but also provided a value for from_encoding. Your from_encoding will be ignored.\")\n",
      "/home/eeisenst/miniconda3/envs/cai-base/lib/python3.10/site-packages/bs4/__init__.py:226: UserWarning: You provided Unicode markup but also provided a value for from_encoding. Your from_encoding will be ignored.\n",
      "  warnings.warn(\"You provided Unicode markup but also provided a value for from_encoding. Your from_encoding will be ignored.\")\n",
      "/home/eeisenst/miniconda3/envs/cai-base/lib/python3.10/site-packages/bs4/__init__.py:226: UserWarning: You provided Unicode markup but also provided a value for from_encoding. Your from_encoding will be ignored.\n",
      "  warnings.warn(\"You provided Unicode markup but also provided a value for from_encoding. Your from_encoding will be ignored.\")\n",
      "/home/eeisenst/miniconda3/envs/cai-base/lib/python3.10/site-packages/bs4/__init__.py:226: UserWarning: You provided Unicode markup but also provided a value for from_encoding. Your from_encoding will be ignored.\n",
      "  warnings.warn(\"You provided Unicode markup but also provided a value for from_encoding. Your from_encoding will be ignored.\")\n",
      "/home/eeisenst/miniconda3/envs/cai-base/lib/python3.10/site-packages/bs4/__init__.py:226: UserWarning: You provided Unicode markup but also provided a value for from_encoding. Your from_encoding will be ignored.\n",
      "  warnings.warn(\"You provided Unicode markup but also provided a value for from_encoding. Your from_encoding will be ignored.\")\n",
      "/home/eeisenst/miniconda3/envs/cai-base/lib/python3.10/site-packages/bs4/__init__.py:226: UserWarning: You provided Unicode markup but also provided a value for from_encoding. Your from_encoding will be ignored.\n",
      "  warnings.warn(\"You provided Unicode markup but also provided a value for from_encoding. Your from_encoding will be ignored.\")\n",
      "/home/eeisenst/miniconda3/envs/cai-base/lib/python3.10/site-packages/bs4/__init__.py:226: UserWarning: You provided Unicode markup but also provided a value for from_encoding. Your from_encoding will be ignored.\n",
      "  warnings.warn(\"You provided Unicode markup but also provided a value for from_encoding. Your from_encoding will be ignored.\")\n",
      "/home/eeisenst/miniconda3/envs/cai-base/lib/python3.10/site-packages/bs4/__init__.py:226: UserWarning: You provided Unicode markup but also provided a value for from_encoding. Your from_encoding will be ignored.\n",
      "  warnings.warn(\"You provided Unicode markup but also provided a value for from_encoding. Your from_encoding will be ignored.\")\n",
      "/home/eeisenst/miniconda3/envs/cai-base/lib/python3.10/site-packages/bs4/__init__.py:226: UserWarning: You provided Unicode markup but also provided a value for from_encoding. Your from_encoding will be ignored.\n",
      "  warnings.warn(\"You provided Unicode markup but also provided a value for from_encoding. Your from_encoding will be ignored.\")\n",
      "/home/eeisenst/miniconda3/envs/cai-base/lib/python3.10/site-packages/bs4/__init__.py:226: UserWarning: You provided Unicode markup but also provided a value for from_encoding. Your from_encoding will be ignored.\n",
      "  warnings.warn(\"You provided Unicode markup but also provided a value for from_encoding. Your from_encoding will be ignored.\")\n",
      "/home/eeisenst/miniconda3/envs/cai-base/lib/python3.10/site-packages/bs4/__init__.py:226: UserWarning: You provided Unicode markup but also provided a value for from_encoding. Your from_encoding will be ignored.\n",
      "  warnings.warn(\"You provided Unicode markup but also provided a value for from_encoding. Your from_encoding will be ignored.\")\n",
      "/home/eeisenst/miniconda3/envs/cai-base/lib/python3.10/site-packages/bs4/__init__.py:226: UserWarning: You provided Unicode markup but also provided a value for from_encoding. Your from_encoding will be ignored.\n",
      "  warnings.warn(\"You provided Unicode markup but also provided a value for from_encoding. Your from_encoding will be ignored.\")\n",
      "/home/eeisenst/miniconda3/envs/cai-base/lib/python3.10/site-packages/bs4/__init__.py:226: UserWarning: You provided Unicode markup but also provided a value for from_encoding. Your from_encoding will be ignored.\n",
      "  warnings.warn(\"You provided Unicode markup but also provided a value for from_encoding. Your from_encoding will be ignored.\")\n",
      "/home/eeisenst/miniconda3/envs/cai-base/lib/python3.10/site-packages/bs4/__init__.py:226: UserWarning: You provided Unicode markup but also provided a value for from_encoding. Your from_encoding will be ignored.\n",
      "  warnings.warn(\"You provided Unicode markup but also provided a value for from_encoding. Your from_encoding will be ignored.\")\n",
      "/home/eeisenst/miniconda3/envs/cai-base/lib/python3.10/site-packages/bs4/__init__.py:226: UserWarning: You provided Unicode markup but also provided a value for from_encoding. Your from_encoding will be ignored.\n",
      "  warnings.warn(\"You provided Unicode markup but also provided a value for from_encoding. Your from_encoding will be ignored.\")\n",
      "/home/eeisenst/miniconda3/envs/cai-base/lib/python3.10/site-packages/bs4/__init__.py:226: UserWarning: You provided Unicode markup but also provided a value for from_encoding. Your from_encoding will be ignored.\n",
      "  warnings.warn(\"You provided Unicode markup but also provided a value for from_encoding. Your from_encoding will be ignored.\")\n",
      "/home/eeisenst/miniconda3/envs/cai-base/lib/python3.10/site-packages/bs4/__init__.py:226: UserWarning: You provided Unicode markup but also provided a value for from_encoding. Your from_encoding will be ignored.\n",
      "  warnings.warn(\"You provided Unicode markup but also provided a value for from_encoding. Your from_encoding will be ignored.\")\n",
      "/home/eeisenst/miniconda3/envs/cai-base/lib/python3.10/site-packages/bs4/__init__.py:226: UserWarning: You provided Unicode markup but also provided a value for from_encoding. Your from_encoding will be ignored.\n",
      "  warnings.warn(\"You provided Unicode markup but also provided a value for from_encoding. Your from_encoding will be ignored.\")\n",
      "/home/eeisenst/miniconda3/envs/cai-base/lib/python3.10/site-packages/bs4/__init__.py:226: UserWarning: You provided Unicode markup but also provided a value for from_encoding. Your from_encoding will be ignored.\n",
      "  warnings.warn(\"You provided Unicode markup but also provided a value for from_encoding. Your from_encoding will be ignored.\")\n",
      "/home/eeisenst/miniconda3/envs/cai-base/lib/python3.10/site-packages/bs4/__init__.py:226: UserWarning: You provided Unicode markup but also provided a value for from_encoding. Your from_encoding will be ignored.\n",
      "  warnings.warn(\"You provided Unicode markup but also provided a value for from_encoding. Your from_encoding will be ignored.\")\n",
      "/home/eeisenst/miniconda3/envs/cai-base/lib/python3.10/site-packages/bs4/__init__.py:226: UserWarning: You provided Unicode markup but also provided a value for from_encoding. Your from_encoding will be ignored.\n",
      "  warnings.warn(\"You provided Unicode markup but also provided a value for from_encoding. Your from_encoding will be ignored.\")\n",
      "/home/eeisenst/miniconda3/envs/cai-base/lib/python3.10/site-packages/bs4/__init__.py:226: UserWarning: You provided Unicode markup but also provided a value for from_encoding. Your from_encoding will be ignored.\n",
      "  warnings.warn(\"You provided Unicode markup but also provided a value for from_encoding. Your from_encoding will be ignored.\")\n",
      "/home/eeisenst/miniconda3/envs/cai-base/lib/python3.10/site-packages/bs4/__init__.py:226: UserWarning: You provided Unicode markup but also provided a value for from_encoding. Your from_encoding will be ignored.\n",
      "  warnings.warn(\"You provided Unicode markup but also provided a value for from_encoding. Your from_encoding will be ignored.\")\n",
      "/home/eeisenst/miniconda3/envs/cai-base/lib/python3.10/site-packages/bs4/__init__.py:226: UserWarning: You provided Unicode markup but also provided a value for from_encoding. Your from_encoding will be ignored.\n",
      "  warnings.warn(\"You provided Unicode markup but also provided a value for from_encoding. Your from_encoding will be ignored.\")\n",
      "/home/eeisenst/miniconda3/envs/cai-base/lib/python3.10/site-packages/bs4/__init__.py:226: UserWarning: You provided Unicode markup but also provided a value for from_encoding. Your from_encoding will be ignored.\n",
      "  warnings.warn(\"You provided Unicode markup but also provided a value for from_encoding. Your from_encoding will be ignored.\")\n",
      "/home/eeisenst/miniconda3/envs/cai-base/lib/python3.10/site-packages/bs4/__init__.py:226: UserWarning: You provided Unicode markup but also provided a value for from_encoding. Your from_encoding will be ignored.\n",
      "  warnings.warn(\"You provided Unicode markup but also provided a value for from_encoding. Your from_encoding will be ignored.\")\n",
      "/home/eeisenst/miniconda3/envs/cai-base/lib/python3.10/site-packages/bs4/__init__.py:226: UserWarning: You provided Unicode markup but also provided a value for from_encoding. Your from_encoding will be ignored.\n",
      "  warnings.warn(\"You provided Unicode markup but also provided a value for from_encoding. Your from_encoding will be ignored.\")\n",
      "/home/eeisenst/miniconda3/envs/cai-base/lib/python3.10/site-packages/bs4/__init__.py:226: UserWarning: You provided Unicode markup but also provided a value for from_encoding. Your from_encoding will be ignored.\n",
      "  warnings.warn(\"You provided Unicode markup but also provided a value for from_encoding. Your from_encoding will be ignored.\")\n",
      "/home/eeisenst/miniconda3/envs/cai-base/lib/python3.10/site-packages/bs4/__init__.py:226: UserWarning: You provided Unicode markup but also provided a value for from_encoding. Your from_encoding will be ignored.\n",
      "  warnings.warn(\"You provided Unicode markup but also provided a value for from_encoding. Your from_encoding will be ignored.\")\n",
      "/home/eeisenst/miniconda3/envs/cai-base/lib/python3.10/site-packages/bs4/__init__.py:226: UserWarning: You provided Unicode markup but also provided a value for from_encoding. Your from_encoding will be ignored.\n",
      "  warnings.warn(\"You provided Unicode markup but also provided a value for from_encoding. Your from_encoding will be ignored.\")\n",
      "/home/eeisenst/miniconda3/envs/cai-base/lib/python3.10/site-packages/bs4/__init__.py:226: UserWarning: You provided Unicode markup but also provided a value for from_encoding. Your from_encoding will be ignored.\n",
      "  warnings.warn(\"You provided Unicode markup but also provided a value for from_encoding. Your from_encoding will be ignored.\")\n",
      "/home/eeisenst/miniconda3/envs/cai-base/lib/python3.10/site-packages/bs4/__init__.py:226: UserWarning: You provided Unicode markup but also provided a value for from_encoding. Your from_encoding will be ignored.\n",
      "  warnings.warn(\"You provided Unicode markup but also provided a value for from_encoding. Your from_encoding will be ignored.\")\n",
      "/home/eeisenst/miniconda3/envs/cai-base/lib/python3.10/site-packages/bs4/__init__.py:226: UserWarning: You provided Unicode markup but also provided a value for from_encoding. Your from_encoding will be ignored.\n",
      "  warnings.warn(\"You provided Unicode markup but also provided a value for from_encoding. Your from_encoding will be ignored.\")\n",
      "/home/eeisenst/miniconda3/envs/cai-base/lib/python3.10/site-packages/bs4/__init__.py:226: UserWarning: You provided Unicode markup but also provided a value for from_encoding. Your from_encoding will be ignored.\n",
      "  warnings.warn(\"You provided Unicode markup but also provided a value for from_encoding. Your from_encoding will be ignored.\")\n",
      "/home/eeisenst/miniconda3/envs/cai-base/lib/python3.10/site-packages/bs4/__init__.py:226: UserWarning: You provided Unicode markup but also provided a value for from_encoding. Your from_encoding will be ignored.\n",
      "  warnings.warn(\"You provided Unicode markup but also provided a value for from_encoding. Your from_encoding will be ignored.\")\n",
      "/home/eeisenst/miniconda3/envs/cai-base/lib/python3.10/site-packages/bs4/__init__.py:226: UserWarning: You provided Unicode markup but also provided a value for from_encoding. Your from_encoding will be ignored.\n",
      "  warnings.warn(\"You provided Unicode markup but also provided a value for from_encoding. Your from_encoding will be ignored.\")\n"
     ]
    }
   ],
   "source": [
    "kangyur_df.head(20)"
   ]
  },
  {
   "cell_type": "code",
   "execution_count": 16,
   "metadata": {},
   "outputs": [
    {
     "name": "stderr",
     "output_type": "stream",
     "text": [
      "/home/eeisenst/miniconda3/envs/cai-base/lib/python3.10/site-packages/bs4/__init__.py:226: UserWarning: You provided Unicode markup but also provided a value for from_encoding. Your from_encoding will be ignored.\n",
      "  warnings.warn(\"You provided Unicode markup but also provided a value for from_encoding. Your from_encoding will be ignored.\")\n",
      "/home/eeisenst/miniconda3/envs/cai-base/lib/python3.10/site-packages/bs4/__init__.py:226: UserWarning: You provided Unicode markup but also provided a value for from_encoding. Your from_encoding will be ignored.\n",
      "  warnings.warn(\"You provided Unicode markup but also provided a value for from_encoding. Your from_encoding will be ignored.\")\n",
      "/home/eeisenst/miniconda3/envs/cai-base/lib/python3.10/site-packages/bs4/__init__.py:226: UserWarning: You provided Unicode markup but also provided a value for from_encoding. Your from_encoding will be ignored.\n",
      "  warnings.warn(\"You provided Unicode markup but also provided a value for from_encoding. Your from_encoding will be ignored.\")\n",
      "/home/eeisenst/miniconda3/envs/cai-base/lib/python3.10/site-packages/bs4/__init__.py:226: UserWarning: You provided Unicode markup but also provided a value for from_encoding. Your from_encoding will be ignored.\n",
      "  warnings.warn(\"You provided Unicode markup but also provided a value for from_encoding. Your from_encoding will be ignored.\")\n",
      "/home/eeisenst/miniconda3/envs/cai-base/lib/python3.10/site-packages/bs4/__init__.py:226: UserWarning: You provided Unicode markup but also provided a value for from_encoding. Your from_encoding will be ignored.\n",
      "  warnings.warn(\"You provided Unicode markup but also provided a value for from_encoding. Your from_encoding will be ignored.\")\n",
      "/home/eeisenst/miniconda3/envs/cai-base/lib/python3.10/site-packages/bs4/__init__.py:226: UserWarning: You provided Unicode markup but also provided a value for from_encoding. Your from_encoding will be ignored.\n",
      "  warnings.warn(\"You provided Unicode markup but also provided a value for from_encoding. Your from_encoding will be ignored.\")\n",
      "/home/eeisenst/miniconda3/envs/cai-base/lib/python3.10/site-packages/bs4/__init__.py:226: UserWarning: You provided Unicode markup but also provided a value for from_encoding. Your from_encoding will be ignored.\n",
      "  warnings.warn(\"You provided Unicode markup but also provided a value for from_encoding. Your from_encoding will be ignored.\")\n",
      "/home/eeisenst/miniconda3/envs/cai-base/lib/python3.10/site-packages/bs4/__init__.py:226: UserWarning: You provided Unicode markup but also provided a value for from_encoding. Your from_encoding will be ignored.\n",
      "  warnings.warn(\"You provided Unicode markup but also provided a value for from_encoding. Your from_encoding will be ignored.\")\n"
     ]
    },
    {
     "data": {
      "text/plain": [
       "0      066-007_toh249-the_sutra_teaching_four_factors...\n",
       "1               064-001_toh231-the_jewel_cloud_sutra.xml\n",
       "2                043-007_toh70-question_of_%20subahu.xml\n",
       "3      072-008_toh308_questions_regarding_death_and_t...\n",
       "4      043-015_toh78-the_sutra_of_gunaratnasankusumit...\n",
       "                             ...                        \n",
       "133    088-009_toh515,855-the_incantation_the_essence...\n",
       "134    039-002_toh46-the_teaching_on_clearing_the_bou...\n",
       "135             066-002_toh244-proper_dharma_conduct.xml\n",
       "136    071-014_toh300_reliance_upon_virtuous_spiritua...\n",
       "137    066-005_toh247-the_sutra_on_how_to_distinguish...\n",
       "Name: filename, Length: 138, dtype: object"
      ]
     },
     "execution_count": 16,
     "metadata": {},
     "output_type": "execute_result"
    }
   ],
   "source": [
    "kangyur_df.filename.unique().compute()"
   ]
  },
  {
   "cell_type": "code",
   "execution_count": 17,
   "metadata": {},
   "outputs": [
    {
     "data": {
      "text/plain": [
       "40"
      ]
     },
     "execution_count": 17,
     "metadata": {},
     "output_type": "execute_result"
    }
   ],
   "source": [
    "len(kangyur_df.volume_number.unique().compute())"
   ]
  },
  {
   "cell_type": "code",
   "execution_count": 18,
   "metadata": {},
   "outputs": [
    {
     "data": {
      "text/html": [
       "<div>\n",
       "<style scoped>\n",
       "    .dataframe tbody tr th:only-of-type {\n",
       "        vertical-align: middle;\n",
       "    }\n",
       "\n",
       "    .dataframe tbody tr th {\n",
       "        vertical-align: top;\n",
       "    }\n",
       "\n",
       "    .dataframe thead th {\n",
       "        text-align: right;\n",
       "    }\n",
       "</style>\n",
       "<table border=\"1\" class=\"dataframe\">\n",
       "  <thead>\n",
       "    <tr style=\"text-align: right;\">\n",
       "      <th></th>\n",
       "      <th>filename</th>\n",
       "      <th>volume_number</th>\n",
       "      <th>tohoku_number</th>\n",
       "      <th>location</th>\n",
       "      <th>text</th>\n",
       "    </tr>\n",
       "  </thead>\n",
       "  <tbody>\n",
       "    <tr>\n",
       "      <th>0</th>\n",
       "      <td>031-002_toh11_perfection_of_wisdom_in_ten_thou...</td>\n",
       "      <td>31</td>\n",
       "      <td>toh11</td>\n",
       "      <td>None</td>\n",
       "      <td>The Translation The Noble Mahāyāna Sūtra The ...</td>\n",
       "    </tr>\n",
       "    <tr>\n",
       "      <th>1</th>\n",
       "      <td>031-002_toh11_perfection_of_wisdom_in_ten_thou...</td>\n",
       "      <td>31</td>\n",
       "      <td>toh11</td>\n",
       "      <td>F.1.b</td>\n",
       "      <td>Homage to all the buddhas and bodhisattvas! ...</td>\n",
       "    </tr>\n",
       "    <tr>\n",
       "      <th>2</th>\n",
       "      <td>031-002_toh11_perfection_of_wisdom_in_ten_thou...</td>\n",
       "      <td>31</td>\n",
       "      <td>toh11</td>\n",
       "      <td>F.2.a</td>\n",
       "      <td>Their speech was honest with a smiling demean...</td>\n",
       "    </tr>\n",
       "    <tr>\n",
       "      <th>3</th>\n",
       "      <td>031-002_toh11_perfection_of_wisdom_in_ten_thou...</td>\n",
       "      <td>31</td>\n",
       "      <td>toh11</td>\n",
       "      <td>F.2.b</td>\n",
       "      <td>heading many thousands of accompanying bodhis...</td>\n",
       "    </tr>\n",
       "    <tr>\n",
       "      <th>4</th>\n",
       "      <td>031-002_toh11_perfection_of_wisdom_in_ten_thou...</td>\n",
       "      <td>31</td>\n",
       "      <td>toh11</td>\n",
       "      <td>F.3.a</td>\n",
       "      <td>Thereupon, the Blessed One inspired Senior Ś...</td>\n",
       "    </tr>\n",
       "    <tr>\n",
       "      <th>...</th>\n",
       "      <td>...</td>\n",
       "      <td>...</td>\n",
       "      <td>...</td>\n",
       "      <td>...</td>\n",
       "      <td>...</td>\n",
       "    </tr>\n",
       "    <tr>\n",
       "      <th>786</th>\n",
       "      <td>031-002_toh11_perfection_of_wisdom_in_ten_thou...</td>\n",
       "      <td>31</td>\n",
       "      <td>toh11</td>\n",
       "      <td>F.395.a</td>\n",
       "      <td>or the enlightenment of the pratyekabuddhas, ...</td>\n",
       "    </tr>\n",
       "    <tr>\n",
       "      <th>787</th>\n",
       "      <td>031-002_toh11_perfection_of_wisdom_in_ten_thou...</td>\n",
       "      <td>31</td>\n",
       "      <td>toh11</td>\n",
       "      <td>F.395.b</td>\n",
       "      <td>Likewise, so long will the gods of [all the o...</td>\n",
       "    </tr>\n",
       "    <tr>\n",
       "      <th>788</th>\n",
       "      <td>031-002_toh11_perfection_of_wisdom_in_ten_thou...</td>\n",
       "      <td>31</td>\n",
       "      <td>toh11</td>\n",
       "      <td>F.396.a</td>\n",
       "      <td>and diverse musical sounds!   “If you ask why...</td>\n",
       "    </tr>\n",
       "    <tr>\n",
       "      <th>789</th>\n",
       "      <td>031-002_toh11_perfection_of_wisdom_in_ten_thou...</td>\n",
       "      <td>31</td>\n",
       "      <td>toh11</td>\n",
       "      <td>F.396.b</td>\n",
       "      <td>it is because all the attributes of the aspec...</td>\n",
       "    </tr>\n",
       "    <tr>\n",
       "      <th>790</th>\n",
       "      <td>031-002_toh11_perfection_of_wisdom_in_ten_thou...</td>\n",
       "      <td>31</td>\n",
       "      <td>toh11</td>\n",
       "      <td>F.397.a</td>\n",
       "      <td>garlands, perfume, unguents, incense, butter ...</td>\n",
       "    </tr>\n",
       "  </tbody>\n",
       "</table>\n",
       "<p>791 rows × 5 columns</p>\n",
       "</div>"
      ],
      "text/plain": [
       "                                              filename  volume_number  \\\n",
       "0    031-002_toh11_perfection_of_wisdom_in_ten_thou...             31   \n",
       "1    031-002_toh11_perfection_of_wisdom_in_ten_thou...             31   \n",
       "2    031-002_toh11_perfection_of_wisdom_in_ten_thou...             31   \n",
       "3    031-002_toh11_perfection_of_wisdom_in_ten_thou...             31   \n",
       "4    031-002_toh11_perfection_of_wisdom_in_ten_thou...             31   \n",
       "..                                                 ...            ...   \n",
       "786  031-002_toh11_perfection_of_wisdom_in_ten_thou...             31   \n",
       "787  031-002_toh11_perfection_of_wisdom_in_ten_thou...             31   \n",
       "788  031-002_toh11_perfection_of_wisdom_in_ten_thou...             31   \n",
       "789  031-002_toh11_perfection_of_wisdom_in_ten_thou...             31   \n",
       "790  031-002_toh11_perfection_of_wisdom_in_ten_thou...             31   \n",
       "\n",
       "    tohoku_number location                                               text  \n",
       "0           toh11     None   The Translation The Noble Mahāyāna Sūtra The ...  \n",
       "1           toh11    F.1.b    Homage to all the buddhas and bodhisattvas! ...  \n",
       "2           toh11    F.2.a   Their speech was honest with a smiling demean...  \n",
       "3           toh11    F.2.b   heading many thousands of accompanying bodhis...  \n",
       "4           toh11    F.3.a    Thereupon, the Blessed One inspired Senior Ś...  \n",
       "..            ...      ...                                                ...  \n",
       "786         toh11  F.395.a   or the enlightenment of the pratyekabuddhas, ...  \n",
       "787         toh11  F.395.b   Likewise, so long will the gods of [all the o...  \n",
       "788         toh11  F.396.a   and diverse musical sounds!   “If you ask why...  \n",
       "789         toh11  F.396.b   it is because all the attributes of the aspec...  \n",
       "790         toh11  F.397.a   garlands, perfume, unguents, incense, butter ...  \n",
       "\n",
       "[791 rows x 5 columns]"
      ]
     },
     "execution_count": 18,
     "metadata": {},
     "output_type": "execute_result"
    }
   ],
   "source": [
    "kangyur_df[kangyur_df.tohoku_number == \"toh11\"].compute()"
   ]
  },
  {
   "cell_type": "code",
   "execution_count": 19,
   "metadata": {},
   "outputs": [
    {
     "data": {
      "text/plain": [
       "5949.0"
      ]
     },
     "execution_count": 19,
     "metadata": {},
     "output_type": "execute_result"
    }
   ],
   "source": [
    "kangyur_df.text.map(len).max().compute()"
   ]
  },
  {
   "cell_type": "code",
   "execution_count": 20,
   "metadata": {},
   "outputs": [
    {
     "data": {
      "text/html": [
       "<div>\n",
       "<style scoped>\n",
       "    .dataframe tbody tr th:only-of-type {\n",
       "        vertical-align: middle;\n",
       "    }\n",
       "\n",
       "    .dataframe tbody tr th {\n",
       "        vertical-align: top;\n",
       "    }\n",
       "\n",
       "    .dataframe thead th {\n",
       "        text-align: right;\n",
       "    }\n",
       "</style>\n",
       "<table border=\"1\" class=\"dataframe\">\n",
       "  <thead>\n",
       "    <tr style=\"text-align: right;\">\n",
       "      <th></th>\n",
       "      <th>filename</th>\n",
       "      <th>volume_number</th>\n",
       "      <th>tohoku_number</th>\n",
       "      <th>location</th>\n",
       "      <th>text</th>\n",
       "    </tr>\n",
       "  </thead>\n",
       "  <tbody>\n",
       "    <tr>\n",
       "      <th>958</th>\n",
       "      <td>088-038_toh543-the_root_tantra_of_manjusri.xml</td>\n",
       "      <td>88</td>\n",
       "      <td>toh543</td>\n",
       "      <td>F.344.a</td>\n",
       "      <td>Will be destined to attain the final goal of...</td>\n",
       "    </tr>\n",
       "  </tbody>\n",
       "</table>\n",
       "</div>"
      ],
      "text/plain": [
       "                                           filename  volume_number  \\\n",
       "958  088-038_toh543-the_root_tantra_of_manjusri.xml             88   \n",
       "\n",
       "    tohoku_number location                                               text  \n",
       "958        toh543  F.344.a    Will be destined to attain the final goal of...  "
      ]
     },
     "execution_count": 20,
     "metadata": {},
     "output_type": "execute_result"
    }
   ],
   "source": [
    "kangyur_df[kangyur_df.text.map(len) == 5801].compute()"
   ]
  },
  {
   "cell_type": "code",
   "execution_count": 21,
   "metadata": {},
   "outputs": [
    {
     "data": {
      "text/plain": [
       "'  Will be destined to attain the final goal of awakening. In Madhyadeśa, there will be a brahmin Known by the name of Sampūrṇa.      “There will also be Vinaya, Suvinaya, And Pūrṇa, the citizen of Mathurā. There will be a royal treasurer with the initial Bh, A worshiper of mantra [deities].      “These brahmins, foretold as Worshipers of the Teacher’s teachings, Will be members of different houses and lineages, Prominent at the beginning, middle, and end.      “These and other brahmins will worship Among [other] brahmins in different places. They will belong to different brahmanical orders and lineages And will follow different types of practices. They are foretold as full-fledged ascetics, Ordained as novices and very learned.      “The self-realized buddha, the Dharma king  Who fulfills the aims of all beings, Is glorified by all the spirits And also by the three gods.      “The four great kings Are celebrated in all the worlds. They are Virūḍhaka, Virūpākṣa, Dhṛtarāṣṭra, and the king of the yakṣas.  Śakra is glorified as The long-lived among the gods.      “There are the gods of the Suyāma, Sunirmita, and Vaśavartin realms,  And the king called Santuṣita Is said to be the supreme lord of the desire realm.      “Śakra and the other individually named gods Are, likewise, lords of the desire realm. Endowed with powers and majesty, they share a single nature, Always being one and the same person.      “The gods who possess different forms Are described as infinite. The gods above them are all equal, With equal powers and majesty.      “Known to be this way, The higher gods are said to be in harmony. There is no overlord among them, As they are all of the same status.      “Below, down to the Avīci hell, There is no king to be found.  The eight [major hells] are the best known, Each surrounded by sixteen smaller ones.      “The kings of nonhuman beings are karmic kings. King Yama is thus the lord of the pretas. Suvarṇa, a majestic garuḍa, Is the king of the birds.      “[The king] of the kinnaras is called Druma, And that of the bhūtas, Rudra. The king of the vidyādharas Is the majestic Citraketu.      “Similarly, the supreme king of the asuras Is called Vemacitri; Of the ṛṣis, Vyāsa; And of the siddhas, Mahāratha.      “The moon is the king of the nakṣatras, And the sun, of the planets. The king of the mātṛs Is widely known as Īśāna.      “The king of the days is called Pratima, And that of the rāśis, Kanya. The king of the rivers is called Sāgara, And that of the clouds, Supuṣkara.      “Airāvata is the king of the elephants, And Harivara, the king of the horses. Prahlāda is known as the king Of all the animals everywhere.      “The types of beings are said to be innumerable, And so are their kings. Everywhere, in each of their respective worlds, There is a buddha—the supreme person.      “There is no supreme ruler In Uttarakuru and so forth, Nor there is one on the western islands That extend from the east to the west.      “There are kings, though, among The inhabitants of Jambūdvīpa and also in the east. The wheel-holding monarchs on the four islands Where there are kings are said to be infinite.      “These [kings] have been described in brief, Condensing the very extensive narrative. There are also numerous lords of spirits And of beings born as asuras or the three types of gods.      “They reside in infinite world spheres And possess infinite qualities. Those that dwell on earth are innumerable, As described in this manual.      “Both the kings of mantras And the various mantras of the hordes of dūtas Are taught as subject to the restrictions of time and place, Necessary for the mantras to succeed.      “These teachings were given in brief By the eminent sages, And now they have been taught again  By them above the realm of the Pure Abode.”      The great hero Mañjuśrī Then asked the guide of the world, “Regarding these teachings, How should I remember them?”    . . . And so forth, repeating in full the deeds of all the kings.    “The supreme sage taught to Mañjuśrī, the divine youth, the stories of his former births, the Mahā\\xadparinirvāṇa Sūtra,   “And also the full extent of mantras That serve the aims of the bodhisattvas. These teachings, known as the sūtra teachings, Are to explain the path whose goal is awakening.      “[He also taught] in full the rites that involve mantras, The activities and lifespans of people on earth, The time of death of the kings, And the proclaimed duration of their lives.      “This compendium of Dharma teachings, A basket of writings dedicated to awakening, Is described as leading to such Through the direct application of the mantra methods. You, the sagacious one, should always remember it as The fulfiller of the goals of the mantra system.”     This concludes the fifty-third chapter, with the prophecy about the kings, from “The Root Manual of Noble Mañjuśrī,” an extensive Mahāyāna sūtra that forms a garland-like basket of bodhisattva teachings, complete with all the chapters.    Chapter 54  Directing his gaze again at the realm of the Pure Abode, the blessed Śākyamuni said this to Mañjuśrī, the divine youth:    “Wherever, Mañjuśrī, this Dharma discourse is disseminated, you should know that I am present there myself, surrounded by the hosts of all the bodhisattvas, taking the place of honor among the congregation of śrāvakas, and attended upon by a retinue of all the gods, nāgas, yakṣas, garuḍas, gandharvas, kinnaras, mahoragas, siddhas, vidyādharas, and other nonhuman and human beings. The Tathāgata resides there for the sake of protecting, sheltering, and defending.    “One should know, Mañjuśrī, divine youth, about the ten advantages obtained in any place where this Dharma treasury of the tathāgatas is written down in the form of a book, read aloud, '"
      ]
     },
     "execution_count": 21,
     "metadata": {},
     "output_type": "execute_result"
    }
   ],
   "source": [
    "kangyur_df[kangyur_df.text.map(len) == 5801].compute().text[958]"
   ]
  },
  {
   "cell_type": "code",
   "execution_count": 22,
   "metadata": {},
   "outputs": [
    {
     "data": {
      "text/plain": [
       "<AxesSubplot:>"
      ]
     },
     "execution_count": 22,
     "metadata": {},
     "output_type": "execute_result"
    },
    {
     "data": {
      "image/png": "[encoded data removed]",
      "text/plain": [
       "<Figure size 432x288 with 1 Axes>"
      ]
     },
     "metadata": {},
     "output_type": "display_data"
    }
   ],
   "source": [
    "kangyur_df.text.map(len).compute().hist(bins=50)"
   ]
  },
  {
   "cell_type": "markdown",
   "metadata": {},
   "source": [
    "# Experiments to design the loaders"
   ]
  },
  {
   "cell_type": "code",
   "execution_count": 1,
   "metadata": {},
   "outputs": [],
   "source": [
    "import os\n",
    "import re\n",
    "from tqdm.notebook import tqdm\n",
    "from bs4.element import Comment, NavigableString, Tag, XMLProcessingInstruction\n",
    "from bs4 import BeautifulSoup, SoupStrainer"
   ]
  },
  {
   "cell_type": "code",
   "execution_count": 2,
   "metadata": {},
   "outputs": [],
   "source": [
    "ns = \"http://www.tei-c.org/ns/1.0\"    # XML namespace for the TEI tags"
   ]
  },
  {
   "cell_type": "code",
   "execution_count": 3,
   "metadata": {},
   "outputs": [],
   "source": [
    "bad_fns = set([\n",
    "    '079-008_toh381OLD-the_emergence_from_samputa%20(20190216).xml',\n",
    "    '040-005_toh54-the_chapter_on_the_complete_approach.xml',\n",
    "    '057-010_toh151-the_sutra_of_the_questions_of_pratibhanamati.xml',\n",
    "    '066-007_toh249-the_sutra_teaching_four_qualities.xml',\n",
    "    '077-002_toh361-a_summary_explanation_of_the_initiation.xml'])"
   ]
  },
  {
   "cell_type": "markdown",
   "metadata": {},
   "source": [
    "# Tag treatment mapping"
   ]
  },
  {
   "cell_type": "markdown",
   "metadata": {},
   "source": [
    "NOTES:\n",
    "\n",
    "- Unwrapping 'head' tags is a bit controversial, 84,000 do not translate the headings word-for-word. In the Kangyur the headings say \"In the language of India: SHAY SANSKRIT TEXT SHAY. In Tibetan: TIBETAN TITLE SHAY"
   ]
  },
  {
   "cell_type": "code",
   "execution_count": 4,
   "metadata": {},
   "outputs": [],
   "source": [
    "tag_treatments = {\n",
    "    'term': 'unwrap',\n",
    "    'div': 'SPECIAL',\n",
    "    'lg': 'unwrap',\n",
    "    'lb': 'decompose',\n",
    "    'milestone': 'decompose',\n",
    "    'foreign': 'unwrap',\n",
    "    'ref': 'SPECIAL',\n",
    "    'distinct': 'unwrap',\n",
    "    'emph': 'unwrap',\n",
    "    'title': 'unwrap',\n",
    "    'head': 'unwrap',\n",
    "    'q': 'unwrap',\n",
    "    'l': 'unwrap',\n",
    "    'trailer': 'unwrap',\n",
    "    'note': 'decompose',\n",
    "    'p': 'unwrap',\n",
    "    'mantra': 'unwrap',\n",
    "    'list': 'unwrap',\n",
    "    'item': 'unwrap',\n",
    "    'fix': '',\n",
    "    'cell': '',\n",
    "    'row': '',\n",
    "    'table': '',\n",
    "    'seg': '',\n",
    "    'label': 'decompose'}"
   ]
  },
  {
   "cell_type": "code",
   "execution_count": 5,
   "metadata": {},
   "outputs": [],
   "source": [
    "refs_to_strip = {'bampo', 'sanskrit', 'volume'}"
   ]
  },
  {
   "cell_type": "code",
   "execution_count": 6,
   "metadata": {},
   "outputs": [],
   "source": [
    "def _treat_tags(soup):\n",
    "    for tag_name, tag_treatment in tag_treatments.items():\n",
    "        for elem in soup.find_all(tag_name):\n",
    "            if tag_treatment == 'decompose':\n",
    "                elem.decompose()\n",
    "            elif tag_treatment == 'unwrap':\n",
    "                elem.unwrap()\n",
    "    return soup"
   ]
  },
  {
   "cell_type": "code",
   "execution_count": 7,
   "metadata": {},
   "outputs": [],
   "source": [
    "def _treat_divs_and_refs(soup, toh_key, num_toh_keys):\n",
    "    for ref in soup.find_all(\"ref\"):\n",
    "        if ref.attrs.get('type', None) in refs_to_strip:\n",
    "            ref.decompose()\n",
    "        else:\n",
    "            if not 'key' in ref.attrs and num_toh_keys > 1:\n",
    "                raise Exception(\"No 'key' attribute in ref tag {}, but more than one Tohoku number for the text {}\".format(elem, toh_key))\n",
    "            if not ('key' not in ref.attrs or ref.attrs.get('key', None) == toh_key) or not 'cRef' in ref.attrs:\n",
    "                ref.decompose()\n",
    "    for div in soup.find_all(\"div\"):\n",
    "        div.unwrap()\n",
    "    return soup"
   ]
  },
  {
   "cell_type": "code",
   "execution_count": 8,
   "metadata": {},
   "outputs": [],
   "source": [
    "def _segment_folios(soup):\n",
    "    space_re = re.compile(r\"\\s+\")\n",
    "    segmentation, cur_ref, cur_text = [], None, ''\n",
    "    for elem in soup.next_elements:\n",
    "        if type(elem) is NavigableString:\n",
    "            cur_text += space_re.sub(' ', elem.string)\n",
    "        elif type(elem) is Tag:\n",
    "            if not elem.name == 'ref' or not elem.attrs.get('type', 'folio') == 'folio':\n",
    "                raise ValueError(\"Bad tag: name {}, type {}\".format(elem.name, elem.attrs.get('type', 'none')))\n",
    "            segmentation.append((cur_ref, cur_text))\n",
    "            cur_text, cur_ref = '', elem['cRef']\n",
    "        elif type(elem) is Comment:\n",
    "            pass\n",
    "        elif type(elem) is XMLProcessingInstruction:\n",
    "            pass\n",
    "        else:\n",
    "            raise ValueError(\"Bad tag {}\".format(elem))\n",
    "    segmentation.append((cur_ref, cur_text))\n",
    "    return segmentation"
   ]
  },
  {
   "cell_type": "code",
   "execution_count": 9,
   "metadata": {},
   "outputs": [
    {
     "data": {
      "text/plain": [
       "['fix', 'cell', 'row', 'table', 'seg']"
      ]
     },
     "execution_count": 9,
     "metadata": {},
     "output_type": "execute_result"
    }
   ],
   "source": [
    "[tag for tag, treatment in tag_treatments.items() if treatment == '']"
   ]
  },
  {
   "cell_type": "markdown",
   "metadata": {},
   "source": [
    "# Sanity checks"
   ]
  },
  {
   "cell_type": "markdown",
   "metadata": {},
   "source": [
    "## Find files with untagged refs"
   ]
  },
  {
   "cell_type": "code",
   "execution_count": null,
   "metadata": {},
   "outputs": [],
   "source": [
    "root_dir = \"../../tibert_data/84000/data-tei/translations/kangyur/translations/\""
   ]
  },
  {
   "cell_type": "code",
   "execution_count": null,
   "metadata": {},
   "outputs": [],
   "source": [
    "fns = [os.path.join(root_dir, fn) for fn in os.listdir(root_dir) if fn not in bad_fns]"
   ]
  },
  {
   "cell_type": "code",
   "execution_count": null,
   "metadata": {
    "scrolled": true
   },
   "outputs": [],
   "source": [
    "fns_with_bad_refs = set()\n",
    "for fn in tqdm(fns):\n",
    "    with open(fn, mode='r', encoding='utf-8') as f:\n",
    "        soup = BeautifulSoup(\n",
    "            f,\n",
    "            'xml',\n",
    "            from_encoding='UTF8',\n",
    "            parse_only=SoupStrainer(\"div\", type=\"translation\"))\n",
    "        for elem in soup.find_all(\"ref\"):\n",
    "            if not 'cRef' in elem.attrs:\n",
    "                fns_with_bad_refs.add(fn)\n",
    "                print(fn, elem)"
   ]
  },
  {
   "cell_type": "markdown",
   "metadata": {},
   "source": [
    "**CONCLUSION**: Drop all references without a cRef"
   ]
  },
  {
   "cell_type": "markdown",
   "metadata": {},
   "source": [
    "## Try on a single file"
   ]
  },
  {
   "cell_type": "code",
   "execution_count": null,
   "metadata": {},
   "outputs": [],
   "source": [
    "fn = \"../../tibert_data/84000/data-tei/translations/kangyur/translations/051-002_toh114,527-king_of_array_of_all_dharma_qualities.xml\"\n",
    "toh_key = 'toh527'"
   ]
  },
  {
   "cell_type": "code",
   "execution_count": null,
   "metadata": {},
   "outputs": [],
   "source": [
    "with open(fn, mode='r', encoding='utf-8') as f:\n",
    "    soup = BeautifulSoup(\n",
    "        f,\n",
    "        'xml',\n",
    "        from_encoding='UTF8',\n",
    "        parse_only=SoupStrainer(\"div\", type=\"translation\"))"
   ]
  },
  {
   "cell_type": "code",
   "execution_count": null,
   "metadata": {},
   "outputs": [],
   "source": [
    "_ = _apply_toh_key(soup, toh_key)"
   ]
  },
  {
   "cell_type": "code",
   "execution_count": null,
   "metadata": {
    "scrolled": true
   },
   "outputs": [],
   "source": [
    "for elem in soup.find_all(\"ref\"):\n",
    "    print(elem)"
   ]
  },
  {
   "cell_type": "code",
   "execution_count": null,
   "metadata": {
    "scrolled": true
   },
   "outputs": [],
   "source": [
    "_treat_tags(soup)"
   ]
  },
  {
   "cell_type": "code",
   "execution_count": null,
   "metadata": {},
   "outputs": [],
   "source": [
    "len(soup.find_all(\"div\", type=\"translation\"))"
   ]
  },
  {
   "cell_type": "code",
   "execution_count": null,
   "metadata": {},
   "outputs": [],
   "source": [
    "tag_names = set()\n",
    "for div in soup.find_all(\"div\", type=\"translation\"):\n",
    "    for child in div.descendants:\n",
    "        tag_names.add(child.name)\n",
    "tag_names"
   ]
  },
  {
   "cell_type": "code",
   "execution_count": null,
   "metadata": {
    "scrolled": true
   },
   "outputs": [],
   "source": [
    "_treat_divs_and_refs(soup)"
   ]
  },
  {
   "cell_type": "code",
   "execution_count": null,
   "metadata": {},
   "outputs": [],
   "source": [
    "elem_types = set()\n",
    "for elem in soup.next_elements:\n",
    "    elem_types.add(type(elem))\n",
    "elem_types"
   ]
  },
  {
   "cell_type": "code",
   "execution_count": null,
   "metadata": {
    "scrolled": true
   },
   "outputs": [],
   "source": [
    "soup"
   ]
  },
  {
   "cell_type": "code",
   "execution_count": null,
   "metadata": {},
   "outputs": [],
   "source": [
    "for elem in soup.find_all(\"ref\"):\n",
    "    print(elem.attrs)"
   ]
  },
  {
   "cell_type": "code",
   "execution_count": null,
   "metadata": {
    "scrolled": true
   },
   "outputs": [],
   "source": [
    "_segment_folios(soup)"
   ]
  },
  {
   "cell_type": "markdown",
   "metadata": {},
   "source": [
    "## Look through all files for leftover tags"
   ]
  },
  {
   "cell_type": "code",
   "execution_count": null,
   "metadata": {},
   "outputs": [],
   "source": [
    "root_dir = \"../../tibert_data/84000/data-tei/translations/kangyur/translations/\""
   ]
  },
  {
   "cell_type": "code",
   "execution_count": null,
   "metadata": {},
   "outputs": [],
   "source": [
    "fns = [os.path.join(root_dir, fn) for fn in os.listdir(root_dir) if fn not in bad_fns]"
   ]
  },
  {
   "cell_type": "code",
   "execution_count": null,
   "metadata": {},
   "outputs": [],
   "source": [
    "num_translations, tag_names, tags_by_text, ref_types = {}, set(), {}, set()\n",
    "for fn in tqdm(fns, desc=\"Files\"):\n",
    "    with open(fn, mode='r', encoding='utf-8') as f:\n",
    "        soup = BeautifulSoup(\n",
    "            f,\n",
    "            'xml',\n",
    "            from_encoding='UTF8',\n",
    "            parse_only=SoupStrainer(\"div\", type=\"translation\"))\n",
    "        _treat_tags(soup)\n",
    "        text_name = fn.split('/')[-1][:-4]\n",
    "        num_translations[text_name] = len(soup.find_all(\"div\", type=\"translation\"))\n",
    "        tags_by_text[text_name] = set()\n",
    "        for div in soup.find_all(\"div\", type=\"translation\"):\n",
    "            for child in div.descendants:\n",
    "                tag_names.add(child.name)\n",
    "                tags_by_text[text_name].add(child.name)\n",
    "        for ref in soup.find_all(\"ref\"):\n",
    "            ref_types.add(ref.attrs.get('type', None))\n",
    "set(num_translations.values()), tag_names"
   ]
  },
  {
   "cell_type": "code",
   "execution_count": null,
   "metadata": {},
   "outputs": [],
   "source": [
    "ref_types"
   ]
  },
  {
   "cell_type": "code",
   "execution_count": null,
   "metadata": {},
   "outputs": [],
   "source": [
    "texts_by_tag, tag_rarity = {}, {}\n",
    "for text_name, tags in tags_by_text.items():\n",
    "    for tag in tags:\n",
    "        texts_by_tag[tag] = texts_by_tag.get(tag, set())\n",
    "        texts_by_tag[tag].add(text_name)\n",
    "for tag, texts in texts_by_tag.items():\n",
    "    tag_rarity[tag] = len(texts)\n",
    "tag_rarity, len(tags_by_text)"
   ]
  },
  {
   "cell_type": "code",
   "execution_count": null,
   "metadata": {},
   "outputs": [],
   "source": [
    "texts_by_tag[\"seg\"]"
   ]
  },
  {
   "cell_type": "code",
   "execution_count": null,
   "metadata": {},
   "outputs": [],
   "source": [
    "set(tags_by_text.keys()).difference(set(texts_by_tag[\"ref\"]))"
   ]
  },
  {
   "cell_type": "code",
   "execution_count": null,
   "metadata": {},
   "outputs": [],
   "source": [
    "fn = os.path.join(root_dir, \"046-001_toh95_play_in_full.xml\")\n",
    "with open(fn, mode='r', encoding='utf-8') as f:\n",
    "    soup = BeautifulSoup(\n",
    "        f,\n",
    "        'xml',\n",
    "        from_encoding='UTF8',\n",
    "        parse_only=SoupStrainer(\"div\", type=\"translation\"))\n",
    "    _treat_tags(soup)"
   ]
  },
  {
   "cell_type": "code",
   "execution_count": null,
   "metadata": {
    "scrolled": true
   },
   "outputs": [],
   "source": [
    "[tag for tag in soup.find_all(\"list\")]"
   ]
  },
  {
   "cell_type": "markdown",
   "metadata": {},
   "source": [
    "# Do all files"
   ]
  },
  {
   "cell_type": "code",
   "execution_count": 10,
   "metadata": {},
   "outputs": [],
   "source": [
    "from dask.distributed import Client, LocalCluster\n",
    "import dask.bag as db\n",
    "import dask.dataframe as df"
   ]
  },
  {
   "cell_type": "code",
   "execution_count": 11,
   "metadata": {},
   "outputs": [],
   "source": [
    "dask_cluster = LocalCluster(n_workers=20, threads_per_worker=1)\n",
    "dask_client = Client(dask_cluster)"
   ]
  },
  {
   "cell_type": "code",
   "execution_count": 12,
   "metadata": {},
   "outputs": [
    {
     "data": {
      "text/html": [
       "<table style=\"border: 2px solid white;\">\n",
       "<tr>\n",
       "<td style=\"vertical-align: top; border: 0px solid white\">\n",
       "<h3 style=\"text-align: left;\">Client</h3>\n",
       "<ul style=\"text-align: left; list-style: none; margin: 0; padding: 0;\">\n",
       "  <li><b>Scheduler: </b>tcp://127.0.0.1:61047</li>\n",
       "  <li><b>Dashboard: </b><a href='http://127.0.0.1:8787/status' target='_blank'>http://127.0.0.1:8787/status</a></li>\n",
       "</ul>\n",
       "</td>\n",
       "<td style=\"vertical-align: top; border: 0px solid white\">\n",
       "<h3 style=\"text-align: left;\">Cluster</h3>\n",
       "<ul style=\"text-align: left; list-style:none; margin: 0; padding: 0;\">\n",
       "  <li><b>Workers: </b>20</li>\n",
       "  <li><b>Cores: </b>20</li>\n",
       "  <li><b>Memory: </b>17.10 GB</li>\n",
       "</ul>\n",
       "</td>\n",
       "</tr>\n",
       "</table>"
      ],
      "text/plain": [
       "<Client: 'tcp://127.0.0.1:61047' processes=20 threads=20, memory=17.10 GB>"
      ]
     },
     "execution_count": 12,
     "metadata": {},
     "output_type": "execute_result"
    }
   ],
   "source": [
    "dask_client"
   ]
  },
  {
   "cell_type": "code",
   "execution_count": 13,
   "metadata": {},
   "outputs": [],
   "source": [
    "root_dir = \"../../tibert_data/84000/data-tei/translations/kangyur/translations/\""
   ]
  },
  {
   "cell_type": "code",
   "execution_count": 14,
   "metadata": {},
   "outputs": [],
   "source": [
    "fns = [os.path.join(root_dir, fn) for fn in os.listdir(root_dir) if fn not in bad_fns]"
   ]
  },
  {
   "cell_type": "code",
   "execution_count": null,
   "metadata": {
    "scrolled": true
   },
   "outputs": [],
   "source": [
    "fns_toh_keys = {}\n",
    "toh_re = re.compile(\"_toh[\\d,]+[-_]\")\n",
    "for fn in fns:\n",
    "    toh_re_res = toh_re.search(fn)\n",
    "    if toh_re_res:\n",
    "        fns_toh_keys[fn] = ['toh' + toh_num for toh_num in toh_re_res.group(0)[4:-1].split(',')]\n",
    "    else:\n",
    "        fns_toh_keys[fn] = []"
   ]
  },
  {
   "cell_type": "markdown",
   "metadata": {},
   "source": [
    "## Parse a Dask bag of all files"
   ]
  },
  {
   "cell_type": "code",
   "execution_count": null,
   "metadata": {},
   "outputs": [],
   "source": [
    "def _process_file(fn):\n",
    "    text_name = fn.split(\"\\\\\")[-1][:-4]\n",
    "    root = ET.parse(fn).getroot()\n",
    "    return [(text_name, ref, text) for ref, text in segment_subtext_by_refs(root)]\n",
    "\n",
    "\n",
    "def _process_file_str(file_str):\n",
    "    text_name = fn.split(\"\\\\\")[-1][:-4]\n",
    "    root = ET.fromstring(file_str)\n",
    "    return [(text_name, ref, text) for ref, text in segment_subtext_by_refs(root)]"
   ]
  },
  {
   "cell_type": "code",
   "execution_count": 15,
   "metadata": {},
   "outputs": [],
   "source": [
    "def _process_fstr(args):\n",
    "    fn, toh_key, num_toh_keys, fstr = args\n",
    "    text_name = fn.split(\"/\")[-1][:-4]\n",
    "    soup = BeautifulSoup(fstr, 'xml', from_encoding='UTF8', parse_only=SoupStrainer(\"div\", type=\"translation\"))\n",
    "    return [(text_name, toh_key, ref, text) for ref, text in _segment_folios(_treat_divs_and_refs(_treat_tags(soup), toh_key, num_toh_keys))]"
   ]
  },
  {
   "cell_type": "markdown",
   "metadata": {},
   "source": [
    "### Try it in serial first"
   ]
  },
  {
   "cell_type": "code",
   "execution_count": null,
   "metadata": {
    "scrolled": true
   },
   "outputs": [],
   "source": [
    "processed = {}\n",
    "\n",
    "# fns = ['../../tibert_data/84000/data-tei/translations/kangyur/translations/001-001_toh1-1_chapter_on_going_forth.xml']\n",
    "\n",
    "for fn in tqdm(fns):\n",
    "    for toh_key in fns_toh_keys[fn]:\n",
    "#         print(fn, toh_key)\n",
    "        args = (fn, toh_key, len(fns_toh_keys[fn]), open(fn, mode='r', encoding='utf-8').read())\n",
    "        processed[(fn, toh_key)] = _process_fstr(args)"
   ]
  },
  {
   "cell_type": "markdown",
   "metadata": {},
   "source": [
    "### Now go to Dask"
   ]
  },
  {
   "cell_type": "code",
   "execution_count": 17,
   "metadata": {},
   "outputs": [],
   "source": [
    "def _fn_to_tohs(args):\n",
    "    fn, fstr = args\n",
    "    toh_re_res = re.compile(\"_toh[\\d,]+[-_]\").search(fn)\n",
    "    if toh_re_res:\n",
    "        toh_keys = ['toh' + toh_num for toh_num in toh_re_res.group(0)[4:-1].split(',')]\n",
    "        return [(fn, toh_key, len(toh_keys), fstr) for toh_key in toh_keys]\n",
    "    else:\n",
    "        return []\n",
    "\n",
    "\n",
    "kangyur_84000_bag = db \\\n",
    "    .from_sequence(set(fns)) \\\n",
    "    .map(lambda fn: (fn, open(fn, mode='r', encoding='utf-8').read())) \\\n",
    "    .map(_fn_to_tohs) \\\n",
    "    .flatten() \\\n",
    "    .map(_process_fstr) \\\n",
    "    .flatten()"
   ]
  },
  {
   "cell_type": "code",
   "execution_count": null,
   "metadata": {
    "scrolled": true
   },
   "outputs": [],
   "source": [
    "kangyur_84000_bag.take(20)"
   ]
  },
  {
   "cell_type": "markdown",
   "metadata": {},
   "source": [
    "## Convert the bag into a dataframe"
   ]
  },
  {
   "cell_type": "code",
   "execution_count": 18,
   "metadata": {},
   "outputs": [],
   "source": [
    "kangyur_84000_df = dask_client.persist(kangyur_84000_bag.to_dataframe(columns=[\"filename\", \"tohoku_number\", \"location\", \"text\"]))"
   ]
  },
  {
   "cell_type": "code",
   "execution_count": 19,
   "metadata": {},
   "outputs": [
    {
     "data": {
      "text/html": [
       "<div><strong>Dask DataFrame Structure:</strong></div>\n",
       "<div>\n",
       "<style scoped>\n",
       "    .dataframe tbody tr th:only-of-type {\n",
       "        vertical-align: middle;\n",
       "    }\n",
       "\n",
       "    .dataframe tbody tr th {\n",
       "        vertical-align: top;\n",
       "    }\n",
       "\n",
       "    .dataframe thead th {\n",
       "        text-align: right;\n",
       "    }\n",
       "</style>\n",
       "<table border=\"1\" class=\"dataframe\">\n",
       "  <thead>\n",
       "    <tr style=\"text-align: right;\">\n",
       "      <th></th>\n",
       "      <th>filename</th>\n",
       "      <th>tohoku_number</th>\n",
       "      <th>location</th>\n",
       "      <th>text</th>\n",
       "    </tr>\n",
       "    <tr>\n",
       "      <th>npartitions=123</th>\n",
       "      <th></th>\n",
       "      <th></th>\n",
       "      <th></th>\n",
       "      <th></th>\n",
       "    </tr>\n",
       "  </thead>\n",
       "  <tbody>\n",
       "    <tr>\n",
       "      <th></th>\n",
       "      <td>object</td>\n",
       "      <td>object</td>\n",
       "      <td>object</td>\n",
       "      <td>object</td>\n",
       "    </tr>\n",
       "    <tr>\n",
       "      <th></th>\n",
       "      <td>...</td>\n",
       "      <td>...</td>\n",
       "      <td>...</td>\n",
       "      <td>...</td>\n",
       "    </tr>\n",
       "    <tr>\n",
       "      <th>...</th>\n",
       "      <td>...</td>\n",
       "      <td>...</td>\n",
       "      <td>...</td>\n",
       "      <td>...</td>\n",
       "    </tr>\n",
       "    <tr>\n",
       "      <th></th>\n",
       "      <td>...</td>\n",
       "      <td>...</td>\n",
       "      <td>...</td>\n",
       "      <td>...</td>\n",
       "    </tr>\n",
       "    <tr>\n",
       "      <th></th>\n",
       "      <td>...</td>\n",
       "      <td>...</td>\n",
       "      <td>...</td>\n",
       "      <td>...</td>\n",
       "    </tr>\n",
       "  </tbody>\n",
       "</table>\n",
       "</div>\n",
       "<div>Dask Name: to_dataframe, 123 tasks</div>"
      ],
      "text/plain": [
       "Dask DataFrame Structure:\n",
       "                filename tohoku_number location    text\n",
       "npartitions=123                                        \n",
       "                  object        object   object  object\n",
       "                     ...           ...      ...     ...\n",
       "...                  ...           ...      ...     ...\n",
       "                     ...           ...      ...     ...\n",
       "                     ...           ...      ...     ...\n",
       "Dask Name: to_dataframe, 123 tasks"
      ]
     },
     "execution_count": 19,
     "metadata": {},
     "output_type": "execute_result"
    }
   ],
   "source": [
    "kangyur_84000_df"
   ]
  },
  {
   "cell_type": "code",
   "execution_count": 20,
   "metadata": {},
   "outputs": [
    {
     "data": {
      "text/plain": [
       "filename         146\n",
       "tohoku_number    146\n",
       "location           0\n",
       "text             146\n",
       "dtype: int64"
      ]
     },
     "execution_count": 20,
     "metadata": {},
     "output_type": "execute_result"
    }
   ],
   "source": [
    "kangyur_84000_df[kangyur_84000_df.location.isna()].count().compute()"
   ]
  },
  {
   "cell_type": "code",
   "execution_count": 21,
   "metadata": {},
   "outputs": [
    {
     "data": {
      "text/html": [
       "<div>\n",
       "<style scoped>\n",
       "    .dataframe tbody tr th:only-of-type {\n",
       "        vertical-align: middle;\n",
       "    }\n",
       "\n",
       "    .dataframe tbody tr th {\n",
       "        vertical-align: top;\n",
       "    }\n",
       "\n",
       "    .dataframe thead th {\n",
       "        text-align: right;\n",
       "    }\n",
       "</style>\n",
       "<table border=\"1\" class=\"dataframe\">\n",
       "  <thead>\n",
       "    <tr style=\"text-align: right;\">\n",
       "      <th></th>\n",
       "      <th>filename</th>\n",
       "      <th>tohoku_number</th>\n",
       "      <th>location</th>\n",
       "      <th>text</th>\n",
       "    </tr>\n",
       "  </thead>\n",
       "  <tbody>\n",
       "    <tr>\n",
       "      <th>0</th>\n",
       "      <td>066-003_toh245-the_sections_of_dharmas</td>\n",
       "      <td>toh245</td>\n",
       "      <td>None</td>\n",
       "      <td>The Translation  The Noble Great Vehicle Sūt...</td>\n",
       "    </tr>\n",
       "    <tr>\n",
       "      <th>0</th>\n",
       "      <td>068-007_toh273,511,853-the_sutra_of_the_twelve...</td>\n",
       "      <td>toh273</td>\n",
       "      <td>None</td>\n",
       "      <td>The Translation  The Noble Mahāyāna Sūtra Th...</td>\n",
       "    </tr>\n",
       "    <tr>\n",
       "      <th>9</th>\n",
       "      <td>068-007_toh273,511,853-the_sutra_of_the_twelve...</td>\n",
       "      <td>toh511</td>\n",
       "      <td>None</td>\n",
       "      <td>The Translation  The Noble Mahāyāna Sūtra Th...</td>\n",
       "    </tr>\n",
       "    <tr>\n",
       "      <th>25</th>\n",
       "      <td>068-007_toh273,511,853-the_sutra_of_the_twelve...</td>\n",
       "      <td>toh853</td>\n",
       "      <td>None</td>\n",
       "      <td>The Translation  The Noble Mahāyāna Sūtra Th...</td>\n",
       "    </tr>\n",
       "    <tr>\n",
       "      <th>0</th>\n",
       "      <td>094-013_toh736,995-the_incantation_of_parnasabari</td>\n",
       "      <td>toh736</td>\n",
       "      <td>None</td>\n",
       "      <td>The Translation  The Noble Dhāraṇī of Parṇaś...</td>\n",
       "    </tr>\n",
       "    <tr>\n",
       "      <th>...</th>\n",
       "      <td>...</td>\n",
       "      <td>...</td>\n",
       "      <td>...</td>\n",
       "      <td>...</td>\n",
       "    </tr>\n",
       "    <tr>\n",
       "      <th>0</th>\n",
       "      <td>061-006_toh186_miracle_of_attaining_the_buddha...</td>\n",
       "      <td>toh186</td>\n",
       "      <td>None</td>\n",
       "      <td>The Translation The Noble Sūtra of the Great ...</td>\n",
       "    </tr>\n",
       "    <tr>\n",
       "      <th>0</th>\n",
       "      <td>059-008_toh165-question_of_ksemamkara</td>\n",
       "      <td>toh165</td>\n",
       "      <td>None</td>\n",
       "      <td>The Translation  The Noble Great Vehicle Sūt...</td>\n",
       "    </tr>\n",
       "    <tr>\n",
       "      <th>0</th>\n",
       "      <td>060-008_toh179_teaching_the_relative_and_ultim...</td>\n",
       "      <td>toh179</td>\n",
       "      <td>None</td>\n",
       "      <td>The Translation  The Noble Great Vehicle Sūtr...</td>\n",
       "    </tr>\n",
       "    <tr>\n",
       "      <th>0</th>\n",
       "      <td>061-004_toh184-the_sutra_teaching_the_conduct_...</td>\n",
       "      <td>toh184</td>\n",
       "      <td>None</td>\n",
       "      <td>The Translation  The Noble Great Vehicle Sūt...</td>\n",
       "    </tr>\n",
       "    <tr>\n",
       "      <th>0</th>\n",
       "      <td>047-001_toh99_infinite_certainty</td>\n",
       "      <td>toh99</td>\n",
       "      <td>None</td>\n",
       "      <td>The Translation  The Noble Great Vehicle Sūt...</td>\n",
       "    </tr>\n",
       "  </tbody>\n",
       "</table>\n",
       "<p>146 rows × 4 columns</p>\n",
       "</div>"
      ],
      "text/plain": [
       "                                             filename tohoku_number location  \\\n",
       "0              066-003_toh245-the_sections_of_dharmas        toh245     None   \n",
       "0   068-007_toh273,511,853-the_sutra_of_the_twelve...        toh273     None   \n",
       "9   068-007_toh273,511,853-the_sutra_of_the_twelve...        toh511     None   \n",
       "25  068-007_toh273,511,853-the_sutra_of_the_twelve...        toh853     None   \n",
       "0   094-013_toh736,995-the_incantation_of_parnasabari        toh736     None   \n",
       "..                                                ...           ...      ...   \n",
       "0   061-006_toh186_miracle_of_attaining_the_buddha...        toh186     None   \n",
       "0               059-008_toh165-question_of_ksemamkara        toh165     None   \n",
       "0   060-008_toh179_teaching_the_relative_and_ultim...        toh179     None   \n",
       "0   061-004_toh184-the_sutra_teaching_the_conduct_...        toh184     None   \n",
       "0                    047-001_toh99_infinite_certainty         toh99     None   \n",
       "\n",
       "                                                 text  \n",
       "0     The Translation  The Noble Great Vehicle Sūt...  \n",
       "0     The Translation  The Noble Mahāyāna Sūtra Th...  \n",
       "9     The Translation  The Noble Mahāyāna Sūtra Th...  \n",
       "25    The Translation  The Noble Mahāyāna Sūtra Th...  \n",
       "0     The Translation  The Noble Dhāraṇī of Parṇaś...  \n",
       "..                                                ...  \n",
       "0    The Translation The Noble Sūtra of the Great ...  \n",
       "0     The Translation  The Noble Great Vehicle Sūt...  \n",
       "0    The Translation  The Noble Great Vehicle Sūtr...  \n",
       "0     The Translation  The Noble Great Vehicle Sūt...  \n",
       "0     The Translation  The Noble Great Vehicle Sūt...  \n",
       "\n",
       "[146 rows x 4 columns]"
      ]
     },
     "execution_count": 21,
     "metadata": {},
     "output_type": "execute_result"
    }
   ],
   "source": [
    "kangyur_84000_df[kangyur_84000_df.location.isna()].compute()"
   ]
  },
  {
   "cell_type": "code",
   "execution_count": 22,
   "metadata": {},
   "outputs": [
    {
     "data": {
      "text/plain": [
       "5801.0"
      ]
     },
     "execution_count": 22,
     "metadata": {},
     "output_type": "execute_result"
    }
   ],
   "source": [
    "kangyur_84000_df.text.map(len).max().compute()"
   ]
  },
  {
   "cell_type": "code",
   "execution_count": 23,
   "metadata": {},
   "outputs": [
    {
     "data": {
      "text/html": [
       "<div>\n",
       "<style scoped>\n",
       "    .dataframe tbody tr th:only-of-type {\n",
       "        vertical-align: middle;\n",
       "    }\n",
       "\n",
       "    .dataframe tbody tr th {\n",
       "        vertical-align: top;\n",
       "    }\n",
       "\n",
       "    .dataframe thead th {\n",
       "        text-align: right;\n",
       "    }\n",
       "</style>\n",
       "<table border=\"1\" class=\"dataframe\">\n",
       "  <thead>\n",
       "    <tr style=\"text-align: right;\">\n",
       "      <th></th>\n",
       "      <th>filename</th>\n",
       "      <th>tohoku_number</th>\n",
       "      <th>location</th>\n",
       "      <th>text</th>\n",
       "    </tr>\n",
       "  </thead>\n",
       "  <tbody>\n",
       "    <tr>\n",
       "      <th>958</th>\n",
       "      <td>088-038_toh543-the_root_tantra_of_manjusri</td>\n",
       "      <td>toh543</td>\n",
       "      <td>F.344.a</td>\n",
       "      <td>Will be destined to attain the final goal of...</td>\n",
       "    </tr>\n",
       "  </tbody>\n",
       "</table>\n",
       "</div>"
      ],
      "text/plain": [
       "                                       filename tohoku_number location  \\\n",
       "958  088-038_toh543-the_root_tantra_of_manjusri        toh543  F.344.a   \n",
       "\n",
       "                                                  text  \n",
       "958    Will be destined to attain the final goal of...  "
      ]
     },
     "execution_count": 23,
     "metadata": {},
     "output_type": "execute_result"
    }
   ],
   "source": [
    "kangyur_84000_df[kangyur_84000_df.text.map(len) == 5801].compute()"
   ]
  },
  {
   "cell_type": "code",
   "execution_count": 24,
   "metadata": {},
   "outputs": [
    {
     "data": {
      "text/plain": [
       "'  Will be destined to attain the final goal of awakening. In Madhyadeśa, there will be a brahmin Known by the name of Sampūrṇa.      “There will also be Vinaya, Suvinaya, And Pūrṇa, the citizen of Mathurā. There will be a royal treasurer with the initial Bh, A worshiper of mantra [deities].      “These brahmins, foretold as Worshipers of the Teacher’s teachings, Will be members of different houses and lineages, Prominent at the beginning, middle, and end.      “These and other brahmins will worship Among [other] brahmins in different places. They will belong to different brahmanical orders and lineages And will follow different types of practices. They are foretold as full-fledged ascetics, Ordained as novices and very learned.      “The self-realized buddha, the Dharma king  Who fulfills the aims of all beings, Is glorified by all the spirits And also by the three gods.      “The four great kings Are celebrated in all the worlds. They are Virūḍhaka, Virūpākṣa, Dhṛtarāṣṭra, and the king of the yakṣas.  Śakra is glorified as The long-lived among the gods.      “There are the gods of the Suyāma, Sunirmita, and Vaśavartin realms,  And the king called Santuṣita Is said to be the supreme lord of the desire realm.      “Śakra and the other individually named gods Are, likewise, lords of the desire realm. Endowed with powers and majesty, they share a single nature, Always being one and the same person.      “The gods who possess different forms Are described as infinite. The gods above them are all equal, With equal powers and majesty.      “Known to be this way, The higher gods are said to be in harmony. There is no overlord among them, As they are all of the same status.      “Below, down to the Avīci hell, There is no king to be found.  The eight [major hells] are the best known, Each surrounded by sixteen smaller ones.      “The kings of nonhuman beings are karmic kings. King Yama is thus the lord of the pretas. Suvarṇa, a majestic garuḍa, Is the king of the birds.      “[The king] of the kinnaras is called Druma, And that of the bhūtas, Rudra. The king of the vidyādharas Is the majestic Citraketu.      “Similarly, the supreme king of the asuras Is called Vemacitri; Of the ṛṣis, Vyāsa; And of the siddhas, Mahāratha.      “The moon is the king of the nakṣatras, And the sun, of the planets. The king of the mātṛs Is widely known as Īśāna.      “The king of the days is called Pratima, And that of the rāśis, Kanya. The king of the rivers is called Sāgara, And that of the clouds, Supuṣkara.      “Airāvata is the king of the elephants, And Harivara, the king of the horses. Prahlāda is known as the king Of all the animals everywhere.      “The types of beings are said to be innumerable, And so are their kings. Everywhere, in each of their respective worlds, There is a buddha—the supreme person.      “There is no supreme ruler In Uttarakuru and so forth, Nor there is one on the western islands That extend from the east to the west.      “There are kings, though, among The inhabitants of Jambūdvīpa and also in the east. The wheel-holding monarchs on the four islands Where there are kings are said to be infinite.      “These [kings] have been described in brief, Condensing the very extensive narrative. There are also numerous lords of spirits And of beings born as asuras or the three types of gods.      “They reside in infinite world spheres And possess infinite qualities. Those that dwell on earth are innumerable, As described in this manual.      “Both the kings of mantras And the various mantras of the hordes of dūtas Are taught as subject to the restrictions of time and place, Necessary for the mantras to succeed.      “These teachings were given in brief By the eminent sages, And now they have been taught again  By them above the realm of the Pure Abode.”      The great hero Mañjuśrī Then asked the guide of the world, “Regarding these teachings, How should I remember them?”    . . . And so forth, repeating in full the deeds of all the kings.    “The supreme sage taught to Mañjuśrī, the divine youth, the stories of his former births, the Mahā\\xadparinirvāṇa Sūtra,   “And also the full extent of mantras That serve the aims of the bodhisattvas. These teachings, known as the sūtra teachings, Are to explain the path whose goal is awakening.      “[He also taught] in full the rites that involve mantras, The activities and lifespans of people on earth, The time of death of the kings, And the proclaimed duration of their lives.      “This compendium of Dharma teachings, A basket of writings dedicated to awakening, Is described as leading to such Through the direct application of the mantra methods. You, the sagacious one, should always remember it as The fulfiller of the goals of the mantra system.”     This concludes the fifty-third chapter, with the prophecy about the kings, from “The Root Manual of Noble Mañjuśrī,” an extensive Mahāyāna sūtra that forms a garland-like basket of bodhisattva teachings, complete with all the chapters.    Chapter 54  Directing his gaze again at the realm of the Pure Abode, the blessed Śākyamuni said this to Mañjuśrī, the divine youth:    “Wherever, Mañjuśrī, this Dharma discourse is disseminated, you should know that I am present there myself, surrounded by the hosts of all the bodhisattvas, taking the place of honor among the congregation of śrāvakas, and attended upon by a retinue of all the gods, nāgas, yakṣas, garuḍas, gandharvas, kinnaras, mahoragas, siddhas, vidyādharas, and other nonhuman and human beings. The Tathāgata resides there for the sake of protecting, sheltering, and defending.    “One should know, Mañjuśrī, divine youth, about the ten advantages obtained in any place where this Dharma treasury of the tathāgatas is written down in the form of a book, read aloud, '"
      ]
     },
     "execution_count": 24,
     "metadata": {},
     "output_type": "execute_result"
    }
   ],
   "source": [
    "kangyur_84000_df[kangyur_84000_df.text.map(len) == 5801].compute().text[958]"
   ]
  },
  {
   "cell_type": "code",
   "execution_count": 25,
   "metadata": {},
   "outputs": [
    {
     "data": {
      "text/plain": [
       "<matplotlib.axes._subplots.AxesSubplot at 0x1774a362688>"
      ]
     },
     "execution_count": 25,
     "metadata": {},
     "output_type": "execute_result"
    },
    {
     "data": {
      "image/png": "[encoded data removed]",
      "text/plain": [
       "<Figure size 432x288 with 1 Axes>"
      ]
     },
     "metadata": {
      "needs_background": "light"
     },
     "output_type": "display_data"
    }
   ],
   "source": [
    "kangyur_84000_df.text.map(len).compute().hist(bins=50)"
   ]
  },
  {
   "cell_type": "markdown",
   "metadata": {},
   "source": [
    "# Sentence segmentation"
   ]
  },
  {
   "cell_type": "code",
   "execution_count": 1,
   "metadata": {},
   "outputs": [],
   "source": [
    "from dask.distributed import Client, LocalCluster\n",
    "import dask.bag as db"
   ]
  },
  {
   "cell_type": "code",
   "execution_count": 2,
   "metadata": {},
   "outputs": [],
   "source": [
    "dask_cluster = LocalCluster(n_workers=20, threads_per_worker=1)\n",
    "dask_client = Client(dask_cluster)"
   ]
  },
  {
   "cell_type": "code",
   "execution_count": 3,
   "metadata": {},
   "outputs": [
    {
     "data": {
      "text/html": [
       "<table style=\"border: 2px solid white;\">\n",
       "<tr>\n",
       "<td style=\"vertical-align: top; border: 0px solid white\">\n",
       "<h3 style=\"text-align: left;\">Client</h3>\n",
       "<ul style=\"text-align: left; list-style: none; margin: 0; padding: 0;\">\n",
       "  <li><b>Scheduler: </b>tcp://127.0.0.1:60860</li>\n",
       "  <li><b>Dashboard: </b><a href='http://127.0.0.1:8787/status' target='_blank'>http://127.0.0.1:8787/status</a></li>\n",
       "</ul>\n",
       "</td>\n",
       "<td style=\"vertical-align: top; border: 0px solid white\">\n",
       "<h3 style=\"text-align: left;\">Cluster</h3>\n",
       "<ul style=\"text-align: left; list-style:none; margin: 0; padding: 0;\">\n",
       "  <li><b>Workers: </b>20</li>\n",
       "  <li><b>Cores: </b>20</li>\n",
       "  <li><b>Memory: </b>17.10 GB</li>\n",
       "</ul>\n",
       "</td>\n",
       "</tr>\n",
       "</table>"
      ],
      "text/plain": [
       "<Client: 'tcp://127.0.0.1:60860' processes=20 threads=20, memory=17.10 GB>"
      ]
     },
     "execution_count": 3,
     "metadata": {},
     "output_type": "execute_result"
    }
   ],
   "source": [
    "dask_client"
   ]
  },
  {
   "cell_type": "code",
   "execution_count": 4,
   "metadata": {},
   "outputs": [],
   "source": [
    "from tibert.data import TeiLoader"
   ]
  },
  {
   "cell_type": "code",
   "execution_count": 5,
   "metadata": {},
   "outputs": [],
   "source": [
    "kangyur_bag = dask_client.persist(TeiLoader(\"../../tibert_data/\", \"kangyur\").to_bag())"
   ]
  },
  {
   "cell_type": "code",
   "execution_count": 6,
   "metadata": {
    "scrolled": true
   },
   "outputs": [],
   "source": [
    "test_strs = kangyur_bag.take(20)"
   ]
  },
  {
   "cell_type": "code",
   "execution_count": 8,
   "metadata": {},
   "outputs": [],
   "source": [
    "import re"
   ]
  },
  {
   "cell_type": "code",
   "execution_count": 21,
   "metadata": {},
   "outputs": [
    {
     "data": {
      "text/plain": [
       "['In the language of India, this scripture is called Vinayavastu.',\n",
       " 'In the language of Tibet, it is called Dulwa Shi.',\n",
       " 'Homage to the Three Jewels.',\n",
       " 'Homage to him who severed the bonds, Destroyed the whole host of tīrthikas, Vanquished the armies of Māra, And thus discovered this awakening.',\n",
       " 'At first to renounce a householder’s concerns and go forth is hard.',\n",
       " 'For a hedonist to be happy among renunciants is hard.',\n",
       " 'For the joyful set on perfection to act perfectly is hard.',\n",
       " 'For a learned wearer of the saffron robes to fall is hard.',\n",
       " 'The Chapters on Monastic Discipline includes chapters on: Going forth, purification,  Lifting restrictions, the rains, leather, Medicine, robes, turning cloth into robes,  The monks of Kauśāmbī, formal acts of saṅgha, A group of troublesome monks, types of persons, Demotions, suspension of the purification, Housing,']"
      ]
     },
     "execution_count": 21,
     "metadata": {},
     "output_type": "execute_result"
    }
   ],
   "source": [
    "[sent.strip() for sent in re.sub(\"[.?!]\", lambda match: match.group() + '\\u2406', test_strs[1]).split(\"\\u2406\")]"
   ]
  },
  {
   "cell_type": "code",
   "execution_count": 7,
   "metadata": {},
   "outputs": [],
   "source": [
    "import spacy"
   ]
  },
  {
   "cell_type": "code",
   "execution_count": 8,
   "metadata": {},
   "outputs": [],
   "source": [
    "from spacy.lang.en import English\n",
    "nlp = English()\n",
    "nlp.add_pipe(nlp.create_pipe('sentencizer'))\n",
    "nlp_better = spacy.load('en_core_web_sm')"
   ]
  },
  {
   "cell_type": "code",
   "execution_count": 13,
   "metadata": {},
   "outputs": [
    {
     "data": {
      "text/plain": [
       "' In the language of India, this scripture is called Vinayavastu. In the language of Tibet, it is called Dulwa Shi.      Homage to the Three Jewels.    Homage to him who severed the bonds, Destroyed the whole host of tīrthikas, Vanquished the armies of Māra, And thus discovered this awakening.    At first to renounce a householder’s concerns and go forth is hard. For a hedonist to be happy among renunciants is hard. For the joyful set on perfection to act perfectly is hard. For a learned wearer of the saffron robes to fall is hard.     The Chapters on Monastic Discipline includes chapters on: Going forth, purification,  Lifting restrictions, the rains, leather, Medicine, robes, turning cloth into robes,  The monks of Kauśāmbī, formal acts of saṅgha, A group of troublesome monks, types of persons, Demotions, suspension of the purification, Housing, '"
      ]
     },
     "execution_count": 13,
     "metadata": {},
     "output_type": "execute_result"
    }
   ],
   "source": [
    "test_str = test_strs[1]\n",
    "test_str"
   ]
  },
  {
   "cell_type": "code",
   "execution_count": 14,
   "metadata": {},
   "outputs": [
    {
     "data": {
      "text/plain": [
       "['In the language of India, this scripture is called Vinayavastu.',\n",
       " 'In the language of Tibet, it is called Dulwa Shi.',\n",
       " 'Homage to the Three Jewels.',\n",
       " 'Homage to him who severed the bonds, Destroyed the whole host of tīrthikas, Vanquished the armies of Māra, And thus discovered this awakening.',\n",
       " 'At first to renounce a householder’s concerns and go forth is hard.',\n",
       " 'For a hedonist to be happy among renunciants is hard.',\n",
       " 'For the joyful set on perfection to act perfectly is hard.',\n",
       " 'For a learned wearer of the saffron robes to fall is hard.',\n",
       " 'The Chapters on Monastic Discipline includes chapters on: Going forth, purification,  Lifting restrictions, the rains, leather, Medicine, robes, turning cloth into robes,  The monks of Kauśāmbī, formal acts of saṅgha, A group of troublesome monks, types of persons, Demotions, suspension of the purification, Housing,']"
      ]
     },
     "execution_count": 14,
     "metadata": {},
     "output_type": "execute_result"
    }
   ],
   "source": [
    "doc = nlp(test_str)\n",
    "sentences = [sent.string.strip() for sent in doc.sents]\n",
    "sentences"
   ]
  },
  {
   "cell_type": "code",
   "execution_count": 15,
   "metadata": {},
   "outputs": [
    {
     "data": {
      "text/plain": [
       "['In the language of India, this scripture is called Vinayavastu.',\n",
       " 'In the language of Tibet, it is called Dulwa Shi.',\n",
       " 'Homage to the Three Jewels.',\n",
       " 'Homage to him who severed the bonds, Destroyed the whole host of tīrthikas, Vanquished the armies of Māra, And thus discovered this awakening.',\n",
       " 'At first to renounce a householder’s concerns and go forth is hard.',\n",
       " 'For a hedonist to be happy among renunciants is hard.',\n",
       " 'For the joyful set on perfection to act perfectly is hard.',\n",
       " 'For a learned wearer of the saffron robes to fall is hard.',\n",
       " 'The Chapters on Monastic Discipline includes chapters on: Going forth, purification,  Lifting restrictions, the rains, leather, Medicine, robes, turning cloth into robes,',\n",
       " 'The monks of Kauśāmbī, formal acts of saṅgha, A group of troublesome monks, types of persons, Demotions, suspension of the purification, Housing,']"
      ]
     },
     "execution_count": 15,
     "metadata": {},
     "output_type": "execute_result"
    }
   ],
   "source": [
    "doc = nlp_better(test_str)\n",
    "sentences = [sent.string.strip() for sent in doc.sents]\n",
    "sentences"
   ]
  },
  {
   "cell_type": "code",
   "execution_count": 16,
   "metadata": {},
   "outputs": [
    {
     "name": "stdout",
     "output_type": "stream",
     "text": [
      " In the language of India, this scripture is called Vinayavastu. 0 13\n",
      "In the language of Tibet, it is called Dulwa Shi.       13 26\n",
      "Homage to the Three Jewels.     26 33\n",
      "Homage to him who severed the bonds, Destroyed the whole host of tīrthikas, Vanquished the armies of Māra, And thus discovered this awakening.     33 61\n",
      "At first to renounce a householder’s concerns and go forth is hard. 61 75\n",
      "For a hedonist to be happy among renunciants is hard. 75 86\n",
      "For the joyful set on perfection to act perfectly is hard. 86 98\n",
      "For a learned wearer of the saffron robes to fall is hard.      98 112\n",
      "The Chapters on Monastic Discipline includes chapters on: Going forth, purification,  Lifting restrictions, the rains, leather, Medicine, robes, turning cloth into robes,   112 145\n",
      "The monks of Kauśāmbī, formal acts of saṅgha, A group of troublesome monks, types of persons, Demotions, suspension of the purification, Housing, 145 174\n"
     ]
    }
   ],
   "source": [
    "for sent in doc.sents:\n",
    "    print(sent, sent.start, sent.end)"
   ]
  },
  {
   "cell_type": "code",
   "execution_count": null,
   "metadata": {},
   "outputs": [],
   "source": []
  }
 ],
 "metadata": {
  "kernelspec": {
   "display_name": "Python 3 (ipykernel)",
   "language": "python",
   "name": "python3"
  },
  "language_info": {
   "codemirror_mode": {
    "name": "ipython",
    "version": 3
   },
   "file_extension": ".py",
   "mimetype": "text/x-python",
   "name": "python",
   "nbconvert_exporter": "python",
   "pygments_lexer": "ipython3",
   "version": "3.10.4"
  },
  "toc-autonumbering": true,
  "toc-showcode": false,
  "toc-showmarkdowntxt": false
 },
 "nbformat": 4,
 "nbformat_minor": 4
}
