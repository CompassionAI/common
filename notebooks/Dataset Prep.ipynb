{
 "cells": [
  {
   "cell_type": "code",
   "execution_count": 1,
   "metadata": {},
   "outputs": [],
   "source": [
    "import pandas as pd"
   ]
  },
  {
   "cell_type": "code",
   "execution_count": 2,
   "metadata": {},
   "outputs": [],
   "source": [
    "%matplotlib inline\n",
    "import matplotlib.pyplot as plt\n",
    "plt.style.use(\"dark_background\")"
   ]
  },
  {
   "cell_type": "code",
   "execution_count": 3,
   "metadata": {},
   "outputs": [],
   "source": [
    "from dask.distributed import Client, LocalCluster\n",
    "import dask.bag as db"
   ]
  },
  {
   "cell_type": "code",
   "execution_count": 4,
   "metadata": {},
   "outputs": [],
   "source": [
    "dask_cluster = LocalCluster(n_workers=10, threads_per_worker=1, memory_limit='2GB')\n",
    "dask_client = Client(dask_cluster)"
   ]
  },
  {
   "cell_type": "code",
   "execution_count": 5,
   "metadata": {},
   "outputs": [
    {
     "data": {
      "text/html": [
       "<table style=\"border: 2px solid white;\">\n",
       "<tr>\n",
       "<td style=\"vertical-align: top; border: 0px solid white\">\n",
       "<h3 style=\"text-align: left;\">Client</h3>\n",
       "<ul style=\"text-align: left; list-style: none; margin: 0; padding: 0;\">\n",
       "  <li><b>Scheduler: </b>tcp://127.0.0.1:51620</li>\n",
       "  <li><b>Dashboard: </b><a href='http://127.0.0.1:8787/status' target='_blank'>http://127.0.0.1:8787/status</a></li>\n",
       "</ul>\n",
       "</td>\n",
       "<td style=\"vertical-align: top; border: 0px solid white\">\n",
       "<h3 style=\"text-align: left;\">Cluster</h3>\n",
       "<ul style=\"text-align: left; list-style:none; margin: 0; padding: 0;\">\n",
       "  <li><b>Workers: </b>10</li>\n",
       "  <li><b>Cores: </b>10</li>\n",
       "  <li><b>Memory: </b>20.00 GB</li>\n",
       "</ul>\n",
       "</td>\n",
       "</tr>\n",
       "</table>"
      ],
      "text/plain": [
       "<Client: 'tcp://127.0.0.1:51620' processes=10 threads=10, memory=20.00 GB>"
      ]
     },
     "execution_count": 5,
     "metadata": {},
     "output_type": "execute_result"
    }
   ],
   "source": [
    "dask_client"
   ]
  },
  {
   "cell_type": "markdown",
   "metadata": {},
   "source": [
    "# No evaluation"
   ]
  },
  {
   "cell_type": "code",
   "execution_count": null,
   "metadata": {},
   "outputs": [],
   "source": [
    "from tibert.data import CorpusSplitType, KangyurLoader, TengyurLoader"
   ]
  },
  {
   "cell_type": "code",
   "execution_count": null,
   "metadata": {},
   "outputs": [],
   "source": [
    "import dask_ml"
   ]
  },
  {
   "cell_type": "code",
   "execution_count": null,
   "metadata": {},
   "outputs": [],
   "source": [
    "kangyur_df = KangyurLoader(\"../../tibert_data/\").dataframe\n",
    "tengyur_df = TengyurLoader(\"../../tibert_data/\").dataframe\n",
    "kangyur_df['work'], tengyur_df['work'] = 'Kangyur', 'Tengyur'"
   ]
  },
  {
   "cell_type": "code",
   "execution_count": null,
   "metadata": {},
   "outputs": [],
   "source": [
    "sections_df = kangyur_df.append(tengyur_df)"
   ]
  },
  {
   "cell_type": "code",
   "execution_count": null,
   "metadata": {},
   "outputs": [],
   "source": [
    "sections_df = sections_df[~(sections_df.text == '')]"
   ]
  },
  {
   "cell_type": "code",
   "execution_count": null,
   "metadata": {},
   "outputs": [],
   "source": [
    "train_df = sections_df"
   ]
  },
  {
   "cell_type": "markdown",
   "metadata": {},
   "source": [
    "### Save the raw dataframes"
   ]
  },
  {
   "cell_type": "code",
   "execution_count": null,
   "metadata": {},
   "outputs": [],
   "source": [
    "import os"
   ]
  },
  {
   "cell_type": "code",
   "execution_count": null,
   "metadata": {},
   "outputs": [],
   "source": [
    "save_dir = \"c:/workspace/tibert_data/training/tibetan_sections/\""
   ]
  },
  {
   "cell_type": "code",
   "execution_count": null,
   "metadata": {},
   "outputs": [],
   "source": [
    "train_df \\\n",
    "    .repartition(npartitions=20) \\\n",
    "    .to_parquet(os.path.join(save_dir, \"only_train\"))"
   ]
  },
  {
   "cell_type": "markdown",
   "metadata": {},
   "source": [
    "# Raw text dump of Tibetan sections"
   ]
  },
  {
   "cell_type": "code",
   "execution_count": 6,
   "metadata": {},
   "outputs": [],
   "source": [
    "from tibert.data import CorpusSplitType, KangyurLoader, TengyurLoader"
   ]
  },
  {
   "cell_type": "code",
   "execution_count": 7,
   "metadata": {},
   "outputs": [],
   "source": [
    "import dask_ml"
   ]
  },
  {
   "cell_type": "code",
   "execution_count": 8,
   "metadata": {},
   "outputs": [],
   "source": [
    "kangyur_df = KangyurLoader(\"../../tibert_data/\").dataframe\n",
    "tengyur_df = TengyurLoader(\"../../tibert_data/\").dataframe\n",
    "kangyur_df['work'], tengyur_df['work'] = 'Kangyur', 'Tengyur'"
   ]
  },
  {
   "cell_type": "code",
   "execution_count": 9,
   "metadata": {},
   "outputs": [],
   "source": [
    "sections_df = kangyur_df.append(tengyur_df)"
   ]
  },
  {
   "cell_type": "code",
   "execution_count": null,
   "metadata": {},
   "outputs": [],
   "source": [
    "sections_df.count().compute()"
   ]
  },
  {
   "cell_type": "code",
   "execution_count": 10,
   "metadata": {},
   "outputs": [],
   "source": [
    "sections_df = sections_df[~(sections_df.text == '')]"
   ]
  },
  {
   "cell_type": "code",
   "execution_count": 11,
   "metadata": {},
   "outputs": [],
   "source": [
    "train_df = sections_df"
   ]
  },
  {
   "cell_type": "code",
   "execution_count": null,
   "metadata": {},
   "outputs": [],
   "source": [
    "sections_df.count().compute()"
   ]
  },
  {
   "cell_type": "code",
   "execution_count": null,
   "metadata": {},
   "outputs": [],
   "source": [
    "train_df, test_df = dask_ml.model_selection.train_test_split(\n",
    "    sections_df,\n",
    "    test_size=0.01,\n",
    "    random_state=42,\n",
    "    shuffle=False)"
   ]
  },
  {
   "cell_type": "code",
   "execution_count": null,
   "metadata": {},
   "outputs": [],
   "source": [
    "train_df.count().compute(), test_df.count().compute()"
   ]
  },
  {
   "cell_type": "markdown",
   "metadata": {},
   "source": [
    "### Save the raw dataframes"
   ]
  },
  {
   "cell_type": "code",
   "execution_count": null,
   "metadata": {},
   "outputs": [],
   "source": [
    "import os"
   ]
  },
  {
   "cell_type": "code",
   "execution_count": null,
   "metadata": {},
   "outputs": [],
   "source": [
    "save_dir = \"c:/workspace/tibert_data/training/tibetan_sections/\""
   ]
  },
  {
   "cell_type": "code",
   "execution_count": null,
   "metadata": {},
   "outputs": [],
   "source": [
    "train_df \\\n",
    "    .repartition(npartitions=20) \\\n",
    "    .to_parquet(os.path.join(save_dir, \"train\"))"
   ]
  },
  {
   "cell_type": "code",
   "execution_count": null,
   "metadata": {},
   "outputs": [],
   "source": [
    "test_df \\\n",
    "    .repartition(npartitions=5) \\\n",
    "    .to_parquet(os.path.join(save_dir, \"test\"))"
   ]
  },
  {
   "cell_type": "markdown",
   "metadata": {},
   "source": [
    "## As a BERT-format list of document sections"
   ]
  },
  {
   "cell_type": "markdown",
   "metadata": {},
   "source": [
    "## Split into individual sections"
   ]
  },
  {
   "cell_type": "code",
   "execution_count": 12,
   "metadata": {},
   "outputs": [],
   "source": [
    "train_df[\"split_text\"] = train_df \\\n",
    "    .text \\\n",
    "    .str.split(' ') \\\n",
    "    .map(\n",
    "        lambda ts: ts + [''],\n",
    "        meta=pd.Series([['a', 'b']]))\n",
    "\n",
    "# test_df[\"split_text\"] = test_df \\\n",
    "#     .text \\\n",
    "#     .str.split(' ') \\\n",
    "#     .map(\n",
    "#         lambda ts: ts + [''],\n",
    "#         meta=pd.Series([['a', 'b']]))"
   ]
  },
  {
   "cell_type": "markdown",
   "metadata": {},
   "source": [
    "### Save a BERT-like dataset"
   ]
  },
  {
   "cell_type": "code",
   "execution_count": 13,
   "metadata": {},
   "outputs": [],
   "source": [
    "train_df = train_df.explode(\"split_text\").reset_index(drop=True)\n",
    "train_df[\"split_text\"] = train_df.split_text.str.strip()\n",
    "\n",
    "# test_df = test_df.explode(\"split_text\").reset_index(drop=True)\n",
    "# test_df[\"split_text\"] = test_df.split_text.str.strip()"
   ]
  },
  {
   "cell_type": "code",
   "execution_count": null,
   "metadata": {},
   "outputs": [],
   "source": [
    "train_df.count().compute()#, test_df.count().compute()"
   ]
  },
  {
   "cell_type": "code",
   "execution_count": null,
   "metadata": {},
   "outputs": [],
   "source": [
    "train_df.volume_number.unique().count().compute()#, test_df.volume_number.unique().count().compute()"
   ]
  },
  {
   "cell_type": "markdown",
   "metadata": {},
   "source": [
    "#### Sanity check"
   ]
  },
  {
   "cell_type": "code",
   "execution_count": null,
   "metadata": {},
   "outputs": [],
   "source": [
    "sections_df[\"split_text\"] = sections_df \\\n",
    "    .text \\\n",
    "    .str.split(' ') \\\n",
    "    .map(\n",
    "        lambda ts: ts + [''],\n",
    "        meta=pd.Series([['a', 'b']]))"
   ]
  },
  {
   "cell_type": "code",
   "execution_count": null,
   "metadata": {},
   "outputs": [],
   "source": [
    "sections_df = sections_df.explode(\"split_text\").reset_index(drop=True)\n",
    "sections_df[\"split_text\"] = sections_df.split_text.str.strip()"
   ]
  },
  {
   "cell_type": "code",
   "execution_count": null,
   "metadata": {},
   "outputs": [],
   "source": [
    "vn_cts_df = sections_df.groupby(['work', 'volume_number']).split_text.count().compute()"
   ]
  },
  {
   "cell_type": "code",
   "execution_count": null,
   "metadata": {},
   "outputs": [],
   "source": [
    "vn_cts_df[vn_cts_df.index.get_level_values('work') == 'Kangyur'].plot(kind='bar', figsize=(20, 10))"
   ]
  },
  {
   "cell_type": "code",
   "execution_count": null,
   "metadata": {},
   "outputs": [],
   "source": [
    "vn_cts_df[vn_cts_df.index.get_level_values('work') == 'Tengyur'].plot(kind='bar')"
   ]
  },
  {
   "cell_type": "markdown",
   "metadata": {},
   "source": [
    "### Group and save"
   ]
  },
  {
   "cell_type": "code",
   "execution_count": 14,
   "metadata": {},
   "outputs": [],
   "source": [
    "train_df[\"save_group\"] = train_df.volume_number.map(lambda vn: vn % 20)\n",
    "# test_df[\"save_group\"] = \"test_data\""
   ]
  },
  {
   "cell_type": "code",
   "execution_count": 15,
   "metadata": {},
   "outputs": [
    {
     "data": {
      "text/plain": [
       "<matplotlib.axes._subplots.AxesSubplot at 0x1d6f72bcb08>"
      ]
     },
     "execution_count": 15,
     "metadata": {},
     "output_type": "execute_result"
    },
    {
     "data": {
      "image/png": "[encoded data removed]",
      "text/plain": [
       "<Figure size 1440x720 with 1 Axes>"
      ]
     },
     "metadata": {},
     "output_type": "display_data"
    }
   ],
   "source": [
    "train_df.groupby(['work', 'save_group']).count().compute().split_text.plot(kind='bar', figsize=(20, 10))"
   ]
  },
  {
   "cell_type": "code",
   "execution_count": 16,
   "metadata": {},
   "outputs": [],
   "source": [
    "train_df['save_group'] = 'train_' + train_df.work + train_df.save_group.astype(str)"
   ]
  },
  {
   "cell_type": "code",
   "execution_count": 17,
   "metadata": {},
   "outputs": [],
   "source": [
    "# train_df, test_df = train_df.set_index('save_group'), test_df.set_index('save_group')\n",
    "train_df = train_df.set_index('save_group')"
   ]
  },
  {
   "cell_type": "code",
   "execution_count": 35,
   "metadata": {},
   "outputs": [],
   "source": [
    "divisions = sorted(['train_Kangyur' + str(i) for i in range(20)] + ['train_Tengyur' + str(i) for i in range(20)])\n",
    "divisions = divisions + [divisions[-1]]\n",
    "# divisions, sorted(divisions)\n",
    "# See here: https://stackoverflow.com/questions/54307559/repartition-dask-dataframe-with-custom-index"
   ]
  },
  {
   "cell_type": "code",
   "execution_count": null,
   "metadata": {},
   "outputs": [],
   "source": [
    "train_df.index.unique().compute()"
   ]
  },
  {
   "cell_type": "code",
   "execution_count": 37,
   "metadata": {},
   "outputs": [],
   "source": [
    "train_df = train_df.repartition(divisions=divisions)\n",
    "# test_df = test_df.repartition(npartitions=1)"
   ]
  },
  {
   "cell_type": "code",
   "execution_count": 38,
   "metadata": {},
   "outputs": [
    {
     "data": {
      "text/plain": [
       "('train_Kangyur0',\n",
       " 'train_Kangyur1',\n",
       " 'train_Kangyur10',\n",
       " 'train_Kangyur11',\n",
       " 'train_Kangyur12',\n",
       " 'train_Kangyur13',\n",
       " 'train_Kangyur14',\n",
       " 'train_Kangyur15',\n",
       " 'train_Kangyur16',\n",
       " 'train_Kangyur17',\n",
       " 'train_Kangyur18',\n",
       " 'train_Kangyur19',\n",
       " 'train_Kangyur2',\n",
       " 'train_Kangyur3',\n",
       " 'train_Kangyur4',\n",
       " 'train_Kangyur5',\n",
       " 'train_Kangyur6',\n",
       " 'train_Kangyur7',\n",
       " 'train_Kangyur8',\n",
       " 'train_Kangyur9',\n",
       " 'train_Tengyur0',\n",
       " 'train_Tengyur1',\n",
       " 'train_Tengyur10',\n",
       " 'train_Tengyur11',\n",
       " 'train_Tengyur12',\n",
       " 'train_Tengyur13',\n",
       " 'train_Tengyur14',\n",
       " 'train_Tengyur15',\n",
       " 'train_Tengyur16',\n",
       " 'train_Tengyur17',\n",
       " 'train_Tengyur18',\n",
       " 'train_Tengyur19',\n",
       " 'train_Tengyur2',\n",
       " 'train_Tengyur3',\n",
       " 'train_Tengyur4',\n",
       " 'train_Tengyur5',\n",
       " 'train_Tengyur6',\n",
       " 'train_Tengyur7',\n",
       " 'train_Tengyur8',\n",
       " 'train_Tengyur9',\n",
       " 'train_Tengyur9')"
      ]
     },
     "execution_count": 38,
     "metadata": {},
     "output_type": "execute_result"
    }
   ],
   "source": [
    "train_df.divisions"
   ]
  },
  {
   "cell_type": "code",
   "execution_count": 39,
   "metadata": {},
   "outputs": [
    {
     "data": {
      "text/plain": [
       "40"
      ]
     },
     "execution_count": 39,
     "metadata": {},
     "output_type": "execute_result"
    }
   ],
   "source": [
    "train_df.npartitions#, test_df.npartitions"
   ]
  },
  {
   "cell_type": "code",
   "execution_count": 23,
   "metadata": {},
   "outputs": [],
   "source": [
    "def test_f(df):\n",
    "    return df.index[0]"
   ]
  },
  {
   "cell_type": "code",
   "execution_count": 24,
   "metadata": {},
   "outputs": [
    {
     "data": {
      "text/plain": [
       "0      train_Kangyur0\n",
       "1      train_Kangyur1\n",
       "2     train_Kangyur10\n",
       "3     train_Kangyur11\n",
       "4     train_Kangyur12\n",
       "5     train_Kangyur13\n",
       "6     train_Kangyur14\n",
       "7     train_Kangyur15\n",
       "8     train_Kangyur16\n",
       "9     train_Kangyur17\n",
       "10    train_Kangyur18\n",
       "11    train_Kangyur19\n",
       "12     train_Kangyur2\n",
       "13     train_Kangyur3\n",
       "14     train_Kangyur4\n",
       "15     train_Kangyur5\n",
       "16     train_Kangyur6\n",
       "17     train_Kangyur7\n",
       "18     train_Kangyur8\n",
       "19     train_Kangyur9\n",
       "20     train_Tengyur0\n",
       "21     train_Tengyur1\n",
       "22    train_Tengyur10\n",
       "23    train_Tengyur11\n",
       "24    train_Tengyur12\n",
       "25    train_Tengyur13\n",
       "26    train_Tengyur14\n",
       "27    train_Tengyur15\n",
       "28    train_Tengyur16\n",
       "29    train_Tengyur17\n",
       "30    train_Tengyur18\n",
       "31    train_Tengyur19\n",
       "32     train_Tengyur2\n",
       "33     train_Tengyur3\n",
       "34     train_Tengyur4\n",
       "35     train_Tengyur5\n",
       "36     train_Tengyur6\n",
       "37     train_Tengyur7\n",
       "38     train_Tengyur8\n",
       "dtype: object"
      ]
     },
     "execution_count": 24,
     "metadata": {},
     "output_type": "execute_result"
    }
   ],
   "source": [
    "tdf = train_df.split_text.map_partitions(test_f, meta=pd.Series([\"HI\"])).compute()\n",
    "tdf"
   ]
  },
  {
   "cell_type": "code",
   "execution_count": 40,
   "metadata": {},
   "outputs": [],
   "source": [
    "save_dir = \"c:/workspace/tibert_data/training/tibetan_sections/bert-like\""
   ]
  },
  {
   "cell_type": "code",
   "execution_count": 41,
   "metadata": {},
   "outputs": [],
   "source": [
    "def save_partition_to_disk(partition, save_dir):\n",
    "    import os\n",
    "    part_name = partition.index[0]\n",
    "    with open(os.path.join(save_dir, part_name + \".txt\"), mode='w', encoding='utf-8') as f:\n",
    "        for row in partition.iteritems():\n",
    "            f.write(row[1] + '\\n')"
   ]
  },
  {
   "cell_type": "code",
   "execution_count": 42,
   "metadata": {},
   "outputs": [],
   "source": [
    "_ = train_df.split_text.map_partitions(save_partition_to_disk, save_dir, meta=pd.Series([None])).compute()"
   ]
  },
  {
   "cell_type": "code",
   "execution_count": null,
   "metadata": {},
   "outputs": [],
   "source": [
    "_ = test_df.split_text.map_partitions(save_partition_to_disk, save_dir, meta=pd.Series([None])).compute()"
   ]
  },
  {
   "cell_type": "markdown",
   "metadata": {},
   "source": [
    "## As a bag"
   ]
  },
  {
   "cell_type": "markdown",
   "metadata": {},
   "source": [
    "### Tokenizer training data"
   ]
  },
  {
   "cell_type": "code",
   "execution_count": null,
   "metadata": {},
   "outputs": [],
   "source": [
    "tibetan_sections = db \\\n",
    "    .concat([\n",
    "        KangyurLoader(\"../../tibert_data/\").to_bag(split_type=CorpusSplitType.BY_SECTION),\n",
    "        TengyurLoader(\"../../tibert_data/\").to_bag(split_type=CorpusSplitType.BY_SECTION)]) \\\n",
    "    .str.strip()"
   ]
  },
  {
   "cell_type": "code",
   "execution_count": null,
   "metadata": {},
   "outputs": [],
   "source": [
    "tibetan_sections \\\n",
    "    .random_sample(0.1) \\\n",
    "    .repartition(5) \\\n",
    "    .to_textfiles(\"../../tibert_data/training/tibetan_sections_bag/spm_train.*.txt\")"
   ]
  },
  {
   "cell_type": "markdown",
   "metadata": {},
   "source": [
    "### Raw sections"
   ]
  },
  {
   "cell_type": "code",
   "execution_count": null,
   "metadata": {},
   "outputs": [],
   "source": [
    "tibetan_sections = tibetan_sections \\\n",
    "    .to_dataframe(columns=[\"section\"]) \\\n",
    "    .section"
   ]
  },
  {
   "cell_type": "code",
   "execution_count": null,
   "metadata": {},
   "outputs": [],
   "source": [
    "train_sections, test_sections = [s.to_bag() for s in dask_ml.model_selection.train_test_split(\n",
    "    tibetan_sections,\n",
    "    test_size=0.1,\n",
    "    random_state=42,\n",
    "    shuffle=True)]"
   ]
  },
  {
   "cell_type": "code",
   "execution_count": null,
   "metadata": {},
   "outputs": [],
   "source": [
    "train_sections.count().compute(), test_sections.count().compute()"
   ]
  },
  {
   "cell_type": "code",
   "execution_count": null,
   "metadata": {},
   "outputs": [],
   "source": [
    "train_sections.take(20)"
   ]
  },
  {
   "cell_type": "code",
   "execution_count": null,
   "metadata": {},
   "outputs": [],
   "source": [
    "train_sections.repartition(20).to_textfiles(\"../../tibert_data/training/tibetan_sections_bag/train.*.txt\")"
   ]
  },
  {
   "cell_type": "code",
   "execution_count": null,
   "metadata": {},
   "outputs": [],
   "source": [
    "test_sections.repartition(5).to_textfiles(\"../../tibert_data/training/tibetan_sections_bag/test.*.txt\")"
   ]
  },
  {
   "cell_type": "markdown",
   "metadata": {},
   "source": [
    "# Tokenizer training"
   ]
  },
  {
   "cell_type": "markdown",
   "metadata": {},
   "source": [
    "# Packaged training script"
   ]
  },
  {
   "cell_type": "code",
   "execution_count": null,
   "metadata": {},
   "outputs": [],
   "source": [
    "from tibert.models import TibertTokenizer"
   ]
  },
  {
   "cell_type": "code",
   "execution_count": null,
   "metadata": {},
   "outputs": [],
   "source": [
    "TibertTokenizer.train(\n",
    "    \"../../tibert_data/training/tibetan_sections/spm_train.*.txt\",\n",
    "    '../../tibert_data/training/models/tokenizer/tibert_spm_bpe_tiny',\n",
    "    model_type='bpe',\n",
    "    vocab_size=5000)"
   ]
  },
  {
   "cell_type": "code",
   "execution_count": null,
   "metadata": {},
   "outputs": [],
   "source": [
    "TibertTokenizer.train(\n",
    "    \"../../tibert_data/training/tibetan_sections/spm_train.*.txt\",\n",
    "    '../../tibert_data/training/models/tokenizer/tibert_spm_bpe_small',\n",
    "    model_type='bpe',\n",
    "    vocab_size=10000)"
   ]
  },
  {
   "cell_type": "code",
   "execution_count": null,
   "metadata": {},
   "outputs": [],
   "source": [
    "TibertTokenizer.train(\n",
    "    \"../../tibert_data/training/tibetan_sections/spm_train.*.txt\",\n",
    "    '../../tibert_data/training/models/tokenizer/tibert_spm_bpe_big',\n",
    "    model_type='bpe',\n",
    "    vocab_size=30000)"
   ]
  },
  {
   "cell_type": "markdown",
   "metadata": {},
   "source": [
    "## Testing"
   ]
  },
  {
   "cell_type": "code",
   "execution_count": null,
   "metadata": {},
   "outputs": [],
   "source": [
    "import sentencepiece as spm"
   ]
  },
  {
   "cell_type": "code",
   "execution_count": null,
   "metadata": {},
   "outputs": [],
   "source": [
    "spm_encoder = spm.SentencePieceProcessor(model_file='../../tibert_data/training/models/tokenizer/tibert_spm_bpe_big.model')"
   ]
  },
  {
   "cell_type": "code",
   "execution_count": null,
   "metadata": {},
   "outputs": [],
   "source": [
    "test_str = \"།ཁྱིམ་དོན་ཆེ་ཆུང་སྤངས་ཏེ་དང་པོར་རབ་འབྱུང་དཀའ།\""
   ]
  },
  {
   "cell_type": "code",
   "execution_count": null,
   "metadata": {},
   "outputs": [],
   "source": [
    "spm_encoder.decode(spm_encoder.encode(test_str))"
   ]
  },
  {
   "cell_type": "code",
   "execution_count": null,
   "metadata": {},
   "outputs": [],
   "source": [
    "spm_encoder.decode(spm_encoder.encode(test_str)) == test_str"
   ]
  },
  {
   "cell_type": "code",
   "execution_count": null,
   "metadata": {},
   "outputs": [],
   "source": [
    "spm_encoder.decode(spm_encoder.sample_encode_as_ids(test_str, nbest_size=64, alpha=0.1)) == test_str"
   ]
  },
  {
   "cell_type": "code",
   "execution_count": null,
   "metadata": {},
   "outputs": [],
   "source": [
    "from tibert.models import TibertTokenizer"
   ]
  },
  {
   "cell_type": "code",
   "execution_count": null,
   "metadata": {},
   "outputs": [],
   "source": [
    "tokenizer = TibertTokenizer.from_pretrained(\"tibert-bpe-large\")"
   ]
  },
  {
   "cell_type": "code",
   "execution_count": null,
   "metadata": {},
   "outputs": [],
   "source": [
    "tokenizer.decode(tokenizer.encode(test_str)), tokenizer.decode(tokenizer.encode(test_str, add_special_tokens=False)) == test_str"
   ]
  },
  {
   "cell_type": "code",
   "execution_count": null,
   "metadata": {},
   "outputs": [],
   "source": [
    "tokenizer.keep_accents = False"
   ]
  },
  {
   "cell_type": "code",
   "execution_count": null,
   "metadata": {},
   "outputs": [],
   "source": [
    "tokenizer.decode(tokenizer.encode(test_str))"
   ]
  },
  {
   "cell_type": "code",
   "execution_count": null,
   "metadata": {},
   "outputs": [],
   "source": [
    "tokenizer.keep_accents = True"
   ]
  },
  {
   "cell_type": "code",
   "execution_count": null,
   "metadata": {},
   "outputs": [],
   "source": [
    "test_str, tokenizer.preprocess_text(test_str), test_str == tokenizer.preprocess_text(test_str)"
   ]
  },
  {
   "cell_type": "code",
   "execution_count": null,
   "metadata": {},
   "outputs": [],
   "source": [
    "tokenizer.decode(tokenizer.encode(test_str)), tokenizer.decode(tokenizer.encode(test_str, add_special_tokens=False)) == test_str"
   ]
  },
  {
   "cell_type": "markdown",
   "metadata": {},
   "source": [
    "# Huggingface Transformer and Tokenizer training experiments"
   ]
  },
  {
   "cell_type": "code",
   "execution_count": null,
   "metadata": {},
   "outputs": [],
   "source": [
    "import glob\n",
    "\n",
    "paths = glob.glob(\"../../tibert_data/training/tibetan_sections/spm_train.*.txt\")"
   ]
  },
  {
   "cell_type": "markdown",
   "metadata": {},
   "source": [
    "## Example from Huggingface"
   ]
  },
  {
   "cell_type": "code",
   "execution_count": null,
   "metadata": {},
   "outputs": [],
   "source": [
    "from tokenizers import ByteLevelBPETokenizer\n",
    "\n",
    "tokenizer = ByteLevelBPETokenizer()\n",
    "tokenizer.train(\n",
    "    files=paths,\n",
    "    vocab_size=52_000,\n",
    "    min_frequency=2,\n",
    "    special_tokens=[\n",
    "        \"<s>\",\n",
    "        \"<pad>\",\n",
    "        \"</s>\",\n",
    "        \"<unk>\",\n",
    "        \"<mask>\"])"
   ]
  },
  {
   "cell_type": "code",
   "execution_count": null,
   "metadata": {},
   "outputs": [],
   "source": [
    "tokenizer.save_model(\"../../tibert_data/training/models/test-model/\", name=\"tibert\")"
   ]
  },
  {
   "cell_type": "markdown",
   "metadata": {},
   "source": [
    "## SentencePiece"
   ]
  },
  {
   "cell_type": "code",
   "execution_count": null,
   "metadata": {},
   "outputs": [],
   "source": [
    "from transformers import AutoTokenizer"
   ]
  },
  {
   "cell_type": "code",
   "execution_count": null,
   "metadata": {},
   "outputs": [],
   "source": [
    "tokenizer = AutoTokenizer.from_pretrained(\"albert-base-v2\")"
   ]
  },
  {
   "cell_type": "code",
   "execution_count": null,
   "metadata": {},
   "outputs": [],
   "source": [
    "tokenizer.sp_model.EncodeAsPieces(\"We are showing you a test of the SentencePiece tokenizer for Albert. Transformers are cool.\")"
   ]
  },
  {
   "cell_type": "code",
   "execution_count": null,
   "metadata": {},
   "outputs": [],
   "source": [
    "import sentencepiece as spm"
   ]
  },
  {
   "cell_type": "code",
   "execution_count": null,
   "metadata": {},
   "outputs": [],
   "source": [
    "','.join(set([\"[CLS]\", \"[SEP]\", \"<unk>\", \"[SEP]\", \"<pad>\", \"[CLS]\", \"[MASK]\"]))"
   ]
  },
  {
   "cell_type": "code",
   "execution_count": null,
   "metadata": {},
   "outputs": [],
   "source": [
    "spm.SentencePieceTrainer.train(\n",
    "    input=paths,\n",
    "    model_prefix='../../tibert_data/training/models/test-model/tibert_spm_bpe',\n",
    "    model_type='bpe',\n",
    "    character_coverage=1.0,\n",
    "    vocab_size=10000,\n",
    "    user_defined_symbols=\"<foo>, <bar>\")"
   ]
  },
  {
   "cell_type": "code",
   "execution_count": null,
   "metadata": {},
   "outputs": [],
   "source": [
    "spm.SentencePieceTrainer.train(\n",
    "    input=paths,\n",
    "    model_prefix='../../tibert_data/training/models/test-model/tibert_spm_bpe',\n",
    "    model_type='bpe',\n",
    "    character_coverage=1.0,\n",
    "    vocab_size=10000,\n",
    "    user_defined_symbols=\"[CLS], [SEP], [MASK], <pad>\")"
   ]
  },
  {
   "cell_type": "code",
   "execution_count": null,
   "metadata": {},
   "outputs": [],
   "source": [
    "spm_encoder = spm.SentencePieceProcessor(model_file='../../tibert_data/training/models/test-model/tibert_spm_bpe.model')"
   ]
  },
  {
   "cell_type": "code",
   "execution_count": null,
   "metadata": {},
   "outputs": [],
   "source": [
    "spm_encoder.EncodeAsPieces(\"དེ་དག་གལ་ཏེ་དགེ་སློང་གིས་མཐོང་ནས་མངོན་པར་མི་དགའ་བ་དང་།\")"
   ]
  },
  {
   "cell_type": "markdown",
   "metadata": {},
   "source": [
    "# Load the trained tokenizer and prepare it for model feeding"
   ]
  },
  {
   "cell_type": "code",
   "execution_count": null,
   "metadata": {},
   "outputs": [],
   "source": [
    "from transformers import AutoTokenizer\n",
    "from tibert.models import TibertTokenizer"
   ]
  },
  {
   "cell_type": "code",
   "execution_count": null,
   "metadata": {},
   "outputs": [],
   "source": [
    "albert_tkn = AutoTokenizer.from_pretrained(\"albert-base-v2\")"
   ]
  },
  {
   "cell_type": "code",
   "execution_count": null,
   "metadata": {},
   "outputs": [],
   "source": [
    "tibert_tkn = TibertTokenizer(TibertTokenizer.pretrained_vocab_files_map['vocab_file']['tibert-bpe-small'])"
   ]
  },
  {
   "cell_type": "code",
   "execution_count": null,
   "metadata": {},
   "outputs": [],
   "source": [
    "albert_tkn(\"Hi there everybody!\")"
   ]
  },
  {
   "cell_type": "code",
   "execution_count": null,
   "metadata": {},
   "outputs": [],
   "source": [
    "tibert_tkn(\"དེ་དག་གལ་ཏེ་དགེ་སློང་གིས་མཐོང་ནས་མངོན་པར་མི་དགའ་བ་དང་།\", \"ང་གིས་མཐོང་ནས་མངོན་པར་མི་དགའ་བ་དང་།\")"
   ]
  },
  {
   "cell_type": "code",
   "execution_count": null,
   "metadata": {},
   "outputs": [],
   "source": [
    "' '.join(str(id_) for id_ in tibert_tkn(\"དེ་དག་གལ་ཏེ་དགེ་སློང་གིས་མཐོང་ནས་མངོན་པར་མི་དགའ་བ་དང་།\").input_ids)"
   ]
  },
  {
   "cell_type": "code",
   "execution_count": null,
   "metadata": {},
   "outputs": [],
   "source": [
    "tibert_tkn.build_inputs_with_special_tokens(tibert_tkn(\"དེ་དག་གལ་ཏེ་དགེ་སློང་གིས་མཐོང་ནས་མངོན་པར་མི་དགའ་བ་དང་།\").input_ids)"
   ]
  },
  {
   "cell_type": "code",
   "execution_count": null,
   "metadata": {},
   "outputs": [],
   "source": [
    "' '.join(str(id_) for id_ in albert_tkn(\"Hello there everybody!\").input_ids)"
   ]
  },
  {
   "cell_type": "code",
   "execution_count": null,
   "metadata": {},
   "outputs": [],
   "source": [
    "albert_tkn.build_inputs_with_special_tokens(albert_tkn(\"Hello there everybody!\").input_ids)"
   ]
  },
  {
   "cell_type": "code",
   "execution_count": null,
   "metadata": {},
   "outputs": [],
   "source": [
    "albert_tkn.sep_token_id, tibert_tkn.sep_token_id"
   ]
  },
  {
   "cell_type": "code",
   "execution_count": null,
   "metadata": {},
   "outputs": [],
   "source": [
    "tibert_tkn.stochastic_tokenization = True\n",
    "for _ in range(5):\n",
    "    print(tibert_tkn(\"དེ་དག་གལ་ཏེ་དགེ་སློང་གིས་མཐོང་ནས་མངོན་པར་མི་དགའ་བ་དང་།\").input_ids)"
   ]
  },
  {
   "cell_type": "code",
   "execution_count": null,
   "metadata": {},
   "outputs": [],
   "source": [
    "tibert_tkn.stochastic_tokenization = False\n",
    "for _ in range(5):\n",
    "    print(tibert_tkn(\"དེ་དག་གལ་ཏེ་དགེ་སློང་གིས་མཐོང་ནས་མངོན་པར་མི་དགའ་བ་དང་།\").input_ids)"
   ]
  },
  {
   "cell_type": "code",
   "execution_count": null,
   "metadata": {},
   "outputs": [],
   "source": [
    "albert_tkn.pad_token, albert_tkn.pad_token_id, albert_tkn.pad_token_type_id, albert_tkn.padding_side"
   ]
  },
  {
   "cell_type": "code",
   "execution_count": null,
   "metadata": {},
   "outputs": [],
   "source": [
    "tibert_tkn.pad_token, tibert_tkn.pad_token_id, tibert_tkn.pad_token_type_id, tibert_tkn.padding_side"
   ]
  },
  {
   "cell_type": "markdown",
   "metadata": {},
   "source": [
    "## Test Dask bag transform"
   ]
  },
  {
   "cell_type": "code",
   "execution_count": null,
   "metadata": {},
   "outputs": [],
   "source": [
    "file_glob = \"../../tibert_data/training/tibetan_sections/train.*.txt\""
   ]
  },
  {
   "cell_type": "code",
   "execution_count": null,
   "metadata": {},
   "outputs": [],
   "source": [
    "from transformers import AutoTokenizer\n",
    "from tibert.models import TibertTokenizer"
   ]
  },
  {
   "cell_type": "code",
   "execution_count": null,
   "metadata": {},
   "outputs": [],
   "source": [
    "albert_tkn = AutoTokenizer.from_pretrained(\"albert-base-v2\")"
   ]
  },
  {
   "cell_type": "code",
   "execution_count": null,
   "metadata": {},
   "outputs": [],
   "source": [
    "tibert_tkn = TibertTokenizer(TibertTokenizer.pretrained_vocab_files_map['vocab_file']['tibert-bpe-small'])"
   ]
  },
  {
   "cell_type": "code",
   "execution_count": null,
   "metadata": {},
   "outputs": [],
   "source": [
    "tokenizer = tibert_tkn\n",
    "block_size = 512"
   ]
  },
  {
   "cell_type": "code",
   "execution_count": null,
   "metadata": {},
   "outputs": [],
   "source": [
    "token_bag = db \\\n",
    "    .read_text(file_glob) \\\n",
    "    .filter(lambda line: len(line) > 0 and not line.isspace()) \\\n",
    "    .repartition(100) \\\n",
    "    .map(lambda line: tokenizer(line, add_special_tokens=True, truncation=True, max_length=block_size)['input_ids'])"
   ]
  },
  {
   "cell_type": "code",
   "execution_count": null,
   "metadata": {},
   "outputs": [],
   "source": [
    "all_tokens = token_bag.compute()"
   ]
  },
  {
   "cell_type": "code",
   "execution_count": null,
   "metadata": {},
   "outputs": [],
   "source": [
    "from transformers import LineByLineTextDataset\n",
    "\n",
    "dataset = LineByLineTextDataset(\n",
    "    tokenizer=tokenizer,\n",
    "    file_path=\"../../tibert_data/training/tibetan_sections/train.00.txt\",\n",
    "    block_size=128)"
   ]
  },
  {
   "cell_type": "code",
   "execution_count": null,
   "metadata": {},
   "outputs": [],
   "source": [
    "len(dataset)"
   ]
  },
  {
   "cell_type": "code",
   "execution_count": null,
   "metadata": {},
   "outputs": [],
   "source": [
    "dataset[3]"
   ]
  },
  {
   "cell_type": "code",
   "execution_count": null,
   "metadata": {},
   "outputs": [],
   "source": [
    "from transformers import DataCollatorForLanguageModeling\n",
    "\n",
    "data_collator = DataCollatorForLanguageModeling(\n",
    "    tokenizer=tokenizer, mlm=True, mlm_probability=0.15\n",
    ")"
   ]
  },
  {
   "cell_type": "code",
   "execution_count": null,
   "metadata": {},
   "outputs": [],
   "source": [
    "data_collator([dataset[0], dataset[1], dataset[2], dataset[3]])"
   ]
  }
 ],
 "metadata": {
  "kernelspec": {
   "display_name": "Python 3",
   "language": "python",
   "name": "python3"
  },
  "language_info": {
   "codemirror_mode": {
    "name": "ipython",
    "version": 3
   },
   "file_extension": ".py",
   "mimetype": "text/x-python",
   "name": "python",
   "nbconvert_exporter": "python",
   "pygments_lexer": "ipython3",
   "version": "3.7.6"
  }
 },
 "nbformat": 4,
 "nbformat_minor": 4
}
