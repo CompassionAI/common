{
 "cells": [
  {
   "cell_type": "code",
   "execution_count": 1,
   "metadata": {},
   "outputs": [],
   "source": [
    "import tensorflow as tf"
   ]
  },
  {
   "cell_type": "code",
   "execution_count": 2,
   "metadata": {},
   "outputs": [],
   "source": [
    "# input_file = \"./../tibert/albert_pretrain/training_data/*.tf_record\"\n",
    "input_file = \"c:/workspace/tibert_data/test-data/original-run/*.tf_record\""
   ]
  },
  {
   "cell_type": "code",
   "execution_count": 3,
   "metadata": {},
   "outputs": [
    {
     "data": {
      "text/plain": [
       "['c:\\\\workspace\\\\tibert_data\\\\test-data\\\\original-run\\\\train_Kangyur0-maxseq-128.tf_record']"
      ]
     },
     "execution_count": 3,
     "metadata": {},
     "output_type": "execute_result"
    }
   ],
   "source": [
    "input_files = []\n",
    "for input_pattern in input_file.split(\",\"):\n",
    "    input_files.extend(tf.gfile.Glob(input_pattern))\n",
    "input_files"
   ]
  },
  {
   "cell_type": "code",
   "execution_count": 4,
   "metadata": {},
   "outputs": [],
   "source": [
    "d = tf.data.TFRecordDataset(input_files)"
   ]
  },
  {
   "cell_type": "code",
   "execution_count": 5,
   "metadata": {},
   "outputs": [],
   "source": [
    "max_seq_length, max_predictions_per_seq, batch_size = 128, 20, 16"
   ]
  },
  {
   "cell_type": "code",
   "execution_count": 6,
   "metadata": {},
   "outputs": [],
   "source": [
    "name_to_features = {\n",
    "    \"input_ids\": tf.FixedLenFeature([max_seq_length], tf.int64),\n",
    "    \"input_mask\": tf.FixedLenFeature([max_seq_length], tf.int64),\n",
    "    \"segment_ids\": tf.FixedLenFeature([max_seq_length], tf.int64),\n",
    "    # Note: We keep this feature name `next_sentence_labels` to be\n",
    "    # compatible with the original data created by lanzhzh@. However, in\n",
    "    # the ALBERT case it does represent sentence_order_labels.\n",
    "    \"next_sentence_labels\": tf.FixedLenFeature([1], tf.int64),\n",
    "}\n",
    "\n",
    "# if FLAGS.masked_lm_budget:\n",
    "#   name_to_features.update({\n",
    "#       \"token_boundary\":\n",
    "#           tf.FixedLenFeature([max_seq_length], tf.int64)})\n",
    "# else:\n",
    "name_to_features.update({\n",
    "  \"masked_lm_positions\":\n",
    "      tf.FixedLenFeature([max_predictions_per_seq], tf.int64),\n",
    "  \"masked_lm_ids\":\n",
    "      tf.FixedLenFeature([max_predictions_per_seq], tf.int64),\n",
    "  \"masked_lm_weights\":\n",
    "      tf.FixedLenFeature([max_predictions_per_seq], tf.float32)})"
   ]
  },
  {
   "cell_type": "code",
   "execution_count": 7,
   "metadata": {},
   "outputs": [],
   "source": [
    "def _decode_record(record, name_to_features):\n",
    "  \"\"\"Decodes a record to a TensorFlow example.\"\"\"\n",
    "  example = tf.parse_single_example(record, name_to_features)\n",
    "\n",
    "  # tf.Example only supports tf.int64, but the TPU only supports tf.int32.\n",
    "  # So cast all int64 to int32.\n",
    "  for name in list(example.keys()):\n",
    "    t = example[name]\n",
    "    if t.dtype == tf.int64:\n",
    "      t = tf.to_int32(t)\n",
    "    example[name] = t\n",
    "\n",
    "  return example"
   ]
  },
  {
   "cell_type": "code",
   "execution_count": 8,
   "metadata": {},
   "outputs": [
    {
     "name": "stdout",
     "output_type": "stream",
     "text": [
      "WARNING:tensorflow:From <ipython-input-8-60ed3c9a73a7>:6: map_and_batch_with_legacy_function (from tensorflow.python.data.experimental.ops.batching) is deprecated and will be removed in a future version.\n",
      "Instructions for updating:\n",
      "Use `tf.data.experimental.map_and_batch()\n",
      "WARNING:tensorflow:From C:\\tools\\miniconda3\\envs\\tibert\\lib\\site-packages\\tensorflow_core\\python\\autograph\\converters\\directives.py:119: The name tf.parse_single_example is deprecated. Please use tf.io.parse_single_example instead.\n",
      "\n",
      "WARNING:tensorflow:From <ipython-input-7-bd26ba7e8350>:10: to_int32 (from tensorflow.python.ops.math_ops) is deprecated and will be removed in a future version.\n",
      "Instructions for updating:\n",
      "Use `tf.cast` instead.\n"
     ]
    }
   ],
   "source": [
    "d = d.apply(\n",
    "    tf.data.experimental.map_and_batch_with_legacy_function(\n",
    "        lambda record: _decode_record(record, name_to_features),\n",
    "        batch_size=batch_size,\n",
    "        num_parallel_batches=4,\n",
    "        drop_remainder=True))"
   ]
  },
  {
   "cell_type": "code",
   "execution_count": 9,
   "metadata": {},
   "outputs": [
    {
     "name": "stdout",
     "output_type": "stream",
     "text": [
      "WARNING:tensorflow:From <ipython-input-9-0571c036a2cf>:1: DatasetV1.make_one_shot_iterator (from tensorflow.python.data.ops.dataset_ops) is deprecated and will be removed in a future version.\n",
      "Instructions for updating:\n",
      "Use `for ... in dataset:` to iterate over a dataset. If using `tf.estimator`, return the `Dataset` object directly from your input function. As a last resort, you can use `tf.compat.v1.data.make_one_shot_iterator(dataset)`.\n"
     ]
    }
   ],
   "source": [
    "next_item_iter = d.make_one_shot_iterator().get_next()"
   ]
  },
  {
   "cell_type": "code",
   "execution_count": 10,
   "metadata": {},
   "outputs": [],
   "source": [
    "with tf.Session() as sess:\n",
    "    sess.run(tf.global_variables_initializer())\n",
    "    next_item = sess.run(next_item_iter)"
   ]
  },
  {
   "cell_type": "code",
   "execution_count": 11,
   "metadata": {},
   "outputs": [
    {
     "data": {
      "text/plain": [
       "{'input_ids': array([[   2, 9874, 9955, ...,  951, 2414,    3],\n",
       "        [   2, 9874, 9923, ...,    0,    0,    0],\n",
       "        [   2, 9887,   14, ..., 9875, 9955,    3],\n",
       "        ...,\n",
       "        [   2, 9874, 9955, ...,    0,    0,    0],\n",
       "        [   2,  411,    4, ...,  818, 9890,    3],\n",
       "        [   2,  260,   99, ..., 9875, 9955,    3]]),\n",
       " 'input_mask': array([[1, 1, 1, ..., 1, 1, 1],\n",
       "        [1, 1, 1, ..., 0, 0, 0],\n",
       "        [1, 1, 1, ..., 1, 1, 1],\n",
       "        ...,\n",
       "        [1, 1, 1, ..., 0, 0, 0],\n",
       "        [1, 1, 1, ..., 1, 1, 1],\n",
       "        [1, 1, 1, ..., 1, 1, 1]]),\n",
       " 'masked_lm_ids': array([[  51, 9888, 9903, 9955, 9874, 9955,  109,  851, 5353, 9955, 9874,\n",
       "         9955, 9874, 9955,  175, 4057, 2109,  417,  681,    0],\n",
       "        [4905,   13, 1317,  590, 1789, 3839, 9881, 9955, 9955, 9881,    0,\n",
       "            0,    0,    0,    0,    0,    0,    0,    0,    0],\n",
       "        [9909, 9877, 9955, 1019, 9955, 9874, 9955, 9887, 9882,   13,  372,\n",
       "          156,   57, 9880, 9912, 9887,  100,   31, 9879,    0],\n",
       "        [9898, 9890, 8897, 2178,  863, 1149, 9873,  109, 9875, 9955,   80,\n",
       "         2821, 9890, 9885, 9905, 9879, 4481, 8897, 1597,    0],\n",
       "        [9875,  437, 2220, 9886, 9875, 1276, 1248, 9873,  137, 1917,   34,\n",
       "         9888, 9873, 9873,   64,  153, 3598,  338,   11,    0],\n",
       "        [1373,  203,   10,  441, 2220,   88, 9877, 9955, 9874,  795,  410,\n",
       "          386, 9879, 9881, 9955, 3850, 3427, 9873,  138,    0],\n",
       "        [2905,  795,  207,   18, 9879, 9908,   10,   75, 9875, 9873,  115,\n",
       "         9887, 9955, 2299, 9908,   19, 3379, 9890, 9955,    0],\n",
       "        [9885, 9873, 7061, 9888, 9875,  198,  871,  251, 9955, 3413,  532,\n",
       "          937,   17, 1584, 9875, 1584,  883,  163, 9884,    0],\n",
       "        [9955,  863, 9893, 9878,   75,   14,    0,    0,    0,    0,    0,\n",
       "            0,    0,    0,    0,    0,    0,    0,    0,    0],\n",
       "        [5782, 9874, 9955, 9896,    8,  682,  988, 9888, 9877,  375,    0,\n",
       "            0,    0,    0,    0,    0,    0,    0,    0,    0],\n",
       "        [9875, 9890, 9877, 9873, 9911, 9955,  643,  752, 9885, 9955,  795,\n",
       "         9049, 9896, 3408, 1276, 9908, 4190,   26, 9914,    0],\n",
       "        [9902,   26,  215, 9874, 9955,  205, 9883, 9874,   48, 9879, 9874,\n",
       "         1260,    0,    0,    0,    0,    0,    0,    0,    0],\n",
       "        [9955, 9878, 9878, 9880, 9873, 9955, 1149, 9874, 9874, 9955, 9955,\n",
       "         6842, 1480, 1454,  240, 9885, 9955, 9886, 9955,    0],\n",
       "        [ 386, 9874, 9955,    0,    0,    0,    0,    0,    0,    0,    0,\n",
       "            0,    0,    0,    0,    0,    0,    0,    0,    0],\n",
       "        [  42, 3404, 9890, 9955, 9879, 9873,  175,   33, 3538, 9902, 9886,\n",
       "         9955,   28,   19, 9883, 9882, 9873, 1962, 9876,    0],\n",
       "        [ 290, 7462, 4308, 7066,  752,  286, 9907, 9881,  245, 9880,   89,\n",
       "           89, 3444,  503,   76, 9877, 1336, 9876, 9902,    0]]),\n",
       " 'masked_lm_positions': array([[  3,   4,  32,  68,  69,  70,  72,  73,  74,  81,  82,  83,  93,\n",
       "         108, 109, 110, 122, 123, 124,   0],\n",
       "        [ 10,  11,  12,  16,  17,  18,  27,  51,  52,  64,   0,   0,   0,\n",
       "           0,   0,   0,   0,   0,   0,   0],\n",
       "        [ 14,  15,  40,  44,  59,  60,  61,  72,  73,  81,  84,  89,  93,\n",
       "          94,  95,  98, 100, 101, 103,   0],\n",
       "        [  8,  16,  27,  44,  51,  52,  60,  61,  64,  65,  73,  83,  84,\n",
       "          87, 103, 104, 112, 123, 124,   0],\n",
       "        [  3,   4,   5,  17,  18,  22,  38,  45,  46,  47,  54,  55,  56,\n",
       "          70,  79,  90,  91,  92,  93,   0],\n",
       "        [  6,  13,  14,  15,  24,  26,  38,  39,  41,  55,  56,  63,  64,\n",
       "          65,  99, 100, 105, 117, 118,   0],\n",
       "        [  3,   4,  15,  16,  25,  54,  55,  56,  71,  72,  73,  84,  86,\n",
       "          91, 100, 104, 105, 113, 114,   0],\n",
       "        [ 21,  22,  23,  31,  32,  42,  43,  44,  45,  46,  84,  85,  86,\n",
       "          87,  95, 108, 123, 124, 125,   0],\n",
       "        [  2,   8,   9,  11,  30,  31,   0,   0,   0,   0,   0,   0,   0,\n",
       "           0,   0,   0,   0,   0,   0,   0],\n",
       "        [ 10,  15,  16,  17,  20,  21,  33,  34,  37,  44,   0,   0,   0,\n",
       "           0,   0,   0,   0,   0,   0,   0],\n",
       "        [  8,  16,  17,  18,  22,  29,  30,  31,  47,  48,  59,  60,  61,\n",
       "          65,  73,  85,  96, 103, 113,   0],\n",
       "        [  2,   3,   4,  26,  27,  28,  36,  56,  59,  70,  72,  74,   0,\n",
       "           0,   0,   0,   0,   0,   0,   0],\n",
       "        [ 18,  19,  24,  46,  47,  51,  57,  65,  77,  78,  91,  92,  93,\n",
       "          98,  99, 100, 102, 125, 126,   0],\n",
       "        [  4,   6,   7,   0,   0,   0,   0,   0,   0,   0,   0,   0,   0,\n",
       "           0,   0,   0,   0,   0,   0,   0],\n",
       "        [  2,   4,   9,  19,  26,  27,  66,  67,  68,  88,  90,  91,  92,\n",
       "          94, 118, 119, 120, 121, 122,   0],\n",
       "        [  5,  17,  18,  19,  27,  30,  31,  32,  34,  35,  37,  92,  98,\n",
       "         100, 101, 118, 121, 122, 123,   0]]),\n",
       " 'masked_lm_weights': array([[1., 1., 1., 1., 1., 1., 1., 1., 1., 1., 1., 1., 1., 1., 1., 1.,\n",
       "         1., 1., 1., 0.],\n",
       "        [1., 1., 1., 1., 1., 1., 1., 1., 1., 1., 0., 0., 0., 0., 0., 0.,\n",
       "         0., 0., 0., 0.],\n",
       "        [1., 1., 1., 1., 1., 1., 1., 1., 1., 1., 1., 1., 1., 1., 1., 1.,\n",
       "         1., 1., 1., 0.],\n",
       "        [1., 1., 1., 1., 1., 1., 1., 1., 1., 1., 1., 1., 1., 1., 1., 1.,\n",
       "         1., 1., 1., 0.],\n",
       "        [1., 1., 1., 1., 1., 1., 1., 1., 1., 1., 1., 1., 1., 1., 1., 1.,\n",
       "         1., 1., 1., 0.],\n",
       "        [1., 1., 1., 1., 1., 1., 1., 1., 1., 1., 1., 1., 1., 1., 1., 1.,\n",
       "         1., 1., 1., 0.],\n",
       "        [1., 1., 1., 1., 1., 1., 1., 1., 1., 1., 1., 1., 1., 1., 1., 1.,\n",
       "         1., 1., 1., 0.],\n",
       "        [1., 1., 1., 1., 1., 1., 1., 1., 1., 1., 1., 1., 1., 1., 1., 1.,\n",
       "         1., 1., 1., 0.],\n",
       "        [1., 1., 1., 1., 1., 1., 0., 0., 0., 0., 0., 0., 0., 0., 0., 0.,\n",
       "         0., 0., 0., 0.],\n",
       "        [1., 1., 1., 1., 1., 1., 1., 1., 1., 1., 0., 0., 0., 0., 0., 0.,\n",
       "         0., 0., 0., 0.],\n",
       "        [1., 1., 1., 1., 1., 1., 1., 1., 1., 1., 1., 1., 1., 1., 1., 1.,\n",
       "         1., 1., 1., 0.],\n",
       "        [1., 1., 1., 1., 1., 1., 1., 1., 1., 1., 1., 1., 0., 0., 0., 0.,\n",
       "         0., 0., 0., 0.],\n",
       "        [1., 1., 1., 1., 1., 1., 1., 1., 1., 1., 1., 1., 1., 1., 1., 1.,\n",
       "         1., 1., 1., 0.],\n",
       "        [1., 1., 1., 0., 0., 0., 0., 0., 0., 0., 0., 0., 0., 0., 0., 0.,\n",
       "         0., 0., 0., 0.],\n",
       "        [1., 1., 1., 1., 1., 1., 1., 1., 1., 1., 1., 1., 1., 1., 1., 1.,\n",
       "         1., 1., 1., 0.],\n",
       "        [1., 1., 1., 1., 1., 1., 1., 1., 1., 1., 1., 1., 1., 1., 1., 1.,\n",
       "         1., 1., 1., 0.]], dtype=float32),\n",
       " 'next_sentence_labels': array([[1],\n",
       "        [1],\n",
       "        [0],\n",
       "        [0],\n",
       "        [0],\n",
       "        [0],\n",
       "        [0],\n",
       "        [1],\n",
       "        [1],\n",
       "        [1],\n",
       "        [0],\n",
       "        [1],\n",
       "        [1],\n",
       "        [1],\n",
       "        [0],\n",
       "        [1]]),\n",
       " 'segment_ids': array([[0, 0, 0, ..., 1, 1, 1],\n",
       "        [0, 0, 0, ..., 0, 0, 0],\n",
       "        [0, 0, 0, ..., 1, 1, 1],\n",
       "        ...,\n",
       "        [0, 0, 0, ..., 0, 0, 0],\n",
       "        [0, 0, 0, ..., 1, 1, 1],\n",
       "        [0, 0, 0, ..., 1, 1, 1]])}"
      ]
     },
     "execution_count": 11,
     "metadata": {},
     "output_type": "execute_result"
    }
   ],
   "source": [
    "next_item"
   ]
  },
  {
   "cell_type": "code",
   "execution_count": 12,
   "metadata": {},
   "outputs": [
    {
     "data": {
      "text/plain": [
       "(16, 128)"
      ]
     },
     "execution_count": 12,
     "metadata": {},
     "output_type": "execute_result"
    }
   ],
   "source": [
    "next_item['input_ids'].shape"
   ]
  },
  {
   "cell_type": "code",
   "execution_count": 13,
   "metadata": {},
   "outputs": [],
   "source": [
    "import tibert.models.training as training"
   ]
  },
  {
   "cell_type": "code",
   "execution_count": 14,
   "metadata": {},
   "outputs": [],
   "source": [
    "tibert_tkn = training.make_tokenizer(tokenizer_name=\"tibert-bpe-large\")\n",
    "tibert_tkn.stochastic_tokenization = False"
   ]
  },
  {
   "cell_type": "code",
   "execution_count": 15,
   "metadata": {},
   "outputs": [],
   "source": [
    "i = 0"
   ]
  },
  {
   "cell_type": "code",
   "execution_count": 16,
   "metadata": {},
   "outputs": [
    {
     "name": "stdout",
     "output_type": "stream",
     "text": [
      "[CLS] །[MASK][MASK]་པོས་སྤྲོ་ཞིང་བརྟེན་པ་ཡིས།[SEP]དྨའི་གདན། །ཇི་ལ[MASK]ར་སྡེ་ཚན་གསུམ་པ་ཡི། །ཡི་གེ་གསུམ་པ་བཟུང་བྱས་ལ། །གླུ་རུ་རྡོ་རྗེ་དབྱུག་པ་དང་།[MASK]སོང་བ་གཉིས་ུའོག་[MASK]གིས་ནི་དཀྲི[MASK][MASK] བོངས་སྔགས་པ་མཆོག་གི་ས་བོན་འདི།[MASK]།ཀུན་ནས་བཟླ་ཞིང་སྔོན་དུ་གཟུང་། [MASK][MASK][MASK]མས་ ཀུན་ནས་མཉེས་བྱས་ནས། །[MASK][MASK][MASK]ནི་བཟའ་[SEP]\n"
     ]
    }
   ],
   "source": [
    "print(tibert_tkn.decode(next_item['input_ids'][i]))\n",
    "i += 1"
   ]
  },
  {
   "cell_type": "markdown",
   "metadata": {},
   "source": [
    "# MLM loss of a trained model"
   ]
  },
  {
   "cell_type": "code",
   "execution_count": 17,
   "metadata": {},
   "outputs": [],
   "source": [
    "import torch\n",
    "import numpy as np\n",
    "import pandas as pd\n",
    "\n",
    "from tqdm.notebook import tqdm"
   ]
  },
  {
   "cell_type": "code",
   "execution_count": 18,
   "metadata": {},
   "outputs": [],
   "source": [
    "import tibert.models.training as training"
   ]
  },
  {
   "cell_type": "code",
   "execution_count": 19,
   "metadata": {},
   "outputs": [],
   "source": [
    "from transformers import AutoConfig, AlbertForMaskedLM"
   ]
  },
  {
   "cell_type": "code",
   "execution_count": 20,
   "metadata": {},
   "outputs": [
    {
     "name": "stderr",
     "output_type": "stream",
     "text": [
      "WARNING:transformers.modeling_utils:Some weights of the model checkpoint at c:/workspace/tibert_data/training/models/tibert-training-test/679000.bin were not used when initializing AlbertForMaskedLM: ['sop_classifier.classifier.weight', 'sop_classifier.classifier.bias']\n",
      "- This IS expected if you are initializing AlbertForMaskedLM from the checkpoint of a model trained on another task or with another architecture (e.g. initializing a BertForSequenceClassification model from a BertForPretraining model).\n",
      "- This IS NOT expected if you are initializing AlbertForMaskedLM from the checkpoint of a model that you expect to be exactly identical (initializing a BertForSequenceClassification model from a BertForSequenceClassification model).\n"
     ]
    },
    {
     "data": {
      "text/plain": [
       "Embedding(10000, 128)"
      ]
     },
     "execution_count": 20,
     "metadata": {},
     "output_type": "execute_result"
    }
   ],
   "source": [
    "tibert_mdl = AlbertForMaskedLM.from_pretrained(\n",
    "    'c:/workspace/tibert_data/training/models/tibert-training-test/679000.bin',\n",
    "    config=AutoConfig.from_pretrained(\"albert-base-v2\"))\n",
    "# tibert_mdl = AlbertForMaskedLM.from_pretrained(\n",
    "#     'c:/workspace/tibert_data/training/models/tibert-champion/676000.bin',\n",
    "#     config=AutoConfig.from_pretrained(\"albert-base-v2\"))\n",
    "tibert_mdl.resize_token_embeddings(len(tibert_tkn))"
   ]
  },
  {
   "cell_type": "code",
   "execution_count": 21,
   "metadata": {},
   "outputs": [],
   "source": [
    "tibert_mdl = tibert_mdl.cuda().eval()"
   ]
  },
  {
   "cell_type": "code",
   "execution_count": 22,
   "metadata": {},
   "outputs": [],
   "source": [
    "def prep_batch(next_item):\n",
    "    input_ids, labels = next_item['input_ids'], np.array([-100 for _ in range(next_item['input_ids'].size)]).reshape(next_item['input_ids'].shape)\n",
    "    for idx, row in enumerate(input_ids):\n",
    "        masked_lm_pos = next_item['masked_lm_positions'][idx][:-1]\n",
    "        labels[idx][masked_lm_pos] = next_item['masked_lm_ids'][idx][:-1]\n",
    "    return input_ids, labels"
   ]
  },
  {
   "cell_type": "code",
   "execution_count": 23,
   "metadata": {},
   "outputs": [],
   "source": [
    "def get_ce(input_ids, labels):\n",
    "    batch = {\n",
    "        'input_ids': torch.LongTensor(input_ids).to(\"cuda\"),\n",
    "        'labels': torch.LongTensor(labels).to(\"cuda\")}\n",
    "    ce, _ = tibert_mdl(**batch)\n",
    "    return float(ce)"
   ]
  },
  {
   "cell_type": "code",
   "execution_count": 24,
   "metadata": {},
   "outputs": [],
   "source": [
    "ces = []"
   ]
  },
  {
   "cell_type": "code",
   "execution_count": 25,
   "metadata": {},
   "outputs": [],
   "source": [
    "config = tf.ConfigProto()\n",
    "config.gpu_options.allow_growth=True\n",
    "sess = tf.Session()\n",
    "sess.run(tf.global_variables_initializer())"
   ]
  },
  {
   "cell_type": "code",
   "execution_count": 26,
   "metadata": {},
   "outputs": [
    {
     "data": {
      "application/vnd.jupyter.widget-view+json": {
       "model_id": "7401278b7ad2469d878e8750e9206f7d",
       "version_major": 2,
       "version_minor": 0
      },
      "text/plain": [
       "HBox(children=(FloatProgress(value=0.0), HTML(value='')))"
      ]
     },
     "metadata": {},
     "output_type": "display_data"
    },
    {
     "name": "stdout",
     "output_type": "stream",
     "text": [
      "\n"
     ]
    },
    {
     "data": {
      "text/plain": [
       "count    100.000000\n",
       "mean       2.248060\n",
       "std        0.540184\n",
       "min        1.020124\n",
       "25%        1.902204\n",
       "50%        2.154891\n",
       "75%        2.537830\n",
       "max        4.064529\n",
       "dtype: float64"
      ]
     },
     "execution_count": 26,
     "metadata": {},
     "output_type": "execute_result"
    }
   ],
   "source": [
    "for _ in tqdm(range(100)):\n",
    "    next_item = sess.run(next_item_iter)\n",
    "    input_ids, labels = prep_batch(next_item)\n",
    "    ces.append(get_ce(input_ids, labels))\n",
    "pd.Series(ces).describe()"
   ]
  },
  {
   "cell_type": "code",
   "execution_count": 27,
   "metadata": {},
   "outputs": [
    {
     "data": {
      "text/plain": [
       "<matplotlib.axes._subplots.AxesSubplot at 0x22e3cc81588>"
      ]
     },
     "execution_count": 27,
     "metadata": {},
     "output_type": "execute_result"
    },
    {
     "data": {
      "image/png": "[encoded data removed]",
      "text/plain": [
       "<Figure size 432x288 with 1 Axes>"
      ]
     },
     "metadata": {
      "needs_background": "light"
     },
     "output_type": "display_data"
    }
   ],
   "source": [
    "pd.Series(ces).plot()"
   ]
  },
  {
   "cell_type": "code",
   "execution_count": 28,
   "metadata": {},
   "outputs": [],
   "source": [
    "sess.close()"
   ]
  },
  {
   "cell_type": "markdown",
   "metadata": {},
   "source": [
    "# Pretraining loss of a trained model"
   ]
  },
  {
   "cell_type": "code",
   "execution_count": 29,
   "metadata": {},
   "outputs": [],
   "source": [
    "import torch\n",
    "import numpy as np\n",
    "import pandas as pd\n",
    "\n",
    "from tqdm.notebook import tqdm"
   ]
  },
  {
   "cell_type": "code",
   "execution_count": 30,
   "metadata": {},
   "outputs": [],
   "source": [
    "import tibert.models.training as training"
   ]
  },
  {
   "cell_type": "code",
   "execution_count": 31,
   "metadata": {},
   "outputs": [],
   "source": [
    "from transformers import AutoConfig, AlbertForPreTraining"
   ]
  },
  {
   "cell_type": "code",
   "execution_count": 39,
   "metadata": {},
   "outputs": [
    {
     "data": {
      "text/plain": [
       "Embedding(10000, 128)"
      ]
     },
     "execution_count": 39,
     "metadata": {},
     "output_type": "execute_result"
    }
   ],
   "source": [
    "tibert_mdl = AlbertForPreTraining.from_pretrained(\n",
    "    'c:/workspace/tibert_data/training/models/tibert-training-test/679000.bin',\n",
    "    config=AutoConfig.from_pretrained(\"albert-base-v2\"))\n",
    "# tibert_mdl = AlbertForPreTraining.from_pretrained(\n",
    "#     'c:/workspace/tibert_data/training/models/tibert-champion/676000.bin',\n",
    "#     config=AutoConfig.from_pretrained(\"albert-base-v2\"))\n",
    "tibert_mdl.resize_token_embeddings(len(tibert_tkn))"
   ]
  },
  {
   "cell_type": "code",
   "execution_count": 40,
   "metadata": {},
   "outputs": [],
   "source": [
    "tibert_mdl = tibert_mdl.cuda().eval()"
   ]
  },
  {
   "cell_type": "code",
   "execution_count": 34,
   "metadata": {},
   "outputs": [],
   "source": [
    "def prep_batch(next_item):\n",
    "    input_ids, labels = next_item['input_ids'], np.array([-100 for _ in range(next_item['input_ids'].size)]).reshape(next_item['input_ids'].shape)\n",
    "    for idx, row in enumerate(input_ids):\n",
    "        masked_lm_pos = next_item['masked_lm_positions'][idx][:-1]\n",
    "        labels[idx][masked_lm_pos] = next_item['masked_lm_ids'][idx][:-1]\n",
    "    return input_ids, labels"
   ]
  },
  {
   "cell_type": "code",
   "execution_count": 35,
   "metadata": {},
   "outputs": [],
   "source": [
    "from torch.nn import CrossEntropyLoss\n",
    "\n",
    "def get_ce(input_ids, labels):\n",
    "    batch = {\n",
    "        'input_ids': torch.LongTensor(input_ids).to(\"cuda\"),\n",
    "        'labels': torch.LongTensor(labels).to(\"cuda\"),\n",
    "        'sentence_order_label': torch.LongTensor(next_item['next_sentence_labels'].squeeze()).to(\"cuda\"),\n",
    "        'attention_mask': torch.LongTensor(next_item['input_mask']).to(\"cuda\"),\n",
    "        'token_type_ids': torch.LongTensor(next_item['segment_ids']).to(\"cuda\")}\n",
    "    ce, _, sop_logits = tibert_mdl(**batch)\n",
    "    sentence_order_loss = float(CrossEntropyLoss()(sop_logits.view(-1, 2), batch['sentence_order_label'].view(-1)))\n",
    "    return float(ce) - sentence_order_loss, sentence_order_loss"
   ]
  },
  {
   "cell_type": "code",
   "execution_count": 36,
   "metadata": {},
   "outputs": [],
   "source": [
    "mlm_ces, sop_ces = [], []"
   ]
  },
  {
   "cell_type": "code",
   "execution_count": 37,
   "metadata": {},
   "outputs": [],
   "source": [
    "config = tf.ConfigProto()\n",
    "config.gpu_options.allow_growth=True\n",
    "sess = tf.Session()\n",
    "sess.run(tf.global_variables_initializer())"
   ]
  },
  {
   "cell_type": "code",
   "execution_count": 41,
   "metadata": {},
   "outputs": [
    {
     "data": {
      "application/vnd.jupyter.widget-view+json": {
       "model_id": "bbbffd99233e4502b7faf47386ca72d9",
       "version_major": 2,
       "version_minor": 0
      },
      "text/plain": [
       "HBox(children=(FloatProgress(value=0.0), HTML(value='')))"
      ]
     },
     "metadata": {},
     "output_type": "display_data"
    },
    {
     "name": "stdout",
     "output_type": "stream",
     "text": [
      "\n"
     ]
    },
    {
     "data": {
      "text/html": [
       "<div>\n",
       "<style scoped>\n",
       "    .dataframe tbody tr th:only-of-type {\n",
       "        vertical-align: middle;\n",
       "    }\n",
       "\n",
       "    .dataframe tbody tr th {\n",
       "        vertical-align: top;\n",
       "    }\n",
       "\n",
       "    .dataframe thead th {\n",
       "        text-align: right;\n",
       "    }\n",
       "</style>\n",
       "<table border=\"1\" class=\"dataframe\">\n",
       "  <thead>\n",
       "    <tr style=\"text-align: right;\">\n",
       "      <th></th>\n",
       "      <th>mlm</th>\n",
       "      <th>sop</th>\n",
       "    </tr>\n",
       "  </thead>\n",
       "  <tbody>\n",
       "    <tr>\n",
       "      <th>count</th>\n",
       "      <td>100.000000</td>\n",
       "      <td>100.000000</td>\n",
       "    </tr>\n",
       "    <tr>\n",
       "      <th>mean</th>\n",
       "      <td>1.693813</td>\n",
       "      <td>0.881339</td>\n",
       "    </tr>\n",
       "    <tr>\n",
       "      <th>std</th>\n",
       "      <td>0.337240</td>\n",
       "      <td>0.066188</td>\n",
       "    </tr>\n",
       "    <tr>\n",
       "      <th>min</th>\n",
       "      <td>0.852854</td>\n",
       "      <td>0.710863</td>\n",
       "    </tr>\n",
       "    <tr>\n",
       "      <th>25%</th>\n",
       "      <td>1.464299</td>\n",
       "      <td>0.841271</td>\n",
       "    </tr>\n",
       "    <tr>\n",
       "      <th>50%</th>\n",
       "      <td>1.664127</td>\n",
       "      <td>0.890124</td>\n",
       "    </tr>\n",
       "    <tr>\n",
       "      <th>75%</th>\n",
       "      <td>1.909198</td>\n",
       "      <td>0.936265</td>\n",
       "    </tr>\n",
       "    <tr>\n",
       "      <th>max</th>\n",
       "      <td>2.880752</td>\n",
       "      <td>1.010172</td>\n",
       "    </tr>\n",
       "  </tbody>\n",
       "</table>\n",
       "</div>"
      ],
      "text/plain": [
       "              mlm         sop\n",
       "count  100.000000  100.000000\n",
       "mean     1.693813    0.881339\n",
       "std      0.337240    0.066188\n",
       "min      0.852854    0.710863\n",
       "25%      1.464299    0.841271\n",
       "50%      1.664127    0.890124\n",
       "75%      1.909198    0.936265\n",
       "max      2.880752    1.010172"
      ]
     },
     "execution_count": 41,
     "metadata": {},
     "output_type": "execute_result"
    }
   ],
   "source": [
    "for _ in tqdm(range(100)):\n",
    "    next_item = sess.run(next_item_iter)\n",
    "    input_ids, labels = prep_batch(next_item)\n",
    "    mlm_ce, sop_ce = get_ce(input_ids, labels)\n",
    "    mlm_ces.append(mlm_ce)\n",
    "    sop_ces.append(sop_ce)\n",
    "res_df = pd.DataFrame({\"mlm\": mlm_ces, \"sop\": sop_ces})\n",
    "res_df.describe()"
   ]
  },
  {
   "cell_type": "code",
   "execution_count": 42,
   "metadata": {},
   "outputs": [
    {
     "data": {
      "text/plain": [
       "<matplotlib.axes._subplots.AxesSubplot at 0x22e33d22f88>"
      ]
     },
     "execution_count": 42,
     "metadata": {},
     "output_type": "execute_result"
    },
    {
     "data": {
      "image/png": "[encoded data removed]",
      "text/plain": [
       "<Figure size 432x288 with 1 Axes>"
      ]
     },
     "metadata": {
      "needs_background": "light"
     },
     "output_type": "display_data"
    }
   ],
   "source": [
    "res_df.plot()"
   ]
  },
  {
   "cell_type": "code",
   "execution_count": 43,
   "metadata": {},
   "outputs": [],
   "source": [
    "sess.close()"
   ]
  },
  {
   "cell_type": "markdown",
   "metadata": {},
   "source": [
    "# Blank token"
   ]
  },
  {
   "cell_type": "code",
   "execution_count": 19,
   "metadata": {},
   "outputs": [
    {
     "data": {
      "text/plain": [
       "''"
      ]
     },
     "execution_count": 19,
     "metadata": {},
     "output_type": "execute_result"
    }
   ],
   "source": [
    "tibert_tkn.decode([9874])"
   ]
  },
  {
   "cell_type": "code",
   "execution_count": 31,
   "metadata": {},
   "outputs": [
    {
     "data": {
      "text/plain": [
       "'[CLS] །[MASK][MASK]་པོས་སྤྲོ་ཞིང་བརྟེན་པ་ཡིས།[SEP]དྨའི་གདན། །ཇི་ལ'"
      ]
     },
     "execution_count": 31,
     "metadata": {},
     "output_type": "execute_result"
    }
   ],
   "source": [
    "tibert_tkn.decode([2, 9874, 9955, 4, 4, 9873, 9890, 9877, 9875, 9873, 92, 9891, 15, 626\n",
    ", 5063, 9902, 9882, 9875, 9955, 3, 9879, 9919, 9887, 9882, 9873, 264, 9886, 9955\n",
    ", 9874, 9955, 2025, 9888])"
   ]
  },
  {
   "cell_type": "code",
   "execution_count": 40,
   "metadata": {},
   "outputs": [
    {
     "data": {
      "text/plain": [
       "'། །'"
      ]
     },
     "execution_count": 40,
     "metadata": {},
     "output_type": "execute_result"
    }
   ],
   "source": [
    "tibert_tkn.decode([9955, 9874, 9955])"
   ]
  },
  {
   "cell_type": "code",
   "execution_count": 39,
   "metadata": {},
   "outputs": [
    {
     "data": {
      "text/plain": [
       "[2, 257, 9877, 9955, 9874, 9955, 9875, 3]"
      ]
     },
     "execution_count": 39,
     "metadata": {},
     "output_type": "execute_result"
    }
   ],
   "source": [
    "tibert_tkn.encode('པོ། །ས')"
   ]
  },
  {
   "cell_type": "code",
   "execution_count": 41,
   "metadata": {},
   "outputs": [
    {
     "name": "stdout",
     "output_type": "stream",
     "text": [
      "[   2 9874 9955    4    4 9873 9890 9877 9875 9873   92 9891   15  626\n",
      " 5063 9902 9882 9875 9955    3 9879 9919 9887 9882 9873  264 9886 9955\n",
      " 9874 9955 2025 9888    4   13 9875 9908   26  872  149   16 9902 9882\n",
      " 9955 9874 9955  417  458   76 9881   19 9890 9873  133 9881    9  533\n",
      " 9888 9955 9874 9955 9876 9906 3160 1291 9879   31  279  251 9955    4\n",
      " 2274  252 9881  851    4  798 9886 9882 9873  785 9882    4    4 8799\n",
      "  484  340  488  181    8 1036   75 9882 9955    4 9955 9895   59   89\n",
      " 5640 9900 9882    9  991 9879   21 1947 9955 9874    4    4    4 9883\n",
      " 9875 9873 1316 7828  533 9886 9875 9955 9874 9955    4    4    4  951\n",
      " 2414    3]\n"
     ]
    }
   ],
   "source": [
    "for batch in next_item['input_ids']:\n",
    "    if 9874 in batch:\n",
    "        print(batch)\n",
    "        break"
   ]
  }
 ],
 "metadata": {
  "kernelspec": {
   "display_name": "Python 3",
   "language": "python",
   "name": "python3"
  },
  "language_info": {
   "codemirror_mode": {
    "name": "ipython",
    "version": 3
   },
   "file_extension": ".py",
   "mimetype": "text/x-python",
   "name": "python",
   "nbconvert_exporter": "python",
   "pygments_lexer": "ipython3",
   "version": "3.7.6"
  }
 },
 "nbformat": 4,
 "nbformat_minor": 4
}
